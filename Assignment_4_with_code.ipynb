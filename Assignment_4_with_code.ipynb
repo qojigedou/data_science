{
 "cells": [
  {
   "cell_type": "markdown",
   "metadata": {},
   "source": [
    "### Today we are going to perform the simple classification of the amazon reviews' sentiment.\n",
    "\n",
    "### Please, download the dataset amazon_baby.csv."
   ]
  },
  {
   "cell_type": "code",
   "execution_count": 68,
   "metadata": {
    "collapsed": false
   },
   "outputs": [
    {
     "data": {
      "text/html": [
       "<div>\n",
       "<style scoped>\n",
       "    .dataframe tbody tr th:only-of-type {\n",
       "        vertical-align: middle;\n",
       "    }\n",
       "\n",
       "    .dataframe tbody tr th {\n",
       "        vertical-align: top;\n",
       "    }\n",
       "\n",
       "    .dataframe thead th {\n",
       "        text-align: right;\n",
       "    }\n",
       "</style>\n",
       "<table border=\"1\" class=\"dataframe\">\n",
       "  <thead>\n",
       "    <tr style=\"text-align: right;\">\n",
       "      <th></th>\n",
       "      <th>name</th>\n",
       "      <th>review</th>\n",
       "      <th>rating</th>\n",
       "    </tr>\n",
       "  </thead>\n",
       "  <tbody>\n",
       "    <tr>\n",
       "      <th>0</th>\n",
       "      <td>Planetwise Flannel Wipes</td>\n",
       "      <td>These flannel wipes are OK, but in my opinion ...</td>\n",
       "      <td>3</td>\n",
       "    </tr>\n",
       "    <tr>\n",
       "      <th>1</th>\n",
       "      <td>Planetwise Wipe Pouch</td>\n",
       "      <td>it came early and was not disappointed. i love...</td>\n",
       "      <td>5</td>\n",
       "    </tr>\n",
       "    <tr>\n",
       "      <th>2</th>\n",
       "      <td>Annas Dream Full Quilt with 2 Shams</td>\n",
       "      <td>Very soft and comfortable and warmer than it l...</td>\n",
       "      <td>5</td>\n",
       "    </tr>\n",
       "    <tr>\n",
       "      <th>3</th>\n",
       "      <td>Stop Pacifier Sucking without tears with Thumb...</td>\n",
       "      <td>This is a product well worth the purchase.  I ...</td>\n",
       "      <td>5</td>\n",
       "    </tr>\n",
       "    <tr>\n",
       "      <th>4</th>\n",
       "      <td>Stop Pacifier Sucking without tears with Thumb...</td>\n",
       "      <td>All of my kids have cried non-stop when I trie...</td>\n",
       "      <td>5</td>\n",
       "    </tr>\n",
       "  </tbody>\n",
       "</table>\n",
       "</div>"
      ],
      "text/plain": [
       "                                                name  \\\n",
       "0                           Planetwise Flannel Wipes   \n",
       "1                              Planetwise Wipe Pouch   \n",
       "2                Annas Dream Full Quilt with 2 Shams   \n",
       "3  Stop Pacifier Sucking without tears with Thumb...   \n",
       "4  Stop Pacifier Sucking without tears with Thumb...   \n",
       "\n",
       "                                              review  rating  \n",
       "0  These flannel wipes are OK, but in my opinion ...       3  \n",
       "1  it came early and was not disappointed. i love...       5  \n",
       "2  Very soft and comfortable and warmer than it l...       5  \n",
       "3  This is a product well worth the purchase.  I ...       5  \n",
       "4  All of my kids have cried non-stop when I trie...       5  "
      ]
     },
     "execution_count": 68,
     "metadata": {},
     "output_type": "execute_result"
    }
   ],
   "source": [
    "import pandas as pd\n",
    "import numpy as np\n",
    "import matplotlib.pyplot as plt\n",
    "import string\n",
    "from sklearn.linear_model import LogisticRegression\n",
    "from sklearn.model_selection import train_test_split\n",
    "from sklearn.metrics import accuracy_score\n",
    "\n",
    "def remove_punctuation(text):\n",
    "    import string\n",
    "    translator = str.maketrans('', '', string.punctuation)\n",
    "    return text.translate(translator)\n",
    "\n",
    "baby_df = pd.read_csv('amazon_baby.csv')\n",
    "baby_df.head()"
   ]
  },
  {
   "cell_type": "markdown",
   "metadata": {},
   "source": [
    "## Exercise 1 (data preparation)\n",
    "a) Remove punctuation from reviews using the given function.   \n",
    "b) Replace all missing (nan) revies with empty \"\" string.  \n",
    "c) Drop all the entries with rating = 3, as they have neutral sentiment.   \n",
    "d) Set all positive ($\\geq$4) ratings to 1 and negative($\\leq$2) to -1."
   ]
  },
  {
   "cell_type": "code",
   "execution_count": 53,
   "metadata": {
    "collapsed": false
   },
   "outputs": [
    {
     "name": "stdout",
     "output_type": "stream",
     "text": [
      "True\n"
     ]
    }
   ],
   "source": [
    "#a)\n",
    "def remove_punctuation(text):\n",
    "    \n",
    "    translator = str.maketrans(\"\", \"\", string.punctuation)\n",
    "    return text.translate(translator)\n",
    "\n",
    "result = remove_punctuation(baby_df[\"review\"][4])\n",
    "\n",
    "print(result == 'All of my kids have cried nonstop when I tried to ween them off their pacifier until I found Thumbuddy To Loves Binky Fairy Puppet  It is an easy way to work with your kids to allow them to understand where their pacifier is going and help them part from itThis is a must buy book and a great gift for expecting parents  You will save them soo many headachesThanks for this book  You all rock')\n"
   ]
  },
  {
   "cell_type": "code",
   "execution_count": 54,
   "metadata": {
    "collapsed": false
   },
   "outputs": [
    {
     "name": "stdout",
     "output_type": "stream",
     "text": [
      "True\n"
     ]
    }
   ],
   "source": [
    "#b)\n",
    "baby_df[\"review\"].fillna(\"\", inplace=True)\n",
    "\n",
    "result = baby_df[\"review\"][38] == \"\"\n",
    "\n",
    "print(result)\n"
   ]
  },
  {
   "cell_type": "code",
   "execution_count": 55,
   "metadata": {
    "collapsed": false
   },
   "outputs": [
    {
     "name": "stdout",
     "output_type": "stream",
     "text": [
      "0\n"
     ]
    }
   ],
   "source": [
    "#c)\n",
    "baby_df = baby_df[baby_df[\"rating\"] != 3]\n",
    "\n",
    "# Short test\n",
    "print(sum(baby_df[\"rating\"] == 3))"
   ]
  },
  {
   "cell_type": "code",
   "execution_count": 56,
   "metadata": {
    "collapsed": false
   },
   "outputs": [
    {
     "data": {
      "text/plain": [
       "0"
      ]
     },
     "execution_count": 56,
     "metadata": {},
     "output_type": "execute_result"
    }
   ],
   "source": [
    "#d)\n",
    "\n",
    "baby_df[\"rating\"] = np.where(baby_df[\"rating\"] >= 4, 1, np.where(baby_df[\"rating\"] <= 2, -1, baby_df[\"rating\"]))\n",
    "\n",
    "# Test if all ratings are now either 1 or -1\n",
    "#short test:\n",
    "sum(baby_df[\"rating\"]**2 != 1)"
   ]
  },
  {
   "cell_type": "markdown",
   "metadata": {},
   "source": [
    "## CountVectorizer\n",
    "In order to analyze strings, we need to assign them numerical values. We will use one of the simplest string representation, which transforms strings into the $n$ dimensional vectors. The number of dimensions will be the size of our dictionary, and then the values of the vector will represent the number of appereances of the given word in the sentence."
   ]
  },
  {
   "cell_type": "code",
   "execution_count": 57,
   "metadata": {
    "collapsed": false
   },
   "outputs": [
    {
     "name": "stdout",
     "output_type": "stream",
     "text": [
      "['adore' 'and' 'apples' 'bananas' 'dislike' 'hate' 'like' 'oranges' 'they'\n",
      " 'we']\n",
      "[[0 0 1 0 0 0 1 0 0 1]\n",
      " [0 0 0 0 0 1 0 1 0 1]\n",
      " [1 0 0 1 0 0 0 0 0 0]\n",
      " [0 1 1 0 0 0 2 1 0 1]\n",
      " [0 0 0 1 1 0 0 0 1 0]]\n"
     ]
    }
   ],
   "source": [
    "from sklearn.feature_extraction.text import CountVectorizer\n",
    "\n",
    "vectorizer = CountVectorizer()\n",
    "reviews_train_example = [\"We like apples\",\n",
    "                   \"We hate oranges\",\n",
    "                   \"I adore bananas\",\n",
    "                   \"We like like apples and oranges\",\n",
    "                   \"They dislike bananas\"]\n",
    "\n",
    "X_train_example = vectorizer.fit_transform(reviews_train_example)\n",
    "\n",
    "print(vectorizer.get_feature_names_out())\n",
    "print(X_train_example.todense())\n",
    "\n"
   ]
  },
  {
   "cell_type": "code",
   "execution_count": 58,
   "metadata": {
    "collapsed": false
   },
   "outputs": [
    {
     "name": "stdout",
     "output_type": "stream",
     "text": [
      "[[0 0 0 1 0 0 1 0 1 0]\n",
      " [0 1 1 1 0 1 0 1 0 1]\n",
      " [0 0 0 1 0 0 0 0 0 1]]\n"
     ]
    }
   ],
   "source": [
    "reviews_test_example = [\"They like bananas\",\n",
    "                   \"We hate oranges bananas and apples\",\n",
    "                   \"We love bananas\"] #New word!\n",
    "\n",
    "X_test_example = vectorizer.transform(reviews_test_example)\n",
    "\n",
    "print(X_test_example.todense())"
   ]
  },
  {
   "cell_type": "markdown",
   "metadata": {},
   "source": [
    "We should acknowledge few facts. Firstly, CountVectorizer does not take order into account. Secondly, it ignores one-letter words (this can be changed during initialization). Finally, for test values, CountVectorizer ignores words which are not in it's dictionary."
   ]
  },
  {
   "cell_type": "markdown",
   "metadata": {},
   "source": [
    "## Exercise 2 \n",
    "a) Split dataset into training and test sets.     \n",
    "b) Transform reviews into vectors using CountVectorizer. "
   ]
  },
  {
   "cell_type": "code",
   "execution_count": 59,
   "metadata": {
    "collapsed": true
   },
   "outputs": [],
   "source": [
    "#a)\n",
    "train, test = train_test_split(baby_df, train_size=0.8, test_size=0.2, random_state=9)\n"
   ]
  },
  {
   "cell_type": "code",
   "execution_count": 60,
   "metadata": {
    "collapsed": true
   },
   "outputs": [],
   "source": [
    "#b)\n",
    "vectorizer = CountVectorizer()\n",
    "\n",
    "X = vectorizer.fit_transform(list(train[\"review\"]))\n",
    "y = train[\"rating\"]\n",
    "X_test = vectorizer.transform(list(test[\"review\"]))\n",
    "y_test = test[\"rating\"]"
   ]
  },
  {
   "cell_type": "markdown",
   "metadata": {},
   "source": [
    "## Exercise 3 \n",
    "a) Train LogisticRegression model on training data (reviews processed with CountVectorizer, ratings as they were).   \n",
    "b) Print 10 most positive and 10 most negative words."
   ]
  },
  {
   "cell_type": "code",
   "execution_count": 61,
   "metadata": {
    "collapsed": true
   },
   "outputs": [
    {
     "name": "stdout",
     "output_type": "stream",
     "text": [
      "Accuracy: 0.9310965188450121\n"
     ]
    },
    {
     "name": "stderr",
     "output_type": "stream",
     "text": [
      "/home/viktoryia/.local/lib/python3.11/site-packages/sklearn/linear_model/_logistic.py:460: ConvergenceWarning: lbfgs failed to converge (status=1):\n",
      "STOP: TOTAL NO. of ITERATIONS REACHED LIMIT.\n",
      "\n",
      "Increase the number of iterations (max_iter) or scale the data as shown in:\n",
      "    https://scikit-learn.org/stable/modules/preprocessing.html\n",
      "Please also refer to the documentation for alternative solver options:\n",
      "    https://scikit-learn.org/stable/modules/linear_model.html#logistic-regression\n",
      "  n_iter_i = _check_optimize_result(\n"
     ]
    }
   ],
   "source": [
    "#a)\n",
    "model = LogisticRegression()\n",
    "\n",
    "model.fit(X, y)\n",
    "\n",
    "y_pred = model.predict(X_test)\n",
    "\n",
    "accuracy = accuracy_score(y_test, y_pred)\n",
    "\n",
    "# Print the accuracy\n",
    "print(\"Accuracy:\", accuracy)"
   ]
  },
  {
   "cell_type": "code",
   "execution_count": 79,
   "metadata": {
    "collapsed": true
   },
   "outputs": [
    {
     "name": "stdout",
     "output_type": "stream",
     "text": [
      "10 Most Positive Words:\n",
      "[('excellent', 2.1747716675225086), ('awesome', 2.0528488634241624), ('glad', 1.9753174663673894), ('pleased', 1.9414936933905904), ('highly', 1.9370366617061507), ('worry', 1.718902981676613), ('amazing', 1.7131096563179138), ('perfectly', 1.71118294608913), ('exactly', 1.6439039175809096), ('perfect', 1.6282539291834797)]\n",
      "\n",
      "10 Most Negative Words:\n",
      "[('worst', -2.660591699819058), ('disappointing', -2.53162876408324), ('returning', -2.32368045821339), ('useless', -2.246441393852753), ('concept', -2.2257723832048297), ('poor', -2.2020642141623616), ('returned', -2.0757130450647043), ('poorly', -2.062658501307173), ('terrible', -2.046222325989934), ('disappointed', -1.9032122008257548)]\n"
     ]
    }
   ],
   "source": [
    "#b)\n",
    "\n",
    "feature_names = np.array(vectorizer.get_feature_names_out())\n",
    "\n",
    "# Get the coefficients from the trained model\n",
    "coefficients = model.coef_[0]\n",
    "\n",
    "# Create a dictionary mapping feature names to coefficients\n",
    "features_coefficients = dict(zip(feature_names, coefficients))\n",
    "\n",
    "print(\"10 Most Positive Words:\")\n",
    "print(sorted(features_coefficients.items(), key=lambda x: x[1], reverse=True)[:10])\n",
    "\n",
    "print(\"\\n10 Most Negative Words:\")\n",
    "print(sorted(features_coefficients.items(), key=lambda x: x[1])[:10])\n"
   ]
  },
  {
   "cell_type": "markdown",
   "metadata": {},
   "source": [
    "## Exercise 4 \n",
    "a) Predict the sentiment of test data reviews.   \n",
    "b) Predict the sentiment of test data reviews in terms of probability.   \n",
    "c) Find five most positive and most negative reviews.   \n",
    "d) Calculate the accuracy of predictions."
   ]
  },
  {
   "cell_type": "code",
   "execution_count": 63,
   "metadata": {
    "collapsed": true
   },
   "outputs": [
    {
     "name": "stdout",
     "output_type": "stream",
     "text": [
      "Review: This is a very cute toy, but I soon realized that the battery compartment cannot be accessed and the batteries cannot be replaced. I should have researched this item better.\n",
      "Actual Rating: -1\n",
      "Predicted Sentiment: -1\n",
      "\n",
      "Review: This thing is well worth the price I paid, my little guy loves it!  He is 8 mos old, and big for his age.  When we first bought it, we had the seat pulled up the highest it would go, which worked for a while.  Eventually, DS got too big, so we had to figure out a way to shorten the straps.  For a while, we did as someone else suggested and put tennis balls between the straps and the underside of the three spreaders.  That worked.  My husband didn't really like that solution though, so he took a large carabiner and wrapped the main hanging strap (between the adjuster and the spreaders) around the carabiner a bunch of times.  If we want to make the seat higher off the ground, we just wrap the strap some more.  As for the bumpers, our guy is so active in this thing, if it was in a regulation width doorway, they would be getting used all the time!! (we have a double wide doorway for him to play in).\n",
      "Actual Rating: 1\n",
      "Predicted Sentiment: 1\n",
      "\n",
      "Review: I purchased this for my daughter when she was 7 months old primarily to use as a stationery walker.  She absolutely loved the lights and music and I liked the fact that she not only could spin in a circle but actually WALK back and forth.  When she began walking I removed the seat and she loved to run and stomp on the piano keys to activate the music.  She uses it more than any toy she has.  It is by far the BEST stationery walker on the market because it lasts from infancy well into toddlerhood.\n",
      "Actual Rating: 1\n",
      "Predicted Sentiment: 1\n",
      "\n",
      "Review: When I saw these I was sooooo excited because I used the Playtex drop-ins system for my first and like the idea of the drop-in, but prefer the Breastflow nipple. So this seemed like the best of both worlds!!! When had my second son, I decided to try the regular Breastflow bottles (the drop-in Breastflow wasn't out yet) and it was okay. My son liked the nipples, but sometimes they leaked-not all the time though so maybe user error??? So when I bought this system, I had both this and the original system...which would be fine if the tops were interchangeable. But since they aren't and they look almost identical, it's hard to tell if you have the tops to the original Breastflow or the drop-in Breastflow until you put it together and the drop-in one won't close. Also, my husband and sitter say these bottles leak. I exclusively breastfeed so I am not usually the one to give my son a bottle so this could also be user error?? I don't know. All I know is we ended up going back to the Playtex drop-in system.If this system worked (didn't leak) it would have been great...the marriage between to great products. But since it didn't, I only gave it two stars. Maybe someone else could get it to work better than we did???\n",
      "Actual Rating: -1\n",
      "Predicted Sentiment: -1\n",
      "\n",
      "Review: I got this to go along with my Joovy Caboose Stand On stroller and its great. It was kind of hard to get on at first, but once I got it on, I haven't had any issues with it. Plenty of room for drinks, phone, keys, etc. Very happy with my purchase.\n",
      "Actual Rating: 1\n",
      "Predicted Sentiment: 1\n",
      "\n"
     ]
    }
   ],
   "source": [
    "#a)\n",
    "\n",
    "# Predict sentiment on the test data\n",
    "y_pred = model.predict(X_test)\n",
    "\n",
    "# Print the predicted sentiment for the first few reviews\n",
    "for i in range(5):\n",
    "    print(\"Review:\", test[\"review\"].iloc[i])\n",
    "    print(\"Actual Rating:\", y_test.iloc[i])\n",
    "    print(\"Predicted Sentiment:\", y_pred[i])\n",
    "    print()\n",
    "\n"
   ]
  },
  {
   "cell_type": "code",
   "execution_count": 64,
   "metadata": {
    "collapsed": true
   },
   "outputs": [
    {
     "name": "stdout",
     "output_type": "stream",
     "text": [
      "Review: This is a very cute toy, but I soon realized that the battery compartment cannot be accessed and the batteries cannot be replaced. I should have researched this item better.\n",
      "Actual Rating: -1\n",
      "Predicted Probabilities: [0.75163832 0.24836168]\n",
      "\n",
      "Review: This thing is well worth the price I paid, my little guy loves it!  He is 8 mos old, and big for his age.  When we first bought it, we had the seat pulled up the highest it would go, which worked for a while.  Eventually, DS got too big, so we had to figure out a way to shorten the straps.  For a while, we did as someone else suggested and put tennis balls between the straps and the underside of the three spreaders.  That worked.  My husband didn't really like that solution though, so he took a large carabiner and wrapped the main hanging strap (between the adjuster and the spreaders) around the carabiner a bunch of times.  If we want to make the seat higher off the ground, we just wrap the strap some more.  As for the bumpers, our guy is so active in this thing, if it was in a regulation width doorway, they would be getting used all the time!! (we have a double wide doorway for him to play in).\n",
      "Actual Rating: 1\n",
      "Predicted Probabilities: [0.01417074 0.98582926]\n",
      "\n",
      "Review: I purchased this for my daughter when she was 7 months old primarily to use as a stationery walker.  She absolutely loved the lights and music and I liked the fact that she not only could spin in a circle but actually WALK back and forth.  When she began walking I removed the seat and she loved to run and stomp on the piano keys to activate the music.  She uses it more than any toy she has.  It is by far the BEST stationery walker on the market because it lasts from infancy well into toddlerhood.\n",
      "Actual Rating: 1\n",
      "Predicted Probabilities: [0.03374787 0.96625213]\n",
      "\n",
      "Review: When I saw these I was sooooo excited because I used the Playtex drop-ins system for my first and like the idea of the drop-in, but prefer the Breastflow nipple. So this seemed like the best of both worlds!!! When had my second son, I decided to try the regular Breastflow bottles (the drop-in Breastflow wasn't out yet) and it was okay. My son liked the nipples, but sometimes they leaked-not all the time though so maybe user error??? So when I bought this system, I had both this and the original system...which would be fine if the tops were interchangeable. But since they aren't and they look almost identical, it's hard to tell if you have the tops to the original Breastflow or the drop-in Breastflow until you put it together and the drop-in one won't close. Also, my husband and sitter say these bottles leak. I exclusively breastfeed so I am not usually the one to give my son a bottle so this could also be user error?? I don't know. All I know is we ended up going back to the Playtex drop-in system.If this system worked (didn't leak) it would have been great...the marriage between to great products. But since it didn't, I only gave it two stars. Maybe someone else could get it to work better than we did???\n",
      "Actual Rating: -1\n",
      "Predicted Probabilities: [0.83991037 0.16008963]\n",
      "\n",
      "Review: I got this to go along with my Joovy Caboose Stand On stroller and its great. It was kind of hard to get on at first, but once I got it on, I haven't had any issues with it. Plenty of room for drinks, phone, keys, etc. Very happy with my purchase.\n",
      "Actual Rating: 1\n",
      "Predicted Probabilities: [0.0011006 0.9988994]\n",
      "\n"
     ]
    }
   ],
   "source": [
    "#b)\n",
    "y_proba = model.predict_proba(X_test)\n",
    "\n",
    "# Print the predicted probabilities for the first few reviews\n",
    "for i in range(5):\n",
    "    print(\"Review:\", test[\"review\"].iloc[i])\n",
    "    print(\"Actual Rating:\", y_test.iloc[i])\n",
    "    print(\"Predicted Probabilities:\", y_proba[i])\n",
    "    print()\n",
    "#hint: model.predict_proba()"
   ]
  },
  {
   "cell_type": "code",
   "execution_count": 65,
   "metadata": {},
   "outputs": [
    {
     "name": "stdout",
     "output_type": "stream",
     "text": [
      "Five Most Positive Reviews:\n",
      "Predicted Probability (Positive): 1.0\n",
      "Actual Rating: 1\n",
      "Review: A little background on me: I have three kids (5, 3 and 5 mo. at the time of the purchase). I bought this seat for my rear-facing 3 year old.  I have done a lot of research over the last 5 years on carseats.  I'm a critically minded mechanical engineer and I'm very aware of carseat safety (aspiring to find time to be CPS Tech).  We were using a Triumph Advance prior to this seat, which has as many safety features than the original Britax Marathon line... but when this one came out, I knew it was time for an upgrade.  The other seats I was looking to get were the Graco Nautilus or the Recaro Prosport.The big safety reasons I bought it are1) The steel bars.  Not that important rear-facing, but a big deal forward facing.2) The tether.  One of the few carseats that tether rearfacing, and having two points of attachment is huge in stopping the rotation of the carseat during a side impact crash for both rf and ff.3) The headwings.  Not that important (safety-wise) with a rear-facing baby, but with an older, taller child it seems necessary.  Plus I wanted to stop the head-flop of my sleeping kids.But when I got it, I was blown away with how great some of the other feature on this seat are.The sliding bars on the latch is so easy to get a super tight install.  Mainly, because you can tighten each side separately, and all of the force you use in pulling goes directly into tightening, not into the friction of sliding the belt across the seat.  Plus, you can put all of your weight on the side that you want to tighten, instead of having to get the whole carseat pressed into the seat at once.  I already had a seat with adjustable strap height, so that wasn't new to me, but still I use it all the time.  Plus, the ease of switching rear to forward facing has been specular.  I wasn't expecting to use it in it's many configurations, but whenever I needed to install a seat for a different kid or a different car I always picked this seat.  It was the easiest to install, and fit every kid I've ridden with that needs a carseat.No more head flop!  It actually seems the recline angle of seat does most of the work in supporting the head (even forward-facing), than the actual headrest do.  The tether is also great for adjusting a rear-facing seat to just the angle you want without towels or pool noodles.The tightening strap is easy to get to and easy to slide.  The release button is also easy to get to, easy to slide, and is covered with fabric so that kids sticky fingers won't gunk it up/ loosen it while driving.  The instructions are far more detailed than most car seats.  The labeling is fabulous, and there is even a quick guide under the back of the back support if you need to install it with a belt and need a refresher.Some people complain that the top buckle easy for a child to undo.  It could be a problem if you have a strong toddler, or a strong-willed older child.  However, it's not been a problem for me. My oldest can clip hers (on her Recaro, but it's the same clip) and unclip it by herself, saving me some time.  My 3 year old can also clip his, but even at 3 (now almost 4), he still can't unclip it.  It's design is also easier for an adult to do one-handed (or at all) than the other seats I've used.I was worried the velcro on the straps/seat would scratch my child, but they're out of the way from scratching anything.It does have a surprisingly low profile and width, and I could get in the driver side of my friends small Saturn rfing, next to another rearfacing seat.  In my Taurus, I was able to use two of these seat and booster in the middle. I suspect that if I had a third NextGen Britax, I could seat all three across.My complaints, although minor:It's a bit tricker to get a tight install with the belt.  Once I figured out my method, it was much easier -- but only if I have a door next to the seat.  My method is clip it, take the slack out by pulling on the shoulder strap part, and then yank the whole seat away from the buckle, and repeat.  It does get it pretty tight).  If you're installing it on a side with no door, it's a lot harder to get really tight.The headwings are just EPS (covered in fabric), no backing.  Not really a big deal, but from a consumer standpoint, it 'looks' cheap.  Plus, they will likely break if abused, but there's no way it could be done while the child is strapped in.  Some thin plastic on the back might give a better impression of quality, and possibly a little more resilience to abuse.I've read several of the other comments on this seat, and I'm quite surprised by some of the negative ones.  I think that once they shop around a bit and get some experience with other seats, they'll be back.  The weight is as expected.  It's a sturdy seat w/ steel bars, but it's not like it's made of lead. It's not going to be light like an infant seat, and I think many people have too high of expectations when transitioning to a convertible. I haven't found carrying it from car to car a problem, and I'm very petite.Overall, I'm so glad I bought this seat.  It's great for ERFing (he's almost 4).  I even bought a second one a few weeks after this purchase (at a higher 'sale' price) for my 5 month old.  I've also 'accidentally' convinced 3 other people to buy at least one of a next gen Britax, once they saw how easy it was to install and/or its low profile.  I did end up getting the Recaro Prosport for my eldest, as she would only get a few years out of this seat... But I think in retrospect, it would have been fine to buy this for her, and wait a fews years and just buy a booster better suited for an older child, instead of going for a harness-to booster seat.  Also, when I compared it to the Graco Nautilus my mom bought for my eldest, this one, hands down.  If you were looking for a low-profile, easy to use carseat to take your child from 0-7, this is a great choice.\n",
      "\n",
      "Predicted Probability (Positive): 1.0\n",
      "Actual Rating: 1\n",
      "Review: This review is going to compare 3 Ju-Ju-Be bags.  I'm writing a lot because I wish I had this info before I started shopping for a diaper bag.  I am a first time mom so I am probably packing different than a mom that's been around the block.  Also, we are cloth diapering, but not 100% of the time.  We use the disposable, biodegradable inserts for the cloth covers when we want to pack light - and those things take up less room than traditional disposables.  But I wanted a bag that gave me options for either type of diaper.  Here is what I found.  I hope reading this long post will help you save some time and return shipping fees while shopping!!!I already had the Ju-Ju-Be BFF and Be Prepared before I bought the Be Right Back backpack.  I bought them at a different store (one with an amazing return policy) so I left the tags on and debated the bags for a long time.  I packed them and repacked them so many times and this is what I came up with.  The BFF is too small and the Be Prepared is too big.  Both are GREAT bags.  This company really makes quality products with excellent organization!  Let me tell you, I'm a bit of a snob when it comes to quality - I will not deal with poorly made stuff breaking down on me.  Straight to the donation station or trash if something sucks.  This company does not suck...they manufacture very well made products with very good material, zippers, snaps, magnets, etc.  Go to their website to learn about the fabric treatment process and ease of care.  (My friends that bought the cheapo bags are now drooling over the Ju-Ju-Be quality.)  So I loved both bags and I really wanted to keep them.  But I couldn't get past the BFF just being a little too small (and I'd have to have a second bag with me)...and the Be Prepared is super huge and I felt like I was carrying a suitcase.BFF:  This bag is really awesome.  The organization is surprisingly smart.  The inside pockets look small but they hold tons.  You can fit a full size wipes pack in any of the four large interior pockets (but you can't fill all pockets that much at the same time).  The smaller back interior pockets with the zippers are smaller than the open pockets but still hold quite a lot of little stuff like bibs, socks, Boogie Wipes or whatever kind of little stuff you carry around.  The front interior zipper pocket is long and shallow.  I kept putting my nursing cover in that pocket...anything bigger would bulge into the front &#34;mommy pocket&#34; and make that space smaller.  The outside pockets are insulated and hold a baby bottle or water bottle...I have a Kleen Kanteen 27 or 28 oz bottle and it did fit in that pocket but it stuck out a lot because its really tall...I didn't like that (if I was keeping the BFF bag I'd have to get smaller water bottle, and I didn't like that because I drink tons of water).  If you load up all the inside pockets you don't have a whole lot of room left for the diapers and blankets etc.  The main compartment leaves much to be desired as far as space...if you're running to the coffee shop with your girlfriends and going home you'll be fine...but you cannot pack for a whole day in here.  The &#34;mommy pocket&#34; on this bag is well organized but I found it a little too small.  I needed to fit all of my personal items in there because there was no room in the main part of the bag.  I don't carry that many things for myself: a wallet, coin purse, pen, chap stick, tiny hand lotion, cell phone, eye drops and extra pair of contact lenses.  I could not fit all that in the mommy pocket even when I put my cell phone in the separate little cell phone pocket.  My take on this bag: Its wonderful if you pack really light.  I was not even trying to get cloth diapers in there and it was still tight.  If you don't need burp clothes and a blanket and an extra outfits you'd be fine...maybe a mom with one toddler that is past the bottle stage.  I'm bummed that it didn't work because I really wanted to keep it.  It really is a cute bag.BE PREPARED: This bag is the mother ship!  Its very much like the BFF but way bigger.  I was thinking of using it for our overnight or weekend bag...if i were to pack this one like the baby's suitcase, and use the Be Right Back backpack like normal when were out of town I'd have everything I needed in those two bags for a weekend.  However, for normal daily use, the Be Prepare is a mammoth and I don't want to lug it around with me while I'm trying to hold my baby...it would fit all my cloth diapers and the kitchen sink...but its over kill for me with one infant.  I might keep this wonderful big bag anyway for weekend trips because we do a lot of those and I think its cool that they match...baby luggage :)BE RIGHT BACK:  This backpack is super cool.  It is very different from the other two bags.  It's almost perfectly in the middle of the 2 other sized bags.  It has way less of the small inside pockets.  Really only 2 big pockets on inside and 2 on outside (plus mommy pocket and 2 outside bottle pockets).  I do not mind at all that it has less pockets because I keep most of my really tiny stuff in the Ju-Ju-Be accessory bags.  If you have a small bag/pouch and don't know where to put it...stick it in the mesh zipper pouch.  This bag is comfortable to wear - definitely more comfortable than the BBF backpack straps even though I loaded it with more items (I think that is because the bag is longer so it sits on your back differently).  I have a bad back from a car accident so comfort is something I really pay attention to.  This bag is easy to get in and out of.  It opens flat, like a suitcase, so no digging for stuff.  Its shaped like a traditional backpack but I don't feel like I'm back in college when wearing it because the prints get big style points.To give you an idea of the space, here is how I pack it up:  I have my breast feeding cover and 6 disposable breast pads in the front pocket with room to spare.  Mommy pocket fits all my personal items that I listed above with room to spare.  Side bottle pockets are deeper, and my tall water bottle that was too big for BFF fits great in this bag.  I have easy access burp clothes in the other bottle pocket because I am still breast feeding (large baby bottle or sippy cup would fit easily).  The pocket on the top, by the grab handle, is super useful.  Right now I am using it for all my different kinds of small wipes packs: face wipes, paci wipes, anti bac wipes, hand sanitizer gel, etc. they all fit.  You could use that spot for so many different things that you want easy access to.  The side zipper compartment for the changing pad is very smart.  Its so out of the way.  I have the pad that came with it in there now and a pack of sanitizing wipes for public bathroom changing table.  I'll need a bigger pad when baby grows but you could fit a massive pad in there...or magazines, or change of clothes, or blanket, or iPad, or anything flat and you really can't even tell that you filled it up...its very comfortable against your back while you wear the bag.  Inside the bag in the zipper mesh pocket I have a large receiving blanket, two changes of 0-3 month clothes, 2 socks and 2 bibs.  In the back mesh pocket I have a Be Mine (packed as a first aid kit) and a similar sized bag with a little mom-fresh-up kit I put together for when I have baby puke in my hair and I look like a mess...kinda a get it together and look normal kit.  (I never could have fit that kit in the BFF and now that I have it I think its important to have somethings for yourself so you don't feel yucky).  Those items never leave the bag without getting restocked.Aside from what I just listed, in the main inside compartment I can fit 2 large burp cloths, and 2 Be Quick bags (one filled with baby items, the other filled with my disposable diaper inserts for when I don't want to bring cloth diapers), a full Fuel Cell cooler, and baby's favorite lovey.  When I do want to carry my cloth diapers I ditch the fuel cell and the Be Quick with the disposables in it.  I can then fit my cloth diaper pouch (the pouch I use is big and could fit 4 full size AIO diapers, 8 cloth wipes, wipe spray, a thin changing pad, and wet bag - so it takes up a lot of space)...then I can still fit the Be Quick with the baby items, the burp cloths, the lovey, a little bag with teethers, and my Rock'n Baby sling.So, the Be Right Back fits tons!  And it works wonderfully if you just put a few things in there.  I'm sure I'll be packing differently as my baby's needs change.  But for now, with an infant, this bag has got me covered for all day in cloth diapers or all day in disposables with a big packed lunch for mom and dad.  It also still works great to pack it light for a shorter trip...I just haven't gotten to where I can pack light all the time personally.  The bag is very versatile as far as what you can take with you.  Where it is not versatile is carry style.  Its a backpack...if you don't like backpacks keep shopping.All the Ju-Ju-Be accessories are made to fit into the main bags.  I highly recommend getting the accessory bags so you can organize yourself and know that your stuff will always fit in your main bag.  Using the smaller bags to organize makes it SO very easy to switch from bag to bag without leaving anything behind on accident.  I love the organization!  There are a few things that are kinda vanishing from the companies website...I think they are revamping a few designs because they are running out of some of their most popular accessories...I expect to see them come back with a newly added pocket or zipper or something.Ju-Ju-Be is good about having lots of print selections to choose from.  I do find a lot of the prints too feminine for my taste, which is why I love the Royal Envy print...honestly, if that Be Prepared bag I have was a different print I'd just return it and buy that bag again later when I really need it...but Royal Envy is discontinued and I really don't want to part with it knowing it won't be available later.  If you are new to this company know this...once you pick out your main bag, if you want to load up on accessories that match you better not wait too long.  I can't believe how fast they sell out - then the print is discontinued and you are left to sadly troll Ebay looking for the pieces you want.  Just buy them when you get the main bag.  They are worth it, and everything from this company has great resale...there are FB groups devoted to buy, sell, trade Ju-Ju-Be stuff.(Side note: This bag is has a very sporty look.  Great for normal days running around.  I also bought a Nest, Dexter diaper bag for dressy occasions.  That bag is very different from this one and it's awesome too but I haven't reviewed it.  And that bag fits all the Ju-Ju-Be accessory bags that I love.  I mentioned my husband as a men's diaper backpack.  It's the Quicksilver Daddy Day Bag.  Great man bag!)I was going to proof read and spell check but after writing all this I'm over it!  Sorry for any typos.  Really hope this helps you.\n",
      "\n",
      "Predicted Probability (Positive): 1.0\n",
      "Actual Rating: 1\n",
      "Review: Background- I've been using Grovia diapers for four years (when I bought them they were called grobaby). I have 6 shells and 12 inserts. I purchased them for my oldest daughter and used them only part time for 2.5 years until she was potty trained. She still needed pull-ups at night for a long time, so I used these until she was ready to go without. She was probably 30lbs when she stopped wearing them, and they fit well. They were stored for a year until I had my other daughter, who is now 5.5 months and exclusively CD'd. I didn't use them for either girl until about a month old, since I had tiny babies.Pros- They're (mostly) organic. When they were new they were so soft and thick. Now they're definitely worn in and not so soft anymore.-I love how easy they are to use. As a first time CDer, these were perfect. Just snap the inserts in, strap on baby. Easy for pretty much anyone. No stuffing, unstuffing, folding, etc.-I love that I'm able to reuse the shells a couple of times until they're stinky or pooped in, or too wet. Some people didn't find this to be true, but after four years of use I can confidently say it's possible, and happens often for me.-I find them easy to wash, and love that the insert and shell are separate, since I machine dry the inserts and line dry the shells, which has helped to prolong their life. Contrary to some reviews, I don't find it difficult to clean poop from shells. It just agitates out of the mesh in the washing machine.-One size. Although I didn't use these diapers for my tiny babies, they are absolutely a birth to potty training diaper. My oldest was 30+lbs when she stopped wearing them (almost four yrs old). She has always been a small kid with no chunk though, so I'm not sure how long a thicker baby could wear them for.-Designs and colours are cute, nothing obnoxious, and I like that the snaps match the shell colour. Makes all those snaps less noticeable. The snaps are very well made and strong; not one has come loose or fallen off.-Versatile. Not only can you use one shell multiple times before needing to wash it, but you can also use the shells as covers for prefolds and other diapers needing covers. I used prefolds quite a bit during my daughters' first few months (can get a more custom fit on tiny babies, and I found them to be extra soft on that delicate new skin). I didn't bother buying a bunch of sized covers for my prefolds, and used the grovia shells instead. They worked perfectly!-Great for travel/shopping etc. You can leave the house with an extra shell and a few inserts, instead of 3/4 whole diapers, since the shells can be reused. I've been out with only one shell before, and I was glad I had these. I quickly rinsed the poop out of the shell, dried under the air drier in a public bathroom, and snapped in a new insert in less than 5 minutes.-Soft shells, soft elastic on the legs, very few red marks.-Few blowouts or leaks. I've only experienced a few leaks, and I think this is mainly because some inserts were too long for the shell in its smallest setting. When the shell went up in size, the issue was fixed. Also, the aplix tabs (Velcro stuff) makes these diapers super custom and snug, great for putting a CD on a squirmy baby. (The aplix also happens to be a con)Cons- the Velcro tabs. This is probably due to the fact that they're 4 years old, but the tabs are starting to curl up and not stick so well. This only began to happen, but may have began sooner if I had CD'd exclusively the first time. I can switch them out for snaps, so I may do that eventually, since the rest of the shell is in perfect condition.-Holds stink. The inserts are still in good condition, but I've had problems with the nasty ammonia smell. They really seem to hold the stink, so stripping and a religious wash routine has been key to keep them fresh smelling. Maybe this has been my own fault, because I had no idea what I was doing in the beginning, but who knows.I sun bleach them regularly, so they still look good, but they need to be machine dried for at least 20 minutes to stay soft.-Absorbency. My biggest issue with these diapers is that they aren't absorbent enough. My kids are heavy wetters, so I've never been able to use these at night. Even with the booster. Also, when wet, the inserts ripple up or buckle and don't seem very comfortable. My baby's bum gets red marks on it if left on too long, from the ripples of the top layer of the insert. I use the bumgenius freetimes with microfiber inserts at night and have no issues. Although Id rather have a natural fabric next to my daughters bum at night, the microfiber wicks the moisture away so well and we don't have to double up.-Consistency. On the smallest size, some inserts are too long for the rise of the diaper and poke out, which can cause leakage. The inserts aren't uniform in size, which isn't a huge issue, but some are longer or wider than others which is just a bit annoying.-On the bulky side. My bumgenius freetimes are less bulky, but not by much. This doesn't bother me too much, since it makes perfect sense that a cloth diaper be bulkier than an uber trim disposable.Verdict- love them enough to buy more, but would probably get the snaps next time. I love that Velcro is easier to use, but the diapers would last much longer with snaps. I'm also curious as to how the new grovias compare to the old ones. I very much recommend these!!\n",
      "\n",
      "Predicted Probability (Positive): 1.0\n",
      "Actual Rating: 1\n",
      "Review: My dad just bought this car seat for me/my son as the next step after his infant carrier. He's large for his age and at 11 months it was time for us to \"upgrade\". My dad made the purchase at Sam's Club and the price was a lot lower than Amazon ... I love Amazon but wanted to put that out there as an FYI - if you have Sam's near you (or Costco - these seats are sold there as well), try there first to get a better price.So out the box, the first impression of the seat was that it seemed sturdy, easy to use and had minimal \"bells and whistles\" (with my Chicco KeyFit infant carrier I'm not used to bells and whistles so that's fine by me). I took it out in the living room and just started looking over the seat and reading through the manual to familiarize myself with all the features, how to adjust everything, how to recline the seat (love this feature!), etc. I tend to think some of the negative comments here may be due to skipping over this process? I feel it's a best practice to check out a product of this nature to make sure you have as much knowledge as possible before getting upset that it doesn't fit properly in your car. ... anyway ...After reviewing the seat, fiddling with the straps and the handy recline feature, and understanding the basics of installation, we took it to the car to test out the fit. My son is still REAR FACING so my review is based on that installation; I cannot yet speak to forward facing installation.My car only has LATCH in the center seat so that's where we installed the car seat (it's the safest spot anyway). My dad and I strapped it in together and it was relatively easy to install. The LATCH strap feeds across/under the seat cushion (same if you use seat belt installation), then you click in each of the 2 LATCH hooks and tighten the seat and you're done. However, this method didn't provide a very tight fit and we weren't completely comfortable leaving it that way. [NOTE: I have read that you should test the security of the seat installation by trying to move the seat *at the point of attachment (LATCH or seat belt)*, NOT at the back of the seat when rear facing (when a seat is installed rear facing, that part of the seat will always have more movement and it's not the most accurate test of a secure installation)].At that point, we decided to use the \"foam noodle technique\" to see if that could get the seat tighter. Plus the back seat of my car has a slight incline as I think most cars do, so even having the car seat in the fully reclined position (which is recommended in the manaul for rear facing installation), my son would have still been more \"upright\" than I'd like. So we got out a chunk of compressed foam to level out the seat base (about 4\"x8\") and installed the carseat on top of that. It fit like a glove! The seat wasn't going anywhere - it was really tight and secure now; I was 110% pleased and confident with the installation and felt very secure and at-ease putting my son in the new car seat.As for the seat itself, I've seen a few comments here and elsewhere that say the fabric and the padding are inferior; I didn't get that impression at all. I feel like the seat is very comfortable and sufficiently padded. I like the inclusion of side impact protection at the head. The straps are also very easy to adjust and have soft pads at the shoulders. I haven't had to move the straps to different positions other than loosening or tightening; there are 3 positions for the buckle (the strap in the seat, not the harness straps) and the instruction manual seemed pretty straight forward if you need to make that adjustment. As for the harness straps, they are adjustable by simply raising and lowering the back of the seat with the little red levers at each side of the head rest. You twist in the handles and lift or lower the back of the seat and the shoulder straps move with it. So extremely easy. With my son strapped in, I feel he is very secure and the seat is the right size and shape for him. It's pretty simple to get the straps on him properly and he seems comfortable. I like that there is a small pillow included as well - kind of a nice feature for longer drives.I haven't yet taken the seat cushion completely off, but from what I can tell it seems like it would be pretty easy. Of course you'd have to deal with the harness straps which I think is the most difficult part of taking off any car seat cushion. The cover is attached with little elastic loops that hook onto the plastic seat base ... just taking off a few of those loops during the installation process and then reattaching them was pretty simple.The arm rests are really cool too. As my son gets bigger I'm sure he'll put them to more use, but for the now the option of easily folding them up is really nice. And the removeable cup holder is easy to use. Again, a feature better suited for an older child, but really nice to have.Overall I'm very pleased with this seat and the quality/safety/longevity for the price. I really couldn't beat it ... I've been looking for a car seat to replace the infant carrier for a while now and I just haven't found one that's a 3 in 1 seat for less than $150 or so (I had decided to get a convertible seat and then buy a booster once he outgrew that). Now that I have seen this seat in person and spent some time with it, I can say that I would pay $150 for it, but knowing I got it for $80.00 is even better. Such a steal. I definitely recommend this seat.\n",
      "\n",
      "Predicted Probability (Positive): 1.0\n",
      "Actual Rating: 1\n",
      "Review: The Thirsties are really an awesome concept that are perfect for the parent or caretaker who opts for cloth diapers.  I used cloth diapers and aside for the little extra work of laundering them I was quite pleased with them.  For one thing, I never had to battle diaper rash because I definitely knew when the baby needed to be changed.I love several things about the Thirsties, including the awesome selection of available styles.  The adjustability factor is great.  When the baby grows you simply adjust them to fit.  I&#8217;d buy a few of these because even though you can wipe them in between changes, my preference is for ultra-clean.They do wash and dry up very quickly, an especially good deal when you have that occasional messy, smelly liquid problem.  It happens to the best of us.  You can pair these with the [[ASIN:B003LPUQOG  Stay Dry Duo Insert]], which are perfect for when you are out of the house for longer periods of time and can&#8217;t change as often as you&#8217;d like.FEATURES:&#9658;  New, stronger and more durable hook & loop&#9658;  For an AI2 diaper pair with ourStay Dry Duo Insert&#9658;  Pliable, breathable ultra-comfortable waterproof fabric&#9658;  Wipe wrap clean between diaper changes&#9658;  Trim fit&#9658;  Leg gussets for advanced leak protection&#9658;  Grows with your baby so you only need two sizes from birth to potty&#9658; Available with hook & loop or snap closureThirsties also hasDuo Hemp Prefoldavailable if you haven&#8217;t already purchased your cloth diapers.  I opted for cloth diapers for several reasons, but primarily I felt that they were better for my baby.  Soft against the skin, no diaper rash, I knew exactly when to change, and, of course, in the long run they were cost effective.The Thirsties would make a perfect shower gift that would be very much appreciated by the Mom who has indicated they want to use cloth.  I&#8217;ve never seen Thirsties diaper covers before, but I&#8217;m definitely sold on the fit, the practical aspect, and the style.  Perfect!THIRSTIES:Stay Dry Duo InsertThirsties Duo Hemp PrefoldThirsties Fab WipeFab Doublers Soft Cotton VelourThirsties Booty Love Diaper OintmentThirsties Wet Diaper BagThirsties Diaper Pail Liner\n",
      "\n"
     ]
    }
   ],
   "source": [
    "most_positive_indices = np.argsort(y_proba[:, 1])[::-1][:5]\n",
    "\n",
    "print(\"Five Most Positive Reviews:\")\n",
    "for index in most_positive_indices:\n",
    "    print(\"Predicted Probability (Positive):\", y_proba[index, 1])\n",
    "    print(\"Actual Rating:\", y_test.iloc[index])\n",
    "    print(\"Review:\", test[\"review\"].iloc[index])\n",
    "    print()"
   ]
  },
  {
   "cell_type": "code",
   "execution_count": 66,
   "metadata": {
    "collapsed": true
   },
   "outputs": [
    {
     "name": "stdout",
     "output_type": "stream",
     "text": [
      "Five Most Negative Reviews:\n",
      "Predicted Probability (Negative): 1.0\n",
      "Actual Rating: -1\n",
      "Review: Please see my email to the company:Hello,I am writing to voice my family's anger over your unsafe, cheap co-sleeper.  If you recall, I had a problem with my newly purchased co-sleeper back in May, which I immediately called about and was told to send the frame back.  At that time, I asked to speak to a supervisor about the situation, and was told that I would be contacted shortly.  However, Mayra was the only one who I was able to speak with, after numerous attempts to be put in contact with the supervisor.  After a huge delay due to mistakes on your end, I finally got the co-sleeper sent back to the company, after speaking with Veronica on June 13th.At this time (June 13th), I asked to speak with the manager of the company, and Veronica told me that Sharon was not in at the time, but would be in later that day.  I obviously never heard from Sharon, or anyone else from this company, for that matter, from that point on.  I was inquiring to speak with the manager after voicing my concern over just repairing the frame, instead of receiving a new product.We received the frame shipped back to us, without so much as an email or follow up from Arm's Reach.  The entire process to get our frame back took over a month from the time I first contacted customer service.  (I had initially asked for a replacement frame, since our daughter had been used to sleeping in it by this time, and I did not want to completely disrupt her sleep pattern while waiting for the repair, which it did).  The frame came back to us in a box with one sheet of paper, which did nothing to describe what was wrong with the frame, or what was done to \"repair it\".I use the term \"repair\" in disgust, since it clearly was never properly repaired.  We assembled the co-sleeper, again, according to exact instructions in the manual.  Two nights later, I noticed that now if I barely touched the rail of the co-sleeper nearest our bed, that it would collapse and had to be pulled back up into the lock position.  Obviously, we felt very uncomfortable using the co-sleeper, but after having dealt with your awful lack of customer service the first time around, I did not waste my time trying to reach Mayra, Veronica, or Sharon again.To avoid the problem of the collapsing side rail, we have been careful to not touch or even brush against it, for fear that it would collapse with our daughter in it.  Without touching it, it does stay up.  Tonight, (July 23rd) however, I laid my daughter down from the other side of the co-sleeper all together, and the other side rail immediately collapsed when I laid her in the co-sleeper.  She was in it!!!  I had not put any pressure on the side rail, it just collapsed.  After taking her out, waking her up in the process, and moving her elsewhere to be put to sleep for the night, I attempted to re-lock the side rail.  It took several tries, and does not seem secure at all.I can not believe that your remedy to fix the situation of a faulty co-sleeper was to send our same frame back to us \"repaired\", which still breaks and is worse off than when I first contacted you.  I am so turned off by your company, not only because of the safety hazards associated with putting a baby in this piece of crap product that you make, but the complete lack of care from the supervisor or manager. You would think that someone would be concerned that their products for babies are faulty and unsafe.  These are babies we are talking about here!  Not pets, not adults...innocent babies who need the safest place possible to sleep.  Your company disgusts me, and I am honestly surprised that you are still around.  Not for long, I am sure.\n",
      "\n",
      "Predicted Probability (Negative): 0.9999999999999718\n",
      "Actual Rating: -1\n",
      "Review: This is my second video monitoring system, the first being a Summer Infant Day and Night that we purchased in 2010 when our first child was born.  The Summer Infant model was (and still is) excellent.  The picture and sound quality are both great, and reliable.  But, as luck has it, that model is not expandable, and we're expecting our second child, so we decided to switch to a model that supported multiple cameras.  In terms of rave reviews and features, I should have gone with one of the Motorola models, but I was amazed by the bundle of features for the price with VTech, and took the bait.  We bought this system and one extra camera, and went to work setting them up at home in the nursery, and in the toddler's room.First, the picture quality is NOT GOOD.  Compared to the Summer Infant, it's a joke, especially the night vision.  Luckily my son has dark hair or I'd never be able to GUESS where he was in the picture.  If you need crisp images, do not get this model.  We're making do so far, as we can mostly tell where the toddler is in the picture, but it's terrible.Second, the sound quality and reliability is NOT GOOD.  The Summer Infant has crisp, continuous sound.  The VTech sound is tinny at best, and interference interrupts it every couple of seconds, in no particular pattern.  Moreover, the sound seems to turn itself OFF all the time.  I've been able to jog it back on by using the \"Talk\" feature to say something over the intercom to my son, and then the sound kicks back on awaiting his response.  Again, we're using it for him, but it's terrible.We have not used this yet for a newborn, and it's quite likely that we won't.  We still have our old Summer Infant, and unless the sound is continuous and the close-up picture is much better (the newborn camera will only be pointed at a crib, whereas the toddler camera is mounted up high for a (poor quality) view of the whole room) we'll probably use the Summer Infant for the newborn, as I'm not messing around with an unreliable system for a new baby.  If we end up going that route, I'll mount the extra VTech camera in toddler's room for added viewer angles, as we can't see the whole room with one camera, and I'll just tote around both parent units, one for each child.If I had known I was going to have to do that, I'd just have purchased another Summer Infant Day and Night.Morale of the story: if I had this to do over, I wouldn't have made this choice.  The product is trash compared to Motorola or Summer Infant.  However, it does do the job (just badly), and it has a bundle of nice features (temperature monitoring, lullabies (that my son hates), zoom (but NOT pan! and the zoom just pixellates the already terrible picture quality), and multiple camera support.  VTech seemed to try really hard to throw a lot into this for a low price, but forgot the two most important features: sound quality/reliability and picture quality.Sadly, one and a half thumbs down.EDIT: June, 2013 - Well, my dissatisfaction turned quickly into disgust.  Other reviewers have lamented the nonexistent customer service at Vtech: HEED THEM.  Our second wasn't born until April, and has been in our room, so we haven't really needed to USE this system until very recently.  We had set it up and ensured the camera angles were appropriate prior to her birth, but hadn't used the system.  Even so, somehow, this camera inexplicably broke.  The transformer (the box-part of the plug) has evidently blown: instead of having subpar video and audio, it now has ZERO video and audio.  The parent unit doesn't read the camera at all, instead eternally waiting for connection.  And the camera unit makes a loud popping noise from the camera itself every three seconds if it is powered on.  It cannot be powered off anymore without unplugging it -- the power button now only works one way: to turn on.  So, to recap: with LESS THAN A DAY OF USE, the camera unit does not transmit video, does not transmit audio, does not turn off, and makes loud noises.  In other words, this is worse than zero stars.  This is negative stars.  They should be paying US for housing these annoying products.BUT IT GETS BETTER (read: worse).  I contacted VTech, stumbled through their ridiculous online contact template (that doesn't seem to even anticipate receiving product failure communications) and filed my concern, asking for a refund, a replacement, an extra part (the camera itself doesn't need replacing, only the power cord...with a new power cord it would be back to functioning as a less than mediocre piece of 1990s video equipment, but it would at least WORK).  VTech's website assured me I would be contacted within two days.That was almost four weeks ago.  That's right.  Four weeks of radio silence.  I'm about to contact them for the THIRD time, but this company goes beyond all other bad reviews I've ever read, ever.  It's not that they refuse to accept responsibility, don't warrant the product, charge the customer shipping.  They might do all those things.  But who knows?  The company seems to collectively hide under the table whenever the phone rings, and, without being able to reach them, the consumer is completely up a creek.I've written many reviews.  I've NEVER had to write one like this.Buyer beware.\n",
      "\n",
      "Predicted Probability (Negative): 0.9999999999989814\n",
      "Actual Rating: -1\n",
      "Review: Looks really cute, however, the cloth smells funny and gave my baby some rash after 15 mins wearing.Requested a return, need to pay 25% restocking fee plus shipping.$25 order, maybe, $5 back eventually.Also, the return must be brand new condition!! Really! Unbelievable!Do yourself a favor and See the return policy by yourself before making an orderHello,Below is return instructions, this item must not be worn or used or the return will not be refunded.Thank you for ordering from us. Here is your RMA# as well as return instructions. All returns must be in brand new, original condition. Please read our return policy. Return policy link is provided for you in this email.**All refunds issued are determined by the outcome of inspections. Any return of costumes used, worn, signs of pet hair, human hair or washed will void all refund. All boxes for shoes NEED to be unmarked and in original condition. ALL returns NEED to be in original packaging to qualify for an authorized return!!**Please note: If you are returning a costume and need a different size, we suggest that you place a new order for the item you need. This will insure that you get the item quicker. If you order from us, simply email us your new order# and we will waive the restocking fee on your returns.Return Instructions:- ALL RETURNS NEED TO BE IN ORIGINAL PACKAGING-Items MUST BE POSTMARKED WITHIN 3 DAYS of  RECEIVING RMA (Today)-Simply repackage item-on the outside of the packaging please write RMA-We do not cover shipping so, please feel free to use any shippingmethod you like.-Item is also subject to a 25% restocking fee and all incurred shipping costs associated  with this return-Ship to Brands on Sale:\n",
      "\n",
      "Predicted Probability (Negative): 0.9999999999967493\n",
      "Actual Rating: -1\n",
      "Review: PLEASE HEED THE OTHER REVIEWERS WARNINGS ON THIS.  I am not one to write a review, but the Evenflo high chair is so dangerous and the company so negligent, that I had to let others know.  We have the Evenflo Majestic Highchair which has recently, finally, been recalled.  We had issues with the screws popping out of the recliner section of the chair when we used it with our then 4 month old, I called Evenflo last March, they sent me a repair kit with longer screws, still didn't work. Customer service had told me then this was not a common problem and that even with a screw missing, highchair was safe to use, not dangerous. I'm so furious they lied about my son's safety!!!!! Our longer screws did pop out a few times, we put them back in, I called back and since the highchair still held up fine and they told me it was okay to use, we wrongly trusted Evenflo and continued to use the highchair (my husband had checked it and felt is was okay). I just called in response to last weeks recall and they said they do have a record of me calling, sorry that happened and would I like a new set of screws? They won't give a refund and the new screws (which they will ship out in approx. 2 weeks, and recommend we don't use the highchair in the meantime) supposedly work better than the original replacements. I am returning this to the store, and if they won't accept the return, I'll have to eat the cost and throw out the chair.  We've had so many of our kids' things recalled, it's infuriating that these companies only have to send screws that may or may not work and before their belated recalls, our kids are at risk and to boot this time they assured me there was no danger. Please do not buy Evenflo and know that you can't trust the info you receive from customer service.I'm am so thankful my son wasn't injured. We've had other issues with most of our Evenflo products not working correctly, but all involving bells and whistles not structual. I just can't understand how these companies put more money into their impossible to open packaging than into their product safety.\n",
      "\n",
      "Predicted Probability (Negative): 0.9999999999838866\n",
      "Actual Rating: -1\n",
      "Review: Reviewers. You failed me!This thing worked for 24 hours, then went \"out of range\" and would not operate at all. To be clear, it was not out of range.Samsung's website wasn't helpful. So I called customer service and waited on hold for half an hour.  Finally, I got the lone call center worker, and he told me I had to go online and fill out a form, and get a service ticket, and they'd get back to me eventually with information on where to ship the faulty device. He told me \"this is a known issue.\"  I asked how many days until it would be replaced and he didn't know.  I asked why are they still being sold if they don't work and he said \"It is more expensive for Samsung to collect the faulty monitors than it is for us to wait for them to be returned.\"  He also told me that Samsung sells the monitors again when they are returned. They are repackaged and sent out to the market again.  Even though they are known to be faulty.I'm now boycotting Samsung, as I would for any company that knowingly sells a faulty baby safety product. Their customer service was pretty dire.  To his credit, the Samsung rep I spoked to admitted that Samsung was doing something pretty shady.  But he was remorseless. I've concluded I'm one of many who got duped.UPDATE a few days later:I got a full refund from this seller. Thank you seller! I expected to be hassled over the return, but when I got it instantly, I regretted mailing the monitor back to you wrapped in a diaper. Sometimes I am just not very subtle. I apologize.Another update: To replace this monitor, I ordered a Levana Astra 3.5\" PTZ Digital Baby Video Monitor with Talk to Baby Intercom 32006.  It was EVEN WORSE than this one -see my review of it if you are interested.Another update: I received several phone calls from polite, concerned Samsung personnel over this matter in the immediate aftermath of this review's posting.  I made an attempt to return one of the calls, but the callback number directed me to a main Samsung line with a lot of electronic options. Then, I got a letter of apology from the Technical Support staff who had treated my situation with indifference, and a letter from his supervisor.  Both letters apologized for my experience, and both sought to clarify the information that I was given in error, and my misunderstanding of some of it. The letter from the unpleasant technical support worker was especially humble. I was kindly, but aggressively, asked to remove the negative content of my review but I have decided to leave it as is so that shoppers can see real feedback of this product. I did change my headline to reflect my less annoyed position on this consumer experience. \"Iffy\" has replaced \"faulty.\"What I know now is:-Samsung does not re-sell refurbished products that are unlabeled as being refurbished.  They proudly operate in accordance with laws regarding such products. The info I was given that made me believe that was a misspeak on the part of the technician.  He was referring to vendors who re-sell broken Samsung products, not Samsung. (Note: I do not suspect this Amazon seller of doing such a thing)-Samsung believes that my monitor came with information on how to \"easily resolve\" the pairing problem I experienced. So, while Samsung is saying that my unit isn't a problematic model with known issues, it....is a problematic mode with known issues.-My manual did not have pairing information, however. It declared that the monitor comes already paired, and that was the end of it.  (Other owners, do you have this in your user manual?)  Anyway, if that information was in there, why did the technician I spoke with tell me I needed to mail my unit back to get the pairing problem resolved? He could have just given me the directions on how to fix it. He specifically stated that my model had to be sent away to be repaired, and that this was a known issue.-Therefore, my complaint still stands. Samsung retailers are distributing a product that isn't working for some people. Samsung failed to provide technical support when I needed it. And while they are overall very nice, and very friendly, and while I do still like Samsung products, I still had to deal with a product that didn't work, and had a bad customer service experience.  Those are facts.  Will I boycott Samsung? No.  And I don't think you should either.  But this isn't the Most Unexceptional baby monitor on the market.  There is room for improvement.To Samsung: You can have another star if you please stop contacting me!  Thank you for the Starbucks gift card!*****************Update over a month later: Samsung is calling me repeatedly, despite being told several times to leave me alone. Samsung: you cannot harass me into giving your product a better review.  Today I told you to stop calling and I removed a star for my trouble.PS I have had a Motorola baby monitor for about a month now, and it works great! I will review it when I have a moment.>>>>>>>>>>>>>>>>>>>>>>>>>>>>Update Feb 26. 2013:Still using my MOTOROLA baby monitor every day. Works like a charm! Added a 2nd camera a month ago, and it's easy to pan between them!\n",
      "\n"
     ]
    }
   ],
   "source": [
    "#c) \n",
    "\n",
    "\n",
    "most_negative_indices = np.argsort(y_proba[:, 0])[::-1][:5]\n",
    "\n",
    "\n",
    "print(\"Five Most Negative Reviews:\")\n",
    "for index in most_negative_indices:\n",
    "    print(\"Predicted Probability (Negative):\", y_proba[index, 0])\n",
    "    print(\"Actual Rating:\", y_test.iloc[index])\n",
    "    print(\"Review:\", test[\"review\"].iloc[index])\n",
    "    print()\n"
   ]
  },
  {
   "cell_type": "code",
   "execution_count": 51,
   "metadata": {
    "collapsed": true
   },
   "outputs": [
    {
     "name": "stdout",
     "output_type": "stream",
     "text": [
      "Accuracy: 0.9310965188450121\n"
     ]
    }
   ],
   "source": [
    "#d) \n",
    "accuracy = accuracy_score(y_test, y_pred)\n",
    "\n",
    "# Print the accuracy\n",
    "print(\"Accuracy:\", accuracy)"
   ]
  },
  {
   "cell_type": "markdown",
   "metadata": {},
   "source": [
    "## Exercise 5\n",
    "In this exercise we will limit the dictionary of CountVectorizer to the set of significant words, defined below.\n",
    "\n",
    "\n",
    "a) Redo exercises 2-5 using limited dictionary.   \n",
    "b) Check the impact of all the words from the dictionary.   \n",
    "c) Compare accuracy of predictions and the time of evaluation."
   ]
  },
  {
   "cell_type": "code",
   "execution_count": 71,
   "metadata": {
    "collapsed": true
   },
   "outputs": [],
   "source": [
    "significant_words = ['love','great','easy','old','little','perfect','loves','well','able','car','broke','less','even','waste','disappointed','work','product','money','would','return']"
   ]
  },
  {
   "cell_type": "code",
   "execution_count": 82,
   "metadata": {},
   "outputs": [],
   "source": [
    "train_dict, test_dict = train_test_split(significant_words, train_size=0.8, test_size=0.2, random_state=9)"
   ]
  },
  {
   "cell_type": "code",
   "execution_count": 83,
   "metadata": {
    "collapsed": true
   },
   "outputs": [
    {
     "ename": "TypeError",
     "evalue": "list indices must be integers or slices, not str",
     "output_type": "error",
     "traceback": [
      "\u001b[0;31m---------------------------------------------------------------------------\u001b[0m",
      "\u001b[0;31mTypeError\u001b[0m                                 Traceback (most recent call last)",
      "\u001b[1;32m/home/viktoryia/UJ/data_science/Assignment_4_with_code.ipynb Cell 27\u001b[0m line \u001b[0;36m5\n\u001b[1;32m      <a href='vscode-notebook-cell:/home/viktoryia/UJ/data_science/Assignment_4_with_code.ipynb#X33sZmlsZQ%3D%3D?line=1'>2</a>\u001b[0m vectorizer_limited \u001b[39m=\u001b[39m CountVectorizer(vocabulary\u001b[39m=\u001b[39msignificant_words)\n\u001b[1;32m      <a href='vscode-notebook-cell:/home/viktoryia/UJ/data_science/Assignment_4_with_code.ipynb#X33sZmlsZQ%3D%3D?line=3'>4</a>\u001b[0m X_limited \u001b[39m=\u001b[39m vectorizer_limited\u001b[39m.\u001b[39mfit_transform(\u001b[39mlist\u001b[39m(train[\u001b[39m\"\u001b[39m\u001b[39mreview\u001b[39m\u001b[39m\"\u001b[39m]))\n\u001b[0;32m----> <a href='vscode-notebook-cell:/home/viktoryia/UJ/data_science/Assignment_4_with_code.ipynb#X33sZmlsZQ%3D%3D?line=4'>5</a>\u001b[0m y_limited \u001b[39m=\u001b[39m train_dict[\u001b[39m\"\u001b[39;49m\u001b[39mrating\u001b[39;49m\u001b[39m\"\u001b[39;49m]\n\u001b[1;32m      <a href='vscode-notebook-cell:/home/viktoryia/UJ/data_science/Assignment_4_with_code.ipynb#X33sZmlsZQ%3D%3D?line=5'>6</a>\u001b[0m X_test_limited \u001b[39m=\u001b[39m vectorizer_limited\u001b[39m.\u001b[39mtransform(\u001b[39mlist\u001b[39m(test[\u001b[39m\"\u001b[39m\u001b[39mreview\u001b[39m\u001b[39m\"\u001b[39m]))\n\u001b[1;32m      <a href='vscode-notebook-cell:/home/viktoryia/UJ/data_science/Assignment_4_with_code.ipynb#X33sZmlsZQ%3D%3D?line=6'>7</a>\u001b[0m y_test_limited \u001b[39m=\u001b[39m test_dict[\u001b[39m\"\u001b[39m\u001b[39mrating\u001b[39m\u001b[39m\"\u001b[39m]\n",
      "\u001b[0;31mTypeError\u001b[0m: list indices must be integers or slices, not str"
     ]
    }
   ],
   "source": [
    "#a)\n",
    "vectorizer_limited = CountVectorizer(vocabulary=significant_words)\n",
    "\n",
    "X_limited = vectorizer_limited.fit_transform(list(train[\"review\"]))\n",
    "y_limited = train[\"rating\"]\n",
    "X_test_limited = vectorizer_limited.transform(list(test[\"review\"]))\n",
    "y_test_limited = test[\"rating\"]"
   ]
  },
  {
   "cell_type": "code",
   "execution_count": 78,
   "metadata": {},
   "outputs": [
    {
     "name": "stdout",
     "output_type": "stream",
     "text": [
      "Accuracy: 0.8670804473628977\n"
     ]
    }
   ],
   "source": [
    "\n",
    "\n",
    "limited_model = LogisticRegression()\n",
    "\n",
    "limited_model.fit(X_limited, y_limited)\n",
    "\n",
    "y_pred_lim = limited_model.predict(X_test_limited)\n",
    "accuracy = accuracy_score(y_test_limited, y_pred_lim)\n",
    "\n",
    "# Print the accuracy\n",
    "print(\"Accuracy:\", accuracy)"
   ]
  },
  {
   "cell_type": "code",
   "execution_count": 80,
   "metadata": {},
   "outputs": [
    {
     "name": "stdout",
     "output_type": "stream",
     "text": [
      "10 Most Positive Words:\n",
      "[('loves', 1.731097403135818), ('perfect', 1.5397133165840304), ('love', 1.356228686770304), ('easy', 1.1623365780490358), ('great', 0.9260774580423731), ('well', 0.500008141667652), ('little', 0.493507416331203), ('able', 0.22523627051436343), ('old', 0.08269355389887463), ('car', 0.06523612120562435)]\n",
      "\n",
      "10 Most Negative Words:\n",
      "[('disappointed', -2.345747699127795), ('return', -2.1201045518779327), ('waste', -1.971470284399443), ('broke', -1.7032549460595479), ('money', -0.9087495801010872), ('work', -0.6441434415169854), ('even', -0.5102634367198567), ('would', -0.34569215224131866), ('product', -0.3054884478214659), ('less', -0.16782082440073806)]\n"
     ]
    }
   ],
   "source": [
    "feature_names_lim = np.array(vectorizer_limited.get_feature_names_out())\n",
    "\n",
    "# Get the coefficients from the trained model\n",
    "coefficients_lim = limited_model.coef_[0]\n",
    "\n",
    "# Create a dictionary mapping feature names to coefficients\n",
    "features_coefficients_lim = dict(zip(feature_names_lim, coefficients_lim))\n",
    "\n",
    "print(\"10 Most Positive Words:\")\n",
    "print(sorted(features_coefficients_lim.items(), key=lambda x: x[1], reverse=True)[:10])\n",
    "\n",
    "print(\"\\n10 Most Negative Words:\")\n",
    "print(sorted(features_coefficients_lim.items(), key=lambda x: x[1])[:10])"
   ]
  },
  {
   "cell_type": "code",
   "execution_count": 81,
   "metadata": {},
   "outputs": [
    {
     "name": "stdout",
     "output_type": "stream",
     "text": [
      "Review: This is a very cute toy, but I soon realized that the battery compartment cannot be accessed and the batteries cannot be replaced. I should have researched this item better.\n",
      "Actual Rating: -1\n",
      "Predicted Sentiment: -1\n",
      "\n",
      "Review: This thing is well worth the price I paid, my little guy loves it!  He is 8 mos old, and big for his age.  When we first bought it, we had the seat pulled up the highest it would go, which worked for a while.  Eventually, DS got too big, so we had to figure out a way to shorten the straps.  For a while, we did as someone else suggested and put tennis balls between the straps and the underside of the three spreaders.  That worked.  My husband didn't really like that solution though, so he took a large carabiner and wrapped the main hanging strap (between the adjuster and the spreaders) around the carabiner a bunch of times.  If we want to make the seat higher off the ground, we just wrap the strap some more.  As for the bumpers, our guy is so active in this thing, if it was in a regulation width doorway, they would be getting used all the time!! (we have a double wide doorway for him to play in).\n",
      "Actual Rating: 1\n",
      "Predicted Sentiment: -1\n",
      "\n",
      "Review: I purchased this for my daughter when she was 7 months old primarily to use as a stationery walker.  She absolutely loved the lights and music and I liked the fact that she not only could spin in a circle but actually WALK back and forth.  When she began walking I removed the seat and she loved to run and stomp on the piano keys to activate the music.  She uses it more than any toy she has.  It is by far the BEST stationery walker on the market because it lasts from infancy well into toddlerhood.\n",
      "Actual Rating: 1\n",
      "Predicted Sentiment: -1\n",
      "\n",
      "Review: When I saw these I was sooooo excited because I used the Playtex drop-ins system for my first and like the idea of the drop-in, but prefer the Breastflow nipple. So this seemed like the best of both worlds!!! When had my second son, I decided to try the regular Breastflow bottles (the drop-in Breastflow wasn't out yet) and it was okay. My son liked the nipples, but sometimes they leaked-not all the time though so maybe user error??? So when I bought this system, I had both this and the original system...which would be fine if the tops were interchangeable. But since they aren't and they look almost identical, it's hard to tell if you have the tops to the original Breastflow or the drop-in Breastflow until you put it together and the drop-in one won't close. Also, my husband and sitter say these bottles leak. I exclusively breastfeed so I am not usually the one to give my son a bottle so this could also be user error?? I don't know. All I know is we ended up going back to the Playtex drop-in system.If this system worked (didn't leak) it would have been great...the marriage between to great products. But since it didn't, I only gave it two stars. Maybe someone else could get it to work better than we did???\n",
      "Actual Rating: -1\n",
      "Predicted Sentiment: -1\n",
      "\n",
      "Review: I got this to go along with my Joovy Caboose Stand On stroller and its great. It was kind of hard to get on at first, but once I got it on, I haven't had any issues with it. Plenty of room for drinks, phone, keys, etc. Very happy with my purchase.\n",
      "Actual Rating: 1\n",
      "Predicted Sentiment: -1\n",
      "\n"
     ]
    }
   ],
   "source": [
    "y_pred = model.predict(X_test)\n",
    "\n",
    "# Print the predicted sentiment for the first few reviews\n",
    "for i in range(5):\n",
    "    print(\"Review:\", test[\"review\"].iloc[i])\n",
    "    print(\"Actual Rating:\", y_test.iloc[i])\n",
    "    print(\"Predicted Sentiment:\", y_pred[i])\n",
    "    print()\n"
   ]
  },
  {
   "cell_type": "code",
   "execution_count": 73,
   "metadata": {
    "collapsed": true
   },
   "outputs": [],
   "source": [
    "#b)\n"
   ]
  },
  {
   "cell_type": "code",
   "execution_count": 74,
   "metadata": {
    "collapsed": true
   },
   "outputs": [],
   "source": [
    "#c)\n",
    "\n",
    "#hint: %time, %timeit"
   ]
  }
 ],
 "metadata": {
  "anaconda-cloud": {},
  "kernelspec": {
   "display_name": "Python 3",
   "language": "python",
   "name": "python3"
  },
  "language_info": {
   "codemirror_mode": {
    "name": "ipython",
    "version": 3
   },
   "file_extension": ".py",
   "mimetype": "text/x-python",
   "name": "python",
   "nbconvert_exporter": "python",
   "pygments_lexer": "ipython3",
   "version": "3.11.5"
  }
 },
 "nbformat": 4,
 "nbformat_minor": 4
}
