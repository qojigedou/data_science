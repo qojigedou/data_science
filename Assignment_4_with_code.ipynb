{
 "cells": [
  {
   "cell_type": "markdown",
   "metadata": {},
   "source": [
    "### Today we are going to perform the simple classification of the amazon reviews' sentiment.\n",
    "\n",
    "### Please, download the dataset amazon_baby.csv."
   ]
  },
  {
   "cell_type": "code",
   "execution_count": 30,
   "metadata": {
    "collapsed": false
   },
   "outputs": [
    {
     "data": {
      "text/html": [
       "<div>\n",
       "<style scoped>\n",
       "    .dataframe tbody tr th:only-of-type {\n",
       "        vertical-align: middle;\n",
       "    }\n",
       "\n",
       "    .dataframe tbody tr th {\n",
       "        vertical-align: top;\n",
       "    }\n",
       "\n",
       "    .dataframe thead th {\n",
       "        text-align: right;\n",
       "    }\n",
       "</style>\n",
       "<table border=\"1\" class=\"dataframe\">\n",
       "  <thead>\n",
       "    <tr style=\"text-align: right;\">\n",
       "      <th></th>\n",
       "      <th>name</th>\n",
       "      <th>review</th>\n",
       "      <th>rating</th>\n",
       "    </tr>\n",
       "  </thead>\n",
       "  <tbody>\n",
       "    <tr>\n",
       "      <th>0</th>\n",
       "      <td>Planetwise Flannel Wipes</td>\n",
       "      <td>These flannel wipes are OK, but in my opinion ...</td>\n",
       "      <td>3</td>\n",
       "    </tr>\n",
       "    <tr>\n",
       "      <th>1</th>\n",
       "      <td>Planetwise Wipe Pouch</td>\n",
       "      <td>it came early and was not disappointed. i love...</td>\n",
       "      <td>5</td>\n",
       "    </tr>\n",
       "    <tr>\n",
       "      <th>2</th>\n",
       "      <td>Annas Dream Full Quilt with 2 Shams</td>\n",
       "      <td>Very soft and comfortable and warmer than it l...</td>\n",
       "      <td>5</td>\n",
       "    </tr>\n",
       "    <tr>\n",
       "      <th>3</th>\n",
       "      <td>Stop Pacifier Sucking without tears with Thumb...</td>\n",
       "      <td>This is a product well worth the purchase.  I ...</td>\n",
       "      <td>5</td>\n",
       "    </tr>\n",
       "    <tr>\n",
       "      <th>4</th>\n",
       "      <td>Stop Pacifier Sucking without tears with Thumb...</td>\n",
       "      <td>All of my kids have cried non-stop when I trie...</td>\n",
       "      <td>5</td>\n",
       "    </tr>\n",
       "  </tbody>\n",
       "</table>\n",
       "</div>"
      ],
      "text/plain": [
       "                                                name  \\\n",
       "0                           Planetwise Flannel Wipes   \n",
       "1                              Planetwise Wipe Pouch   \n",
       "2                Annas Dream Full Quilt with 2 Shams   \n",
       "3  Stop Pacifier Sucking without tears with Thumb...   \n",
       "4  Stop Pacifier Sucking without tears with Thumb...   \n",
       "\n",
       "                                              review  rating  \n",
       "0  These flannel wipes are OK, but in my opinion ...       3  \n",
       "1  it came early and was not disappointed. i love...       5  \n",
       "2  Very soft and comfortable and warmer than it l...       5  \n",
       "3  This is a product well worth the purchase.  I ...       5  \n",
       "4  All of my kids have cried non-stop when I trie...       5  "
      ]
     },
     "execution_count": 30,
     "metadata": {},
     "output_type": "execute_result"
    }
   ],
   "source": [
    "import pandas as pd\n",
    "import numpy as np\n",
    "import matplotlib.pyplot as plt\n",
    "import string\n",
    "from sklearn.linear_model import LogisticRegression\n",
    "from sklearn.model_selection import train_test_split\n",
    "from sklearn.metrics import accuracy_score\n",
    "\n",
    "def remove_punctuation(text):\n",
    "    import string\n",
    "    translator = str.maketrans('', '', string.punctuation)\n",
    "    return text.translate(translator)\n",
    "\n",
    "baby_df = pd.read_csv('amazon_baby.csv')\n",
    "baby_df.head()"
   ]
  },
  {
   "cell_type": "markdown",
   "metadata": {},
   "source": [
    "## Exercise 1 (data preparation)\n",
    "a) Remove punctuation from reviews using the given function.   \n",
    "b) Replace all missing (nan) revies with empty \"\" string.  \n",
    "c) Drop all the entries with rating = 3, as they have neutral sentiment.   \n",
    "d) Set all positive ($\\geq$4) ratings to 1 and negative($\\leq$2) to -1."
   ]
  },
  {
   "cell_type": "code",
   "execution_count": 31,
   "metadata": {
    "collapsed": false
   },
   "outputs": [
    {
     "data": {
      "text/plain": [
       "True"
      ]
     },
     "execution_count": 31,
     "metadata": {},
     "output_type": "execute_result"
    }
   ],
   "source": [
    "#a)\n",
    "baby_df['review'] = baby_df['review'].astype(str)\n",
    "baby_df['review'] = baby_df['review'].apply(remove_punctuation)\n",
    "\n",
    "#short test: \n",
    "baby_df[\"review\"][4] == 'All of my kids have cried nonstop when I tried to ween them off their pacifier until I found Thumbuddy To Loves Binky Fairy Puppet  It is an easy way to work with your kids to allow them to understand where their pacifier is going and help them part from itThis is a must buy book and a great gift for expecting parents  You will save them soo many headachesThanks for this book  You all rock'\n",
    "remove_punctuation(baby_df[\"review\"][4]) == 'All of my kids have cried nonstop when I tried to ween them off their pacifier until I found Thumbuddy To Loves Binky Fairy Puppet  It is an easy way to work with your kids to allow them to understand where their pacifier is going and help them part from itThis is a must buy book and a great gift for expecting parents  You will save them soo many headachesThanks for this book  You all rock'\n"
   ]
  },
  {
   "cell_type": "markdown",
   "metadata": {},
   "source": [
    "**Notes:**  I have clarified that the `review` column exclusively holds string values. Using the `apply` function, I've successfully eliminated all punctuation. This process aids in eliminating noise from our data, preventing situations where `word.` and `word` would be treated as distinct words. Generally, punctuation doesn't contribute significantly to the model (it's worth noting that the function responsible for punctuation removal also excludes exclamation points)."
   ]
  },
  {
   "cell_type": "code",
   "execution_count": 32,
   "metadata": {
    "collapsed": false
   },
   "outputs": [
    {
     "data": {
      "text/plain": [
       "True"
      ]
     },
     "execution_count": 32,
     "metadata": {},
     "output_type": "execute_result"
    }
   ],
   "source": [
    "#b)\n",
    "baby_df['review'].replace(np.nan, \"\", inplace=True)\n",
    "\n",
    "baby_df[\"review\"][38] == baby_df[\"review\"][38]\n",
    "\n"
   ]
  },
  {
   "cell_type": "markdown",
   "metadata": {},
   "source": [
    "**Notes:** The `np.nan` is a constant representing a missing or undefined numerical value in a NumPy array. It stands for not a number and has a float type. It was removed using replace function. Since CountVectorizer cannot process `nan` values, it was necessary to replace them with empty strings."
   ]
  },
  {
   "cell_type": "code",
   "execution_count": 33,
   "metadata": {
    "collapsed": false
   },
   "outputs": [
    {
     "name": "stdout",
     "output_type": "stream",
     "text": [
      "0\n"
     ]
    }
   ],
   "source": [
    "#c)\n",
    "baby_df = baby_df[baby_df[\"rating\"] != 3]\n",
    "\n",
    "# Short test\n",
    "print(sum(baby_df[\"rating\"] == 3))"
   ]
  },
  {
   "cell_type": "markdown",
   "metadata": {},
   "source": [
    "**Notes:** In the provided code, I removed all entries with a rating of 3 and subsequently verified whether the removal was successful."
   ]
  },
  {
   "cell_type": "code",
   "execution_count": 34,
   "metadata": {
    "collapsed": false
   },
   "outputs": [
    {
     "data": {
      "text/plain": [
       "0"
      ]
     },
     "execution_count": 34,
     "metadata": {},
     "output_type": "execute_result"
    }
   ],
   "source": [
    "#d)\n",
    "\n",
    "baby_df[\"rating\"] = np.where(baby_df[\"rating\"] >= 4, 1, np.where(baby_df[\"rating\"] <= 2, -1, baby_df[\"rating\"]))\n",
    "\n",
    "# Test if all ratings are now either 1 or -1\n",
    "#short test:\n",
    "sum(baby_df[\"rating\"]**2 != 1)"
   ]
  },
  {
   "cell_type": "markdown",
   "metadata": {},
   "source": [
    "**Notes:** Then I have set all positive (greater or equal to 4) ratings to 1 and negative(less or equal to 2) to -1."
   ]
  },
  {
   "cell_type": "markdown",
   "metadata": {},
   "source": [
    "## CountVectorizer\n",
    "In order to analyze strings, we need to assign them numerical values. We will use one of the simplest string representation, which transforms strings into the $n$ dimensional vectors. The number of dimensions will be the size of our dictionary, and then the values of the vector will represent the number of appereances of the given word in the sentence."
   ]
  },
  {
   "cell_type": "code",
   "execution_count": 35,
   "metadata": {
    "collapsed": false
   },
   "outputs": [
    {
     "name": "stdout",
     "output_type": "stream",
     "text": [
      "['adore' 'and' 'apples' 'bananas' 'dislike' 'hate' 'like' 'oranges' 'they'\n",
      " 'we']\n",
      "[[0 0 1 0 0 0 1 0 0 1]\n",
      " [0 0 0 0 0 1 0 1 0 1]\n",
      " [1 0 0 1 0 0 0 0 0 0]\n",
      " [0 1 1 0 0 0 2 1 0 1]\n",
      " [0 0 0 1 1 0 0 0 1 0]]\n"
     ]
    }
   ],
   "source": [
    "from sklearn.feature_extraction.text import CountVectorizer\n",
    "\n",
    "vectorizer = CountVectorizer()\n",
    "reviews_train_example = [\"We like apples\",\n",
    "                   \"We hate oranges\",\n",
    "                   \"I adore bananas\",\n",
    "                   \"We like like apples and oranges\",\n",
    "                   \"They dislike bananas\"]\n",
    "\n",
    "X_train_example = vectorizer.fit_transform(reviews_train_example)\n",
    "\n",
    "print(vectorizer.get_feature_names_out())\n",
    "print(X_train_example.todense())\n",
    "\n"
   ]
  },
  {
   "cell_type": "code",
   "execution_count": 36,
   "metadata": {
    "collapsed": false
   },
   "outputs": [
    {
     "name": "stdout",
     "output_type": "stream",
     "text": [
      "[[0 0 0 1 0 0 1 0 1 0]\n",
      " [0 1 1 1 0 1 0 1 0 1]\n",
      " [0 0 0 1 0 0 0 0 0 1]]\n"
     ]
    }
   ],
   "source": [
    "reviews_test_example = [\"They like bananas\",\n",
    "                   \"We hate oranges bananas and apples\",\n",
    "                   \"We love bananas\"] #New word!\n",
    "\n",
    "X_test_example = vectorizer.transform(reviews_test_example)\n",
    "\n",
    "print(X_test_example.todense())"
   ]
  },
  {
   "cell_type": "markdown",
   "metadata": {},
   "source": [
    "We should acknowledge few facts. Firstly, CountVectorizer does not take order into account. Secondly, it ignores one-letter words (this can be changed during initialization). Finally, for test values, CountVectorizer ignores words which are not in it's dictionary."
   ]
  },
  {
   "cell_type": "markdown",
   "metadata": {},
   "source": [
    "## Exercise 2 \n",
    "a) Split dataset into training and test sets.     \n",
    "b) Transform reviews into vectors using CountVectorizer. "
   ]
  },
  {
   "cell_type": "code",
   "execution_count": 37,
   "metadata": {
    "collapsed": true
   },
   "outputs": [],
   "source": [
    "#a)\n",
    "train, test = train_test_split(baby_df, train_size=0.8, test_size=0.2, random_state=9)\n"
   ]
  },
  {
   "cell_type": "markdown",
   "metadata": {},
   "source": [
    "**Notes:** In the provided code I have splitted the dataset into train(80% of the dataset) and test(20% of the dataset) sets. To achieve this, I'm utilizing the `train_test_split` function. I've also defined a random state. The random state value maintains dataset consistency, producing the same dataset for a given integer value."
   ]
  },
  {
   "cell_type": "code",
   "execution_count": 38,
   "metadata": {
    "collapsed": true
   },
   "outputs": [],
   "source": [
    "#b)\n",
    "vectorizer = CountVectorizer()\n",
    "\n",
    "X = vectorizer.fit_transform(list(train[\"review\"]))\n",
    "y = train[\"rating\"]\n",
    "X_test = vectorizer.transform(list(test[\"review\"]))\n",
    "y_test = test[\"rating\"]"
   ]
  },
  {
   "cell_type": "markdown",
   "metadata": {},
   "source": [
    "**Notes:** the code I've provided is using the CountVectorizer from scikit-learn to convert a collection of text documents into a matrix of token counts. The `fit_transform` method is used to convert the training reviews in the \"review\" column of the train dataframe into a sparse matrix (X) of token counts. It both fits the vectorizer on the training data and transforms the data simultaneously. The numbers stored in this vector represent the frequency of each word in the given review."
   ]
  },
  {
   "cell_type": "markdown",
   "metadata": {},
   "source": [
    "## Exercise 3 \n",
    "a) Train LogisticRegression model on training data (reviews processed with CountVectorizer, ratings as they were).   \n",
    "b) Print 10 most positive and 10 most negative words."
   ]
  },
  {
   "cell_type": "code",
   "execution_count": 39,
   "metadata": {
    "collapsed": true
   },
   "outputs": [
    {
     "name": "stdout",
     "output_type": "stream",
     "text": [
      "Accuracy: 0.9315762645797727\n"
     ]
    },
    {
     "name": "stderr",
     "output_type": "stream",
     "text": [
      "/home/viktoryia/.local/lib/python3.11/site-packages/sklearn/linear_model/_logistic.py:460: ConvergenceWarning: lbfgs failed to converge (status=1):\n",
      "STOP: TOTAL NO. of ITERATIONS REACHED LIMIT.\n",
      "\n",
      "Increase the number of iterations (max_iter) or scale the data as shown in:\n",
      "    https://scikit-learn.org/stable/modules/preprocessing.html\n",
      "Please also refer to the documentation for alternative solver options:\n",
      "    https://scikit-learn.org/stable/modules/linear_model.html#logistic-regression\n",
      "  n_iter_i = _check_optimize_result(\n"
     ]
    }
   ],
   "source": [
    "#a)\n",
    "model = LogisticRegression()\n",
    "\n",
    "model.fit(X, y)\n",
    "\n",
    "y_pred = model.predict(X_test)\n",
    "\n",
    "accuracy = accuracy_score(y_test, y_pred)\n",
    "\n",
    "# Print the accuracy\n",
    "print(\"Accuracy:\", accuracy)"
   ]
  },
  {
   "cell_type": "markdown",
   "metadata": {},
   "source": [
    "**Notes:** I have constructed the model to identify positive and negative words. A rating of -1 signifies a predominantly negative sentiment in the review, while a rating of 1 indicates the opposite. \n",
    "\n",
    "The `fit` method trains the model using logistic regression to fit the appropriate regression curve. It takes an array of features as parameters and an array representing the response to these features.\n",
    "\n",
    "The `accuracy_score` function from the sklearn.metrics package computes the accuracy score, which measures the accuracy of a set of predicted labels compared to the true labels."
   ]
  },
  {
   "cell_type": "code",
   "execution_count": 40,
   "metadata": {
    "collapsed": true
   },
   "outputs": [
    {
     "name": "stdout",
     "output_type": "stream",
     "text": [
      "10 Most Positive Words:\n",
      "[('excellent', 2.448654775730521), ('awesome', 2.4020460062160773), ('pleased', 2.192401846019049), ('glad', 2.074902946167239), ('satisfied', 2.0739927240906417), ('worry', 2.041578997992476), ('complaint', 1.9980294189031529), ('amazing', 1.9600222528227504), ('perfect', 1.9398866893268911), ('highly', 1.899928055075565)]\n",
      "\n",
      "10 Most Negative Words:\n",
      "[('worst', -3.3301183535992642), ('disappointing', -2.958751689285848), ('concept', -2.7636649330955727), ('poorly', -2.7152341727328357), ('useless', -2.523090243980442), ('poor', -2.3067019542612552), ('returning', -2.3010930001342635), ('worthless', -2.2501826072779845), ('disappointed', -2.242357295229989), ('terrible', -2.2258507630486144)]\n"
     ]
    }
   ],
   "source": [
    "#b)\n",
    "\n",
    "feature_names = np.array(vectorizer.get_feature_names_out())\n",
    "\n",
    "# Get the coefficients from the trained model\n",
    "coefficients = model.coef_[0]\n",
    "\n",
    "# Create a dictionary mapping feature names to coefficients\n",
    "features_coefficients = dict(zip(feature_names, coefficients))\n",
    "\n",
    "print(\"10 Most Positive Words:\")\n",
    "print(sorted(features_coefficients.items(), key=lambda x: x[1], reverse=True)[:10])\n",
    "\n",
    "print(\"\\n10 Most Negative Words:\")\n",
    "print(sorted(features_coefficients.items(), key=lambda x: x[1])[:10])\n"
   ]
  },
  {
   "cell_type": "markdown",
   "metadata": {},
   "source": [
    "## Exercise 4 \n",
    "a) Predict the sentiment of test data reviews.   \n",
    "b) Predict the sentiment of test data reviews in terms of probability.   \n",
    "c) Find five most positive and most negative reviews.   \n",
    "d) Calculate the accuracy of predictions."
   ]
  },
  {
   "cell_type": "code",
   "execution_count": 41,
   "metadata": {
    "collapsed": true
   },
   "outputs": [
    {
     "name": "stdout",
     "output_type": "stream",
     "text": [
      "Review: This is a very cute toy but I soon realized that the battery compartment cannot be accessed and the batteries cannot be replaced I should have researched this item better\n",
      "Actual Rating: -1\n",
      "Predicted Sentiment: -1\n",
      "\n",
      "Review: This thing is well worth the price I paid my little guy loves it  He is 8 mos old and big for his age  When we first bought it we had the seat pulled up the highest it would go which worked for a while  Eventually DS got too big so we had to figure out a way to shorten the straps  For a while we did as someone else suggested and put tennis balls between the straps and the underside of the three spreaders  That worked  My husband didnt really like that solution though so he took a large carabiner and wrapped the main hanging strap between the adjuster and the spreaders around the carabiner a bunch of times  If we want to make the seat higher off the ground we just wrap the strap some more  As for the bumpers our guy is so active in this thing if it was in a regulation width doorway they would be getting used all the time we have a double wide doorway for him to play in\n",
      "Actual Rating: 1\n",
      "Predicted Sentiment: 1\n",
      "\n",
      "Review: I purchased this for my daughter when she was 7 months old primarily to use as a stationery walker  She absolutely loved the lights and music and I liked the fact that she not only could spin in a circle but actually WALK back and forth  When she began walking I removed the seat and she loved to run and stomp on the piano keys to activate the music  She uses it more than any toy she has  It is by far the BEST stationery walker on the market because it lasts from infancy well into toddlerhood\n",
      "Actual Rating: 1\n",
      "Predicted Sentiment: 1\n",
      "\n",
      "Review: When I saw these I was sooooo excited because I used the Playtex dropins system for my first and like the idea of the dropin but prefer the Breastflow nipple So this seemed like the best of both worlds When had my second son I decided to try the regular Breastflow bottles the dropin Breastflow wasnt out yet and it was okay My son liked the nipples but sometimes they leakednot all the time though so maybe user error So when I bought this system I had both this and the original systemwhich would be fine if the tops were interchangeable But since they arent and they look almost identical its hard to tell if you have the tops to the original Breastflow or the dropin Breastflow until you put it together and the dropin one wont close Also my husband and sitter say these bottles leak I exclusively breastfeed so I am not usually the one to give my son a bottle so this could also be user error I dont know All I know is we ended up going back to the Playtex dropin systemIf this system worked didnt leak it would have been greatthe marriage between to great products But since it didnt I only gave it two stars Maybe someone else could get it to work better than we did\n",
      "Actual Rating: -1\n",
      "Predicted Sentiment: -1\n",
      "\n",
      "Review: I got this to go along with my Joovy Caboose Stand On stroller and its great It was kind of hard to get on at first but once I got it on I havent had any issues with it Plenty of room for drinks phone keys etc Very happy with my purchase\n",
      "Actual Rating: 1\n",
      "Predicted Sentiment: 1\n",
      "\n"
     ]
    }
   ],
   "source": [
    "#a)\n",
    "\n",
    "# Predict sentiment on the test data\n",
    "y_pred = model.predict(X_test)\n",
    "\n",
    "# Print the predicted sentiment for the first few reviews\n",
    "for i in range(5):\n",
    "    print(\"Review:\", test[\"review\"].iloc[i])\n",
    "    print(\"Actual Rating:\", y_test.iloc[i])\n",
    "    print(\"Predicted Sentiment:\", y_pred[i])\n",
    "    print()\n"
   ]
  },
  {
   "cell_type": "code",
   "execution_count": 42,
   "metadata": {
    "collapsed": true
   },
   "outputs": [
    {
     "name": "stdout",
     "output_type": "stream",
     "text": [
      "Review: This is a very cute toy but I soon realized that the battery compartment cannot be accessed and the batteries cannot be replaced I should have researched this item better\n",
      "Actual Rating: -1\n",
      "Predicted Probabilities: [0.76581707 0.23418293]\n",
      "\n",
      "Review: This thing is well worth the price I paid my little guy loves it  He is 8 mos old and big for his age  When we first bought it we had the seat pulled up the highest it would go which worked for a while  Eventually DS got too big so we had to figure out a way to shorten the straps  For a while we did as someone else suggested and put tennis balls between the straps and the underside of the three spreaders  That worked  My husband didnt really like that solution though so he took a large carabiner and wrapped the main hanging strap between the adjuster and the spreaders around the carabiner a bunch of times  If we want to make the seat higher off the ground we just wrap the strap some more  As for the bumpers our guy is so active in this thing if it was in a regulation width doorway they would be getting used all the time we have a double wide doorway for him to play in\n",
      "Actual Rating: 1\n",
      "Predicted Probabilities: [0.00315318 0.99684682]\n",
      "\n",
      "Review: I purchased this for my daughter when she was 7 months old primarily to use as a stationery walker  She absolutely loved the lights and music and I liked the fact that she not only could spin in a circle but actually WALK back and forth  When she began walking I removed the seat and she loved to run and stomp on the piano keys to activate the music  She uses it more than any toy she has  It is by far the BEST stationery walker on the market because it lasts from infancy well into toddlerhood\n",
      "Actual Rating: 1\n",
      "Predicted Probabilities: [0.03501537 0.96498463]\n",
      "\n",
      "Review: When I saw these I was sooooo excited because I used the Playtex dropins system for my first and like the idea of the dropin but prefer the Breastflow nipple So this seemed like the best of both worlds When had my second son I decided to try the regular Breastflow bottles the dropin Breastflow wasnt out yet and it was okay My son liked the nipples but sometimes they leakednot all the time though so maybe user error So when I bought this system I had both this and the original systemwhich would be fine if the tops were interchangeable But since they arent and they look almost identical its hard to tell if you have the tops to the original Breastflow or the dropin Breastflow until you put it together and the dropin one wont close Also my husband and sitter say these bottles leak I exclusively breastfeed so I am not usually the one to give my son a bottle so this could also be user error I dont know All I know is we ended up going back to the Playtex dropin systemIf this system worked didnt leak it would have been greatthe marriage between to great products But since it didnt I only gave it two stars Maybe someone else could get it to work better than we did\n",
      "Actual Rating: -1\n",
      "Predicted Probabilities: [0.92886053 0.07113947]\n",
      "\n",
      "Review: I got this to go along with my Joovy Caboose Stand On stroller and its great It was kind of hard to get on at first but once I got it on I havent had any issues with it Plenty of room for drinks phone keys etc Very happy with my purchase\n",
      "Actual Rating: 1\n",
      "Predicted Probabilities: [6.33561067e-04 9.99366439e-01]\n",
      "\n"
     ]
    }
   ],
   "source": [
    "#b)\n",
    "y_proba = model.predict_proba(X_test)\n",
    "\n",
    "# Print the predicted probabilities for the first few reviews\n",
    "for i in range(5):\n",
    "    print(\"Review:\", test[\"review\"].iloc[i])\n",
    "    print(\"Actual Rating:\", y_test.iloc[i])\n",
    "    print(\"Predicted Probabilities:\", y_proba[i])\n",
    "    print()\n",
    "#hint: model.predict_proba()"
   ]
  },
  {
   "cell_type": "code",
   "execution_count": 43,
   "metadata": {},
   "outputs": [
    {
     "name": "stdout",
     "output_type": "stream",
     "text": [
      "Five Most Positive Reviews:\n",
      "Predicted Probability (Positive): 1.0\n",
      "Actual Rating: 1\n",
      "Review: Background Ive been using Grovia diapers for four years when I bought them they were called grobaby I have 6 shells and 12 inserts I purchased them for my oldest daughter and used them only part time for 25 years until she was potty trained She still needed pullups at night for a long time so I used these until she was ready to go without She was probably 30lbs when she stopped wearing them and they fit well They were stored for a year until I had my other daughter who is now 55 months and exclusively CDd I didnt use them for either girl until about a month old since I had tiny babiesPros Theyre mostly organic When they were new they were so soft and thick Now theyre definitely worn in and not so soft anymoreI love how easy they are to use As a first time CDer these were perfect Just snap the inserts in strap on baby Easy for pretty much anyone No stuffing unstuffing folding etcI love that Im able to reuse the shells a couple of times until theyre stinky or pooped in or too wet Some people didnt find this to be true but after four years of use I can confidently say its possible and happens often for meI find them easy to wash and love that the insert and shell are separate since I machine dry the inserts and line dry the shells which has helped to prolong their life Contrary to some reviews I dont find it difficult to clean poop from shells It just agitates out of the mesh in the washing machineOne size Although I didnt use these diapers for my tiny babies they are absolutely a birth to potty training diaper My oldest was 30lbs when she stopped wearing them almost four yrs old She has always been a small kid with no chunk though so Im not sure how long a thicker baby could wear them forDesigns and colours are cute nothing obnoxious and I like that the snaps match the shell colour Makes all those snaps less noticeable The snaps are very well made and strong not one has come loose or fallen offVersatile Not only can you use one shell multiple times before needing to wash it but you can also use the shells as covers for prefolds and other diapers needing covers I used prefolds quite a bit during my daughters first few months can get a more custom fit on tiny babies and I found them to be extra soft on that delicate new skin I didnt bother buying a bunch of sized covers for my prefolds and used the grovia shells instead They worked perfectlyGreat for travelshopping etc You can leave the house with an extra shell and a few inserts instead of 34 whole diapers since the shells can be reused Ive been out with only one shell before and I was glad I had these I quickly rinsed the poop out of the shell dried under the air drier in a public bathroom and snapped in a new insert in less than 5 minutesSoft shells soft elastic on the legs very few red marksFew blowouts or leaks Ive only experienced a few leaks and I think this is mainly because some inserts were too long for the shell in its smallest setting When the shell went up in size the issue was fixed Also the aplix tabs Velcro stuff makes these diapers super custom and snug great for putting a CD on a squirmy baby The aplix also happens to be a conCons the Velcro tabs This is probably due to the fact that theyre 4 years old but the tabs are starting to curl up and not stick so well This only began to happen but may have began sooner if I had CDd exclusively the first time I can switch them out for snaps so I may do that eventually since the rest of the shell is in perfect conditionHolds stink The inserts are still in good condition but Ive had problems with the nasty ammonia smell They really seem to hold the stink so stripping and a religious wash routine has been key to keep them fresh smelling Maybe this has been my own fault because I had no idea what I was doing in the beginning but who knowsI sun bleach them regularly so they still look good but they need to be machine dried for at least 20 minutes to stay softAbsorbency My biggest issue with these diapers is that they arent absorbent enough My kids are heavy wetters so Ive never been able to use these at night Even with the booster Also when wet the inserts ripple up or buckle and dont seem very comfortable My babys bum gets red marks on it if left on too long from the ripples of the top layer of the insert I use the bumgenius freetimes with microfiber inserts at night and have no issues Although Id rather have a natural fabric next to my daughters bum at night the microfiber wicks the moisture away so well and we dont have to double upConsistency On the smallest size some inserts are too long for the rise of the diaper and poke out which can cause leakage The inserts arent uniform in size which isnt a huge issue but some are longer or wider than others which is just a bit annoyingOn the bulky side My bumgenius freetimes are less bulky but not by much This doesnt bother me too much since it makes perfect sense that a cloth diaper be bulkier than an uber trim disposableVerdict love them enough to buy more but would probably get the snaps next time I love that Velcro is easier to use but the diapers would last much longer with snaps Im also curious as to how the new grovias compare to the old ones I very much recommend these\n",
      "\n",
      "Predicted Probability (Positive): 1.0\n",
      "Actual Rating: 1\n",
      "Review: This review is going to compare 3 JuJuBe bags  Im writing a lot because I wish I had this info before I started shopping for a diaper bag  I am a first time mom so I am probably packing different than a mom thats been around the block  Also we are cloth diapering but not 100 of the time  We use the disposable biodegradable inserts for the cloth covers when we want to pack light  and those things take up less room than traditional disposables  But I wanted a bag that gave me options for either type of diaper  Here is what I found  I hope reading this long post will help you save some time and return shipping fees while shoppingI already had the JuJuBe BFF and Be Prepared before I bought the Be Right Back backpack  I bought them at a different store one with an amazing return policy so I left the tags on and debated the bags for a long time  I packed them and repacked them so many times and this is what I came up with  The BFF is too small and the Be Prepared is too big  Both are GREAT bags  This company really makes quality products with excellent organization  Let me tell you Im a bit of a snob when it comes to quality  I will not deal with poorly made stuff breaking down on me  Straight to the donation station or trash if something sucks  This company does not suckthey manufacture very well made products with very good material zippers snaps magnets etc  Go to their website to learn about the fabric treatment process and ease of care  My friends that bought the cheapo bags are now drooling over the JuJuBe quality  So I loved both bags and I really wanted to keep them  But I couldnt get past the BFF just being a little too small and Id have to have a second bag with meand the Be Prepared is super huge and I felt like I was carrying a suitcaseBFF  This bag is really awesome  The organization is surprisingly smart  The inside pockets look small but they hold tons  You can fit a full size wipes pack in any of the four large interior pockets but you cant fill all pockets that much at the same time  The smaller back interior pockets with the zippers are smaller than the open pockets but still hold quite a lot of little stuff like bibs socks Boogie Wipes or whatever kind of little stuff you carry around  The front interior zipper pocket is long and shallow  I kept putting my nursing cover in that pocketanything bigger would bulge into the front 34mommy pocket34 and make that space smaller  The outside pockets are insulated and hold a baby bottle or water bottleI have a Kleen Kanteen 27 or 28 oz bottle and it did fit in that pocket but it stuck out a lot because its really tallI didnt like that if I was keeping the BFF bag Id have to get smaller water bottle and I didnt like that because I drink tons of water  If you load up all the inside pockets you dont have a whole lot of room left for the diapers and blankets etc  The main compartment leaves much to be desired as far as spaceif youre running to the coffee shop with your girlfriends and going home youll be finebut you cannot pack for a whole day in here  The 34mommy pocket34 on this bag is well organized but I found it a little too small  I needed to fit all of my personal items in there because there was no room in the main part of the bag  I dont carry that many things for myself a wallet coin purse pen chap stick tiny hand lotion cell phone eye drops and extra pair of contact lenses  I could not fit all that in the mommy pocket even when I put my cell phone in the separate little cell phone pocket  My take on this bag Its wonderful if you pack really light  I was not even trying to get cloth diapers in there and it was still tight  If you dont need burp clothes and a blanket and an extra outfits youd be finemaybe a mom with one toddler that is past the bottle stage  Im bummed that it didnt work because I really wanted to keep it  It really is a cute bagBE PREPARED This bag is the mother ship  Its very much like the BFF but way bigger  I was thinking of using it for our overnight or weekend bagif i were to pack this one like the babys suitcase and use the Be Right Back backpack like normal when were out of town Id have everything I needed in those two bags for a weekend  However for normal daily use the Be Prepare is a mammoth and I dont want to lug it around with me while Im trying to hold my babyit would fit all my cloth diapers and the kitchen sinkbut its over kill for me with one infant  I might keep this wonderful big bag anyway for weekend trips because we do a lot of those and I think its cool that they matchbaby luggage BE RIGHT BACK  This backpack is super cool  It is very different from the other two bags  Its almost perfectly in the middle of the 2 other sized bags  It has way less of the small inside pockets  Really only 2 big pockets on inside and 2 on outside plus mommy pocket and 2 outside bottle pockets  I do not mind at all that it has less pockets because I keep most of my really tiny stuff in the JuJuBe accessory bags  If you have a small bagpouch and dont know where to put itstick it in the mesh zipper pouch  This bag is comfortable to wear  definitely more comfortable than the BBF backpack straps even though I loaded it with more items I think that is because the bag is longer so it sits on your back differently  I have a bad back from a car accident so comfort is something I really pay attention to  This bag is easy to get in and out of  It opens flat like a suitcase so no digging for stuff  Its shaped like a traditional backpack but I dont feel like Im back in college when wearing it because the prints get big style pointsTo give you an idea of the space here is how I pack it up  I have my breast feeding cover and 6 disposable breast pads in the front pocket with room to spare  Mommy pocket fits all my personal items that I listed above with room to spare  Side bottle pockets are deeper and my tall water bottle that was too big for BFF fits great in this bag  I have easy access burp clothes in the other bottle pocket because I am still breast feeding large baby bottle or sippy cup would fit easily  The pocket on the top by the grab handle is super useful  Right now I am using it for all my different kinds of small wipes packs face wipes paci wipes anti bac wipes hand sanitizer gel etc they all fit  You could use that spot for so many different things that you want easy access to  The side zipper compartment for the changing pad is very smart  Its so out of the way  I have the pad that came with it in there now and a pack of sanitizing wipes for public bathroom changing table  Ill need a bigger pad when baby grows but you could fit a massive pad in thereor magazines or change of clothes or blanket or iPad or anything flat and you really cant even tell that you filled it upits very comfortable against your back while you wear the bag  Inside the bag in the zipper mesh pocket I have a large receiving blanket two changes of 03 month clothes 2 socks and 2 bibs  In the back mesh pocket I have a Be Mine packed as a first aid kit and a similar sized bag with a little momfreshup kit I put together for when I have baby puke in my hair and I look like a messkinda a get it together and look normal kit  I never could have fit that kit in the BFF and now that I have it I think its important to have somethings for yourself so you dont feel yucky  Those items never leave the bag without getting restockedAside from what I just listed in the main inside compartment I can fit 2 large burp cloths and 2 Be Quick bags one filled with baby items the other filled with my disposable diaper inserts for when I dont want to bring cloth diapers a full Fuel Cell cooler and babys favorite lovey  When I do want to carry my cloth diapers I ditch the fuel cell and the Be Quick with the disposables in it  I can then fit my cloth diaper pouch the pouch I use is big and could fit 4 full size AIO diapers 8 cloth wipes wipe spray a thin changing pad and wet bag  so it takes up a lot of spacethen I can still fit the Be Quick with the baby items the burp cloths the lovey a little bag with teethers and my Rockn Baby slingSo the Be Right Back fits tons  And it works wonderfully if you just put a few things in there  Im sure Ill be packing differently as my babys needs change  But for now with an infant this bag has got me covered for all day in cloth diapers or all day in disposables with a big packed lunch for mom and dad  It also still works great to pack it light for a shorter tripI just havent gotten to where I can pack light all the time personally  The bag is very versatile as far as what you can take with you  Where it is not versatile is carry style  Its a backpackif you dont like backpacks keep shoppingAll the JuJuBe accessories are made to fit into the main bags  I highly recommend getting the accessory bags so you can organize yourself and know that your stuff will always fit in your main bag  Using the smaller bags to organize makes it SO very easy to switch from bag to bag without leaving anything behind on accident  I love the organization  There are a few things that are kinda vanishing from the companies websiteI think they are revamping a few designs because they are running out of some of their most popular accessoriesI expect to see them come back with a newly added pocket or zipper or somethingJuJuBe is good about having lots of print selections to choose from  I do find a lot of the prints too feminine for my taste which is why I love the Royal Envy printhonestly if that Be Prepared bag I have was a different print Id just return it and buy that bag again later when I really need itbut Royal Envy is discontinued and I really dont want to part with it knowing it wont be available later  If you are new to this company know thisonce you pick out your main bag if you want to load up on accessories that match you better not wait too long  I cant believe how fast they sell out  then the print is discontinued and you are left to sadly troll Ebay looking for the pieces you want  Just buy them when you get the main bag  They are worth it and everything from this company has great resalethere are FB groups devoted to buy sell trade JuJuBe stuffSide note This bag is has a very sporty look  Great for normal days running around  I also bought a Nest Dexter diaper bag for dressy occasions  That bag is very different from this one and its awesome too but I havent reviewed it  And that bag fits all the JuJuBe accessory bags that I love  I mentioned my husband as a mens diaper backpack  Its the Quicksilver Daddy Day Bag  Great man bagI was going to proof read and spell check but after writing all this Im over it  Sorry for any typos  Really hope this helps you\n",
      "\n",
      "Predicted Probability (Positive): 1.0\n",
      "Actual Rating: 1\n",
      "Review: Ill start with the seats they have completely changed how the seats are designed They are far more supportive and have these really nice cushionlike supports all over them Theres even extra padding for a headrest They sit at a much higher angle than previous models There is even a lumbar support  The recline feature has also been revamped and is much simpler No more buckling and unbuckling The seat does not go completely flat but it goes flat enough even for an infant Because of the change of design in the footrest area  there is actually more leg room The 5 point harness is padded where it needs to be and easily adjustable Something I especially like is theyve added a little buckle at the top where the harness fastens to seat allowing you to move it higher or lower depending on the size of the childThe canopies these things are HUGE The best Ive come across Also redesigned in the 2011 model They are now ratcheting and seem to go even further forward The peekaboo window on the top now covers the entire top of the canopy  allowing you to see the whole child The peekaboo window cover rolls up and tucks into a handy pocket on top of the canopy Another great new feature is 2 velcro straps that have been added to the canopy  these allow you to pull up the excess material when the canopy is all the way back  giving an older child more head roomThe ride It is so smooth Its like pushing air  seriously And the shocks make it just as nice for the passengers to ride in as it is for the parents to push The wheels are large and the rims are now made of a heavy duty plastic instead of bendable metal and my husband says they look much cooler Another feature I like is that they have angle the air valves so its really easy to attach a pump to put air in if necessary Front wheel still locks the same way or swivels And the back wheels easily pop off for flatter storage The footbrake is easy to use  a simple bar  you either push down or lift upTransporting the stroller The fold on the BOB is so simple and easy One feature that they changed is the leash It used to be this long yellow thing that just got in the way Now its short attached to the handle bar and doubles as a snap to lock the stroller closed when folded No more unexpected stroller openings as you are trying to load it in  a great new feature Opening the stroller is still the same shake it out  nice and easy It weighs around 3233 pounds I dont even notice the weight really because Im used to my tandem stroller that weighed 46 pounds And lets face it  unless its an umbrella stroller  all doubles have some weight to themStorage the storage basket has also been redesigned Instead of a simple square  they have added raised sides to it  allowing the basket to be deeper and packed higher Also with the leash thing no longer connected to the brake  I can easily toss my diaper bag inOverall I love the new design Theyve changed the fabric and it is much nicer It also appears to repel water  moisture well I think BOB did a good job of addressing issues with their prior models and making a great user friendly product My only complaint I wish a belly barsnack tray was includedAbout me Im a mom of 2 kids  a 22 month old toddler and an 8 month old baby My kids love this stroller They look so comfortable and happy riding in it I carefully researched my purchase before shelling out this amount of money I compared everything from the Baby Trend Jogger the Bumbleride Indie Twin Mountain Buggy Baby Jogger Citi MiniElite And overall I really felt I got the best deal for the money with the BOB They offer a 5 year warranty on the frame of the stroller which I think says a lot about their confidence in their product Everything else all the other parts and fabric and warrantied for a year I actually purchased an earlier model BOB a little before this one I couldnt stand it And my husband didnt like it either The only thing we could say was that it was easy to push They have made such a HUGE improvement with the redesign of the 2011 model Im so glad I gave the BOB a second look Im so happy with my purchase and feel my money has been very well spent\n",
      "\n",
      "Predicted Probability (Positive): 1.0\n",
      "Actual Rating: 1\n",
      "Review: After reading many online reviews asking other babywearers and trying four other baby carriers It is my opinion that the Ergo is the best carrier for my baby and for me  I will tell you what I love about the Ergo style in general and then what I like specifically about the Ergo Sport followed by the things I dont love about the carrier  Finally I will talk about how I think my 7monthold daughter feels about the ErgoFirst what I like about the Ergo in general I like that the Ergo baby carrier puts most of the babys weight on your hips making it much more comfortable to wear for long periods of time  It also has very nice padded shoulder straps  Next I love that my baby is in a healthy seated positionand as far as I can observe she is also more comfortable I have read that carriers offering the front carry position this one doesnt are not good for your baby because instead of being seated they are just kind of hanging from their crotch and that it puts too much pressure on their spine and hips  VersatilityI really appreciate that the Ergo offers three different carry positions  Back Front and Hip your baby faces in toward you in each of these positions  A good carrier should carry your baby like you wouldclose and high  This carrier does that  Also the Ergo has a sleep hood which I can pull over my sleeping baby to keep her head from bouncing around  It can also provide privacy for your baby to nurse in the carrier if you choose  Lastly because of how it is designed you can carry heavier children in it its rated for up to forty pounds so you can use the same carrier for your baby or your toddler  The Ergo is to be used only when a child can support his own head well but there is an infant insert you can buy to use before that  I have not comment on the insert as my daughter was 6 months when we got it so we did no purchase the insertI cannot compare the Ergo Sport to the original Ergo because I have not tried the original but these are the reasons I chose the Sport  First it claims to be made of a more breathable material for more active and outdoor usesummer is coming and my baby gets grouchy when shes hot  Second  The straps are longer and I want a carrier that will fit my husband who is a bigger guy as well as myself  I have not yet tested the breathability in hot weather and sunshine but the carrier is VERY comfortable and seems to be superdurable and wellmade  Im pleased with my choiceThese are the things I dont really love about this carrier  It does take some practice to become good at getting your baby into and out of it  The back carry position has been particularly tricky for me but we are improving  Kind of along the same lines some of the positions seem to put the straps and buckles kind of out of reach so that I have to really strain to get everything all strapped and adjusted  I know Im not as flexible as I used to be but at thirtytwo it really seems like it shouldnt be so tough  Im confident that over time I will find what works best for my baby and for me in getting her in and out of the different positions  Those are my only complaints but Im willing to live with them because I dont believe that the carrier could be made easier to use without making it less comfortable and safe  Also I know that some will object to the price  I personally think that a good baby carrier is something worth investing in and I feel like the Ergos price is justified by its high quality comfort and safetyFinally if my baby could tell you what she thinks about the Ergo Sport I think she would say something like this  I like that I am more comfortable for longer and that my mommy is more comfortable so she lets me stay in it for longer  I like that I can nurse while Mom is making dinner  I do wish that the Ergo would let me face out instead of always facing in  I am not yet tall enough to really see well over the straps of the Ergo and I like to be able to look straight forward see everthing grab everything and kick my legs  I think as I get taller I will like it moreThe Bottom Line  Most baby wearing enthusiasts will tell you that they use different slings wraps and carriers for different purposes such as slings or wraps like Hot Slings ring slings or the Moby Wrap for newborns and more structured carriers like the Ergo for older babies longer outings or handsfree housework  The Ergo offers quality comfort and safety for you and your little one at what I consider a fair price  I would definitely say its a good choice in baby carriers\n",
      "\n",
      "Predicted Probability (Positive): 1.0\n",
      "Actual Rating: 1\n",
      "Review: A little background on me I have three kids 5 3 and 5 mo at the time of the purchase I bought this seat for my rearfacing 3 year old  I have done a lot of research over the last 5 years on carseats  Im a critically minded mechanical engineer and Im very aware of carseat safety aspiring to find time to be CPS Tech  We were using a Triumph Advance prior to this seat which has as many safety features than the original Britax Marathon line but when this one came out I knew it was time for an upgrade  The other seats I was looking to get were the Graco Nautilus or the Recaro ProsportThe big safety reasons I bought it are1 The steel bars  Not that important rearfacing but a big deal forward facing2 The tether  One of the few carseats that tether rearfacing and having two points of attachment is huge in stopping the rotation of the carseat during a side impact crash for both rf and ff3 The headwings  Not that important safetywise with a rearfacing baby but with an older taller child it seems necessary  Plus I wanted to stop the headflop of my sleeping kidsBut when I got it I was blown away with how great some of the other feature on this seat areThe sliding bars on the latch is so easy to get a super tight install  Mainly because you can tighten each side separately and all of the force you use in pulling goes directly into tightening not into the friction of sliding the belt across the seat  Plus you can put all of your weight on the side that you want to tighten instead of having to get the whole carseat pressed into the seat at once  I already had a seat with adjustable strap height so that wasnt new to me but still I use it all the time  Plus the ease of switching rear to forward facing has been specular  I wasnt expecting to use it in its many configurations but whenever I needed to install a seat for a different kid or a different car I always picked this seat  It was the easiest to install and fit every kid Ive ridden with that needs a carseatNo more head flop  It actually seems the recline angle of seat does most of the work in supporting the head even forwardfacing than the actual headrest do  The tether is also great for adjusting a rearfacing seat to just the angle you want without towels or pool noodlesThe tightening strap is easy to get to and easy to slide  The release button is also easy to get to easy to slide and is covered with fabric so that kids sticky fingers wont gunk it up loosen it while driving  The instructions are far more detailed than most car seats  The labeling is fabulous and there is even a quick guide under the back of the back support if you need to install it with a belt and need a refresherSome people complain that the top buckle easy for a child to undo  It could be a problem if you have a strong toddler or a strongwilled older child  However its not been a problem for me My oldest can clip hers on her Recaro but its the same clip and unclip it by herself saving me some time  My 3 year old can also clip his but even at 3 now almost 4 he still cant unclip it  Its design is also easier for an adult to do onehanded or at all than the other seats Ive usedI was worried the velcro on the strapsseat would scratch my child but theyre out of the way from scratching anythingIt does have a surprisingly low profile and width and I could get in the driver side of my friends small Saturn rfing next to another rearfacing seat  In my Taurus I was able to use two of these seat and booster in the middle I suspect that if I had a third NextGen Britax I could seat all three acrossMy complaints although minorIts a bit tricker to get a tight install with the belt  Once I figured out my method it was much easier  but only if I have a door next to the seat  My method is clip it take the slack out by pulling on the shoulder strap part and then yank the whole seat away from the buckle and repeat  It does get it pretty tight  If youre installing it on a side with no door its a lot harder to get really tightThe headwings are just EPS covered in fabric no backing  Not really a big deal but from a consumer standpoint it looks cheap  Plus they will likely break if abused but theres no way it could be done while the child is strapped in  Some thin plastic on the back might give a better impression of quality and possibly a little more resilience to abuseIve read several of the other comments on this seat and Im quite surprised by some of the negative ones  I think that once they shop around a bit and get some experience with other seats theyll be back  The weight is as expected  Its a sturdy seat w steel bars but its not like its made of lead Its not going to be light like an infant seat and I think many people have too high of expectations when transitioning to a convertible I havent found carrying it from car to car a problem and Im very petiteOverall Im so glad I bought this seat  Its great for ERFing hes almost 4  I even bought a second one a few weeks after this purchase at a higher sale price for my 5 month old  Ive also accidentally convinced 3 other people to buy at least one of a next gen Britax once they saw how easy it was to install andor its low profile  I did end up getting the Recaro Prosport for my eldest as she would only get a few years out of this seat But I think in retrospect it would have been fine to buy this for her and wait a fews years and just buy a booster better suited for an older child instead of going for a harnessto booster seat  Also when I compared it to the Graco Nautilus my mom bought for my eldest this one hands down  If you were looking for a lowprofile easy to use carseat to take your child from 07 this is a great choice\n",
      "\n"
     ]
    }
   ],
   "source": [
    "most_positive_indices = np.argsort(y_proba[:, 1])[::-1][:5]\n",
    "\n",
    "print(\"Five Most Positive Reviews:\")\n",
    "for index in most_positive_indices:\n",
    "    print(\"Predicted Probability (Positive):\", y_proba[index, 1])\n",
    "    print(\"Actual Rating:\", y_test.iloc[index])\n",
    "    print(\"Review:\", test[\"review\"].iloc[index])\n",
    "    print()"
   ]
  },
  {
   "cell_type": "code",
   "execution_count": 44,
   "metadata": {
    "collapsed": true
   },
   "outputs": [
    {
     "name": "stdout",
     "output_type": "stream",
     "text": [
      "Five Most Negative Reviews:\n",
      "Predicted Probability (Negative): 1.0\n",
      "Actual Rating: -1\n",
      "Review: Please see my email to the companyHelloI am writing to voice my familys anger over your unsafe cheap cosleeper  If you recall I had a problem with my newly purchased cosleeper back in May which I immediately called about and was told to send the frame back  At that time I asked to speak to a supervisor about the situation and was told that I would be contacted shortly  However Mayra was the only one who I was able to speak with after numerous attempts to be put in contact with the supervisor  After a huge delay due to mistakes on your end I finally got the cosleeper sent back to the company after speaking with Veronica on June 13thAt this time June 13th I asked to speak with the manager of the company and Veronica told me that Sharon was not in at the time but would be in later that day  I obviously never heard from Sharon or anyone else from this company for that matter from that point on  I was inquiring to speak with the manager after voicing my concern over just repairing the frame instead of receiving a new productWe received the frame shipped back to us without so much as an email or follow up from Arms Reach  The entire process to get our frame back took over a month from the time I first contacted customer service  I had initially asked for a replacement frame since our daughter had been used to sleeping in it by this time and I did not want to completely disrupt her sleep pattern while waiting for the repair which it did  The frame came back to us in a box with one sheet of paper which did nothing to describe what was wrong with the frame or what was done to repair itI use the term repair in disgust since it clearly was never properly repaired  We assembled the cosleeper again according to exact instructions in the manual  Two nights later I noticed that now if I barely touched the rail of the cosleeper nearest our bed that it would collapse and had to be pulled back up into the lock position  Obviously we felt very uncomfortable using the cosleeper but after having dealt with your awful lack of customer service the first time around I did not waste my time trying to reach Mayra Veronica or Sharon againTo avoid the problem of the collapsing side rail we have been careful to not touch or even brush against it for fear that it would collapse with our daughter in it  Without touching it it does stay up  Tonight July 23rd however I laid my daughter down from the other side of the cosleeper all together and the other side rail immediately collapsed when I laid her in the cosleeper  She was in it  I had not put any pressure on the side rail it just collapsed  After taking her out waking her up in the process and moving her elsewhere to be put to sleep for the night I attempted to relock the side rail  It took several tries and does not seem secure at allI can not believe that your remedy to fix the situation of a faulty cosleeper was to send our same frame back to us repaired which still breaks and is worse off than when I first contacted you  I am so turned off by your company not only because of the safety hazards associated with putting a baby in this piece of crap product that you make but the complete lack of care from the supervisor or manager You would think that someone would be concerned that their products for babies are faulty and unsafe  These are babies we are talking about here  Not pets not adultsinnocent babies who need the safest place possible to sleep  Your company disgusts me and I am honestly surprised that you are still around  Not for long I am sure\n",
      "\n",
      "Predicted Probability (Negative): 0.9999999999999738\n",
      "Actual Rating: -1\n",
      "Review: PLEASE HEED THE OTHER REVIEWERS WARNINGS ON THIS  I am not one to write a review but the Evenflo high chair is so dangerous and the company so negligent that I had to let others know  We have the Evenflo Majestic Highchair which has recently finally been recalled  We had issues with the screws popping out of the recliner section of the chair when we used it with our then 4 month old I called Evenflo last March they sent me a repair kit with longer screws still didnt work Customer service had told me then this was not a common problem and that even with a screw missing highchair was safe to use not dangerous Im so furious they lied about my sons safety Our longer screws did pop out a few times we put them back in I called back and since the highchair still held up fine and they told me it was okay to use we wrongly trusted Evenflo and continued to use the highchair my husband had checked it and felt is was okay I just called in response to last weeks recall and they said they do have a record of me calling sorry that happened and would I like a new set of screws They wont give a refund and the new screws which they will ship out in approx 2 weeks and recommend we dont use the highchair in the meantime supposedly work better than the original replacements I am returning this to the store and if they wont accept the return Ill have to eat the cost and throw out the chair  Weve had so many of our kids things recalled its infuriating that these companies only have to send screws that may or may not work and before their belated recalls our kids are at risk and to boot this time they assured me there was no danger Please do not buy Evenflo and know that you cant trust the info you receive from customer serviceIm am so thankful my son wasnt injured Weve had other issues with most of our Evenflo products not working correctly but all involving bells and whistles not structual I just cant understand how these companies put more money into their impossible to open packaging than into their product safety\n",
      "\n",
      "Predicted Probability (Negative): 0.9999999999997929\n",
      "Actual Rating: -1\n",
      "Review: This is my second video monitoring system the first being a Summer Infant Day and Night that we purchased in 2010 when our first child was born  The Summer Infant model was and still is excellent  The picture and sound quality are both great and reliable  But as luck has it that model is not expandable and were expecting our second child so we decided to switch to a model that supported multiple cameras  In terms of rave reviews and features I should have gone with one of the Motorola models but I was amazed by the bundle of features for the price with VTech and took the bait  We bought this system and one extra camera and went to work setting them up at home in the nursery and in the toddlers roomFirst the picture quality is NOT GOOD  Compared to the Summer Infant its a joke especially the night vision  Luckily my son has dark hair or Id never be able to GUESS where he was in the picture  If you need crisp images do not get this model  Were making do so far as we can mostly tell where the toddler is in the picture but its terribleSecond the sound quality and reliability is NOT GOOD  The Summer Infant has crisp continuous sound  The VTech sound is tinny at best and interference interrupts it every couple of seconds in no particular pattern  Moreover the sound seems to turn itself OFF all the time  Ive been able to jog it back on by using the Talk feature to say something over the intercom to my son and then the sound kicks back on awaiting his response  Again were using it for him but its terribleWe have not used this yet for a newborn and its quite likely that we wont  We still have our old Summer Infant and unless the sound is continuous and the closeup picture is much better the newborn camera will only be pointed at a crib whereas the toddler camera is mounted up high for a poor quality view of the whole room well probably use the Summer Infant for the newborn as Im not messing around with an unreliable system for a new baby  If we end up going that route Ill mount the extra VTech camera in toddlers room for added viewer angles as we cant see the whole room with one camera and Ill just tote around both parent units one for each childIf I had known I was going to have to do that Id just have purchased another Summer Infant Day and NightMorale of the story if I had this to do over I wouldnt have made this choice  The product is trash compared to Motorola or Summer Infant  However it does do the job just badly and it has a bundle of nice features temperature monitoring lullabies that my son hates zoom but NOT pan and the zoom just pixellates the already terrible picture quality and multiple camera support  VTech seemed to try really hard to throw a lot into this for a low price but forgot the two most important features sound qualityreliability and picture qualitySadly one and a half thumbs downEDIT June 2013  Well my dissatisfaction turned quickly into disgust  Other reviewers have lamented the nonexistent customer service at Vtech HEED THEM  Our second wasnt born until April and has been in our room so we havent really needed to USE this system until very recently  We had set it up and ensured the camera angles were appropriate prior to her birth but hadnt used the system  Even so somehow this camera inexplicably broke  The transformer the boxpart of the plug has evidently blown instead of having subpar video and audio it now has ZERO video and audio  The parent unit doesnt read the camera at all instead eternally waiting for connection  And the camera unit makes a loud popping noise from the camera itself every three seconds if it is powered on  It cannot be powered off anymore without unplugging it  the power button now only works one way to turn on  So to recap with LESS THAN A DAY OF USE the camera unit does not transmit video does not transmit audio does not turn off and makes loud noises  In other words this is worse than zero stars  This is negative stars  They should be paying US for housing these annoying productsBUT IT GETS BETTER read worse  I contacted VTech stumbled through their ridiculous online contact template that doesnt seem to even anticipate receiving product failure communications and filed my concern asking for a refund a replacement an extra part the camera itself doesnt need replacing only the power cordwith a new power cord it would be back to functioning as a less than mediocre piece of 1990s video equipment but it would at least WORK  VTechs website assured me I would be contacted within two daysThat was almost four weeks ago  Thats right  Four weeks of radio silence  Im about to contact them for the THIRD time but this company goes beyond all other bad reviews Ive ever read ever  Its not that they refuse to accept responsibility dont warrant the product charge the customer shipping  They might do all those things  But who knows  The company seems to collectively hide under the table whenever the phone rings and without being able to reach them the consumer is completely up a creekIve written many reviews  Ive NEVER had to write one like thisBuyer beware\n",
      "\n",
      "Predicted Probability (Negative): 0.9999999999991855\n",
      "Actual Rating: -1\n",
      "Review: This is the first review I have ever written out of the many things I have purchased through amazon  I write this because I feel very strongly about the poor quality levana products and feel people should have a heads up about what they are gettingWhen my baby was first born I originally bought the basic levana babyview 20 and it worked well until right after 1 year  The antennae broke off exposing the wire underneath it the kickstand on the monitor broke offso I contacted levana customer service  I couldnt get through to them via phone so I emailed  Didnt hear back for a few weeks then emailed them again  They pretty much told me that because it had been longer than a year it was a too bad so sad situation  The monitor seemed to function for several months and I decided instead of buying a new one I would try to wait it out  Then shortly thereafter it was making a very loud noise that I couldnt sleep with it on  The monitor was not mishandled or droppedjust generally used and it still fell apart so fastAfter looking and looking for a new monitor I kept coming back to this levana item because of the lower price with all the bells and whistles talk talk to baby temperature etc  Originally when I first started looking I remember there being a lot more reviews with half negative half positive ones for this item but after about a week all the reviews were wiped out and there were only 4 reviews with 5 stars  I fooled myself into thinking maybe this was a much better product and for the price and free shipping I decided on itIT IS A TERRIBLE MONITOR  IF YOU WANT TO SEE FROZEN IMAGES OF YOUR BABY AND NOT LIVE VIDEO DO NOT GET THIS MONITOR  The battery life is terrible the image quality is poor blue blurry images The talk to baby function makes your voice sound like a monster  I dont even use it because is TERRIFIES my baby  THe only nice thing about it is tells you the temperature of the roomI am in the process of contacting CSN to see if I can return this  I wont be purchasing levana again  Maybe I got a bad monitor or maybe they just put our poor products assembled in China You get what you pay for and if you think this is a good deal think againAlso shady that Amazon removes reviews at their lesiure  Who knows they might not like this honest review and not even post it in which case I wont purchase anything from amazon again\n",
      "\n",
      "Predicted Probability (Negative): 0.9999999999971706\n",
      "Actual Rating: -1\n",
      "Review: We purchased OXO Tot Sprout Chair a few weeks ago We were really excited about the purchase and although it was a splurge 250 for a high chair is not cheap we thought we would get years of use out of it for our first baby and hopefully for any future babies Unfortunately I dont think this will be the case The tray of the chair is already discolored I could not believe it I ALWAYS wash the tray immediately after a feeding with hot soapy water as instructed by manufacturer My little guy just started solids he only eats twice a day and I spoon feed him not as messy as if he were feeding himself This means the chair has literally been used less than 25 times Its absolutely ridiculous that the tray is discolored already and wasnt able to hold up to two weeks of use This is obviously some sort of defect with the tray I have contacted the manufacturer and will update my review once I receive more information from them I would hope they would replace the tray  I would be very hesitant to spend this kind of money on a high chair that is such terrible quality I regret my purchase and wish I would have bought the Stokke Tripp TrappUPDATE I contacted customer service about the discoloration and their response was to continue washing it and over time it should fade I couldnt believe how ridiculous and unhelpful this response was I was able to get some of the discoloration out using baking soda But of course I dont have time to do this regularly I have a new problem now the inside of the tray seems to be taking on water and I am unable to  get it out I am disgusted at the idea of old stale water sitting inside the tray my baby eats off I plan to contact customer service again but based on their unhelpful response before I am not hopeful I am definitely NOT SATISFIED with my purchaseUpdate 52012 I contacted customer service for the 2nd time and had a much better experience They expressed shipped a new tray to me which I really appreciated Unfortunately I continue to have the same problems with the new tray I dont mind the staining but the water inside the tray really disgusts me I worry there is mold inside of the tray I am still unsatistufied with this purchase\n",
      "\n"
     ]
    }
   ],
   "source": [
    "\n",
    "most_negative_indices = np.argsort(y_proba[:, 0])[::-1][:5]\n",
    "\n",
    "\n",
    "print(\"Five Most Negative Reviews:\")\n",
    "for index in most_negative_indices:\n",
    "    print(\"Predicted Probability (Negative):\", y_proba[index, 0])\n",
    "    print(\"Actual Rating:\", y_test.iloc[index])\n",
    "    print(\"Review:\", test[\"review\"].iloc[index])\n",
    "    print()\n"
   ]
  },
  {
   "cell_type": "code",
   "execution_count": 45,
   "metadata": {
    "collapsed": true
   },
   "outputs": [
    {
     "name": "stdout",
     "output_type": "stream",
     "text": [
      "Accuracy: 0.9315762645797727\n"
     ]
    }
   ],
   "source": [
    "#d) \n",
    "accuracy = accuracy_score(y_test, y_pred)\n",
    "\n",
    "# Print the accuracy\n",
    "print(\"Accuracy:\", accuracy)"
   ]
  },
  {
   "cell_type": "markdown",
   "metadata": {},
   "source": [
    "## Exercise 5\n",
    "In this exercise we will limit the dictionary of CountVectorizer to the set of significant words, defined below.\n",
    "\n",
    "\n",
    "a) Redo exercises 2-5 using limited dictionary.   \n",
    "b) Check the impact of all the words from the dictionary.   \n",
    "c) Compare accuracy of predictions and the time of evaluation."
   ]
  },
  {
   "cell_type": "code",
   "execution_count": 46,
   "metadata": {
    "collapsed": true
   },
   "outputs": [],
   "source": [
    "significant_words = ['love','great','easy','old','little','perfect','loves','well','able','car','broke','less','even','waste','disappointed','work','product','money','would','return']"
   ]
  },
  {
   "cell_type": "code",
   "execution_count": 47,
   "metadata": {
    "collapsed": true
   },
   "outputs": [],
   "source": [
    "#a)\n",
    "vectorizer_limited = CountVectorizer(vocabulary=significant_words)\n",
    "\n",
    "X_limited = vectorizer_limited.fit_transform(list(train[\"review\"]))\n",
    "y_limited = train[\"rating\"]\n",
    "X_test_limited = vectorizer_limited.transform(list(test[\"review\"]))\n",
    "y_test_limited = test[\"rating\"]"
   ]
  },
  {
   "cell_type": "code",
   "execution_count": 48,
   "metadata": {},
   "outputs": [
    {
     "name": "stdout",
     "output_type": "stream",
     "text": [
      "Accuracy: 0.8666906539534047\n"
     ]
    }
   ],
   "source": [
    "\n",
    "model_lim = LogisticRegression()\n",
    "\n",
    "model_lim.fit(X_limited, y_limited)\n",
    "\n",
    "y_pred_lim = model_lim.predict(X_test_limited)\n",
    "accuracy = accuracy_score(y_test_limited, y_pred_lim)\n",
    "\n",
    "# Print the accuracy\n",
    "print(\"Accuracy:\", accuracy)"
   ]
  },
  {
   "cell_type": "code",
   "execution_count": 49,
   "metadata": {},
   "outputs": [
    {
     "name": "stdout",
     "output_type": "stream",
     "text": [
      "10 Most Positive Words:\n",
      "[('loves', 1.729994908769879), ('perfect', 1.547478580404956), ('love', 1.3627986082007149), ('easy', 1.1754698170687194), ('great', 0.9273480049863843), ('little', 0.4974999811869876), ('well', 0.487894263594029), ('able', 0.22196595718869577), ('old', 0.0850652051801621), ('car', 0.06677229311368224)]\n",
      "\n",
      "10 Most Negative Words:\n",
      "[('disappointed', -2.340349322394666), ('return', -2.1101705175264516), ('waste', -1.9888378411817036), ('broke', -1.7092612645773173), ('money', -0.9319460049895277), ('work', -0.6473130789671582), ('even', -0.5133966019999382), ('would', -0.3436397662299862), ('product', -0.30272946158459846), ('less', -0.17916736992083876)]\n"
     ]
    }
   ],
   "source": [
    "feature_names_lim = np.array(vectorizer_limited.get_feature_names_out())\n",
    "\n",
    "# Get the coefficients from the trained model\n",
    "coefficients_lim = model_lim.coef_[0]\n",
    "\n",
    "# Create a dictionary mapping feature names to coefficients\n",
    "features_coefficients_lim = dict(zip(feature_names_lim, coefficients_lim))\n",
    "\n",
    "print(\"10 Most Positive Words:\")\n",
    "print(sorted(features_coefficients_lim.items(), key=lambda x: x[1], reverse=True)[:10])\n",
    "\n",
    "print(\"\\n10 Most Negative Words:\")\n",
    "print(sorted(features_coefficients_lim.items(), key=lambda x: x[1])[:10])"
   ]
  },
  {
   "cell_type": "code",
   "execution_count": 22,
   "metadata": {},
   "outputs": [
    {
     "name": "stdout",
     "output_type": "stream",
     "text": [
      "Review: This is a very cute toy but I soon realized that the battery compartment cannot be accessed and the batteries cannot be replaced I should have researched this item better\n",
      "Actual Rating: -1\n",
      "Predicted Sentiment: 1\n",
      "\n",
      "Review: This thing is well worth the price I paid my little guy loves it  He is 8 mos old and big for his age  When we first bought it we had the seat pulled up the highest it would go which worked for a while  Eventually DS got too big so we had to figure out a way to shorten the straps  For a while we did as someone else suggested and put tennis balls between the straps and the underside of the three spreaders  That worked  My husband didnt really like that solution though so he took a large carabiner and wrapped the main hanging strap between the adjuster and the spreaders around the carabiner a bunch of times  If we want to make the seat higher off the ground we just wrap the strap some more  As for the bumpers our guy is so active in this thing if it was in a regulation width doorway they would be getting used all the time we have a double wide doorway for him to play in\n",
      "Actual Rating: 1\n",
      "Predicted Sentiment: 1\n",
      "\n",
      "Review: I purchased this for my daughter when she was 7 months old primarily to use as a stationery walker  She absolutely loved the lights and music and I liked the fact that she not only could spin in a circle but actually WALK back and forth  When she began walking I removed the seat and she loved to run and stomp on the piano keys to activate the music  She uses it more than any toy she has  It is by far the BEST stationery walker on the market because it lasts from infancy well into toddlerhood\n",
      "Actual Rating: 1\n",
      "Predicted Sentiment: 1\n",
      "\n",
      "Review: When I saw these I was sooooo excited because I used the Playtex dropins system for my first and like the idea of the dropin but prefer the Breastflow nipple So this seemed like the best of both worlds When had my second son I decided to try the regular Breastflow bottles the dropin Breastflow wasnt out yet and it was okay My son liked the nipples but sometimes they leakednot all the time though so maybe user error So when I bought this system I had both this and the original systemwhich would be fine if the tops were interchangeable But since they arent and they look almost identical its hard to tell if you have the tops to the original Breastflow or the dropin Breastflow until you put it together and the dropin one wont close Also my husband and sitter say these bottles leak I exclusively breastfeed so I am not usually the one to give my son a bottle so this could also be user error I dont know All I know is we ended up going back to the Playtex dropin systemIf this system worked didnt leak it would have been greatthe marriage between to great products But since it didnt I only gave it two stars Maybe someone else could get it to work better than we did\n",
      "Actual Rating: -1\n",
      "Predicted Sentiment: 1\n",
      "\n",
      "Review: I got this to go along with my Joovy Caboose Stand On stroller and its great It was kind of hard to get on at first but once I got it on I havent had any issues with it Plenty of room for drinks phone keys etc Very happy with my purchase\n",
      "Actual Rating: 1\n",
      "Predicted Sentiment: 1\n",
      "\n"
     ]
    }
   ],
   "source": [
    "y_pred_lim = model_lim.predict(X_test_limited)\n",
    "\n",
    "# Print the predicted sentiment for the first few reviews\n",
    "for i in range(5):\n",
    "    print(\"Review:\", test[\"review\"].iloc[i])\n",
    "    print(\"Actual Rating:\", y_test_limited.iloc[i])\n",
    "    print(\"Predicted Sentiment:\", y_pred_lim[i])\n",
    "    print()\n"
   ]
  },
  {
   "cell_type": "code",
   "execution_count": 50,
   "metadata": {},
   "outputs": [
    {
     "name": "stdout",
     "output_type": "stream",
     "text": [
      "Review: This is a very cute toy but I soon realized that the battery compartment cannot be accessed and the batteries cannot be replaced I should have researched this item better\n",
      "Actual Rating: -1\n",
      "Predicted Probabilities: [0.21348739 0.78651261]\n",
      "\n",
      "Review: This thing is well worth the price I paid my little guy loves it  He is 8 mos old and big for his age  When we first bought it we had the seat pulled up the highest it would go which worked for a while  Eventually DS got too big so we had to figure out a way to shorten the straps  For a while we did as someone else suggested and put tennis balls between the straps and the underside of the three spreaders  That worked  My husband didnt really like that solution though so he took a large carabiner and wrapped the main hanging strap between the adjuster and the spreaders around the carabiner a bunch of times  If we want to make the seat higher off the ground we just wrap the strap some more  As for the bumpers our guy is so active in this thing if it was in a regulation width doorway they would be getting used all the time we have a double wide doorway for him to play in\n",
      "Actual Rating: 1\n",
      "Predicted Probabilities: [0.03176205 0.96823795]\n",
      "\n",
      "Review: I purchased this for my daughter when she was 7 months old primarily to use as a stationery walker  She absolutely loved the lights and music and I liked the fact that she not only could spin in a circle but actually WALK back and forth  When she began walking I removed the seat and she loved to run and stomp on the piano keys to activate the music  She uses it more than any toy she has  It is by far the BEST stationery walker on the market because it lasts from infancy well into toddlerhood\n",
      "Actual Rating: 1\n",
      "Predicted Probabilities: [0.13273494 0.86726506]\n",
      "\n",
      "Review: When I saw these I was sooooo excited because I used the Playtex dropins system for my first and like the idea of the dropin but prefer the Breastflow nipple So this seemed like the best of both worlds When had my second son I decided to try the regular Breastflow bottles the dropin Breastflow wasnt out yet and it was okay My son liked the nipples but sometimes they leakednot all the time though so maybe user error So when I bought this system I had both this and the original systemwhich would be fine if the tops were interchangeable But since they arent and they look almost identical its hard to tell if you have the tops to the original Breastflow or the dropin Breastflow until you put it together and the dropin one wont close Also my husband and sitter say these bottles leak I exclusively breastfeed so I am not usually the one to give my son a bottle so this could also be user error I dont know All I know is we ended up going back to the Playtex dropin systemIf this system worked didnt leak it would have been greatthe marriage between to great products But since it didnt I only gave it two stars Maybe someone else could get it to work better than we did\n",
      "Actual Rating: -1\n",
      "Predicted Probabilities: [0.28971135 0.71028865]\n",
      "\n",
      "Review: I got this to go along with my Joovy Caboose Stand On stroller and its great It was kind of hard to get on at first but once I got it on I havent had any issues with it Plenty of room for drinks phone keys etc Very happy with my purchase\n",
      "Actual Rating: 1\n",
      "Predicted Probabilities: [0.09696782 0.90303218]\n",
      "\n"
     ]
    }
   ],
   "source": [
    "y_proba_lim = model_lim.predict_proba(X_test_limited)\n",
    "\n",
    "# Print the predicted probabilities for the first few reviews\n",
    "for i in range(5):\n",
    "    print(\"Review:\", test[\"review\"].iloc[i])\n",
    "    print(\"Actual Rating:\", y_test_limited.iloc[i])\n",
    "    print(\"Predicted Probabilities:\", y_proba_lim[i])\n",
    "    print()"
   ]
  },
  {
   "cell_type": "code",
   "execution_count": 24,
   "metadata": {},
   "outputs": [
    {
     "name": "stdout",
     "output_type": "stream",
     "text": [
      "Five Most Positive Reviews:\n",
      "Predicted Probability (Positive): 0.9999999973436262\n",
      "Actual Rating: 1\n",
      "Review: We bought this stroller about 2 weeks ago I absolutely love it I have a 3 year old and a 5 month old They both fit in the stroller great My 3 yr old was so excited about this stroller He loves the color blue the canopies the UV shade everything He is looking forward to using the boot this winter I love love love the big basket Yes there is a bar across it However I am able to get a backpack in over the bar To take it out we just unsnap the back of the basket and pull the backpack under the bar It really is easy The stroller steers well I have not noticed it pulling to one side despite the 15 pound weight difference between my boys We have not used the rain shield but the UV shade is great The canopy will cover the whole front of the stroller but the UV shade keeps the boys shady when they want to be able to look out The infant boot works well It is meant to go across the whole front but is possible to use it on just one side The harness is easy to adjust We were using the Combi Citty Savvy single It had the worst harness adjusters The Maclaren Techno uses the same crappy adjusters On the Tango you just slide the clip up or down It is simple and it stays put The harness fits both of my boys The seats recline nicely the canopies are huge The stroller is easy to steer and the handle is comfortable I have done a little onehanded steering but that is not easy It is a double stroller after all The Tango is a great looking stroller I have read reviews in which people talked about wanting a stroller that looked good I thought that was silly However we have gotten so many comments on this stroller I have to admit that it is a little flattering Silly but true Someone complained about having trouble opening the stroller It is challenging at first We finally figured out that you have to push down on the little handle on the side of the stroller You pull that handle to close it and push it to open it Once you figure that out it is super easy to open My one complaint is that the stroller is pretty large when folded I have two carseats tethered in the back of my 2004 Odyssey In order to get the stroller in I have to loosen one of the tethers first We put the stroller under the tether then tighten the tether I am able to fit bags in front of and beside the stroller but it takes up A LOT of room We are going out of town later this month and I have no idea how I am going to fit in our luggage with the stroller I am considering strapping the stroller on the roof So if a small fold is a must go with the Combi or McLaren I thought both of those were rather flimsy though The McLaren was VERY narrow and had shallow seats We decided we would just live with the large fold and get the Zooper I am SO glad we did It is well worth the money\n",
      "\n",
      "Predicted Probability (Positive): 0.9999999876771276\n",
      "Actual Rating: 1\n",
      "Review: Background Ive been using Grovia diapers for four years when I bought them they were called grobaby I have 6 shells and 12 inserts I purchased them for my oldest daughter and used them only part time for 25 years until she was potty trained She still needed pullups at night for a long time so I used these until she was ready to go without She was probably 30lbs when she stopped wearing them and they fit well They were stored for a year until I had my other daughter who is now 55 months and exclusively CDd I didnt use them for either girl until about a month old since I had tiny babiesPros Theyre mostly organic When they were new they were so soft and thick Now theyre definitely worn in and not so soft anymoreI love how easy they are to use As a first time CDer these were perfect Just snap the inserts in strap on baby Easy for pretty much anyone No stuffing unstuffing folding etcI love that Im able to reuse the shells a couple of times until theyre stinky or pooped in or too wet Some people didnt find this to be true but after four years of use I can confidently say its possible and happens often for meI find them easy to wash and love that the insert and shell are separate since I machine dry the inserts and line dry the shells which has helped to prolong their life Contrary to some reviews I dont find it difficult to clean poop from shells It just agitates out of the mesh in the washing machineOne size Although I didnt use these diapers for my tiny babies they are absolutely a birth to potty training diaper My oldest was 30lbs when she stopped wearing them almost four yrs old She has always been a small kid with no chunk though so Im not sure how long a thicker baby could wear them forDesigns and colours are cute nothing obnoxious and I like that the snaps match the shell colour Makes all those snaps less noticeable The snaps are very well made and strong not one has come loose or fallen offVersatile Not only can you use one shell multiple times before needing to wash it but you can also use the shells as covers for prefolds and other diapers needing covers I used prefolds quite a bit during my daughters first few months can get a more custom fit on tiny babies and I found them to be extra soft on that delicate new skin I didnt bother buying a bunch of sized covers for my prefolds and used the grovia shells instead They worked perfectlyGreat for travelshopping etc You can leave the house with an extra shell and a few inserts instead of 34 whole diapers since the shells can be reused Ive been out with only one shell before and I was glad I had these I quickly rinsed the poop out of the shell dried under the air drier in a public bathroom and snapped in a new insert in less than 5 minutesSoft shells soft elastic on the legs very few red marksFew blowouts or leaks Ive only experienced a few leaks and I think this is mainly because some inserts were too long for the shell in its smallest setting When the shell went up in size the issue was fixed Also the aplix tabs Velcro stuff makes these diapers super custom and snug great for putting a CD on a squirmy baby The aplix also happens to be a conCons the Velcro tabs This is probably due to the fact that theyre 4 years old but the tabs are starting to curl up and not stick so well This only began to happen but may have began sooner if I had CDd exclusively the first time I can switch them out for snaps so I may do that eventually since the rest of the shell is in perfect conditionHolds stink The inserts are still in good condition but Ive had problems with the nasty ammonia smell They really seem to hold the stink so stripping and a religious wash routine has been key to keep them fresh smelling Maybe this has been my own fault because I had no idea what I was doing in the beginning but who knowsI sun bleach them regularly so they still look good but they need to be machine dried for at least 20 minutes to stay softAbsorbency My biggest issue with these diapers is that they arent absorbent enough My kids are heavy wetters so Ive never been able to use these at night Even with the booster Also when wet the inserts ripple up or buckle and dont seem very comfortable My babys bum gets red marks on it if left on too long from the ripples of the top layer of the insert I use the bumgenius freetimes with microfiber inserts at night and have no issues Although Id rather have a natural fabric next to my daughters bum at night the microfiber wicks the moisture away so well and we dont have to double upConsistency On the smallest size some inserts are too long for the rise of the diaper and poke out which can cause leakage The inserts arent uniform in size which isnt a huge issue but some are longer or wider than others which is just a bit annoyingOn the bulky side My bumgenius freetimes are less bulky but not by much This doesnt bother me too much since it makes perfect sense that a cloth diaper be bulkier than an uber trim disposableVerdict love them enough to buy more but would probably get the snaps next time I love that Velcro is easier to use but the diapers would last much longer with snaps Im also curious as to how the new grovias compare to the old ones I very much recommend these\n",
      "\n",
      "Predicted Probability (Positive): 0.9999999855675465\n",
      "Actual Rating: 1\n",
      "Review: I should probably start out by saying that I am a stroller junkie The Peg Perego GT3 is at last count my 16th stroller And it is by far the most luxurious one I have used yet Seriously I think it might be almost perfect Ill explain why only 4 stars in a minuteThis stroller is serious luxury It pushes like a dream and is FAR lighter than the Phil and Teds or any sidebyside double that I have tried It runs SO smoothly even over rough terrain that my alwaysawake oneyearold usually passes out in the first 10 minutes And the front wheel never jams or catches a problem I had with BOTH my Phil and Teds Vibe and Sport models And for jogging it practically goes by itself I do agree that the front wheel wobbles a bit when you get going but that is why you are supposed to lock it  and the lock mechanism is SO handy  you dont have to crouch down at the front of the stroller its right there in front of your knee Which is also nice when you want to switch back and forth  for example when you are out for a leisurely walk and your fouryearold takes off on his bikeThe other feature I love and love about all the Peg strollers is the sun visor It pulls all the way down to the bumper bar Which is great because your child is never facing into the glare of the sun AND if you forget your rain cover your little one generally will stay dry tooThe second seat on this stroller is genius Its so compact and light that its really easy to switch the stroller between double and single  even while out and about the GT3 for two is the same as the single you just have a second seat that zips into the storage basket When in single mode the storage basket is HUGE and I love how it folds up to keep your stuff secure and to make space for the rideonstep My older son doesnt always want to be seen riding in the stroller and likes the surfboard expressly for that purpose I also like that it is a little more difficult for him to climb in and out of the Peg backseat With my Phil and Teds both my kids could easily swing their legs out and try to climb out and then get tangled in their straps I also LOVE LOVE LOVE the longer handlebars When both kids are in there is not a lot of storage but with the GT3 you still have room to hang your diaper bag along with the parent console that comes with itThe only things I dont love about this stroller are and thus 4 stars instead of 51 lack of a food tray for the kids It would be SO easy to have this as an addition and it would make it that much more perfect The cup holders on the side are okay but for a big stroller it just makes it that much wider2 It is a BIG stroller I am 56 and can lift it easily enough but my Mom who is 52 cannot lift it in and out of the car by herself And its a bit cumbersome when folded My solution for this is to keep an old Pliko in my trunk and use the GT3 for daytoday travels without the car or to only put it in the car for longer missions like to the zoo or cottage where I will need it all day Would be totally fine with an SUV but for a regular car its bit challengingThat being said I cannot understand the other negative reviews I seriously dont believe anymore that there is ONE perfect stroller out there but for a double stroller that can be used as a jogger this one is pretty close\n",
      "\n",
      "Predicted Probability (Positive): 0.9999999338912592\n",
      "Actual Rating: 1\n",
      "Review: I got this stroller for my daughter prior to the birth of her first baby Heres what she has to say about the BAgileI would give 45 stars if I could I have had the bagile since my son was born almost eight months ago and overall we are very satisfied with this stroller From my test drives of other strollers and watching my friends struggle with their more complex stroller systems it seems that every stroller has some issues  but this stroller seems about as good as they come We use it for long walks through the park quick errands in the car and when traveling I originally wanted the Uppababy Vista  I liked the idea of the bassinet and the seat switching directions I now know that I would have barely used either of these features and am thankful my father got us this stroller before we splurged on the VistaOk the pros The weight This thing is so light I easily pull it out of the trunk with one hand when I have groceries or other items in the other The foldability So easy Hit the button pull the handle Love it and do it with one hand all the time I hear that the safety button isnt on the city mini so this is an advantage of the bagile The ridesuspension are tops Smooth and comfortable for baby and momdad Works on all smooth services Not so great on gravel and grass Doesnt work on sand Maneuverability is great Also I believe that the wheel base is narrower than the city mini so easier to move through tight spaces Nice giant canopy Nice height of handle and walking clearance I am 58 husband is 6 The combo with the bsafe This may be the biggest advantage over the city mini The adaptors come with the stroller click right into place and the bsafe car seat snaps in with no effort It is so easy The adaptors are also very minimalist so we just keep them on the stroller at all times and use them when we need them The car seat adaptors for the city mini for many of the most popular car seats are big bulky and have to be taken off for folding and of course using the stroller independent of the car seat I know a couple friends that say their car seats are basically balancing on the city mini adaptor and dont feel secure at all But on the bagile the bsafe feels completely solid and secure I also didnt even think about getting a snap and go because this combo worked so well and of course you have all the benefits of an allpurpose stroller with great suspension This also allowed baby when tiny to face me which was really nice Finally the canopy of the bsafe and bagile work together to cover baby completely when the car seat is installed For people who really want a complete travel system I cant imagine a better combo than this Contrary to what another review says my bagile does stand on its own when folded just fine Great travel stroller Light enough easy to fold great travel bag for purchase separately One thing to know you have to remove the car seat adaptors for loading into the travel bag This isnt a problem for us and adds maybe 30 seconds on the jetway when we are folding our stroller for gatecheckingAnd the cons My brakes are sticky This is my biggest complaint about this stroller I frequently have to click and unclick the brakes three or four times for the brakes to release The under stroller storage area is a bit cramped My diaper bag wont fit The wheels are hard plastic rather than foam filled They seem to be holding up thus far but well see The seat back doesnt get quite upright enough for my little one The unfold latch could be easier Although the stroller is very light I cant have baby in one arm pull the stroller out of the trunk and unfold it The unfold latch is a little difficult to operate and sometimes you think youve got it and it relatches You really need two hands to unfold the stroller  which I am fine with but I know some folks love the idea of an instant unfoldAlso I bought the sunshine kids console to go with this stroller and it works great I do not need to remove when foldingNo stroller is perfect but this one is pretty great This is the only stroller we own and I havent yet felt a need to get any other type of stroller including an umbrella This one fits the bill for a great allaround stroller\n",
      "\n",
      "Predicted Probability (Positive): 0.9999999322551757\n",
      "Actual Rating: 1\n",
      "Review: Weve been using Britax for our boy now 14 months old since his very first moments leaving the hospital  Thankfully cost was not part of our consideration so we went with the best seat we could find  Britax has been good but I wish we had found the Pria  Its a terrific car seatThree best parts so far1  Head control2  Style3  Cup holder4  Soft easy to clean fabricHead control  My biggest concern with other car seats has been his head  When our son sleeps in the car he tilts his head to the side much like my father does now  But with my Dad I dont worry too much because he always seems to wake up after a few minutes and straighten out  But babies dont seem to do that well and Ive been concerned that hes closing off airway or blood to his head  Im not a doctor but it doesnt look good to me  Weve tried rolling his little blanket and stuffing it by his neck like an airplane pillowto no avail  He just tosses it on the seat  This seat has a great system for controlling his headStyle  This seat is attractive  We never used the infant insert but it has an elegant shape to it  The rest of the seat looks good too  I know its not a big concern but I do appreciate great designCup holder  It has a perfectly placed cup holder  We use the Uppababy stroller and it has a great tray where our son has become used to storing his cell phone and other things  Without a cup holder close to his hands in our car everything sits between his knees which makes it all tough to reach  Prias solution is perfect and I dont find myself reaching into the back seat as muchGreat fabric  We love the soft feel of this seat  Its almost like a good pillow  And the fabric has proven quite easy to cleanOverall were thrilled with the seatHope you enjoy yours tooPhilUPDATE Its been over a year now and we remain thrilled with this seat We kept the Britax so wed have an extra seat in the car for James friends to ride together with us Night and day this seat remains the hands down winner for easy buckling in easy cleaning and comfort And the cup holder continues to be the perfect place for drinks snacks or a little toy carWasnt sure this seat would make it this long as the fabric doesnt feel as tough as the Britax But it sure has Whatever they used is as easy to work with now as the day this one arrived And remains easy to clean Were having another one soon so the Britax will be moving to the middle seat to make room for another MaxiCosiAny recommendations on a new color\n",
      "\n",
      "Five Most Negative Reviews:\n",
      "Predicted Probability (Negative): 0.9999999660918168\n",
      "Actual Rating: -1\n",
      "Review: Looks really cute however the cloth smells funny and gave my baby some rash after 15 mins wearingRequested a return need to pay 25 restocking fee plus shipping25 order maybe 5 back eventuallyAlso the return must be brand new condition Really UnbelievableDo yourself a favor and See the return policy by yourself before making an orderHelloBelow is return instructions this item must not be worn or used or the return will not be refundedThank you for ordering from us Here is your RMA as well as return instructions All returns must be in brand new original condition Please read our return policy Return policy link is provided for you in this emailAll refunds issued are determined by the outcome of inspections Any return of costumes used worn signs of pet hair human hair or washed will void all refund All boxes for shoes NEED to be unmarked and in original condition ALL returns NEED to be in original packaging to qualify for an authorized returnPlease note If you are returning a costume and need a different size we suggest that you place a new order for the item you need This will insure that you get the item quicker If you order from us simply email us your new order and we will waive the restocking fee on your returnsReturn Instructions ALL RETURNS NEED TO BE IN ORIGINAL PACKAGINGItems MUST BE POSTMARKED WITHIN 3 DAYS of  RECEIVING RMA TodaySimply repackage itemon the outside of the packaging please write RMAWe do not cover shipping so please feel free to use any shippingmethod you likeItem is also subject to a 25 restocking fee and all incurred shipping costs associated  with this returnShip to Brands on Sale\n",
      "\n",
      "Predicted Probability (Negative): 0.9999983963622164\n",
      "Actual Rating: 1\n",
      "Review: I loved all the features of the car seat  It is an awesome car seat and you could take it from one car to another and adjust from rearfacing infant to forward facing 4 yo in a minute or two  The features are awesomeI purchased this about a week ago  Although I loved the ease of use for me I was unhappy with my 2 yos posture  regardless of the incline used  I decided to return it  As a PT Im particular about posture  The back of the seat is more curved than out Chicco key fit with the legs slightly elevated and therefore creating a rounded postureI was SHOCKED  when I went to return the item purchased through AMAZON LLC  that I couldnt print a return label  Turns out this is a NON returnable item  Its not that you would even have to pay for the return shipping  you cant return it AT ALL  I even double checked and the vendor was definitely AMAZON  Not an outside VendorAs someone who buys thousands of dollars worth of stuff directly from Amazon I was really surprised  Ive never encountered anything like this and Ive returned things in the past  It is usually very simpleI dont think there was any warning when I bought it that it was non returnable  I definitely cant find any sort of warning on product page nowDouble check with the vendor before you buy this if you think there is even the slightest chance you will want to return it\n",
      "\n",
      "Predicted Probability (Negative): 0.9999840141059712\n",
      "Actual Rating: -1\n",
      "Review: I added this product Dr Browns BPA Free Deluxe Gift Set to my baby registry that I created prior to my baby being born A friend purchased and gave me this gift set at my baby shower I was really excited because this is an expensive item and I have heard from many friends that Dr Browns are great for babies that have colic or gas problems I also figured that I would just buy a single Dr Browns bottle to test and make sure my baby liked it once he arrived and if he didnt I could return the set for a credit or a different bottle set Well  turns out my baby does not like the nipple type on these Dr Brown bottles he likes a wider base nipple But when I went to return this item I discovered that because it was purchased from Uncle Festers Attic I would have to work with them not Amazon on the return Uncle Festers Attic refused to help me with any kind of return for credit or another item and just stopped returning my emails about this issue DO NOT purchase anything from Uncle Festers Attic unless you are 100 sure you do not need to return it They are unhelpful and unprofessional  even stooping to ignoring repeated emails to try to figure out some sort of compromise Now I am stuck with a great expensive bottle set still in the box never opened that my baby will not use What a waste\n",
      "\n",
      "Predicted Probability (Negative): 0.999971182383898\n",
      "Actual Rating: -1\n",
      "Review: This product is not made for babies or newborns It is entirely too big It would fit a 4 year old child When the item arrived the stitching was coming out in several areas and the quality of the material is very poor I contacted the seller to return the item and they said they would refund the item after I shipped it back to them and did not authorize a return slip You cant return the item without a return slip They want me to send it back and they will have no way of knowing whos order it is without a barcode for the return Also the seller wont pay for shipping and its 10 to ship this back to China Very poor experience and terrible product\n",
      "\n",
      "Predicted Probability (Negative): 0.9999466837995423\n",
      "Actual Rating: -1\n",
      "Review: I was excited to give these instruments to my 4 year old for her birthday because they are cute painted instruments that look even better in person than online I assumed that since the set was wooden and 1015 more expensive than other similar sets it would be durable My daughter opened the box and the drum broke within two minutes in the middle of her family birthday party She was heartbroken  she was just patting it with her hand when it broke but she thought she did something wrong I dont even know the return policy  I am so busy that is the whole reason I did birthday shopping in the middle of the night online  dealing with boxing it up and taking it to the post office is last on my priority list so it is sitting in my entryway completely useless I was disappointed that such a cute set that my daughter was so excited to receive ended up being such a waste\n",
      "\n"
     ]
    }
   ],
   "source": [
    "most_positive_indices_lim = np.argsort(y_proba_lim[:, 1])[::-1][:5]\n",
    "\n",
    "print(\"Five Most Positive Reviews:\")\n",
    "for index in most_positive_indices_lim:\n",
    "    print(\"Predicted Probability (Positive):\", y_proba_lim[index, 1])\n",
    "    print(\"Actual Rating:\", y_test_limited.iloc[index])\n",
    "    print(\"Review:\", test[\"review\"].iloc[index])\n",
    "    print()\n",
    "\n",
    "\n",
    "most_negative_indices_lim = np.argsort(y_proba_lim[:, 0])[::-1][:5]\n",
    "\n",
    "\n",
    "print(\"Five Most Negative Reviews:\")\n",
    "for index in most_negative_indices_lim:\n",
    "    print(\"Predicted Probability (Negative):\", y_proba_lim[index, 0])\n",
    "    print(\"Actual Rating:\", y_test_limited.iloc[index])\n",
    "    print(\"Review:\", test[\"review\"].iloc[index])\n",
    "    print()"
   ]
  },
  {
   "cell_type": "code",
   "execution_count": 51,
   "metadata": {},
   "outputs": [
    {
     "name": "stdout",
     "output_type": "stream",
     "text": [
      "Accuracy: 0.8666906539534047\n"
     ]
    }
   ],
   "source": [
    "accuracy_lim = accuracy_score(y_test_limited, y_pred_lim)\n",
    "\n",
    "# Print the accuracy\n",
    "print(\"Accuracy:\", accuracy_lim)"
   ]
  },
  {
   "cell_type": "code",
   "execution_count": 52,
   "metadata": {
    "collapsed": true
   },
   "outputs": [
    {
     "name": "stdout",
     "output_type": "stream",
     "text": [
      "love: 1.3627986082007149\n",
      "great: 0.9273480049863843\n",
      "easy: 1.1754698170687194\n",
      "old: 0.0850652051801621\n",
      "little: 0.4974999811869876\n",
      "perfect: 1.547478580404956\n",
      "loves: 1.729994908769879\n",
      "well: 0.487894263594029\n",
      "able: 0.22196595718869577\n",
      "car: 0.06677229311368224\n",
      "broke: -1.7092612645773173\n",
      "less: -0.17916736992083876\n",
      "even: -0.5133966019999382\n",
      "waste: -1.9888378411817036\n",
      "disappointed: -2.340349322394666\n",
      "work: -0.6473130789671582\n",
      "product: -0.30272946158459846\n",
      "money: -0.9319460049895277\n",
      "would: -0.3436397662299862\n",
      "return: -2.1101705175264516\n"
     ]
    }
   ],
   "source": [
    "#b)\n",
    "for word, coef in zip(vectorizer_limited.get_feature_names_out(),model_lim.coef_[0]):\n",
    "    print(f\"{word}: {coef}\")\n"
   ]
  },
  {
   "cell_type": "code",
   "execution_count": 53,
   "metadata": {},
   "outputs": [],
   "source": [
    "import sys, time\n"
   ]
  },
  {
   "cell_type": "code",
   "execution_count": 54,
   "metadata": {},
   "outputs": [
    {
     "name": "stdout",
     "output_type": "stream",
     "text": [
      "357 µs ± 3.56 µs per loop (mean ± std. dev. of 7 runs, 1,000 loops each)\n",
      "CPU times: user 2.89 s, sys: 1.42 ms, total: 2.89 s\n",
      "Wall time: 2.89 s\n"
     ]
    }
   ],
   "source": [
    "%%time\n",
    "%%timeit\n",
    "model_lim.predict(X_test_limited)\n",
    "\n"
   ]
  },
  {
   "cell_type": "code",
   "execution_count": 57,
   "metadata": {
    "collapsed": true
   },
   "outputs": [
    {
     "name": "stdout",
     "output_type": "stream",
     "text": [
      "3.31 ms ± 58.1 µs per loop (mean ± std. dev. of 7 runs, 100 loops each)\n",
      "CPU times: user 2.9 s, sys: 2.46 ms, total: 2.9 s\n",
      "Wall time: 2.9 s\n"
     ]
    }
   ],
   "source": [
    "%%time\n",
    "%%timeit\n",
    "model.predict(X_test)\n",
    "\n",
    "\n",
    "#hint: %time, %timeit"
   ]
  },
  {
   "cell_type": "code",
   "execution_count": 58,
   "metadata": {},
   "outputs": [
    {
     "name": "stdout",
     "output_type": "stream",
     "text": [
      "first model score: 0.9315762645797727\n",
      "second model score: 0.8666906539534047\n"
     ]
    }
   ],
   "source": [
    "\n",
    "\n",
    "print(f\"first model score: {model.score(X_test, y_test)}\")\n",
    "print(f\"second model score: {model_lim.score(X_test_limited, y_test_limited)}\")"
   ]
  }
 ],
 "metadata": {
  "anaconda-cloud": {},
  "kernelspec": {
   "display_name": "Python 3",
   "language": "python",
   "name": "python3"
  },
  "language_info": {
   "codemirror_mode": {
    "name": "ipython",
    "version": 3
   },
   "file_extension": ".py",
   "mimetype": "text/x-python",
   "name": "python",
   "nbconvert_exporter": "python",
   "pygments_lexer": "ipython3",
   "version": "3.11.5"
  }
 },
 "nbformat": 4,
 "nbformat_minor": 4
}
