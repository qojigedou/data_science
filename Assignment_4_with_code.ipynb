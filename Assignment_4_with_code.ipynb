{
 "cells": [
  {
   "cell_type": "markdown",
   "metadata": {},
   "source": [
    "### Today we are going to perform the simple classification of the amazon reviews' sentiment.\n",
    "\n",
    "### Please, download the dataset amazon_baby.csv."
   ]
  },
  {
   "cell_type": "code",
   "execution_count": 29,
   "metadata": {
    "collapsed": false
   },
   "outputs": [
    {
     "data": {
      "text/html": [
       "<div>\n",
       "<style scoped>\n",
       "    .dataframe tbody tr th:only-of-type {\n",
       "        vertical-align: middle;\n",
       "    }\n",
       "\n",
       "    .dataframe tbody tr th {\n",
       "        vertical-align: top;\n",
       "    }\n",
       "\n",
       "    .dataframe thead th {\n",
       "        text-align: right;\n",
       "    }\n",
       "</style>\n",
       "<table border=\"1\" class=\"dataframe\">\n",
       "  <thead>\n",
       "    <tr style=\"text-align: right;\">\n",
       "      <th></th>\n",
       "      <th>name</th>\n",
       "      <th>review</th>\n",
       "      <th>rating</th>\n",
       "    </tr>\n",
       "  </thead>\n",
       "  <tbody>\n",
       "    <tr>\n",
       "      <th>0</th>\n",
       "      <td>Planetwise Flannel Wipes</td>\n",
       "      <td>These flannel wipes are OK, but in my opinion ...</td>\n",
       "      <td>3</td>\n",
       "    </tr>\n",
       "    <tr>\n",
       "      <th>1</th>\n",
       "      <td>Planetwise Wipe Pouch</td>\n",
       "      <td>it came early and was not disappointed. i love...</td>\n",
       "      <td>5</td>\n",
       "    </tr>\n",
       "    <tr>\n",
       "      <th>2</th>\n",
       "      <td>Annas Dream Full Quilt with 2 Shams</td>\n",
       "      <td>Very soft and comfortable and warmer than it l...</td>\n",
       "      <td>5</td>\n",
       "    </tr>\n",
       "    <tr>\n",
       "      <th>3</th>\n",
       "      <td>Stop Pacifier Sucking without tears with Thumb...</td>\n",
       "      <td>This is a product well worth the purchase.  I ...</td>\n",
       "      <td>5</td>\n",
       "    </tr>\n",
       "    <tr>\n",
       "      <th>4</th>\n",
       "      <td>Stop Pacifier Sucking without tears with Thumb...</td>\n",
       "      <td>All of my kids have cried non-stop when I trie...</td>\n",
       "      <td>5</td>\n",
       "    </tr>\n",
       "  </tbody>\n",
       "</table>\n",
       "</div>"
      ],
      "text/plain": [
       "                                                name  \\\n",
       "0                           Planetwise Flannel Wipes   \n",
       "1                              Planetwise Wipe Pouch   \n",
       "2                Annas Dream Full Quilt with 2 Shams   \n",
       "3  Stop Pacifier Sucking without tears with Thumb...   \n",
       "4  Stop Pacifier Sucking without tears with Thumb...   \n",
       "\n",
       "                                              review  rating  \n",
       "0  These flannel wipes are OK, but in my opinion ...       3  \n",
       "1  it came early and was not disappointed. i love...       5  \n",
       "2  Very soft and comfortable and warmer than it l...       5  \n",
       "3  This is a product well worth the purchase.  I ...       5  \n",
       "4  All of my kids have cried non-stop when I trie...       5  "
      ]
     },
     "execution_count": 29,
     "metadata": {},
     "output_type": "execute_result"
    }
   ],
   "source": [
    "import pandas as pd\n",
    "import numpy as np\n",
    "import matplotlib.pyplot as plt\n",
    "import string\n",
    "from sklearn.linear_model import LogisticRegression\n",
    "from sklearn.model_selection import train_test_split\n",
    "from sklearn.metrics import accuracy_score\n",
    "\n",
    "def remove_punctuation(text):\n",
    "    import string\n",
    "    translator = str.maketrans('', '', string.punctuation)\n",
    "    return text.translate(translator)\n",
    "\n",
    "baby_df = pd.read_csv('amazon_baby.csv')\n",
    "baby_df.head()"
   ]
  },
  {
   "cell_type": "markdown",
   "metadata": {},
   "source": [
    "## Exercise 1 (data preparation)\n",
    "a) Remove punctuation from reviews using the given function.   \n",
    "b) Replace all missing (nan) revies with empty \"\" string.  \n",
    "c) Drop all the entries with rating = 3, as they have neutral sentiment.   \n",
    "d) Set all positive ($\\geq$4) ratings to 1 and negative($\\leq$2) to -1."
   ]
  },
  {
   "cell_type": "code",
   "execution_count": 30,
   "metadata": {
    "collapsed": false
   },
   "outputs": [
    {
     "data": {
      "text/plain": [
       "True"
      ]
     },
     "execution_count": 30,
     "metadata": {},
     "output_type": "execute_result"
    }
   ],
   "source": [
    "#a)\n",
    "baby_df['review'] = baby_df['review'].astype(str)\n",
    "baby_df['review'] = baby_df['review'].apply(remove_punctuation)\n",
    "\n",
    "#short test: \n",
    "baby_df[\"review\"][4] == 'All of my kids have cried nonstop when I tried to ween them off their pacifier until I found Thumbuddy To Loves Binky Fairy Puppet  It is an easy way to work with your kids to allow them to understand where their pacifier is going and help them part from itThis is a must buy book and a great gift for expecting parents  You will save them soo many headachesThanks for this book  You all rock'\n",
    "remove_punctuation(baby_df[\"review\"][4]) == 'All of my kids have cried nonstop when I tried to ween them off their pacifier until I found Thumbuddy To Loves Binky Fairy Puppet  It is an easy way to work with your kids to allow them to understand where their pacifier is going and help them part from itThis is a must buy book and a great gift for expecting parents  You will save them soo many headachesThanks for this book  You all rock'\n"
   ]
  },
  {
   "cell_type": "markdown",
   "metadata": {},
   "source": [
    "**Notes:**  I have clarified that the `review` column exclusively holds string values. Using the `apply` function, I've successfully eliminated all punctuation. This process aids in eliminating noise from our data, preventing situations where `word.` and `word` would be treated as distinct words. Generally, punctuation doesn't contribute significantly to the model (it's worth noting that the function responsible for punctuation removal also excludes exclamation points)."
   ]
  },
  {
   "cell_type": "code",
   "execution_count": 31,
   "metadata": {
    "collapsed": false
   },
   "outputs": [
    {
     "data": {
      "text/plain": [
       "True"
      ]
     },
     "execution_count": 31,
     "metadata": {},
     "output_type": "execute_result"
    }
   ],
   "source": [
    "#b)\n",
    "baby_df['review'].replace(np.nan, \"\", inplace=True)\n",
    "\n",
    "baby_df[\"review\"][38] == baby_df[\"review\"][38]\n",
    "\n"
   ]
  },
  {
   "cell_type": "markdown",
   "metadata": {},
   "source": [
    "**Notes:** The `np.nan` is a constant representing a missing or undefined numerical value in a NumPy array. It stands for not a number and has a float type. It was removed using replace function. Since CountVectorizer cannot process `nan` values, it was necessary to replace them with empty strings."
   ]
  },
  {
   "cell_type": "code",
   "execution_count": 32,
   "metadata": {
    "collapsed": false
   },
   "outputs": [
    {
     "name": "stdout",
     "output_type": "stream",
     "text": [
      "0\n"
     ]
    }
   ],
   "source": [
    "#c)\n",
    "baby_df = baby_df[baby_df[\"rating\"] != 3]\n",
    "\n",
    "# Short test\n",
    "print(sum(baby_df[\"rating\"] == 3))"
   ]
  },
  {
   "cell_type": "markdown",
   "metadata": {},
   "source": [
    "**Notes:** In the provided code, I removed all entries with a rating of 3 and subsequently verified whether the removal was successful."
   ]
  },
  {
   "cell_type": "code",
   "execution_count": 33,
   "metadata": {
    "collapsed": false
   },
   "outputs": [
    {
     "data": {
      "text/plain": [
       "0"
      ]
     },
     "execution_count": 33,
     "metadata": {},
     "output_type": "execute_result"
    }
   ],
   "source": [
    "#d)\n",
    "\n",
    "baby_df[\"rating\"] = np.where(baby_df[\"rating\"] >= 4, 1, np.where(baby_df[\"rating\"] <= 2, -1, baby_df[\"rating\"]))\n",
    "\n",
    "# Test if all ratings are now either 1 or -1\n",
    "#short test:\n",
    "sum(baby_df[\"rating\"]**2 != 1)"
   ]
  },
  {
   "cell_type": "markdown",
   "metadata": {},
   "source": [
    "**Notes:** Then I have set all positive (greater or equal to 4) ratings to 1 and negative(less or equal to 2) to -1."
   ]
  },
  {
   "cell_type": "markdown",
   "metadata": {},
   "source": [
    "## CountVectorizer\n",
    "In order to analyze strings, we need to assign them numerical values. We will use one of the simplest string representation, which transforms strings into the $n$ dimensional vectors. The number of dimensions will be the size of our dictionary, and then the values of the vector will represent the number of appereances of the given word in the sentence."
   ]
  },
  {
   "cell_type": "code",
   "execution_count": 34,
   "metadata": {
    "collapsed": false
   },
   "outputs": [
    {
     "name": "stdout",
     "output_type": "stream",
     "text": [
      "['adore' 'and' 'apples' 'bananas' 'dislike' 'hate' 'like' 'oranges' 'they'\n",
      " 'we']\n",
      "[[0 0 1 0 0 0 1 0 0 1]\n",
      " [0 0 0 0 0 1 0 1 0 1]\n",
      " [1 0 0 1 0 0 0 0 0 0]\n",
      " [0 1 1 0 0 0 2 1 0 1]\n",
      " [0 0 0 1 1 0 0 0 1 0]]\n"
     ]
    }
   ],
   "source": [
    "from sklearn.feature_extraction.text import CountVectorizer\n",
    "\n",
    "vectorizer = CountVectorizer()\n",
    "reviews_train_example = [\"We like apples\",\n",
    "                   \"We hate oranges\",\n",
    "                   \"I adore bananas\",\n",
    "                   \"We like like apples and oranges\",\n",
    "                   \"They dislike bananas\"]\n",
    "\n",
    "X_train_example = vectorizer.fit_transform(reviews_train_example)\n",
    "\n",
    "print(vectorizer.get_feature_names_out())\n",
    "print(X_train_example.todense())\n",
    "\n"
   ]
  },
  {
   "cell_type": "code",
   "execution_count": 35,
   "metadata": {
    "collapsed": false
   },
   "outputs": [
    {
     "name": "stdout",
     "output_type": "stream",
     "text": [
      "[[0 0 0 1 0 0 1 0 1 0]\n",
      " [0 1 1 1 0 1 0 1 0 1]\n",
      " [0 0 0 1 0 0 0 0 0 1]]\n"
     ]
    }
   ],
   "source": [
    "reviews_test_example = [\"They like bananas\",\n",
    "                   \"We hate oranges bananas and apples\",\n",
    "                   \"We love bananas\"] #New word!\n",
    "\n",
    "X_test_example = vectorizer.transform(reviews_test_example)\n",
    "\n",
    "print(X_test_example.todense())"
   ]
  },
  {
   "cell_type": "markdown",
   "metadata": {},
   "source": [
    "We should acknowledge few facts. Firstly, CountVectorizer does not take order into account. Secondly, it ignores one-letter words (this can be changed during initialization). Finally, for test values, CountVectorizer ignores words which are not in it's dictionary."
   ]
  },
  {
   "cell_type": "markdown",
   "metadata": {},
   "source": [
    "## Exercise 2 \n",
    "a) Split dataset into training and test sets.     \n",
    "b) Transform reviews into vectors using CountVectorizer. "
   ]
  },
  {
   "cell_type": "code",
   "execution_count": 36,
   "metadata": {
    "collapsed": true
   },
   "outputs": [],
   "source": [
    "#a)\n",
    "train, test = train_test_split(baby_df, train_size=0.8, test_size=0.2, random_state=42)\n"
   ]
  },
  {
   "cell_type": "markdown",
   "metadata": {},
   "source": [
    "**Notes:** In the provided code I have splitted the dataset into train(80% of the dataset) and test(20% of the dataset) sets. To achieve this, I'm utilizing the `train_test_split` function. I've also defined a random state. The random state value maintains dataset consistency, producing the same dataset for a given integer value."
   ]
  },
  {
   "cell_type": "code",
   "execution_count": 37,
   "metadata": {
    "collapsed": true
   },
   "outputs": [],
   "source": [
    "#b)\n",
    "vectorizer = CountVectorizer()\n",
    "\n",
    "X = vectorizer.fit_transform(list(train[\"review\"]))\n",
    "y = train[\"rating\"]\n",
    "X_test = vectorizer.transform(list(test[\"review\"]))\n",
    "y_test = test[\"rating\"]"
   ]
  },
  {
   "cell_type": "markdown",
   "metadata": {},
   "source": [
    "**Notes:** the code I've provided is using the CountVectorizer from scikit-learn to convert a collection of text documents into a matrix of token counts. The `fit_transform` method is used to convert the training reviews in the \"review\" column of the train dataframe into a sparse matrix (X) of token counts. It both fits the vectorizer on the training data and transforms the data simultaneously. The numbers stored in this vector represent the frequency of each word in the given review."
   ]
  },
  {
   "cell_type": "markdown",
   "metadata": {},
   "source": [
    "## Exercise 3 \n",
    "a) Train LogisticRegression model on training data (reviews processed with CountVectorizer, ratings as they were).   \n",
    "b) Print 10 most positive and 10 most negative words."
   ]
  },
  {
   "cell_type": "code",
   "execution_count": 38,
   "metadata": {
    "collapsed": true
   },
   "outputs": [
    {
     "name": "stdout",
     "output_type": "stream",
     "text": [
      "Accuracy: 0.9319060897724206\n"
     ]
    },
    {
     "name": "stderr",
     "output_type": "stream",
     "text": [
      "/home/viktoryia/.local/lib/python3.11/site-packages/sklearn/linear_model/_logistic.py:460: ConvergenceWarning: lbfgs failed to converge (status=1):\n",
      "STOP: TOTAL NO. of ITERATIONS REACHED LIMIT.\n",
      "\n",
      "Increase the number of iterations (max_iter) or scale the data as shown in:\n",
      "    https://scikit-learn.org/stable/modules/preprocessing.html\n",
      "Please also refer to the documentation for alternative solver options:\n",
      "    https://scikit-learn.org/stable/modules/linear_model.html#logistic-regression\n",
      "  n_iter_i = _check_optimize_result(\n"
     ]
    }
   ],
   "source": [
    "#a)\n",
    "model = LogisticRegression(max_iter=300)\n",
    "\n",
    "model.fit(X, y)\n",
    "\n",
    "y_pred = model.predict(X_test)\n",
    "\n",
    "accuracy = accuracy_score(y_test, y_pred)\n",
    "\n",
    "# Print the accuracy\n",
    "print(\"Accuracy:\", accuracy)"
   ]
  },
  {
   "cell_type": "markdown",
   "metadata": {},
   "source": [
    "**Notes:** I have constructed the model to identify positive and negative words. A rating of -1 signifies a predominantly negative sentiment in the review, while a rating of 1 indicates the opposite. \n",
    "\n",
    "The `fit` method trains the model using logistic regression to fit the appropriate regression curve. It takes an array of features as parameters and an array representing the response to these features.\n",
    "\n",
    "The `accuracy_score` function from the sklearn.metrics package computes the accuracy score, which measures the accuracy of a set of predicted labels compared to the true labels."
   ]
  },
  {
   "cell_type": "code",
   "execution_count": 39,
   "metadata": {
    "collapsed": true
   },
   "outputs": [
    {
     "name": "stdout",
     "output_type": "stream",
     "text": [
      "10 Most Positive Words:\n",
      "[('con', 2.363704785420151), ('skeptical', 2.3254723739261673), ('saves', 2.2961637710770737), ('minor', 2.2826530824340687), ('lifesaver', 2.2762912432284015), ('thankful', 2.239363507406992), ('penny', 2.16468680124172), ('rich', 2.148889776606883), ('ply', 2.128867344715062), ('pleasantly', 2.115494193289265)]\n",
      "\n",
      "10 Most Negative Words:\n",
      "[('dissapointed', -3.1550618988793486), ('worst', -2.9111972542586697), ('worthless', -2.782662160089873), ('disappointing', -2.7016769531443563), ('poorly', -2.647664073446169), ('useless', -2.628994424489647), ('unacceptable', -2.4496464850927486), ('unusable', -2.4148424944849323), ('nope', -2.379367108150789), ('disappointed', -2.271045230130971)]\n"
     ]
    }
   ],
   "source": [
    "#b)\n",
    "\n",
    "feature_names = np.array(vectorizer.get_feature_names_out())\n",
    "\n",
    "# Get the coefficients from the trained model\n",
    "coefficients = model.coef_[0]\n",
    "\n",
    "# Create a dictionary mapping feature names to coefficients\n",
    "features_coefficients = dict(zip(feature_names, coefficients))\n",
    "\n",
    "print(\"10 Most Positive Words:\")\n",
    "print(sorted(features_coefficients.items(), key=lambda x: x[1], reverse=True)[:10])\n",
    "\n",
    "print(\"\\n10 Most Negative Words:\")\n",
    "print(sorted(features_coefficients.items(), key=lambda x: x[1])[:10])\n"
   ]
  },
  {
   "cell_type": "markdown",
   "metadata": {},
   "source": [
    "## Exercise 4 \n",
    "a) Predict the sentiment of test data reviews.   \n",
    "b) Predict the sentiment of test data reviews in terms of probability.   \n",
    "c) Find five most positive and most negative reviews.   \n",
    "d) Calculate the accuracy of predictions."
   ]
  },
  {
   "cell_type": "code",
   "execution_count": 38,
   "metadata": {
    "collapsed": true
   },
   "outputs": [
    {
     "name": "stdout",
     "output_type": "stream",
     "text": [
      "Review: This is a very cute toy, but I soon realized that the battery compartment cannot be accessed and the batteries cannot be replaced. I should have researched this item better.\n",
      "Actual Rating: -1\n",
      "Predicted Sentiment: -1\n",
      "\n",
      "Review: This thing is well worth the price I paid, my little guy loves it!  He is 8 mos old, and big for his age.  When we first bought it, we had the seat pulled up the highest it would go, which worked for a while.  Eventually, DS got too big, so we had to figure out a way to shorten the straps.  For a while, we did as someone else suggested and put tennis balls between the straps and the underside of the three spreaders.  That worked.  My husband didn't really like that solution though, so he took a large carabiner and wrapped the main hanging strap (between the adjuster and the spreaders) around the carabiner a bunch of times.  If we want to make the seat higher off the ground, we just wrap the strap some more.  As for the bumpers, our guy is so active in this thing, if it was in a regulation width doorway, they would be getting used all the time!! (we have a double wide doorway for him to play in).\n",
      "Actual Rating: 1\n",
      "Predicted Sentiment: 1\n",
      "\n",
      "Review: I purchased this for my daughter when she was 7 months old primarily to use as a stationery walker.  She absolutely loved the lights and music and I liked the fact that she not only could spin in a circle but actually WALK back and forth.  When she began walking I removed the seat and she loved to run and stomp on the piano keys to activate the music.  She uses it more than any toy she has.  It is by far the BEST stationery walker on the market because it lasts from infancy well into toddlerhood.\n",
      "Actual Rating: 1\n",
      "Predicted Sentiment: 1\n",
      "\n",
      "Review: When I saw these I was sooooo excited because I used the Playtex drop-ins system for my first and like the idea of the drop-in, but prefer the Breastflow nipple. So this seemed like the best of both worlds!!! When had my second son, I decided to try the regular Breastflow bottles (the drop-in Breastflow wasn't out yet) and it was okay. My son liked the nipples, but sometimes they leaked-not all the time though so maybe user error??? So when I bought this system, I had both this and the original system...which would be fine if the tops were interchangeable. But since they aren't and they look almost identical, it's hard to tell if you have the tops to the original Breastflow or the drop-in Breastflow until you put it together and the drop-in one won't close. Also, my husband and sitter say these bottles leak. I exclusively breastfeed so I am not usually the one to give my son a bottle so this could also be user error?? I don't know. All I know is we ended up going back to the Playtex drop-in system.If this system worked (didn't leak) it would have been great...the marriage between to great products. But since it didn't, I only gave it two stars. Maybe someone else could get it to work better than we did???\n",
      "Actual Rating: -1\n",
      "Predicted Sentiment: -1\n",
      "\n",
      "Review: I got this to go along with my Joovy Caboose Stand On stroller and its great. It was kind of hard to get on at first, but once I got it on, I haven't had any issues with it. Plenty of room for drinks, phone, keys, etc. Very happy with my purchase.\n",
      "Actual Rating: 1\n",
      "Predicted Sentiment: 1\n",
      "\n"
     ]
    }
   ],
   "source": [
    "#a)\n",
    "\n",
    "# Predict sentiment on the test data\n",
    "y_pred = model.predict(X_test)\n",
    "\n",
    "# Print the predicted sentiment for the first few reviews\n",
    "for i in range(5):\n",
    "    print(\"Review:\", test[\"review\"].iloc[i])\n",
    "    print(\"Actual Rating:\", y_test.iloc[i])\n",
    "    print(\"Predicted Sentiment:\", y_pred[i])\n",
    "    print()\n",
    "\n"
   ]
  },
  {
   "cell_type": "code",
   "execution_count": 39,
   "metadata": {
    "collapsed": true
   },
   "outputs": [
    {
     "name": "stdout",
     "output_type": "stream",
     "text": [
      "Review: This is a very cute toy, but I soon realized that the battery compartment cannot be accessed and the batteries cannot be replaced. I should have researched this item better.\n",
      "Actual Rating: -1\n",
      "Predicted Probabilities: [0.75163832 0.24836168]\n",
      "\n",
      "Review: This thing is well worth the price I paid, my little guy loves it!  He is 8 mos old, and big for his age.  When we first bought it, we had the seat pulled up the highest it would go, which worked for a while.  Eventually, DS got too big, so we had to figure out a way to shorten the straps.  For a while, we did as someone else suggested and put tennis balls between the straps and the underside of the three spreaders.  That worked.  My husband didn't really like that solution though, so he took a large carabiner and wrapped the main hanging strap (between the adjuster and the spreaders) around the carabiner a bunch of times.  If we want to make the seat higher off the ground, we just wrap the strap some more.  As for the bumpers, our guy is so active in this thing, if it was in a regulation width doorway, they would be getting used all the time!! (we have a double wide doorway for him to play in).\n",
      "Actual Rating: 1\n",
      "Predicted Probabilities: [0.01417074 0.98582926]\n",
      "\n",
      "Review: I purchased this for my daughter when she was 7 months old primarily to use as a stationery walker.  She absolutely loved the lights and music and I liked the fact that she not only could spin in a circle but actually WALK back and forth.  When she began walking I removed the seat and she loved to run and stomp on the piano keys to activate the music.  She uses it more than any toy she has.  It is by far the BEST stationery walker on the market because it lasts from infancy well into toddlerhood.\n",
      "Actual Rating: 1\n",
      "Predicted Probabilities: [0.03374787 0.96625213]\n",
      "\n",
      "Review: When I saw these I was sooooo excited because I used the Playtex drop-ins system for my first and like the idea of the drop-in, but prefer the Breastflow nipple. So this seemed like the best of both worlds!!! When had my second son, I decided to try the regular Breastflow bottles (the drop-in Breastflow wasn't out yet) and it was okay. My son liked the nipples, but sometimes they leaked-not all the time though so maybe user error??? So when I bought this system, I had both this and the original system...which would be fine if the tops were interchangeable. But since they aren't and they look almost identical, it's hard to tell if you have the tops to the original Breastflow or the drop-in Breastflow until you put it together and the drop-in one won't close. Also, my husband and sitter say these bottles leak. I exclusively breastfeed so I am not usually the one to give my son a bottle so this could also be user error?? I don't know. All I know is we ended up going back to the Playtex drop-in system.If this system worked (didn't leak) it would have been great...the marriage between to great products. But since it didn't, I only gave it two stars. Maybe someone else could get it to work better than we did???\n",
      "Actual Rating: -1\n",
      "Predicted Probabilities: [0.83991037 0.16008963]\n",
      "\n",
      "Review: I got this to go along with my Joovy Caboose Stand On stroller and its great. It was kind of hard to get on at first, but once I got it on, I haven't had any issues with it. Plenty of room for drinks, phone, keys, etc. Very happy with my purchase.\n",
      "Actual Rating: 1\n",
      "Predicted Probabilities: [0.0011006 0.9988994]\n",
      "\n"
     ]
    }
   ],
   "source": [
    "#b)\n",
    "y_proba = model.predict_proba(X_test)\n",
    "\n",
    "# Print the predicted probabilities for the first few reviews\n",
    "for i in range(5):\n",
    "    print(\"Review:\", test[\"review\"].iloc[i])\n",
    "    print(\"Actual Rating:\", y_test.iloc[i])\n",
    "    print(\"Predicted Probabilities:\", y_proba[i])\n",
    "    print()\n",
    "#hint: model.predict_proba()"
   ]
  },
  {
   "cell_type": "code",
   "execution_count": 40,
   "metadata": {},
   "outputs": [
    {
     "name": "stdout",
     "output_type": "stream",
     "text": [
      "Five Most Positive Reviews:\n",
      "Predicted Probability (Positive): 1.0\n",
      "Actual Rating: 1\n",
      "Review: A little background on me: I have three kids (5, 3 and 5 mo. at the time of the purchase). I bought this seat for my rear-facing 3 year old.  I have done a lot of research over the last 5 years on carseats.  I'm a critically minded mechanical engineer and I'm very aware of carseat safety (aspiring to find time to be CPS Tech).  We were using a Triumph Advance prior to this seat, which has as many safety features than the original Britax Marathon line... but when this one came out, I knew it was time for an upgrade.  The other seats I was looking to get were the Graco Nautilus or the Recaro Prosport.The big safety reasons I bought it are1) The steel bars.  Not that important rear-facing, but a big deal forward facing.2) The tether.  One of the few carseats that tether rearfacing, and having two points of attachment is huge in stopping the rotation of the carseat during a side impact crash for both rf and ff.3) The headwings.  Not that important (safety-wise) with a rear-facing baby, but with an older, taller child it seems necessary.  Plus I wanted to stop the head-flop of my sleeping kids.But when I got it, I was blown away with how great some of the other feature on this seat are.The sliding bars on the latch is so easy to get a super tight install.  Mainly, because you can tighten each side separately, and all of the force you use in pulling goes directly into tightening, not into the friction of sliding the belt across the seat.  Plus, you can put all of your weight on the side that you want to tighten, instead of having to get the whole carseat pressed into the seat at once.  I already had a seat with adjustable strap height, so that wasn't new to me, but still I use it all the time.  Plus, the ease of switching rear to forward facing has been specular.  I wasn't expecting to use it in it's many configurations, but whenever I needed to install a seat for a different kid or a different car I always picked this seat.  It was the easiest to install, and fit every kid I've ridden with that needs a carseat.No more head flop!  It actually seems the recline angle of seat does most of the work in supporting the head (even forward-facing), than the actual headrest do.  The tether is also great for adjusting a rear-facing seat to just the angle you want without towels or pool noodles.The tightening strap is easy to get to and easy to slide.  The release button is also easy to get to, easy to slide, and is covered with fabric so that kids sticky fingers won't gunk it up/ loosen it while driving.  The instructions are far more detailed than most car seats.  The labeling is fabulous, and there is even a quick guide under the back of the back support if you need to install it with a belt and need a refresher.Some people complain that the top buckle easy for a child to undo.  It could be a problem if you have a strong toddler, or a strong-willed older child.  However, it's not been a problem for me. My oldest can clip hers (on her Recaro, but it's the same clip) and unclip it by herself, saving me some time.  My 3 year old can also clip his, but even at 3 (now almost 4), he still can't unclip it.  It's design is also easier for an adult to do one-handed (or at all) than the other seats I've used.I was worried the velcro on the straps/seat would scratch my child, but they're out of the way from scratching anything.It does have a surprisingly low profile and width, and I could get in the driver side of my friends small Saturn rfing, next to another rearfacing seat.  In my Taurus, I was able to use two of these seat and booster in the middle. I suspect that if I had a third NextGen Britax, I could seat all three across.My complaints, although minor:It's a bit tricker to get a tight install with the belt.  Once I figured out my method, it was much easier -- but only if I have a door next to the seat.  My method is clip it, take the slack out by pulling on the shoulder strap part, and then yank the whole seat away from the buckle, and repeat.  It does get it pretty tight).  If you're installing it on a side with no door, it's a lot harder to get really tight.The headwings are just EPS (covered in fabric), no backing.  Not really a big deal, but from a consumer standpoint, it 'looks' cheap.  Plus, they will likely break if abused, but there's no way it could be done while the child is strapped in.  Some thin plastic on the back might give a better impression of quality, and possibly a little more resilience to abuse.I've read several of the other comments on this seat, and I'm quite surprised by some of the negative ones.  I think that once they shop around a bit and get some experience with other seats, they'll be back.  The weight is as expected.  It's a sturdy seat w/ steel bars, but it's not like it's made of lead. It's not going to be light like an infant seat, and I think many people have too high of expectations when transitioning to a convertible. I haven't found carrying it from car to car a problem, and I'm very petite.Overall, I'm so glad I bought this seat.  It's great for ERFing (he's almost 4).  I even bought a second one a few weeks after this purchase (at a higher 'sale' price) for my 5 month old.  I've also 'accidentally' convinced 3 other people to buy at least one of a next gen Britax, once they saw how easy it was to install and/or its low profile.  I did end up getting the Recaro Prosport for my eldest, as she would only get a few years out of this seat... But I think in retrospect, it would have been fine to buy this for her, and wait a fews years and just buy a booster better suited for an older child, instead of going for a harness-to booster seat.  Also, when I compared it to the Graco Nautilus my mom bought for my eldest, this one, hands down.  If you were looking for a low-profile, easy to use carseat to take your child from 0-7, this is a great choice.\n",
      "\n",
      "Predicted Probability (Positive): 1.0\n",
      "Actual Rating: 1\n",
      "Review: This review is going to compare 3 Ju-Ju-Be bags.  I'm writing a lot because I wish I had this info before I started shopping for a diaper bag.  I am a first time mom so I am probably packing different than a mom that's been around the block.  Also, we are cloth diapering, but not 100% of the time.  We use the disposable, biodegradable inserts for the cloth covers when we want to pack light - and those things take up less room than traditional disposables.  But I wanted a bag that gave me options for either type of diaper.  Here is what I found.  I hope reading this long post will help you save some time and return shipping fees while shopping!!!I already had the Ju-Ju-Be BFF and Be Prepared before I bought the Be Right Back backpack.  I bought them at a different store (one with an amazing return policy) so I left the tags on and debated the bags for a long time.  I packed them and repacked them so many times and this is what I came up with.  The BFF is too small and the Be Prepared is too big.  Both are GREAT bags.  This company really makes quality products with excellent organization!  Let me tell you, I'm a bit of a snob when it comes to quality - I will not deal with poorly made stuff breaking down on me.  Straight to the donation station or trash if something sucks.  This company does not suck...they manufacture very well made products with very good material, zippers, snaps, magnets, etc.  Go to their website to learn about the fabric treatment process and ease of care.  (My friends that bought the cheapo bags are now drooling over the Ju-Ju-Be quality.)  So I loved both bags and I really wanted to keep them.  But I couldn't get past the BFF just being a little too small (and I'd have to have a second bag with me)...and the Be Prepared is super huge and I felt like I was carrying a suitcase.BFF:  This bag is really awesome.  The organization is surprisingly smart.  The inside pockets look small but they hold tons.  You can fit a full size wipes pack in any of the four large interior pockets (but you can't fill all pockets that much at the same time).  The smaller back interior pockets with the zippers are smaller than the open pockets but still hold quite a lot of little stuff like bibs, socks, Boogie Wipes or whatever kind of little stuff you carry around.  The front interior zipper pocket is long and shallow.  I kept putting my nursing cover in that pocket...anything bigger would bulge into the front &#34;mommy pocket&#34; and make that space smaller.  The outside pockets are insulated and hold a baby bottle or water bottle...I have a Kleen Kanteen 27 or 28 oz bottle and it did fit in that pocket but it stuck out a lot because its really tall...I didn't like that (if I was keeping the BFF bag I'd have to get smaller water bottle, and I didn't like that because I drink tons of water).  If you load up all the inside pockets you don't have a whole lot of room left for the diapers and blankets etc.  The main compartment leaves much to be desired as far as space...if you're running to the coffee shop with your girlfriends and going home you'll be fine...but you cannot pack for a whole day in here.  The &#34;mommy pocket&#34; on this bag is well organized but I found it a little too small.  I needed to fit all of my personal items in there because there was no room in the main part of the bag.  I don't carry that many things for myself: a wallet, coin purse, pen, chap stick, tiny hand lotion, cell phone, eye drops and extra pair of contact lenses.  I could not fit all that in the mommy pocket even when I put my cell phone in the separate little cell phone pocket.  My take on this bag: Its wonderful if you pack really light.  I was not even trying to get cloth diapers in there and it was still tight.  If you don't need burp clothes and a blanket and an extra outfits you'd be fine...maybe a mom with one toddler that is past the bottle stage.  I'm bummed that it didn't work because I really wanted to keep it.  It really is a cute bag.BE PREPARED: This bag is the mother ship!  Its very much like the BFF but way bigger.  I was thinking of using it for our overnight or weekend bag...if i were to pack this one like the baby's suitcase, and use the Be Right Back backpack like normal when were out of town I'd have everything I needed in those two bags for a weekend.  However, for normal daily use, the Be Prepare is a mammoth and I don't want to lug it around with me while I'm trying to hold my baby...it would fit all my cloth diapers and the kitchen sink...but its over kill for me with one infant.  I might keep this wonderful big bag anyway for weekend trips because we do a lot of those and I think its cool that they match...baby luggage :)BE RIGHT BACK:  This backpack is super cool.  It is very different from the other two bags.  It's almost perfectly in the middle of the 2 other sized bags.  It has way less of the small inside pockets.  Really only 2 big pockets on inside and 2 on outside (plus mommy pocket and 2 outside bottle pockets).  I do not mind at all that it has less pockets because I keep most of my really tiny stuff in the Ju-Ju-Be accessory bags.  If you have a small bag/pouch and don't know where to put it...stick it in the mesh zipper pouch.  This bag is comfortable to wear - definitely more comfortable than the BBF backpack straps even though I loaded it with more items (I think that is because the bag is longer so it sits on your back differently).  I have a bad back from a car accident so comfort is something I really pay attention to.  This bag is easy to get in and out of.  It opens flat, like a suitcase, so no digging for stuff.  Its shaped like a traditional backpack but I don't feel like I'm back in college when wearing it because the prints get big style points.To give you an idea of the space, here is how I pack it up:  I have my breast feeding cover and 6 disposable breast pads in the front pocket with room to spare.  Mommy pocket fits all my personal items that I listed above with room to spare.  Side bottle pockets are deeper, and my tall water bottle that was too big for BFF fits great in this bag.  I have easy access burp clothes in the other bottle pocket because I am still breast feeding (large baby bottle or sippy cup would fit easily).  The pocket on the top, by the grab handle, is super useful.  Right now I am using it for all my different kinds of small wipes packs: face wipes, paci wipes, anti bac wipes, hand sanitizer gel, etc. they all fit.  You could use that spot for so many different things that you want easy access to.  The side zipper compartment for the changing pad is very smart.  Its so out of the way.  I have the pad that came with it in there now and a pack of sanitizing wipes for public bathroom changing table.  I'll need a bigger pad when baby grows but you could fit a massive pad in there...or magazines, or change of clothes, or blanket, or iPad, or anything flat and you really can't even tell that you filled it up...its very comfortable against your back while you wear the bag.  Inside the bag in the zipper mesh pocket I have a large receiving blanket, two changes of 0-3 month clothes, 2 socks and 2 bibs.  In the back mesh pocket I have a Be Mine (packed as a first aid kit) and a similar sized bag with a little mom-fresh-up kit I put together for when I have baby puke in my hair and I look like a mess...kinda a get it together and look normal kit.  (I never could have fit that kit in the BFF and now that I have it I think its important to have somethings for yourself so you don't feel yucky).  Those items never leave the bag without getting restocked.Aside from what I just listed, in the main inside compartment I can fit 2 large burp cloths, and 2 Be Quick bags (one filled with baby items, the other filled with my disposable diaper inserts for when I don't want to bring cloth diapers), a full Fuel Cell cooler, and baby's favorite lovey.  When I do want to carry my cloth diapers I ditch the fuel cell and the Be Quick with the disposables in it.  I can then fit my cloth diaper pouch (the pouch I use is big and could fit 4 full size AIO diapers, 8 cloth wipes, wipe spray, a thin changing pad, and wet bag - so it takes up a lot of space)...then I can still fit the Be Quick with the baby items, the burp cloths, the lovey, a little bag with teethers, and my Rock'n Baby sling.So, the Be Right Back fits tons!  And it works wonderfully if you just put a few things in there.  I'm sure I'll be packing differently as my baby's needs change.  But for now, with an infant, this bag has got me covered for all day in cloth diapers or all day in disposables with a big packed lunch for mom and dad.  It also still works great to pack it light for a shorter trip...I just haven't gotten to where I can pack light all the time personally.  The bag is very versatile as far as what you can take with you.  Where it is not versatile is carry style.  Its a backpack...if you don't like backpacks keep shopping.All the Ju-Ju-Be accessories are made to fit into the main bags.  I highly recommend getting the accessory bags so you can organize yourself and know that your stuff will always fit in your main bag.  Using the smaller bags to organize makes it SO very easy to switch from bag to bag without leaving anything behind on accident.  I love the organization!  There are a few things that are kinda vanishing from the companies website...I think they are revamping a few designs because they are running out of some of their most popular accessories...I expect to see them come back with a newly added pocket or zipper or something.Ju-Ju-Be is good about having lots of print selections to choose from.  I do find a lot of the prints too feminine for my taste, which is why I love the Royal Envy print...honestly, if that Be Prepared bag I have was a different print I'd just return it and buy that bag again later when I really need it...but Royal Envy is discontinued and I really don't want to part with it knowing it won't be available later.  If you are new to this company know this...once you pick out your main bag, if you want to load up on accessories that match you better not wait too long.  I can't believe how fast they sell out - then the print is discontinued and you are left to sadly troll Ebay looking for the pieces you want.  Just buy them when you get the main bag.  They are worth it, and everything from this company has great resale...there are FB groups devoted to buy, sell, trade Ju-Ju-Be stuff.(Side note: This bag is has a very sporty look.  Great for normal days running around.  I also bought a Nest, Dexter diaper bag for dressy occasions.  That bag is very different from this one and it's awesome too but I haven't reviewed it.  And that bag fits all the Ju-Ju-Be accessory bags that I love.  I mentioned my husband as a men's diaper backpack.  It's the Quicksilver Daddy Day Bag.  Great man bag!)I was going to proof read and spell check but after writing all this I'm over it!  Sorry for any typos.  Really hope this helps you.\n",
      "\n",
      "Predicted Probability (Positive): 1.0\n",
      "Actual Rating: 1\n",
      "Review: Background- I've been using Grovia diapers for four years (when I bought them they were called grobaby). I have 6 shells and 12 inserts. I purchased them for my oldest daughter and used them only part time for 2.5 years until she was potty trained. She still needed pull-ups at night for a long time, so I used these until she was ready to go without. She was probably 30lbs when she stopped wearing them, and they fit well. They were stored for a year until I had my other daughter, who is now 5.5 months and exclusively CD'd. I didn't use them for either girl until about a month old, since I had tiny babies.Pros- They're (mostly) organic. When they were new they were so soft and thick. Now they're definitely worn in and not so soft anymore.-I love how easy they are to use. As a first time CDer, these were perfect. Just snap the inserts in, strap on baby. Easy for pretty much anyone. No stuffing, unstuffing, folding, etc.-I love that I'm able to reuse the shells a couple of times until they're stinky or pooped in, or too wet. Some people didn't find this to be true, but after four years of use I can confidently say it's possible, and happens often for me.-I find them easy to wash, and love that the insert and shell are separate, since I machine dry the inserts and line dry the shells, which has helped to prolong their life. Contrary to some reviews, I don't find it difficult to clean poop from shells. It just agitates out of the mesh in the washing machine.-One size. Although I didn't use these diapers for my tiny babies, they are absolutely a birth to potty training diaper. My oldest was 30+lbs when she stopped wearing them (almost four yrs old). She has always been a small kid with no chunk though, so I'm not sure how long a thicker baby could wear them for.-Designs and colours are cute, nothing obnoxious, and I like that the snaps match the shell colour. Makes all those snaps less noticeable. The snaps are very well made and strong; not one has come loose or fallen off.-Versatile. Not only can you use one shell multiple times before needing to wash it, but you can also use the shells as covers for prefolds and other diapers needing covers. I used prefolds quite a bit during my daughters' first few months (can get a more custom fit on tiny babies, and I found them to be extra soft on that delicate new skin). I didn't bother buying a bunch of sized covers for my prefolds, and used the grovia shells instead. They worked perfectly!-Great for travel/shopping etc. You can leave the house with an extra shell and a few inserts, instead of 3/4 whole diapers, since the shells can be reused. I've been out with only one shell before, and I was glad I had these. I quickly rinsed the poop out of the shell, dried under the air drier in a public bathroom, and snapped in a new insert in less than 5 minutes.-Soft shells, soft elastic on the legs, very few red marks.-Few blowouts or leaks. I've only experienced a few leaks, and I think this is mainly because some inserts were too long for the shell in its smallest setting. When the shell went up in size, the issue was fixed. Also, the aplix tabs (Velcro stuff) makes these diapers super custom and snug, great for putting a CD on a squirmy baby. (The aplix also happens to be a con)Cons- the Velcro tabs. This is probably due to the fact that they're 4 years old, but the tabs are starting to curl up and not stick so well. This only began to happen, but may have began sooner if I had CD'd exclusively the first time. I can switch them out for snaps, so I may do that eventually, since the rest of the shell is in perfect condition.-Holds stink. The inserts are still in good condition, but I've had problems with the nasty ammonia smell. They really seem to hold the stink, so stripping and a religious wash routine has been key to keep them fresh smelling. Maybe this has been my own fault, because I had no idea what I was doing in the beginning, but who knows.I sun bleach them regularly, so they still look good, but they need to be machine dried for at least 20 minutes to stay soft.-Absorbency. My biggest issue with these diapers is that they aren't absorbent enough. My kids are heavy wetters, so I've never been able to use these at night. Even with the booster. Also, when wet, the inserts ripple up or buckle and don't seem very comfortable. My baby's bum gets red marks on it if left on too long, from the ripples of the top layer of the insert. I use the bumgenius freetimes with microfiber inserts at night and have no issues. Although Id rather have a natural fabric next to my daughters bum at night, the microfiber wicks the moisture away so well and we don't have to double up.-Consistency. On the smallest size, some inserts are too long for the rise of the diaper and poke out, which can cause leakage. The inserts aren't uniform in size, which isn't a huge issue, but some are longer or wider than others which is just a bit annoying.-On the bulky side. My bumgenius freetimes are less bulky, but not by much. This doesn't bother me too much, since it makes perfect sense that a cloth diaper be bulkier than an uber trim disposable.Verdict- love them enough to buy more, but would probably get the snaps next time. I love that Velcro is easier to use, but the diapers would last much longer with snaps. I'm also curious as to how the new grovias compare to the old ones. I very much recommend these!!\n",
      "\n",
      "Predicted Probability (Positive): 1.0\n",
      "Actual Rating: 1\n",
      "Review: My dad just bought this car seat for me/my son as the next step after his infant carrier. He's large for his age and at 11 months it was time for us to \"upgrade\". My dad made the purchase at Sam's Club and the price was a lot lower than Amazon ... I love Amazon but wanted to put that out there as an FYI - if you have Sam's near you (or Costco - these seats are sold there as well), try there first to get a better price.So out the box, the first impression of the seat was that it seemed sturdy, easy to use and had minimal \"bells and whistles\" (with my Chicco KeyFit infant carrier I'm not used to bells and whistles so that's fine by me). I took it out in the living room and just started looking over the seat and reading through the manual to familiarize myself with all the features, how to adjust everything, how to recline the seat (love this feature!), etc. I tend to think some of the negative comments here may be due to skipping over this process? I feel it's a best practice to check out a product of this nature to make sure you have as much knowledge as possible before getting upset that it doesn't fit properly in your car. ... anyway ...After reviewing the seat, fiddling with the straps and the handy recline feature, and understanding the basics of installation, we took it to the car to test out the fit. My son is still REAR FACING so my review is based on that installation; I cannot yet speak to forward facing installation.My car only has LATCH in the center seat so that's where we installed the car seat (it's the safest spot anyway). My dad and I strapped it in together and it was relatively easy to install. The LATCH strap feeds across/under the seat cushion (same if you use seat belt installation), then you click in each of the 2 LATCH hooks and tighten the seat and you're done. However, this method didn't provide a very tight fit and we weren't completely comfortable leaving it that way. [NOTE: I have read that you should test the security of the seat installation by trying to move the seat *at the point of attachment (LATCH or seat belt)*, NOT at the back of the seat when rear facing (when a seat is installed rear facing, that part of the seat will always have more movement and it's not the most accurate test of a secure installation)].At that point, we decided to use the \"foam noodle technique\" to see if that could get the seat tighter. Plus the back seat of my car has a slight incline as I think most cars do, so even having the car seat in the fully reclined position (which is recommended in the manaul for rear facing installation), my son would have still been more \"upright\" than I'd like. So we got out a chunk of compressed foam to level out the seat base (about 4\"x8\") and installed the carseat on top of that. It fit like a glove! The seat wasn't going anywhere - it was really tight and secure now; I was 110% pleased and confident with the installation and felt very secure and at-ease putting my son in the new car seat.As for the seat itself, I've seen a few comments here and elsewhere that say the fabric and the padding are inferior; I didn't get that impression at all. I feel like the seat is very comfortable and sufficiently padded. I like the inclusion of side impact protection at the head. The straps are also very easy to adjust and have soft pads at the shoulders. I haven't had to move the straps to different positions other than loosening or tightening; there are 3 positions for the buckle (the strap in the seat, not the harness straps) and the instruction manual seemed pretty straight forward if you need to make that adjustment. As for the harness straps, they are adjustable by simply raising and lowering the back of the seat with the little red levers at each side of the head rest. You twist in the handles and lift or lower the back of the seat and the shoulder straps move with it. So extremely easy. With my son strapped in, I feel he is very secure and the seat is the right size and shape for him. It's pretty simple to get the straps on him properly and he seems comfortable. I like that there is a small pillow included as well - kind of a nice feature for longer drives.I haven't yet taken the seat cushion completely off, but from what I can tell it seems like it would be pretty easy. Of course you'd have to deal with the harness straps which I think is the most difficult part of taking off any car seat cushion. The cover is attached with little elastic loops that hook onto the plastic seat base ... just taking off a few of those loops during the installation process and then reattaching them was pretty simple.The arm rests are really cool too. As my son gets bigger I'm sure he'll put them to more use, but for the now the option of easily folding them up is really nice. And the removeable cup holder is easy to use. Again, a feature better suited for an older child, but really nice to have.Overall I'm very pleased with this seat and the quality/safety/longevity for the price. I really couldn't beat it ... I've been looking for a car seat to replace the infant carrier for a while now and I just haven't found one that's a 3 in 1 seat for less than $150 or so (I had decided to get a convertible seat and then buy a booster once he outgrew that). Now that I have seen this seat in person and spent some time with it, I can say that I would pay $150 for it, but knowing I got it for $80.00 is even better. Such a steal. I definitely recommend this seat.\n",
      "\n",
      "Predicted Probability (Positive): 1.0\n",
      "Actual Rating: 1\n",
      "Review: The Thirsties are really an awesome concept that are perfect for the parent or caretaker who opts for cloth diapers.  I used cloth diapers and aside for the little extra work of laundering them I was quite pleased with them.  For one thing, I never had to battle diaper rash because I definitely knew when the baby needed to be changed.I love several things about the Thirsties, including the awesome selection of available styles.  The adjustability factor is great.  When the baby grows you simply adjust them to fit.  I&#8217;d buy a few of these because even though you can wipe them in between changes, my preference is for ultra-clean.They do wash and dry up very quickly, an especially good deal when you have that occasional messy, smelly liquid problem.  It happens to the best of us.  You can pair these with the [[ASIN:B003LPUQOG  Stay Dry Duo Insert]], which are perfect for when you are out of the house for longer periods of time and can&#8217;t change as often as you&#8217;d like.FEATURES:&#9658;  New, stronger and more durable hook & loop&#9658;  For an AI2 diaper pair with ourStay Dry Duo Insert&#9658;  Pliable, breathable ultra-comfortable waterproof fabric&#9658;  Wipe wrap clean between diaper changes&#9658;  Trim fit&#9658;  Leg gussets for advanced leak protection&#9658;  Grows with your baby so you only need two sizes from birth to potty&#9658; Available with hook & loop or snap closureThirsties also hasDuo Hemp Prefoldavailable if you haven&#8217;t already purchased your cloth diapers.  I opted for cloth diapers for several reasons, but primarily I felt that they were better for my baby.  Soft against the skin, no diaper rash, I knew exactly when to change, and, of course, in the long run they were cost effective.The Thirsties would make a perfect shower gift that would be very much appreciated by the Mom who has indicated they want to use cloth.  I&#8217;ve never seen Thirsties diaper covers before, but I&#8217;m definitely sold on the fit, the practical aspect, and the style.  Perfect!THIRSTIES:Stay Dry Duo InsertThirsties Duo Hemp PrefoldThirsties Fab WipeFab Doublers Soft Cotton VelourThirsties Booty Love Diaper OintmentThirsties Wet Diaper BagThirsties Diaper Pail Liner\n",
      "\n"
     ]
    }
   ],
   "source": [
    "most_positive_indices = np.argsort(y_proba[:, 1])[::-1][:5]\n",
    "\n",
    "print(\"Five Most Positive Reviews:\")\n",
    "for index in most_positive_indices:\n",
    "    print(\"Predicted Probability (Positive):\", y_proba[index, 1])\n",
    "    print(\"Actual Rating:\", y_test.iloc[index])\n",
    "    print(\"Review:\", test[\"review\"].iloc[index])\n",
    "    print()"
   ]
  },
  {
   "cell_type": "code",
   "execution_count": 41,
   "metadata": {
    "collapsed": true
   },
   "outputs": [
    {
     "name": "stdout",
     "output_type": "stream",
     "text": [
      "Five Most Negative Reviews:\n",
      "Predicted Probability (Negative): 1.0\n",
      "Actual Rating: -1\n",
      "Review: Please see my email to the company:Hello,I am writing to voice my family's anger over your unsafe, cheap co-sleeper.  If you recall, I had a problem with my newly purchased co-sleeper back in May, which I immediately called about and was told to send the frame back.  At that time, I asked to speak to a supervisor about the situation, and was told that I would be contacted shortly.  However, Mayra was the only one who I was able to speak with, after numerous attempts to be put in contact with the supervisor.  After a huge delay due to mistakes on your end, I finally got the co-sleeper sent back to the company, after speaking with Veronica on June 13th.At this time (June 13th), I asked to speak with the manager of the company, and Veronica told me that Sharon was not in at the time, but would be in later that day.  I obviously never heard from Sharon, or anyone else from this company, for that matter, from that point on.  I was inquiring to speak with the manager after voicing my concern over just repairing the frame, instead of receiving a new product.We received the frame shipped back to us, without so much as an email or follow up from Arm's Reach.  The entire process to get our frame back took over a month from the time I first contacted customer service.  (I had initially asked for a replacement frame, since our daughter had been used to sleeping in it by this time, and I did not want to completely disrupt her sleep pattern while waiting for the repair, which it did).  The frame came back to us in a box with one sheet of paper, which did nothing to describe what was wrong with the frame, or what was done to \"repair it\".I use the term \"repair\" in disgust, since it clearly was never properly repaired.  We assembled the co-sleeper, again, according to exact instructions in the manual.  Two nights later, I noticed that now if I barely touched the rail of the co-sleeper nearest our bed, that it would collapse and had to be pulled back up into the lock position.  Obviously, we felt very uncomfortable using the co-sleeper, but after having dealt with your awful lack of customer service the first time around, I did not waste my time trying to reach Mayra, Veronica, or Sharon again.To avoid the problem of the collapsing side rail, we have been careful to not touch or even brush against it, for fear that it would collapse with our daughter in it.  Without touching it, it does stay up.  Tonight, (July 23rd) however, I laid my daughter down from the other side of the co-sleeper all together, and the other side rail immediately collapsed when I laid her in the co-sleeper.  She was in it!!!  I had not put any pressure on the side rail, it just collapsed.  After taking her out, waking her up in the process, and moving her elsewhere to be put to sleep for the night, I attempted to re-lock the side rail.  It took several tries, and does not seem secure at all.I can not believe that your remedy to fix the situation of a faulty co-sleeper was to send our same frame back to us \"repaired\", which still breaks and is worse off than when I first contacted you.  I am so turned off by your company, not only because of the safety hazards associated with putting a baby in this piece of crap product that you make, but the complete lack of care from the supervisor or manager. You would think that someone would be concerned that their products for babies are faulty and unsafe.  These are babies we are talking about here!  Not pets, not adults...innocent babies who need the safest place possible to sleep.  Your company disgusts me, and I am honestly surprised that you are still around.  Not for long, I am sure.\n",
      "\n",
      "Predicted Probability (Negative): 0.9999999999999718\n",
      "Actual Rating: -1\n",
      "Review: This is my second video monitoring system, the first being a Summer Infant Day and Night that we purchased in 2010 when our first child was born.  The Summer Infant model was (and still is) excellent.  The picture and sound quality are both great, and reliable.  But, as luck has it, that model is not expandable, and we're expecting our second child, so we decided to switch to a model that supported multiple cameras.  In terms of rave reviews and features, I should have gone with one of the Motorola models, but I was amazed by the bundle of features for the price with VTech, and took the bait.  We bought this system and one extra camera, and went to work setting them up at home in the nursery, and in the toddler's room.First, the picture quality is NOT GOOD.  Compared to the Summer Infant, it's a joke, especially the night vision.  Luckily my son has dark hair or I'd never be able to GUESS where he was in the picture.  If you need crisp images, do not get this model.  We're making do so far, as we can mostly tell where the toddler is in the picture, but it's terrible.Second, the sound quality and reliability is NOT GOOD.  The Summer Infant has crisp, continuous sound.  The VTech sound is tinny at best, and interference interrupts it every couple of seconds, in no particular pattern.  Moreover, the sound seems to turn itself OFF all the time.  I've been able to jog it back on by using the \"Talk\" feature to say something over the intercom to my son, and then the sound kicks back on awaiting his response.  Again, we're using it for him, but it's terrible.We have not used this yet for a newborn, and it's quite likely that we won't.  We still have our old Summer Infant, and unless the sound is continuous and the close-up picture is much better (the newborn camera will only be pointed at a crib, whereas the toddler camera is mounted up high for a (poor quality) view of the whole room) we'll probably use the Summer Infant for the newborn, as I'm not messing around with an unreliable system for a new baby.  If we end up going that route, I'll mount the extra VTech camera in toddler's room for added viewer angles, as we can't see the whole room with one camera, and I'll just tote around both parent units, one for each child.If I had known I was going to have to do that, I'd just have purchased another Summer Infant Day and Night.Morale of the story: if I had this to do over, I wouldn't have made this choice.  The product is trash compared to Motorola or Summer Infant.  However, it does do the job (just badly), and it has a bundle of nice features (temperature monitoring, lullabies (that my son hates), zoom (but NOT pan! and the zoom just pixellates the already terrible picture quality), and multiple camera support.  VTech seemed to try really hard to throw a lot into this for a low price, but forgot the two most important features: sound quality/reliability and picture quality.Sadly, one and a half thumbs down.EDIT: June, 2013 - Well, my dissatisfaction turned quickly into disgust.  Other reviewers have lamented the nonexistent customer service at Vtech: HEED THEM.  Our second wasn't born until April, and has been in our room, so we haven't really needed to USE this system until very recently.  We had set it up and ensured the camera angles were appropriate prior to her birth, but hadn't used the system.  Even so, somehow, this camera inexplicably broke.  The transformer (the box-part of the plug) has evidently blown: instead of having subpar video and audio, it now has ZERO video and audio.  The parent unit doesn't read the camera at all, instead eternally waiting for connection.  And the camera unit makes a loud popping noise from the camera itself every three seconds if it is powered on.  It cannot be powered off anymore without unplugging it -- the power button now only works one way: to turn on.  So, to recap: with LESS THAN A DAY OF USE, the camera unit does not transmit video, does not transmit audio, does not turn off, and makes loud noises.  In other words, this is worse than zero stars.  This is negative stars.  They should be paying US for housing these annoying products.BUT IT GETS BETTER (read: worse).  I contacted VTech, stumbled through their ridiculous online contact template (that doesn't seem to even anticipate receiving product failure communications) and filed my concern, asking for a refund, a replacement, an extra part (the camera itself doesn't need replacing, only the power cord...with a new power cord it would be back to functioning as a less than mediocre piece of 1990s video equipment, but it would at least WORK).  VTech's website assured me I would be contacted within two days.That was almost four weeks ago.  That's right.  Four weeks of radio silence.  I'm about to contact them for the THIRD time, but this company goes beyond all other bad reviews I've ever read, ever.  It's not that they refuse to accept responsibility, don't warrant the product, charge the customer shipping.  They might do all those things.  But who knows?  The company seems to collectively hide under the table whenever the phone rings, and, without being able to reach them, the consumer is completely up a creek.I've written many reviews.  I've NEVER had to write one like this.Buyer beware.\n",
      "\n",
      "Predicted Probability (Negative): 0.9999999999989814\n",
      "Actual Rating: -1\n",
      "Review: Looks really cute, however, the cloth smells funny and gave my baby some rash after 15 mins wearing.Requested a return, need to pay 25% restocking fee plus shipping.$25 order, maybe, $5 back eventually.Also, the return must be brand new condition!! Really! Unbelievable!Do yourself a favor and See the return policy by yourself before making an orderHello,Below is return instructions, this item must not be worn or used or the return will not be refunded.Thank you for ordering from us. Here is your RMA# as well as return instructions. All returns must be in brand new, original condition. Please read our return policy. Return policy link is provided for you in this email.**All refunds issued are determined by the outcome of inspections. Any return of costumes used, worn, signs of pet hair, human hair or washed will void all refund. All boxes for shoes NEED to be unmarked and in original condition. ALL returns NEED to be in original packaging to qualify for an authorized return!!**Please note: If you are returning a costume and need a different size, we suggest that you place a new order for the item you need. This will insure that you get the item quicker. If you order from us, simply email us your new order# and we will waive the restocking fee on your returns.Return Instructions:- ALL RETURNS NEED TO BE IN ORIGINAL PACKAGING-Items MUST BE POSTMARKED WITHIN 3 DAYS of  RECEIVING RMA (Today)-Simply repackage item-on the outside of the packaging please write RMA-We do not cover shipping so, please feel free to use any shippingmethod you like.-Item is also subject to a 25% restocking fee and all incurred shipping costs associated  with this return-Ship to Brands on Sale:\n",
      "\n",
      "Predicted Probability (Negative): 0.9999999999967493\n",
      "Actual Rating: -1\n",
      "Review: PLEASE HEED THE OTHER REVIEWERS WARNINGS ON THIS.  I am not one to write a review, but the Evenflo high chair is so dangerous and the company so negligent, that I had to let others know.  We have the Evenflo Majestic Highchair which has recently, finally, been recalled.  We had issues with the screws popping out of the recliner section of the chair when we used it with our then 4 month old, I called Evenflo last March, they sent me a repair kit with longer screws, still didn't work. Customer service had told me then this was not a common problem and that even with a screw missing, highchair was safe to use, not dangerous. I'm so furious they lied about my son's safety!!!!! Our longer screws did pop out a few times, we put them back in, I called back and since the highchair still held up fine and they told me it was okay to use, we wrongly trusted Evenflo and continued to use the highchair (my husband had checked it and felt is was okay). I just called in response to last weeks recall and they said they do have a record of me calling, sorry that happened and would I like a new set of screws? They won't give a refund and the new screws (which they will ship out in approx. 2 weeks, and recommend we don't use the highchair in the meantime) supposedly work better than the original replacements. I am returning this to the store, and if they won't accept the return, I'll have to eat the cost and throw out the chair.  We've had so many of our kids' things recalled, it's infuriating that these companies only have to send screws that may or may not work and before their belated recalls, our kids are at risk and to boot this time they assured me there was no danger. Please do not buy Evenflo and know that you can't trust the info you receive from customer service.I'm am so thankful my son wasn't injured. We've had other issues with most of our Evenflo products not working correctly, but all involving bells and whistles not structual. I just can't understand how these companies put more money into their impossible to open packaging than into their product safety.\n",
      "\n",
      "Predicted Probability (Negative): 0.9999999999838866\n",
      "Actual Rating: -1\n",
      "Review: Reviewers. You failed me!This thing worked for 24 hours, then went \"out of range\" and would not operate at all. To be clear, it was not out of range.Samsung's website wasn't helpful. So I called customer service and waited on hold for half an hour.  Finally, I got the lone call center worker, and he told me I had to go online and fill out a form, and get a service ticket, and they'd get back to me eventually with information on where to ship the faulty device. He told me \"this is a known issue.\"  I asked how many days until it would be replaced and he didn't know.  I asked why are they still being sold if they don't work and he said \"It is more expensive for Samsung to collect the faulty monitors than it is for us to wait for them to be returned.\"  He also told me that Samsung sells the monitors again when they are returned. They are repackaged and sent out to the market again.  Even though they are known to be faulty.I'm now boycotting Samsung, as I would for any company that knowingly sells a faulty baby safety product. Their customer service was pretty dire.  To his credit, the Samsung rep I spoked to admitted that Samsung was doing something pretty shady.  But he was remorseless. I've concluded I'm one of many who got duped.UPDATE a few days later:I got a full refund from this seller. Thank you seller! I expected to be hassled over the return, but when I got it instantly, I regretted mailing the monitor back to you wrapped in a diaper. Sometimes I am just not very subtle. I apologize.Another update: To replace this monitor, I ordered a Levana Astra 3.5\" PTZ Digital Baby Video Monitor with Talk to Baby Intercom 32006.  It was EVEN WORSE than this one -see my review of it if you are interested.Another update: I received several phone calls from polite, concerned Samsung personnel over this matter in the immediate aftermath of this review's posting.  I made an attempt to return one of the calls, but the callback number directed me to a main Samsung line with a lot of electronic options. Then, I got a letter of apology from the Technical Support staff who had treated my situation with indifference, and a letter from his supervisor.  Both letters apologized for my experience, and both sought to clarify the information that I was given in error, and my misunderstanding of some of it. The letter from the unpleasant technical support worker was especially humble. I was kindly, but aggressively, asked to remove the negative content of my review but I have decided to leave it as is so that shoppers can see real feedback of this product. I did change my headline to reflect my less annoyed position on this consumer experience. \"Iffy\" has replaced \"faulty.\"What I know now is:-Samsung does not re-sell refurbished products that are unlabeled as being refurbished.  They proudly operate in accordance with laws regarding such products. The info I was given that made me believe that was a misspeak on the part of the technician.  He was referring to vendors who re-sell broken Samsung products, not Samsung. (Note: I do not suspect this Amazon seller of doing such a thing)-Samsung believes that my monitor came with information on how to \"easily resolve\" the pairing problem I experienced. So, while Samsung is saying that my unit isn't a problematic model with known issues, it....is a problematic mode with known issues.-My manual did not have pairing information, however. It declared that the monitor comes already paired, and that was the end of it.  (Other owners, do you have this in your user manual?)  Anyway, if that information was in there, why did the technician I spoke with tell me I needed to mail my unit back to get the pairing problem resolved? He could have just given me the directions on how to fix it. He specifically stated that my model had to be sent away to be repaired, and that this was a known issue.-Therefore, my complaint still stands. Samsung retailers are distributing a product that isn't working for some people. Samsung failed to provide technical support when I needed it. And while they are overall very nice, and very friendly, and while I do still like Samsung products, I still had to deal with a product that didn't work, and had a bad customer service experience.  Those are facts.  Will I boycott Samsung? No.  And I don't think you should either.  But this isn't the Most Unexceptional baby monitor on the market.  There is room for improvement.To Samsung: You can have another star if you please stop contacting me!  Thank you for the Starbucks gift card!*****************Update over a month later: Samsung is calling me repeatedly, despite being told several times to leave me alone. Samsung: you cannot harass me into giving your product a better review.  Today I told you to stop calling and I removed a star for my trouble.PS I have had a Motorola baby monitor for about a month now, and it works great! I will review it when I have a moment.>>>>>>>>>>>>>>>>>>>>>>>>>>>>Update Feb 26. 2013:Still using my MOTOROLA baby monitor every day. Works like a charm! Added a 2nd camera a month ago, and it's easy to pan between them!\n",
      "\n"
     ]
    }
   ],
   "source": [
    "\n",
    "most_negative_indices = np.argsort(y_proba[:, 0])[::-1][:5]\n",
    "\n",
    "\n",
    "print(\"Five Most Negative Reviews:\")\n",
    "for index in most_negative_indices:\n",
    "    print(\"Predicted Probability (Negative):\", y_proba[index, 0])\n",
    "    print(\"Actual Rating:\", y_test.iloc[index])\n",
    "    print(\"Review:\", test[\"review\"].iloc[index])\n",
    "    print()\n"
   ]
  },
  {
   "cell_type": "code",
   "execution_count": 42,
   "metadata": {
    "collapsed": true
   },
   "outputs": [
    {
     "name": "stdout",
     "output_type": "stream",
     "text": [
      "Accuracy: 0.9310965188450121\n"
     ]
    }
   ],
   "source": [
    "#d) \n",
    "accuracy = accuracy_score(y_test, y_pred)\n",
    "\n",
    "# Print the accuracy\n",
    "print(\"Accuracy:\", accuracy)"
   ]
  },
  {
   "cell_type": "markdown",
   "metadata": {},
   "source": [
    "## Exercise 5\n",
    "In this exercise we will limit the dictionary of CountVectorizer to the set of significant words, defined below.\n",
    "\n",
    "\n",
    "a) Redo exercises 2-5 using limited dictionary.   \n",
    "b) Check the impact of all the words from the dictionary.   \n",
    "c) Compare accuracy of predictions and the time of evaluation."
   ]
  },
  {
   "cell_type": "code",
   "execution_count": 43,
   "metadata": {
    "collapsed": true
   },
   "outputs": [],
   "source": [
    "significant_words = ['love','great','easy','old','little','perfect','loves','well','able','car','broke','less','even','waste','disappointed','work','product','money','would','return']"
   ]
  },
  {
   "cell_type": "code",
   "execution_count": 44,
   "metadata": {
    "collapsed": true
   },
   "outputs": [],
   "source": [
    "#a)\n",
    "vectorizer_limited = CountVectorizer(vocabulary=significant_words)\n",
    "\n",
    "X_limited = vectorizer_limited.fit_transform(list(train[\"review\"]))\n",
    "y_limited = train[\"rating\"]\n",
    "X_test_limited = vectorizer_limited.transform(list(test[\"review\"]))\n",
    "y_test_limited = test[\"rating\"]"
   ]
  },
  {
   "cell_type": "code",
   "execution_count": 45,
   "metadata": {},
   "outputs": [
    {
     "name": "stdout",
     "output_type": "stream",
     "text": [
      "Accuracy: 0.8670804473628977\n"
     ]
    }
   ],
   "source": [
    "\n",
    "model = LogisticRegression()\n",
    "\n",
    "model.fit(X_limited, y_limited)\n",
    "\n",
    "y_pred_lim = model.predict(X_test_limited)\n",
    "accuracy = accuracy_score(y_test_limited, y_pred_lim)\n",
    "\n",
    "# Print the accuracy\n",
    "print(\"Accuracy:\", accuracy)"
   ]
  },
  {
   "cell_type": "code",
   "execution_count": 46,
   "metadata": {},
   "outputs": [
    {
     "name": "stdout",
     "output_type": "stream",
     "text": [
      "10 Most Positive Words:\n",
      "[('loves', 1.731097403135818), ('perfect', 1.5397133165840304), ('love', 1.356228686770304), ('easy', 1.1623365780490358), ('great', 0.9260774580423731), ('well', 0.500008141667652), ('little', 0.493507416331203), ('able', 0.22523627051436343), ('old', 0.08269355389887463), ('car', 0.06523612120562435)]\n",
      "\n",
      "10 Most Negative Words:\n",
      "[('disappointed', -2.345747699127795), ('return', -2.1201045518779327), ('waste', -1.971470284399443), ('broke', -1.7032549460595479), ('money', -0.9087495801010872), ('work', -0.6441434415169854), ('even', -0.5102634367198567), ('would', -0.34569215224131866), ('product', -0.3054884478214659), ('less', -0.16782082440073806)]\n"
     ]
    }
   ],
   "source": [
    "feature_names_lim = np.array(vectorizer_limited.get_feature_names_out())\n",
    "\n",
    "# Get the coefficients from the trained model\n",
    "coefficients_lim = model.coef_[0]\n",
    "\n",
    "# Create a dictionary mapping feature names to coefficients\n",
    "features_coefficients_lim = dict(zip(feature_names_lim, coefficients_lim))\n",
    "\n",
    "print(\"10 Most Positive Words:\")\n",
    "print(sorted(features_coefficients_lim.items(), key=lambda x: x[1], reverse=True)[:10])\n",
    "\n",
    "print(\"\\n10 Most Negative Words:\")\n",
    "print(sorted(features_coefficients_lim.items(), key=lambda x: x[1])[:10])"
   ]
  },
  {
   "cell_type": "code",
   "execution_count": 47,
   "metadata": {},
   "outputs": [
    {
     "name": "stdout",
     "output_type": "stream",
     "text": [
      "Review: This is a very cute toy, but I soon realized that the battery compartment cannot be accessed and the batteries cannot be replaced. I should have researched this item better.\n",
      "Actual Rating: -1\n",
      "Predicted Sentiment: 1\n",
      "\n",
      "Review: This thing is well worth the price I paid, my little guy loves it!  He is 8 mos old, and big for his age.  When we first bought it, we had the seat pulled up the highest it would go, which worked for a while.  Eventually, DS got too big, so we had to figure out a way to shorten the straps.  For a while, we did as someone else suggested and put tennis balls between the straps and the underside of the three spreaders.  That worked.  My husband didn't really like that solution though, so he took a large carabiner and wrapped the main hanging strap (between the adjuster and the spreaders) around the carabiner a bunch of times.  If we want to make the seat higher off the ground, we just wrap the strap some more.  As for the bumpers, our guy is so active in this thing, if it was in a regulation width doorway, they would be getting used all the time!! (we have a double wide doorway for him to play in).\n",
      "Actual Rating: 1\n",
      "Predicted Sentiment: 1\n",
      "\n",
      "Review: I purchased this for my daughter when she was 7 months old primarily to use as a stationery walker.  She absolutely loved the lights and music and I liked the fact that she not only could spin in a circle but actually WALK back and forth.  When she began walking I removed the seat and she loved to run and stomp on the piano keys to activate the music.  She uses it more than any toy she has.  It is by far the BEST stationery walker on the market because it lasts from infancy well into toddlerhood.\n",
      "Actual Rating: 1\n",
      "Predicted Sentiment: 1\n",
      "\n",
      "Review: When I saw these I was sooooo excited because I used the Playtex drop-ins system for my first and like the idea of the drop-in, but prefer the Breastflow nipple. So this seemed like the best of both worlds!!! When had my second son, I decided to try the regular Breastflow bottles (the drop-in Breastflow wasn't out yet) and it was okay. My son liked the nipples, but sometimes they leaked-not all the time though so maybe user error??? So when I bought this system, I had both this and the original system...which would be fine if the tops were interchangeable. But since they aren't and they look almost identical, it's hard to tell if you have the tops to the original Breastflow or the drop-in Breastflow until you put it together and the drop-in one won't close. Also, my husband and sitter say these bottles leak. I exclusively breastfeed so I am not usually the one to give my son a bottle so this could also be user error?? I don't know. All I know is we ended up going back to the Playtex drop-in system.If this system worked (didn't leak) it would have been great...the marriage between to great products. But since it didn't, I only gave it two stars. Maybe someone else could get it to work better than we did???\n",
      "Actual Rating: -1\n",
      "Predicted Sentiment: 1\n",
      "\n",
      "Review: I got this to go along with my Joovy Caboose Stand On stroller and its great. It was kind of hard to get on at first, but once I got it on, I haven't had any issues with it. Plenty of room for drinks, phone, keys, etc. Very happy with my purchase.\n",
      "Actual Rating: 1\n",
      "Predicted Sentiment: 1\n",
      "\n"
     ]
    }
   ],
   "source": [
    "y_pred_lim = model.predict(X_test_limited)\n",
    "\n",
    "# Print the predicted sentiment for the first few reviews\n",
    "for i in range(5):\n",
    "    print(\"Review:\", test[\"review\"].iloc[i])\n",
    "    print(\"Actual Rating:\", y_test_limited.iloc[i])\n",
    "    print(\"Predicted Sentiment:\", y_pred_lim[i])\n",
    "    print()\n"
   ]
  },
  {
   "cell_type": "code",
   "execution_count": 48,
   "metadata": {},
   "outputs": [
    {
     "name": "stdout",
     "output_type": "stream",
     "text": [
      "Review: This is a very cute toy, but I soon realized that the battery compartment cannot be accessed and the batteries cannot be replaced. I should have researched this item better.\n",
      "Actual Rating: -1\n",
      "Predicted Probabilities: [0.21434263 0.78565737]\n",
      "\n",
      "Review: This thing is well worth the price I paid, my little guy loves it!  He is 8 mos old, and big for his age.  When we first bought it, we had the seat pulled up the highest it would go, which worked for a while.  Eventually, DS got too big, so we had to figure out a way to shorten the straps.  For a while, we did as someone else suggested and put tennis balls between the straps and the underside of the three spreaders.  That worked.  My husband didn't really like that solution though, so he took a large carabiner and wrapped the main hanging strap (between the adjuster and the spreaders) around the carabiner a bunch of times.  If we want to make the seat higher off the ground, we just wrap the strap some more.  As for the bumpers, our guy is so active in this thing, if it was in a regulation width doorway, they would be getting used all the time!! (we have a double wide doorway for him to play in).\n",
      "Actual Rating: 1\n",
      "Predicted Probabilities: [0.03183405 0.96816595]\n",
      "\n",
      "Review: I purchased this for my daughter when she was 7 months old primarily to use as a stationery walker.  She absolutely loved the lights and music and I liked the fact that she not only could spin in a circle but actually WALK back and forth.  When she began walking I removed the seat and she loved to run and stomp on the piano keys to activate the music.  She uses it more than any toy she has.  It is by far the BEST stationery walker on the market because it lasts from infancy well into toddlerhood.\n",
      "Actual Rating: 1\n",
      "Predicted Probabilities: [0.13219985 0.86780015]\n",
      "\n",
      "Review: When I saw these I was sooooo excited because I used the Playtex drop-ins system for my first and like the idea of the drop-in, but prefer the Breastflow nipple. So this seemed like the best of both worlds!!! When had my second son, I decided to try the regular Breastflow bottles (the drop-in Breastflow wasn't out yet) and it was okay. My son liked the nipples, but sometimes they leaked-not all the time though so maybe user error??? So when I bought this system, I had both this and the original system...which would be fine if the tops were interchangeable. But since they aren't and they look almost identical, it's hard to tell if you have the tops to the original Breastflow or the drop-in Breastflow until you put it together and the drop-in one won't close. Also, my husband and sitter say these bottles leak. I exclusively breastfeed so I am not usually the one to give my son a bottle so this could also be user error?? I don't know. All I know is we ended up going back to the Playtex drop-in system.If this system worked (didn't leak) it would have been great...the marriage between to great products. But since it didn't, I only gave it two stars. Maybe someone else could get it to work better than we did???\n",
      "Actual Rating: -1\n",
      "Predicted Probabilities: [0.13996603 0.86003397]\n",
      "\n",
      "Review: I got this to go along with my Joovy Caboose Stand On stroller and its great. It was kind of hard to get on at first, but once I got it on, I haven't had any issues with it. Plenty of room for drinks, phone, keys, etc. Very happy with my purchase.\n",
      "Actual Rating: 1\n",
      "Predicted Probabilities: [0.09752586 0.90247414]\n",
      "\n"
     ]
    }
   ],
   "source": [
    "y_proba_lim = model.predict_proba(X_test_limited)\n",
    "\n",
    "# Print the predicted probabilities for the first few reviews\n",
    "for i in range(5):\n",
    "    print(\"Review:\", test[\"review\"].iloc[i])\n",
    "    print(\"Actual Rating:\", y_test_limited.iloc[i])\n",
    "    print(\"Predicted Probabilities:\", y_proba_lim[i])\n",
    "    print()"
   ]
  },
  {
   "cell_type": "code",
   "execution_count": 49,
   "metadata": {},
   "outputs": [
    {
     "name": "stdout",
     "output_type": "stream",
     "text": [
      "Five Most Positive Reviews:\n",
      "Predicted Probability (Positive): 0.9999999972031353\n",
      "Actual Rating: 1\n",
      "Review: We bought this stroller about 2 weeks ago. I absolutely love it! I have a 3 year old and a 5 month old. They both fit in the stroller great. My 3 yr old was so excited about this stroller. He loves the color (blue), the canopies, the UV shade, everything! He is looking forward to using the boot this winter. I love, love, love the big basket. Yes, there is a bar across it. However, I am able to get a backpack in over the bar. To take it out, we just unsnap the back of the basket and pull the backpack under the bar. It really is easy. The stroller steers well. I have not noticed it pulling to one side, despite the 15 pound weight difference between my boys. We have not used the rain shield, but the UV shade is great. The canopy will cover the whole front of the stroller, but the UV shade keeps the boys shady when they want to be able to look out. The infant boot works well. It is meant to go across the whole front, but is possible to use it on just one side. The harness is easy to adjust. We were using the Combi Citty Savvy single. It had the worst harness adjusters. (The Maclaren Techno uses the same crappy adjusters.) On the Tango, you just slide the clip up or down. It is simple and it stays put. The harness fits both of my boys. The seats recline nicely, the canopies are huge. The stroller is easy to steer and the handle is comfortable. I have done a little one-handed steering, but that is not easy. It is a double stroller after all. The Tango is a great looking stroller. I have read reviews in which people talked about wanting a stroller that looked good. I thought that was silly. However, we have gotten so many comments on this stroller. I have to admit that it is a little flattering. Silly, but true. Someone complained about having trouble opening the stroller. It is challenging at first. We finally figured out that you have to push down on the little handle on the side of the stroller. You pull that handle to close it and push it to open it. Once you figure that out, it is super easy to open. My one complaint is that the stroller is pretty large when folded. I have two carseats tethered in the back of my 2004 Odyssey. In order to get the stroller in, I have to loosen one of the tethers first. We put the stroller under the tether, then tighten the tether. I am able to fit bags in front of and beside the stroller, but it takes up A LOT of room. We are going out of town later this month and I have no idea how I am going to fit in our luggage with the stroller. I am considering strapping the stroller on the roof! So, if a small fold is a must, go with the Combi or McLaren. I thought both of those were rather flimsy though. The McLaren was VERY narrow and had shallow seats. We decided we would just live with the large fold and get the Zooper. I am SO glad we did. It is well worth the money.\n",
      "\n",
      "Predicted Probability (Positive): 0.9999999950036698\n",
      "Actual Rating: 1\n",
      "Review: Background- I've been using Grovia diapers for four years (when I bought them they were called grobaby). I have 6 shells and 12 inserts. I purchased them for my oldest daughter and used them only part time for 2.5 years until she was potty trained. She still needed pull-ups at night for a long time, so I used these until she was ready to go without. She was probably 30lbs when she stopped wearing them, and they fit well. They were stored for a year until I had my other daughter, who is now 5.5 months and exclusively CD'd. I didn't use them for either girl until about a month old, since I had tiny babies.Pros- They're (mostly) organic. When they were new they were so soft and thick. Now they're definitely worn in and not so soft anymore.-I love how easy they are to use. As a first time CDer, these were perfect. Just snap the inserts in, strap on baby. Easy for pretty much anyone. No stuffing, unstuffing, folding, etc.-I love that I'm able to reuse the shells a couple of times until they're stinky or pooped in, or too wet. Some people didn't find this to be true, but after four years of use I can confidently say it's possible, and happens often for me.-I find them easy to wash, and love that the insert and shell are separate, since I machine dry the inserts and line dry the shells, which has helped to prolong their life. Contrary to some reviews, I don't find it difficult to clean poop from shells. It just agitates out of the mesh in the washing machine.-One size. Although I didn't use these diapers for my tiny babies, they are absolutely a birth to potty training diaper. My oldest was 30+lbs when she stopped wearing them (almost four yrs old). She has always been a small kid with no chunk though, so I'm not sure how long a thicker baby could wear them for.-Designs and colours are cute, nothing obnoxious, and I like that the snaps match the shell colour. Makes all those snaps less noticeable. The snaps are very well made and strong; not one has come loose or fallen off.-Versatile. Not only can you use one shell multiple times before needing to wash it, but you can also use the shells as covers for prefolds and other diapers needing covers. I used prefolds quite a bit during my daughters' first few months (can get a more custom fit on tiny babies, and I found them to be extra soft on that delicate new skin). I didn't bother buying a bunch of sized covers for my prefolds, and used the grovia shells instead. They worked perfectly!-Great for travel/shopping etc. You can leave the house with an extra shell and a few inserts, instead of 3/4 whole diapers, since the shells can be reused. I've been out with only one shell before, and I was glad I had these. I quickly rinsed the poop out of the shell, dried under the air drier in a public bathroom, and snapped in a new insert in less than 5 minutes.-Soft shells, soft elastic on the legs, very few red marks.-Few blowouts or leaks. I've only experienced a few leaks, and I think this is mainly because some inserts were too long for the shell in its smallest setting. When the shell went up in size, the issue was fixed. Also, the aplix tabs (Velcro stuff) makes these diapers super custom and snug, great for putting a CD on a squirmy baby. (The aplix also happens to be a con)Cons- the Velcro tabs. This is probably due to the fact that they're 4 years old, but the tabs are starting to curl up and not stick so well. This only began to happen, but may have began sooner if I had CD'd exclusively the first time. I can switch them out for snaps, so I may do that eventually, since the rest of the shell is in perfect condition.-Holds stink. The inserts are still in good condition, but I've had problems with the nasty ammonia smell. They really seem to hold the stink, so stripping and a religious wash routine has been key to keep them fresh smelling. Maybe this has been my own fault, because I had no idea what I was doing in the beginning, but who knows.I sun bleach them regularly, so they still look good, but they need to be machine dried for at least 20 minutes to stay soft.-Absorbency. My biggest issue with these diapers is that they aren't absorbent enough. My kids are heavy wetters, so I've never been able to use these at night. Even with the booster. Also, when wet, the inserts ripple up or buckle and don't seem very comfortable. My baby's bum gets red marks on it if left on too long, from the ripples of the top layer of the insert. I use the bumgenius freetimes with microfiber inserts at night and have no issues. Although Id rather have a natural fabric next to my daughters bum at night, the microfiber wicks the moisture away so well and we don't have to double up.-Consistency. On the smallest size, some inserts are too long for the rise of the diaper and poke out, which can cause leakage. The inserts aren't uniform in size, which isn't a huge issue, but some are longer or wider than others which is just a bit annoying.-On the bulky side. My bumgenius freetimes are less bulky, but not by much. This doesn't bother me too much, since it makes perfect sense that a cloth diaper be bulkier than an uber trim disposable.Verdict- love them enough to buy more, but would probably get the snaps next time. I love that Velcro is easier to use, but the diapers would last much longer with snaps. I'm also curious as to how the new grovias compare to the old ones. I very much recommend these!!\n",
      "\n",
      "Predicted Probability (Positive): 0.99999998623137\n",
      "Actual Rating: 1\n",
      "Review: I should probably start out by saying that I am a stroller junkie. The Peg Perego GT3 is (at last count) my 16th stroller. And it is by far the most luxurious one I have used yet. Seriously, I think it might be almost perfect (I'll explain why only 4 stars in a minute).This stroller is serious luxury. It pushes like a dream and is FAR lighter than the Phil and Teds or any side-by-side double that I have tried. It runs SO smoothly, even over rough terrain that my always-awake one-year-old usually passes out in the first 10 minutes. And the front wheel never jams or catches (a problem I had with BOTH my Phil and Teds Vibe and Sport models). And for jogging it practically goes by itself. I do agree that the front wheel wobbles a bit when you get going, but that is why you are supposed to lock it - and the lock mechanism is SO handy - you don't have to crouch down at the front of the stroller, its right there in front of your knee. Which is also nice when you want to switch back and forth - for example, when you are out for a leisurely walk and your four-year-old takes off on his bike.The other feature I love, and love about all the Peg strollers is the sun visor. It pulls all the way down to the bumper bar. Which is great because your child is never facing into the glare of the sun AND if you forget your rain cover your little one generally will stay dry too.The second seat on this stroller is genius. Its so compact and light that it's really easy to switch the stroller between double and single - even while out and about (the GT3 for two is the same as the single, you just have a second seat that zips into the storage basket). When in single mode the storage basket is HUGE and I love how it folds up to keep your stuff secure, and to make space for the ride-on-step. My older son doesn't always want to be \"seen\" riding in the stroller and likes the \"surfboard\" expressly for that purpose. I also like that it is a little more difficult for him to climb in and out of the Peg backseat. With my Phil and Teds both my kids could easily swing their legs out and try to climb out (and then get tangled in their straps). I also LOVE LOVE LOVE the longer handlebars. When both kids are in there is not a lot of storage but with the GT3 you still have room to hang your diaper bag along with the parent console that comes with it.The only things I don't love about this stroller are (and thus 4 stars instead of 5)1. lack of a food tray for the kids. It would be SO easy to have this as an addition and it would make it that much more perfect. The cup holders on the side are okay, but for a big stroller it just makes it that much wider.2. It is a BIG stroller. I am 5'6 and can lift it easily enough, but my Mom (who is 5'2) cannot lift it in and out of the car by herself. And it's a bit cumbersome when folded. My solution for this is to keep an old Pliko in my trunk and use the GT3 for day-to-day travels without the car, or to only put it in the car for longer missions (like to the zoo or cottage) where I will need it all day. Would be totally fine with an SUV, but for a regular car it's bit challengingThat being said, I cannot understand the other negative reviews. I seriously don't believe anymore that there is ONE perfect stroller out there, but for a double stroller that can be used as a jogger this one is pretty close.\n",
      "\n",
      "Predicted Probability (Positive): 0.9999999771036795\n",
      "Actual Rating: 1\n",
      "Review: Love love LOVE this bag and the Licorice Twirl pattern!!!!  I use it as a purse (haven't loaded anything for my 4 year old daughter in it yet!). Excuse my LONG review, but I like to know EVERYTHING before I spend $100 on something, so here you go.First, I love Ju-Ju-Be products.  They are well thought out, well made, and super cute! I have been thinking of parting with my Shadow Waltz BFF now that my daughter is 4 and I find myself not using it for her \"stuff\" anymore, or even as a backpack like I had planned (one of the great features of the BFF is that it converts to a backpack). But I still wanted something that could function as a toddler (not diaper :-) bag.  This totally fit the bill, and I have NO REGRETS!Here's why:SIZE:I am 5' 0\" tall.  I do not have a problem with it being too short, too long, or too big.  It looks like a normal purse, NOT a diaper bag (I love that).  The comfortable padded strap has not slipped (length) at all as someone else suggested, nor has it slipped off my shoulder. I can shorten it enough that it hangs like a normal handbag.  I can lengthen it enough that I can wear it cross body when I'm shopping or pushing the stroller.  (Cross-body might be a problem for those of average to taller height, but I can't speak to that....) Although I have not tried it yet (because I'm always wearing the bag), I think it would clip to a small stroller, such as an umbrella stroller, easily (small because the width from each ring on the bag is probably only about 15-16\" at full stretch). Whether or not your stroller tips over with it is dependent on your stroller, really, not the bag.  A well-balanced stroller will not tip over with a small load on the handles. Where the strap loops through the rings is where you'd use your stroller clips. (I have the JJB clips, which work great.) It would probably also fit nicely under the stroller in the basket because of it's narrowness and width and height.FEATURES:On the back there is a pocket the full length of the bag, which is where the included matching changing pad is stored (but I don't use it).  An iPad will fit perfectly, but you won't be able to snap it closed (iPad too tall).  Or a coloring book, or a couple thin books (like easy readers). There are the standard JJB crumb drains there, so I try to remember not to drop change or a pen in there, as it might slide out.In the front there is a big zippered pocket which contains two smaller mesh pockets (mine hold a coin purse in one, and lip balm, a tiny hand sanitizer, lipstick--things I want to grab easily without undoing my whole purse); a big zippered pocket (I keep receipts and coupons in there), a stretchy key fob; and more room still--I had my thin 6x4\" wallet in there, as well as a few pens and pencils.BEHIND that pocket, but still on the outside front of the purse, is a zippered soft-lined pocket (like in other JJB bags) for a cell phone or camera (or whatever).  I don't know why, but I love this pocket.  I never used it on my BFF because I kept my phone in my purse.  But since this IS my purse now, I keep my iPhone in there.  It fits without a phone-case, and with an Otterbox case (although it is harder to get in and out because the Otterbox is grippy, so there is friction--but it still is a great place to keep the phone). Because it is such a secure pocket, I just took the Otterbox off and put on a thin hard decorative case and not it slips in nice and easy. It is so convenient to grab my phone from that pocket--easy, quick access when the phone rings (you can actually hear it from here, rather than buried inside your bag) or if I need the calculator while shopping.  Like I said, I really like this feature!The MAIN compartment, which has a nice zipper closure with a grab-tab on one side (and zips closed so that if the purse is on your left shoulder you are pulling the zipper toward the front, instead of backwards --well, it would be backwards if it were on your right shoulder), has three mesh pockets and a small deep zippered pocket, and a full-length zippered pocket.  I can't even fill up this bag. The large zippered pocket and two mesh pockets are on the \"back\" inside, while the small zippered pocket and remaining mesh pocket are on the \"front\" inside. The small zippered pocket is narrow and deep.  I can't figure out what to put in there because I can't fit my hand in there easily (it's that narrow); I tried change, but it was too deep to access easily.  I would probably put some things in there that I already have in a pouch to keep it organized.  Anyway, the mesh pouch next to it is deep and wide enough to keep my wallet in now.  But it would not fit a standard long wallet (too tall). However, there is PLENTY of room within the bag to hold your wallet.  I did have my Bose earbud zippered holder in there and it fit great. The other two mesh pockets are holding 1) a hankie, pack of Kleenex and little re-usable shopping bag pouch, and 2) a small calendar planner, checkbook, pen, a Kindle Paperwhite, and room for more. The large zippered pouch is basically empty--haven't needed it yet.  Whatever you put in there will be up against your body, so it is not good for anything bulky, since you will feel the bumps.  So papers (receipts, etc) would be a good option.[I am only telling you what is in MY bag so you can get a better idea of what will fit in YOUR bag]Inside the main compartment I have only a few things (since everything else fit in pockets!)--a small brush, a pouch with all my misc. items (like pocket knife, a few hairbands and clips for myself and my daughter, nail file, and all that garbage I could probably be keeping in that odd-shaped zipper pouch...), a travel packet of Wet Ones wipes (they fit in one of the mesh pockets but I didn't like how tall they stuck out--although still below the bag's zipper); the earbuds holder. There is SO Much more room in there.  If you use separate zippered pouches in your bag, you can keep things organized in there. It's big. I think I could fit a change of toddler clothes or some diapers and wipes in there too--but--YEY--I don't have to carry that stuff anymore.  [keep in mind that the more you have in the inside pockets, the more they stick out into the main compartment area--you can still fit lots in there, but you'll have to dig around more]On the outside are two thin insulated bottle pockets (one on each end) that are flush against the bag (not \"open\" and sticking out like on a normal diaper bag).  I have (at separate times) fit a regular sized bottle of water, a thin tall flip top snack cup, a regular sized (not short and stubby) sippy cup in there and they are secure.  I can not fit my travel coffee cup though (like I could in the BFF). Right now I keep my Rx sunglass case in one so it is super-handy. I often drop change or other small items in these pockets, or even my keys if I don't want to unzip the front pocket and clip them.CHANGING PAD:This pad is not the regular JJB memory foam pad.  It is super thin, so it fits in that back pocket without ANY bulk, or you could probably fold it up even smaller and maybe put it inside the bag (but I never wanted something that had been on public bathroom counters/changing tables with a dirty kid tushie on it to be in my main diaper bag compartment!). I'm trying to figure out how I can use it (maybe as a placemat when eating out??) since I'll never use it for its intended purpose.  It might make a nice clean place to set the coloring book or something when out and about, such as waiting at the doctor's office.  Hmmm....You can seriously load this bag down. Because the front large pocket fits so much, you can end up quite bulky there. I've seen some good YouTube videos on how people have packed their Hobo Be bags--check them out if you are still not sure about this product.  But I'm telling you, if you want a \"diaper bag\" that does NOT look like a diaper bag (other than the strap is pretty wide and has that pad on the shoulder), or you are looking for a \"next stage\" toddler/Preschooler bag, this is it, in my opinion.  I've seen other fancier \"purse\" diaper bags, but a) $$$, and b) they were too fancy for my style. This is cute and casual.Since there is so much extra room in this bag, I'll probably pack my matching Be Quick with stuff for my girl--extra undies (just in case :-), crayons, a pad of paper, some disposable placemats, a snack pouch, hair stuff, maybe a juicebox, a few bandaids...all that good stuff.OH! I should mention, if you are really using this as a full-on diaper bag, you can pretty much fit all your mommy-stuff in the front pocket exclusively (wallet, keys, chapstick, pen, etc), and use the entire rest of the bag for kid stuff.  Had I had this bag from the beginning, that's what I would have done.DISLIKES:The bottle pockets are a little hard to use one-handed.  In other words, you need one hand to stretch open the pocket, and the other to place the bottle in. You can't just slide something fat in.  The pockets are BIG enough, but the elastic is tight (i.e. secure!), so you have to stretch it out to fit something in (even my sunglass case).I really can't say enough good things about the Hobo Be.  All the normal JJB stuff applies--teflon treated fabric, satin light colored lining so you can see things you put inside!, metal hardware.  Love it. A bit pricy, but worth it. And if you like a Ju-Ju-Be pattern or product, snatch it up, because they don't stick around forever.UPDATE 11/20/13:The bag hooks to the umbrella stroller with the Ju-Ju-Be clips really well.  It is the perfect width.\n",
      "\n",
      "Predicted Probability (Positive): 0.9999999718079918\n",
      "Actual Rating: 1\n",
      "Review: We've been using Britax for our boy (now 14 months old) since his very first moments leaving the hospital.  Thankfully, cost was not part of our consideration, so we went with the \"best\" seat we could find.  Britax has been good, but I wish we had found the Pria.  It's a terrific car seat!Three best parts so far:1.  Head control2.  Style3.  Cup holder4.  Soft, easy to clean fabricHead control - My biggest concern with other car seats has been his head.  When our son sleeps in the car, he tilts his head to the side, much like my father does now.  But with my Dad I don't worry too much, because he always seems to wake up after a few minutes and straighten out.  But babies don't seem to do that well, and I've been concerned that he's closing off airway or blood to his head.  I'm not a doctor, but it doesn't look good to me.  We've tried rolling his little blanket and stuffing it by his neck, like an airplane pillow...to no avail.  He just tosses it on the seat.  This seat has a great system for controlling his head.Style - This seat is attractive.  We never used the infant insert, but it has an elegant shape to it.  The rest of the seat looks good too.  I know its not a big concern, but I do appreciate great design.Cup holder - It has a perfectly placed cup holder.  We use the Uppababy stroller, and it has a great tray, where our son has become used to storing his \"cell phone\" and other things.  Without a cup holder close to his hands in our car, everything sits between his knees which makes it all tough to reach.  Pria's solution is perfect, and I don't find myself reaching into the back seat as much.Great fabric - We love the soft feel of this seat.  It's almost like a good pillow.  And the fabric has proven quite easy to clean.Overall, we're thrilled with the seat!Hope you enjoy yours, too,PhilUPDATE: It's been over a year now, and we remain thrilled with this seat. We kept the Britax so we'd have an extra seat in the car for James' friends to ride together with us. Night and day, this seat remains the hands down winner for easy buckling in, easy cleaning and comfort. And the cup holder continues to be the perfect place for drinks, snacks or a little toy car.Wasn't sure this seat would make it this long, as the fabric doesn't feel as tough as the Britax. But it sure has. Whatever they used is as easy to work with now as the day this one arrived. And remains easy to clean. We're having another one soon, so the Britax will be moving to the middle seat to make room for another Maxi-Cosi.Any recommendations on a new color?\n",
      "\n",
      "Five Most Negative Reviews:\n",
      "Predicted Probability (Negative): 0.9999999999460143\n",
      "Actual Rating: -1\n",
      "Review: Looks really cute, however, the cloth smells funny and gave my baby some rash after 15 mins wearing.Requested a return, need to pay 25% restocking fee plus shipping.$25 order, maybe, $5 back eventually.Also, the return must be brand new condition!! Really! Unbelievable!Do yourself a favor and See the return policy by yourself before making an orderHello,Below is return instructions, this item must not be worn or used or the return will not be refunded.Thank you for ordering from us. Here is your RMA# as well as return instructions. All returns must be in brand new, original condition. Please read our return policy. Return policy link is provided for you in this email.**All refunds issued are determined by the outcome of inspections. Any return of costumes used, worn, signs of pet hair, human hair or washed will void all refund. All boxes for shoes NEED to be unmarked and in original condition. ALL returns NEED to be in original packaging to qualify for an authorized return!!**Please note: If you are returning a costume and need a different size, we suggest that you place a new order for the item you need. This will insure that you get the item quicker. If you order from us, simply email us your new order# and we will waive the restocking fee on your returns.Return Instructions:- ALL RETURNS NEED TO BE IN ORIGINAL PACKAGING-Items MUST BE POSTMARKED WITHIN 3 DAYS of  RECEIVING RMA (Today)-Simply repackage item-on the outside of the packaging please write RMA-We do not cover shipping so, please feel free to use any shippingmethod you like.-Item is also subject to a 25% restocking fee and all incurred shipping costs associated  with this return-Ship to Brands on Sale:\n",
      "\n",
      "Predicted Probability (Negative): 0.9999984968480824\n",
      "Actual Rating: 1\n",
      "Review: I loved all the features of the car seat.  It is an awesome car seat and you could take it from one car to another and adjust from rear-facing infant to forward facing 4 y/o in a minute or two.  The features are awesome.I purchased this about a week ago.  Although I loved the ease of use for me, I was unhappy with my 2 y/o's posture - regardless of the incline used.  I decided to return it.  As a PT I'm particular about posture.  The back of the seat is more curved than out Chicco key fit, with the legs slightly elevated and therefore, creating a rounded posture.I was SHOCKED  when I went to return the item purchased through AMAZON, LLC  that I couldn't print a return label.  Turns out this is a NON -returnable item.  It's not that you would even have to pay for the return shipping - you can't return it AT ALL.  I even double checked and the vendor was definitely AMAZON.  Not an outside Vendor.As someone who buys thousands of dollars worth of stuff directly from Amazon, I was really surprised.  I've never encountered anything like this, and I've returned things in the past.  It is usually very simple.I don't think there was any warning when I bought it that it was non returnable.  I definitely can't find any sort of warning on product page now.Double check with the vendor before you buy this if you think there is even the slightest chance you will want to return it.\n",
      "\n",
      "Predicted Probability (Negative): 0.9999844613512581\n",
      "Actual Rating: -1\n",
      "Review: I added this product, Dr. Brown's BPA Free Deluxe Gift Set, to my baby registry that I created prior to my baby being born. A friend purchased and gave me this gift set at my baby shower. I was really excited because this is an expensive item and I have heard from many friends that Dr. Brown's are great for babies that have colic or gas problems. I also figured that I would just buy a single Dr. Brown's bottle to test and make sure my baby liked it (once he arrived) and if he didn't I could return the set for a credit or a different bottle set. Well - turns out my baby does not like the nipple type on these Dr. Brown bottles, he likes a wider base nipple. But, when I went to return this item I discovered that because it was purchased from Uncle Fester's Attic I would have to work with them, not Amazon, on the return. Uncle Fester's Attic refused to help me with any kind of return for credit or another item and just stopped returning my emails about this issue. DO NOT purchase anything from Uncle Fester's Attic unless you are 100% sure you do not need to return it. They are unhelpful and unprofessional - even stooping to ignoring repeated emails to try to figure out some sort of compromise. Now I am stuck with a great, expensive bottle set, still in the box, never opened, that my baby will not use. What a waste.\n",
      "\n",
      "Predicted Probability (Negative): 0.9999730431300342\n",
      "Actual Rating: -1\n",
      "Review: This product is not made for babies or newborns! It is entirely too big. It would fit a 4 year old child. When the item arrived, the stitching was coming out in several areas and the quality of the material is very poor. I contacted the seller to return the item and they said they would refund the item after I shipped it back to them and did not authorize a return slip. You can't return the item without a return slip. They want me to send it back and they will have no way of knowing who's order it is without a barcode for the return. Also, the seller won't pay for shipping and it's $10 to ship this back to China. Very poor experience and terrible product.\n",
      "\n",
      "Predicted Probability (Negative): 0.9999461046746002\n",
      "Actual Rating: -1\n",
      "Review: I was excited to give these instruments to my 4 year old for her birthday because they are cute, painted instruments that look even better in person than online. I assumed that since the set was wooden and $10-15 more expensive than other similar sets, it would be durable. My daughter opened the box and the drum broke within two minutes in the middle of her family birthday party. She was heartbroken - she was just patting it with her hand when it broke, but she thought she did something wrong. I don't even know the return policy - I am so busy, that is the whole reason I did birthday shopping in the middle of the night online - dealing with boxing it up and taking it to the post office is last on my priority list, so it is sitting in my entryway, completely useless. I was disappointed that such a cute set that my daughter was so excited to receive ended up being such a waste.\n",
      "\n"
     ]
    }
   ],
   "source": [
    "most_positive_indices_lim = np.argsort(y_proba_lim[:, 1])[::-1][:5]\n",
    "\n",
    "print(\"Five Most Positive Reviews:\")\n",
    "for index in most_positive_indices_lim:\n",
    "    print(\"Predicted Probability (Positive):\", y_proba_lim[index, 1])\n",
    "    print(\"Actual Rating:\", y_test_limited.iloc[index])\n",
    "    print(\"Review:\", test[\"review\"].iloc[index])\n",
    "    print()\n",
    "\n",
    "\n",
    "most_negative_indices_lim = np.argsort(y_proba_lim[:, 0])[::-1][:5]\n",
    "\n",
    "\n",
    "print(\"Five Most Negative Reviews:\")\n",
    "for index in most_negative_indices_lim:\n",
    "    print(\"Predicted Probability (Negative):\", y_proba_lim[index, 0])\n",
    "    print(\"Actual Rating:\", y_test_limited.iloc[index])\n",
    "    print(\"Review:\", test[\"review\"].iloc[index])\n",
    "    print()"
   ]
  },
  {
   "cell_type": "code",
   "execution_count": 50,
   "metadata": {},
   "outputs": [
    {
     "name": "stdout",
     "output_type": "stream",
     "text": [
      "Accuracy: 0.8670804473628977\n"
     ]
    }
   ],
   "source": [
    "accuracy_lim = accuracy_score(y_test_limited, y_pred_lim)\n",
    "\n",
    "# Print the accuracy\n",
    "print(\"Accuracy:\", accuracy_lim)"
   ]
  },
  {
   "cell_type": "code",
   "execution_count": 51,
   "metadata": {
    "collapsed": true
   },
   "outputs": [
    {
     "name": "stdout",
     "output_type": "stream",
     "text": [
      "love: 1.356228686770304\n",
      "great: 0.9260774580423731\n",
      "easy: 1.1623365780490358\n",
      "old: 0.08269355389887463\n",
      "little: 0.493507416331203\n",
      "perfect: 1.5397133165840304\n",
      "loves: 1.731097403135818\n",
      "well: 0.500008141667652\n",
      "able: 0.22523627051436343\n",
      "car: 0.06523612120562435\n",
      "broke: -1.7032549460595479\n",
      "less: -0.16782082440073806\n",
      "even: -0.5102634367198567\n",
      "waste: -1.971470284399443\n",
      "disappointed: -2.345747699127795\n",
      "work: -0.6441434415169854\n",
      "product: -0.3054884478214659\n",
      "money: -0.9087495801010872\n",
      "would: -0.34569215224131866\n",
      "return: -2.1201045518779327\n"
     ]
    }
   ],
   "source": [
    "#b)\n",
    "for word, coef in zip(vectorizer_limited.get_feature_names_out(),model.coef_[0]):\n",
    "    print(f\"{word}: {coef}\")\n"
   ]
  },
  {
   "cell_type": "code",
   "execution_count": 53,
   "metadata": {},
   "outputs": [],
   "source": [
    "import sys, time\n"
   ]
  },
  {
   "cell_type": "code",
   "execution_count": 54,
   "metadata": {
    "collapsed": true
   },
   "outputs": [
    {
     "name": "stderr",
     "output_type": "stream",
     "text": [
      "UsageError: Line magic function `%%time` not found.\n"
     ]
    }
   ],
   "source": [
    "#c)\n",
    "\n",
    "\n",
    "%%time\n",
    "%%timeit\n",
    "model.predict(X_test_limited)\n",
    "\n",
    "\n",
    "\n",
    "\n",
    "\n",
    "%%time\n",
    "%%timeit\n",
    "model.predict(X_test)\n",
    "\n",
    "\n",
    "print(f\"first model score: {model.score(X_test, y_test)}\")\n",
    "print(f\"second model score: {model.score(X_test_limited, y_test)}\")\n",
    "\n",
    "\n",
    "#hint: %time, %timeit"
   ]
  }
 ],
 "metadata": {
  "anaconda-cloud": {},
  "kernelspec": {
   "display_name": "Python 3",
   "language": "python",
   "name": "python3"
  },
  "language_info": {
   "codemirror_mode": {
    "name": "ipython",
    "version": 3
   },
   "file_extension": ".py",
   "mimetype": "text/x-python",
   "name": "python",
   "nbconvert_exporter": "python",
   "pygments_lexer": "ipython3",
   "version": "3.11.5"
  }
 },
 "nbformat": 4,
 "nbformat_minor": 4
}
