{
 "cells": [
  {
   "cell_type": "markdown",
   "metadata": {},
   "source": [
    "### 320K LinkedIn App Google Store Reviews"
   ]
  },
  {
   "cell_type": "markdown",
   "metadata": {},
   "source": [
    "Google Store Reviews of LinkedIn application\n",
    "\n",
    "\n",
    "link to the dataset: https://www.kaggle.com/datasets/bwandowando/320k-linkedin-app-google-store-reviews"
   ]
  },
  {
   "cell_type": "markdown",
   "metadata": {},
   "source": [
    "The dataset encompasses various parameters deemed significant in the context of writing reviews. The included parameters are:\n",
    "\n",
    "- `review_id`\n",
    "- `pseudo_author_id`\n",
    "- `author_name`\n",
    "- `review_text`\n",
    "- `review_rating`\n",
    "- `review_likes`\n",
    "- `author_app_version`\n",
    "- `review_timestamp`"
   ]
  },
  {
   "cell_type": "code",
   "execution_count": 47,
   "metadata": {
    "collapsed": false
   },
   "outputs": [
    {
     "name": "stderr",
     "output_type": "stream",
     "text": [
      "[nltk_data] Downloading package wordnet to\n",
      "[nltk_data]     /home/viktoryia/nltk_data...\n",
      "[nltk_data]   Package wordnet is already up-to-date!\n"
     ]
    },
    {
     "data": {
      "text/html": [
       "<div>\n",
       "<style scoped>\n",
       "    .dataframe tbody tr th:only-of-type {\n",
       "        vertical-align: middle;\n",
       "    }\n",
       "\n",
       "    .dataframe tbody tr th {\n",
       "        vertical-align: top;\n",
       "    }\n",
       "\n",
       "    .dataframe thead th {\n",
       "        text-align: right;\n",
       "    }\n",
       "</style>\n",
       "<table border=\"1\" class=\"dataframe\">\n",
       "  <thead>\n",
       "    <tr style=\"text-align: right;\">\n",
       "      <th></th>\n",
       "      <th>Unnamed: 0</th>\n",
       "      <th>review_id</th>\n",
       "      <th>pseudo_author_id</th>\n",
       "      <th>author_name</th>\n",
       "      <th>review_text</th>\n",
       "      <th>review_rating</th>\n",
       "      <th>review_likes</th>\n",
       "      <th>author_app_version</th>\n",
       "      <th>review_timestamp</th>\n",
       "    </tr>\n",
       "  </thead>\n",
       "  <tbody>\n",
       "    <tr>\n",
       "      <th>0</th>\n",
       "      <td>0</td>\n",
       "      <td>cd2c2a2c-750b-435c-823c-277a6dbcef2a</td>\n",
       "      <td>152618553977019693742</td>\n",
       "      <td>A Google user</td>\n",
       "      <td>Well designed app. It's much easier to use tha...</td>\n",
       "      <td>5</td>\n",
       "      <td>0</td>\n",
       "      <td>1.0.3</td>\n",
       "      <td>2011-04-07 15:57:52</td>\n",
       "    </tr>\n",
       "    <tr>\n",
       "      <th>1</th>\n",
       "      <td>1</td>\n",
       "      <td>ac8d5093-31ce-4f12-8c6b-ee79a06295ab</td>\n",
       "      <td>234382942865437071667</td>\n",
       "      <td>A Google user</td>\n",
       "      <td>Cool!</td>\n",
       "      <td>5</td>\n",
       "      <td>1</td>\n",
       "      <td>1.0.0</td>\n",
       "      <td>2011-04-07 15:59:50</td>\n",
       "    </tr>\n",
       "    <tr>\n",
       "      <th>2</th>\n",
       "      <td>2</td>\n",
       "      <td>bbae055c-f20b-4c01-b604-7cea72416a3a</td>\n",
       "      <td>174473604608358796368</td>\n",
       "      <td>A Google user</td>\n",
       "      <td>Great to finally see this on the market!</td>\n",
       "      <td>5</td>\n",
       "      <td>0</td>\n",
       "      <td>2.0.5</td>\n",
       "      <td>2011-04-07 16:16:02</td>\n",
       "    </tr>\n",
       "    <tr>\n",
       "      <th>3</th>\n",
       "      <td>3</td>\n",
       "      <td>38a13596-b208-423d-8d96-3199e1993138</td>\n",
       "      <td>286593453219054880269</td>\n",
       "      <td>A Google user</td>\n",
       "      <td>Great app</td>\n",
       "      <td>5</td>\n",
       "      <td>1</td>\n",
       "      <td>1.0.0</td>\n",
       "      <td>2011-04-07 16:22:27</td>\n",
       "    </tr>\n",
       "    <tr>\n",
       "      <th>4</th>\n",
       "      <td>4</td>\n",
       "      <td>9ddd29ce-b137-4286-9aa1-3bbdd0015e0a</td>\n",
       "      <td>167276875678680630145</td>\n",
       "      <td>A Google user</td>\n",
       "      <td>Finally! Would love a Homeycomb specific versi...</td>\n",
       "      <td>4</td>\n",
       "      <td>0</td>\n",
       "      <td>1.0.0</td>\n",
       "      <td>2011-04-07 17:41:58</td>\n",
       "    </tr>\n",
       "  </tbody>\n",
       "</table>\n",
       "</div>"
      ],
      "text/plain": [
       "   Unnamed: 0                             review_id       pseudo_author_id  \\\n",
       "0           0  cd2c2a2c-750b-435c-823c-277a6dbcef2a  152618553977019693742   \n",
       "1           1  ac8d5093-31ce-4f12-8c6b-ee79a06295ab  234382942865437071667   \n",
       "2           2  bbae055c-f20b-4c01-b604-7cea72416a3a  174473604608358796368   \n",
       "3           3  38a13596-b208-423d-8d96-3199e1993138  286593453219054880269   \n",
       "4           4  9ddd29ce-b137-4286-9aa1-3bbdd0015e0a  167276875678680630145   \n",
       "\n",
       "     author_name                                        review_text  \\\n",
       "0  A Google user  Well designed app. It's much easier to use tha...   \n",
       "1  A Google user                                              Cool!   \n",
       "2  A Google user           Great to finally see this on the market!   \n",
       "3  A Google user                                          Great app   \n",
       "4  A Google user  Finally! Would love a Homeycomb specific versi...   \n",
       "\n",
       "   review_rating  review_likes author_app_version     review_timestamp  \n",
       "0              5             0              1.0.3  2011-04-07 15:57:52  \n",
       "1              5             1              1.0.0  2011-04-07 15:59:50  \n",
       "2              5             0              2.0.5  2011-04-07 16:16:02  \n",
       "3              5             1              1.0.0  2011-04-07 16:22:27  \n",
       "4              4             0              1.0.0  2011-04-07 17:41:58  "
      ]
     },
     "execution_count": 47,
     "metadata": {},
     "output_type": "execute_result"
    }
   ],
   "source": [
    "import pandas as pd\n",
    "import numpy as np\n",
    "import matplotlib.pyplot as plt\n",
    "import string\n",
    "from sklearn.linear_model import LogisticRegression\n",
    "from sklearn.feature_extraction.text import CountVectorizer\n",
    "from sklearn.model_selection import train_test_split\n",
    "from sklearn.metrics import accuracy_score\n",
    "from nltk.corpus import wordnet\n",
    "import plotly.express as px\n",
    "\n",
    "\n",
    "import nltk   # if not installed yet run pip3 install nltk\n",
    "nltk.download('wordnet')\n",
    "\n",
    "def remove_punctuation(text):\n",
    "    import string\n",
    "    translator = str.maketrans('', '', string.punctuation)\n",
    "    return text.translate(translator)\n",
    "\n",
    "linkedin_df = pd.read_csv('LINKEDIN_REVIEWS.csv')\n",
    "linkedin_df.head()"
   ]
  },
  {
   "cell_type": "code",
   "execution_count": 48,
   "metadata": {},
   "outputs": [
    {
     "name": "stdout",
     "output_type": "stream",
     "text": [
      "<class 'pandas.core.frame.DataFrame'>\n",
      "RangeIndex: 322641 entries, 0 to 322640\n",
      "Data columns (total 9 columns):\n",
      " #   Column              Non-Null Count   Dtype \n",
      "---  ------              --------------   ----- \n",
      " 0   Unnamed: 0          322641 non-null  int64 \n",
      " 1   review_id           322641 non-null  object\n",
      " 2   pseudo_author_id    322641 non-null  object\n",
      " 3   author_name         322641 non-null  object\n",
      " 4   review_text         320964 non-null  object\n",
      " 5   review_rating       322641 non-null  int64 \n",
      " 6   review_likes        322641 non-null  int64 \n",
      " 7   author_app_version  255635 non-null  object\n",
      " 8   review_timestamp    322641 non-null  object\n",
      "dtypes: int64(3), object(6)\n",
      "memory usage: 22.2+ MB\n",
      "None\n"
     ]
    }
   ],
   "source": [
    "\n",
    "print(linkedin_df.info())"
   ]
  },
  {
   "cell_type": "markdown",
   "metadata": {},
   "source": [
    "**Note:** Notably, the dataset lacks empty cells, and all values are represented by either int64 or object"
   ]
  },
  {
   "cell_type": "markdown",
   "metadata": {},
   "source": [
    "**Note:** While analyzing the dataset, I noticed a column that serves no purpose in the data processing. So I have deleted it with the help of drop function and also checked the dataset for having missing values."
   ]
  },
  {
   "cell_type": "code",
   "execution_count": 49,
   "metadata": {},
   "outputs": [
    {
     "data": {
      "text/plain": [
       "review_id                 0\n",
       "pseudo_author_id          0\n",
       "author_name               0\n",
       "review_text            1677\n",
       "review_rating             0\n",
       "review_likes              0\n",
       "author_app_version    67006\n",
       "review_timestamp          0\n",
       "dtype: int64"
      ]
     },
     "execution_count": 49,
     "metadata": {},
     "output_type": "execute_result"
    }
   ],
   "source": [
    "linkedin_df = linkedin_df.drop(['Unnamed: 0'], axis=1)\n",
    "linkedin_df.isnull().sum()\n"
   ]
  },
  {
   "cell_type": "markdown",
   "metadata": {},
   "source": [
    "**Note:** While inspecting for missing values, I found that the `review_text` and `author_app_version` fields contain some missing values. Fortunately, in our case, this does not impact the sentiment analysis."
   ]
  },
  {
   "cell_type": "code",
   "execution_count": 50,
   "metadata": {},
   "outputs": [
    {
     "name": "stdout",
     "output_type": "stream",
     "text": [
      "0         False\n",
      "1         False\n",
      "2         False\n",
      "3         False\n",
      "4         False\n",
      "          ...  \n",
      "322636    False\n",
      "322637    False\n",
      "322638    False\n",
      "322639    False\n",
      "322640    False\n",
      "Length: 322641, dtype: bool\n"
     ]
    }
   ],
   "source": [
    "\n",
    "duplicates = linkedin_df.duplicated()\n",
    "print(duplicates)"
   ]
  },
  {
   "cell_type": "markdown",
   "metadata": {},
   "source": [
    "**Note:** While analyzing the dataset, I also examined whether there are any duplicates, as they can potentially influence the results."
   ]
  },
  {
   "cell_type": "code",
   "execution_count": 51,
   "metadata": {},
   "outputs": [
    {
     "data": {
      "text/html": [
       "<div>\n",
       "<style scoped>\n",
       "    .dataframe tbody tr th:only-of-type {\n",
       "        vertical-align: middle;\n",
       "    }\n",
       "\n",
       "    .dataframe tbody tr th {\n",
       "        vertical-align: top;\n",
       "    }\n",
       "\n",
       "    .dataframe thead th {\n",
       "        text-align: right;\n",
       "    }\n",
       "</style>\n",
       "<table border=\"1\" class=\"dataframe\">\n",
       "  <thead>\n",
       "    <tr style=\"text-align: right;\">\n",
       "      <th></th>\n",
       "      <th>review_id</th>\n",
       "      <th>pseudo_author_id</th>\n",
       "      <th>author_name</th>\n",
       "      <th>review_text</th>\n",
       "      <th>review_rating</th>\n",
       "      <th>review_likes</th>\n",
       "      <th>author_app_version</th>\n",
       "      <th>review_timestamp</th>\n",
       "    </tr>\n",
       "  </thead>\n",
       "  <tbody>\n",
       "    <tr>\n",
       "      <th>0</th>\n",
       "      <td>cd2c2a2c-750b-435c-823c-277a6dbcef2a</td>\n",
       "      <td>152618553977019693742</td>\n",
       "      <td>A Google user</td>\n",
       "      <td>well designed app. it's much easier to use tha...</td>\n",
       "      <td>5</td>\n",
       "      <td>0</td>\n",
       "      <td>1.0.3</td>\n",
       "      <td>2011-04-07 15:57:52</td>\n",
       "    </tr>\n",
       "    <tr>\n",
       "      <th>1</th>\n",
       "      <td>ac8d5093-31ce-4f12-8c6b-ee79a06295ab</td>\n",
       "      <td>234382942865437071667</td>\n",
       "      <td>A Google user</td>\n",
       "      <td>cool!</td>\n",
       "      <td>5</td>\n",
       "      <td>1</td>\n",
       "      <td>1.0.0</td>\n",
       "      <td>2011-04-07 15:59:50</td>\n",
       "    </tr>\n",
       "    <tr>\n",
       "      <th>2</th>\n",
       "      <td>bbae055c-f20b-4c01-b604-7cea72416a3a</td>\n",
       "      <td>174473604608358796368</td>\n",
       "      <td>A Google user</td>\n",
       "      <td>great to finally see this on the market!</td>\n",
       "      <td>5</td>\n",
       "      <td>0</td>\n",
       "      <td>2.0.5</td>\n",
       "      <td>2011-04-07 16:16:02</td>\n",
       "    </tr>\n",
       "    <tr>\n",
       "      <th>3</th>\n",
       "      <td>38a13596-b208-423d-8d96-3199e1993138</td>\n",
       "      <td>286593453219054880269</td>\n",
       "      <td>A Google user</td>\n",
       "      <td>great app</td>\n",
       "      <td>5</td>\n",
       "      <td>1</td>\n",
       "      <td>1.0.0</td>\n",
       "      <td>2011-04-07 16:22:27</td>\n",
       "    </tr>\n",
       "    <tr>\n",
       "      <th>4</th>\n",
       "      <td>9ddd29ce-b137-4286-9aa1-3bbdd0015e0a</td>\n",
       "      <td>167276875678680630145</td>\n",
       "      <td>A Google user</td>\n",
       "      <td>finally! would love a homeycomb specific versi...</td>\n",
       "      <td>4</td>\n",
       "      <td>0</td>\n",
       "      <td>1.0.0</td>\n",
       "      <td>2011-04-07 17:41:58</td>\n",
       "    </tr>\n",
       "    <tr>\n",
       "      <th>...</th>\n",
       "      <td>...</td>\n",
       "      <td>...</td>\n",
       "      <td>...</td>\n",
       "      <td>...</td>\n",
       "      <td>...</td>\n",
       "      <td>...</td>\n",
       "      <td>...</td>\n",
       "      <td>...</td>\n",
       "    </tr>\n",
       "    <tr>\n",
       "      <th>322636</th>\n",
       "      <td>171c29e4-f949-4184-a855-088601940556</td>\n",
       "      <td>275678628651535885903</td>\n",
       "      <td>Di***********gh</td>\n",
       "      <td>better experience</td>\n",
       "      <td>5</td>\n",
       "      <td>0</td>\n",
       "      <td>4.1.884</td>\n",
       "      <td>2023-11-18 03:28:03</td>\n",
       "    </tr>\n",
       "    <tr>\n",
       "      <th>322637</th>\n",
       "      <td>60bb1c67-895f-4cd9-8dcd-75e265964304</td>\n",
       "      <td>133930640114614566822</td>\n",
       "      <td>Da*******rd</td>\n",
       "      <td>great networking app!</td>\n",
       "      <td>5</td>\n",
       "      <td>0</td>\n",
       "      <td>4.1.884</td>\n",
       "      <td>2023-11-18 03:28:03</td>\n",
       "    </tr>\n",
       "    <tr>\n",
       "      <th>322638</th>\n",
       "      <td>aacd49a4-d8ab-412b-b524-3b4e08c9cbcb</td>\n",
       "      <td>128371033984564098315</td>\n",
       "      <td>Si***********li</td>\n",
       "      <td>for the love of god! please activate your cust...</td>\n",
       "      <td>2</td>\n",
       "      <td>0</td>\n",
       "      <td>4.1.884</td>\n",
       "      <td>2023-11-18 03:42:56</td>\n",
       "    </tr>\n",
       "    <tr>\n",
       "      <th>322639</th>\n",
       "      <td>b2af83e8-5ee5-43b0-98ca-1cdc975b0780</td>\n",
       "      <td>236018248827476569871</td>\n",
       "      <td>Ju***************ez</td>\n",
       "      <td>excepcional</td>\n",
       "      <td>5</td>\n",
       "      <td>0</td>\n",
       "      <td>4.1.881</td>\n",
       "      <td>2023-11-18 03:59:58</td>\n",
       "    </tr>\n",
       "    <tr>\n",
       "      <th>322640</th>\n",
       "      <td>3bf6b79d-2114-4c0b-9ec7-2d5b9b817467</td>\n",
       "      <td>852046900655911153260</td>\n",
       "      <td>Ch**********rd</td>\n",
       "      <td>i'm trying to make it.</td>\n",
       "      <td>5</td>\n",
       "      <td>0</td>\n",
       "      <td>4.1.884</td>\n",
       "      <td>2023-11-18 04:06:49</td>\n",
       "    </tr>\n",
       "  </tbody>\n",
       "</table>\n",
       "<p>322641 rows × 8 columns</p>\n",
       "</div>"
      ],
      "text/plain": [
       "                                   review_id       pseudo_author_id  \\\n",
       "0       cd2c2a2c-750b-435c-823c-277a6dbcef2a  152618553977019693742   \n",
       "1       ac8d5093-31ce-4f12-8c6b-ee79a06295ab  234382942865437071667   \n",
       "2       bbae055c-f20b-4c01-b604-7cea72416a3a  174473604608358796368   \n",
       "3       38a13596-b208-423d-8d96-3199e1993138  286593453219054880269   \n",
       "4       9ddd29ce-b137-4286-9aa1-3bbdd0015e0a  167276875678680630145   \n",
       "...                                      ...                    ...   \n",
       "322636  171c29e4-f949-4184-a855-088601940556  275678628651535885903   \n",
       "322637  60bb1c67-895f-4cd9-8dcd-75e265964304  133930640114614566822   \n",
       "322638  aacd49a4-d8ab-412b-b524-3b4e08c9cbcb  128371033984564098315   \n",
       "322639  b2af83e8-5ee5-43b0-98ca-1cdc975b0780  236018248827476569871   \n",
       "322640  3bf6b79d-2114-4c0b-9ec7-2d5b9b817467  852046900655911153260   \n",
       "\n",
       "                author_name  \\\n",
       "0             A Google user   \n",
       "1             A Google user   \n",
       "2             A Google user   \n",
       "3             A Google user   \n",
       "4             A Google user   \n",
       "...                     ...   \n",
       "322636      Di***********gh   \n",
       "322637          Da*******rd   \n",
       "322638      Si***********li   \n",
       "322639  Ju***************ez   \n",
       "322640       Ch**********rd   \n",
       "\n",
       "                                              review_text  review_rating  \\\n",
       "0       well designed app. it's much easier to use tha...              5   \n",
       "1                                                   cool!              5   \n",
       "2                great to finally see this on the market!              5   \n",
       "3                                               great app              5   \n",
       "4       finally! would love a homeycomb specific versi...              4   \n",
       "...                                                   ...            ...   \n",
       "322636                                  better experience              5   \n",
       "322637                              great networking app!              5   \n",
       "322638  for the love of god! please activate your cust...              2   \n",
       "322639                                        excepcional              5   \n",
       "322640                             i'm trying to make it.              5   \n",
       "\n",
       "        review_likes author_app_version     review_timestamp  \n",
       "0                  0              1.0.3  2011-04-07 15:57:52  \n",
       "1                  1              1.0.0  2011-04-07 15:59:50  \n",
       "2                  0              2.0.5  2011-04-07 16:16:02  \n",
       "3                  1              1.0.0  2011-04-07 16:22:27  \n",
       "4                  0              1.0.0  2011-04-07 17:41:58  \n",
       "...              ...                ...                  ...  \n",
       "322636             0            4.1.884  2023-11-18 03:28:03  \n",
       "322637             0            4.1.884  2023-11-18 03:28:03  \n",
       "322638             0            4.1.884  2023-11-18 03:42:56  \n",
       "322639             0            4.1.881  2023-11-18 03:59:58  \n",
       "322640             0            4.1.884  2023-11-18 04:06:49  \n",
       "\n",
       "[322641 rows x 8 columns]"
      ]
     },
     "execution_count": 51,
     "metadata": {},
     "output_type": "execute_result"
    }
   ],
   "source": [
    "linkedin_df['review_text'] = linkedin_df['review_text'].str.lower()\n",
    "linkedin_df"
   ]
  },
  {
   "cell_type": "markdown",
   "metadata": {},
   "source": [
    "**Note:** Lowercasing text is done for consistency and normalization. It ensures that words with different capitalizations are treated the same, simplifying analysis tasks like word frequency, text matching, and tokenization. Additionally, it aids model generalization and improves the accuracy of certain analyses."
   ]
  },
  {
   "cell_type": "markdown",
   "metadata": {},
   "source": [
    "## Exercise 1 (data preparation)\n",
    "a) Remove punctuation from reviews using the given function.   \n",
    "b) Replace all missing (nan) revies with empty \"\" string.  \n",
    "c) Drop all the entries with rating = 3, as they have neutral sentiment.   \n",
    "d) Set all positive ($\\geq$4) ratings to 1 and negative($\\leq$2) to -1."
   ]
  },
  {
   "cell_type": "code",
   "execution_count": 52,
   "metadata": {
    "collapsed": false
   },
   "outputs": [
    {
     "data": {
      "text/plain": [
       "True"
      ]
     },
     "execution_count": 52,
     "metadata": {},
     "output_type": "execute_result"
    }
   ],
   "source": [
    "\n",
    "linkedin_df['review_text'] = linkedin_df['review_text'].astype(str)\n",
    "linkedin_df['review_text'] = linkedin_df['review_text'].apply(remove_punctuation)\n",
    "#short test: \n",
    "linkedin_df[\"review_text\"][25] == 'for a brand new app this is awesome i would recommend the addition of profile editing in future releases otherwise this is a perfect mobile app'\n",
    "remove_punctuation(linkedin_df[\"review_text\"][25]) == 'for a brand new app this is awesome i would recommend the addition of profile editing in future releases otherwise this is a perfect mobile app'"
   ]
  },
  {
   "cell_type": "markdown",
   "metadata": {},
   "source": [
    "**Notes:**  I have clarified that the `review_text` column exclusively holds string values. Using the `apply` function, I've successfully eliminated all punctuation. This process aids in eliminating noise from our data, preventing situations where `word.` and `word` would be treated as distinct words. Generally, punctuation doesn't contribute significantly to the model (it's worth noting that the function responsible for punctuation removal also excludes exclamation points)."
   ]
  },
  {
   "cell_type": "code",
   "execution_count": 53,
   "metadata": {
    "collapsed": false
   },
   "outputs": [
    {
     "data": {
      "text/plain": [
       "True"
      ]
     },
     "execution_count": 53,
     "metadata": {},
     "output_type": "execute_result"
    }
   ],
   "source": [
    "\n",
    "linkedin_df['review_text'].replace(np.nan, \"\", inplace=True)\n",
    "\n",
    "linkedin_df[\"review_text\"][2] == linkedin_df[\"review_text\"][2]"
   ]
  },
  {
   "cell_type": "markdown",
   "metadata": {},
   "source": [
    "**Notes:** The `np.nan` is a constant representing a missing or undefined numerical value in a NumPy array. It stands for not a number and has a float type. It was removed using replace function. Since CountVectorizer cannot process `nan` values, it was necessary to replace them with empty strings."
   ]
  },
  {
   "cell_type": "code",
   "execution_count": 54,
   "metadata": {},
   "outputs": [],
   "source": [
    "\n",
    "def has_synset(word):\n",
    "    synsets = wordnet.synsets(word)\n",
    "    return len(synsets) > 0\n",
    "\n",
    "\n",
    "def filter_reviews(row):\n",
    "    words_in_review = row['review_text'].split()\n",
    "    return any(has_synset(word) for word in words_in_review)\n",
    "\n",
    "\n",
    "linkedin_df = linkedin_df[linkedin_df.apply(filter_reviews, axis=1)]\n"
   ]
  },
  {
   "cell_type": "markdown",
   "metadata": {},
   "source": [
    "**Notes:** While analyzing the dataset, I conducted research and discovered that some review texts lack meaningful content. To address this, I employed Natural Language Processing (NLP) analysis using nltk library. Using synsets, I evaluated the words in the review text field and applied a filtering function to eliminate non-meaningful reviews, subsequently deleting the corresponding rows."
   ]
  },
  {
   "cell_type": "code",
   "execution_count": 55,
   "metadata": {},
   "outputs": [
    {
     "data": {
      "application/vnd.plotly.v1+json": {
       "config": {
        "plotlyServerURL": "https://plot.ly"
       },
       "data": [
        {
         "domain": {
          "x": [
           0,
           1
          ],
          "y": [
           0,
           1
          ]
         },
         "hovertemplate": "label=%{label}<br>value=%{value}<extra></extra>",
         "labels": [
          5,
          4,
          1,
          3,
          2
         ],
         "legendgroup": "",
         "name": "",
         "showlegend": true,
         "type": "pie",
         "values": [
          176701,
          47050,
          46327,
          21377,
          14313
         ]
        }
       ],
       "layout": {
        "legend": {
         "tracegroupgap": 0
        },
        "template": {
         "data": {
          "bar": [
           {
            "error_x": {
             "color": "#2a3f5f"
            },
            "error_y": {
             "color": "#2a3f5f"
            },
            "marker": {
             "line": {
              "color": "#E5ECF6",
              "width": 0.5
             },
             "pattern": {
              "fillmode": "overlay",
              "size": 10,
              "solidity": 0.2
             }
            },
            "type": "bar"
           }
          ],
          "barpolar": [
           {
            "marker": {
             "line": {
              "color": "#E5ECF6",
              "width": 0.5
             },
             "pattern": {
              "fillmode": "overlay",
              "size": 10,
              "solidity": 0.2
             }
            },
            "type": "barpolar"
           }
          ],
          "carpet": [
           {
            "aaxis": {
             "endlinecolor": "#2a3f5f",
             "gridcolor": "white",
             "linecolor": "white",
             "minorgridcolor": "white",
             "startlinecolor": "#2a3f5f"
            },
            "baxis": {
             "endlinecolor": "#2a3f5f",
             "gridcolor": "white",
             "linecolor": "white",
             "minorgridcolor": "white",
             "startlinecolor": "#2a3f5f"
            },
            "type": "carpet"
           }
          ],
          "choropleth": [
           {
            "colorbar": {
             "outlinewidth": 0,
             "ticks": ""
            },
            "type": "choropleth"
           }
          ],
          "contour": [
           {
            "colorbar": {
             "outlinewidth": 0,
             "ticks": ""
            },
            "colorscale": [
             [
              0,
              "#0d0887"
             ],
             [
              0.1111111111111111,
              "#46039f"
             ],
             [
              0.2222222222222222,
              "#7201a8"
             ],
             [
              0.3333333333333333,
              "#9c179e"
             ],
             [
              0.4444444444444444,
              "#bd3786"
             ],
             [
              0.5555555555555556,
              "#d8576b"
             ],
             [
              0.6666666666666666,
              "#ed7953"
             ],
             [
              0.7777777777777778,
              "#fb9f3a"
             ],
             [
              0.8888888888888888,
              "#fdca26"
             ],
             [
              1,
              "#f0f921"
             ]
            ],
            "type": "contour"
           }
          ],
          "contourcarpet": [
           {
            "colorbar": {
             "outlinewidth": 0,
             "ticks": ""
            },
            "type": "contourcarpet"
           }
          ],
          "heatmap": [
           {
            "colorbar": {
             "outlinewidth": 0,
             "ticks": ""
            },
            "colorscale": [
             [
              0,
              "#0d0887"
             ],
             [
              0.1111111111111111,
              "#46039f"
             ],
             [
              0.2222222222222222,
              "#7201a8"
             ],
             [
              0.3333333333333333,
              "#9c179e"
             ],
             [
              0.4444444444444444,
              "#bd3786"
             ],
             [
              0.5555555555555556,
              "#d8576b"
             ],
             [
              0.6666666666666666,
              "#ed7953"
             ],
             [
              0.7777777777777778,
              "#fb9f3a"
             ],
             [
              0.8888888888888888,
              "#fdca26"
             ],
             [
              1,
              "#f0f921"
             ]
            ],
            "type": "heatmap"
           }
          ],
          "heatmapgl": [
           {
            "colorbar": {
             "outlinewidth": 0,
             "ticks": ""
            },
            "colorscale": [
             [
              0,
              "#0d0887"
             ],
             [
              0.1111111111111111,
              "#46039f"
             ],
             [
              0.2222222222222222,
              "#7201a8"
             ],
             [
              0.3333333333333333,
              "#9c179e"
             ],
             [
              0.4444444444444444,
              "#bd3786"
             ],
             [
              0.5555555555555556,
              "#d8576b"
             ],
             [
              0.6666666666666666,
              "#ed7953"
             ],
             [
              0.7777777777777778,
              "#fb9f3a"
             ],
             [
              0.8888888888888888,
              "#fdca26"
             ],
             [
              1,
              "#f0f921"
             ]
            ],
            "type": "heatmapgl"
           }
          ],
          "histogram": [
           {
            "marker": {
             "pattern": {
              "fillmode": "overlay",
              "size": 10,
              "solidity": 0.2
             }
            },
            "type": "histogram"
           }
          ],
          "histogram2d": [
           {
            "colorbar": {
             "outlinewidth": 0,
             "ticks": ""
            },
            "colorscale": [
             [
              0,
              "#0d0887"
             ],
             [
              0.1111111111111111,
              "#46039f"
             ],
             [
              0.2222222222222222,
              "#7201a8"
             ],
             [
              0.3333333333333333,
              "#9c179e"
             ],
             [
              0.4444444444444444,
              "#bd3786"
             ],
             [
              0.5555555555555556,
              "#d8576b"
             ],
             [
              0.6666666666666666,
              "#ed7953"
             ],
             [
              0.7777777777777778,
              "#fb9f3a"
             ],
             [
              0.8888888888888888,
              "#fdca26"
             ],
             [
              1,
              "#f0f921"
             ]
            ],
            "type": "histogram2d"
           }
          ],
          "histogram2dcontour": [
           {
            "colorbar": {
             "outlinewidth": 0,
             "ticks": ""
            },
            "colorscale": [
             [
              0,
              "#0d0887"
             ],
             [
              0.1111111111111111,
              "#46039f"
             ],
             [
              0.2222222222222222,
              "#7201a8"
             ],
             [
              0.3333333333333333,
              "#9c179e"
             ],
             [
              0.4444444444444444,
              "#bd3786"
             ],
             [
              0.5555555555555556,
              "#d8576b"
             ],
             [
              0.6666666666666666,
              "#ed7953"
             ],
             [
              0.7777777777777778,
              "#fb9f3a"
             ],
             [
              0.8888888888888888,
              "#fdca26"
             ],
             [
              1,
              "#f0f921"
             ]
            ],
            "type": "histogram2dcontour"
           }
          ],
          "mesh3d": [
           {
            "colorbar": {
             "outlinewidth": 0,
             "ticks": ""
            },
            "type": "mesh3d"
           }
          ],
          "parcoords": [
           {
            "line": {
             "colorbar": {
              "outlinewidth": 0,
              "ticks": ""
             }
            },
            "type": "parcoords"
           }
          ],
          "pie": [
           {
            "automargin": true,
            "type": "pie"
           }
          ],
          "scatter": [
           {
            "fillpattern": {
             "fillmode": "overlay",
             "size": 10,
             "solidity": 0.2
            },
            "type": "scatter"
           }
          ],
          "scatter3d": [
           {
            "line": {
             "colorbar": {
              "outlinewidth": 0,
              "ticks": ""
             }
            },
            "marker": {
             "colorbar": {
              "outlinewidth": 0,
              "ticks": ""
             }
            },
            "type": "scatter3d"
           }
          ],
          "scattercarpet": [
           {
            "marker": {
             "colorbar": {
              "outlinewidth": 0,
              "ticks": ""
             }
            },
            "type": "scattercarpet"
           }
          ],
          "scattergeo": [
           {
            "marker": {
             "colorbar": {
              "outlinewidth": 0,
              "ticks": ""
             }
            },
            "type": "scattergeo"
           }
          ],
          "scattergl": [
           {
            "marker": {
             "colorbar": {
              "outlinewidth": 0,
              "ticks": ""
             }
            },
            "type": "scattergl"
           }
          ],
          "scattermapbox": [
           {
            "marker": {
             "colorbar": {
              "outlinewidth": 0,
              "ticks": ""
             }
            },
            "type": "scattermapbox"
           }
          ],
          "scatterpolar": [
           {
            "marker": {
             "colorbar": {
              "outlinewidth": 0,
              "ticks": ""
             }
            },
            "type": "scatterpolar"
           }
          ],
          "scatterpolargl": [
           {
            "marker": {
             "colorbar": {
              "outlinewidth": 0,
              "ticks": ""
             }
            },
            "type": "scatterpolargl"
           }
          ],
          "scatterternary": [
           {
            "marker": {
             "colorbar": {
              "outlinewidth": 0,
              "ticks": ""
             }
            },
            "type": "scatterternary"
           }
          ],
          "surface": [
           {
            "colorbar": {
             "outlinewidth": 0,
             "ticks": ""
            },
            "colorscale": [
             [
              0,
              "#0d0887"
             ],
             [
              0.1111111111111111,
              "#46039f"
             ],
             [
              0.2222222222222222,
              "#7201a8"
             ],
             [
              0.3333333333333333,
              "#9c179e"
             ],
             [
              0.4444444444444444,
              "#bd3786"
             ],
             [
              0.5555555555555556,
              "#d8576b"
             ],
             [
              0.6666666666666666,
              "#ed7953"
             ],
             [
              0.7777777777777778,
              "#fb9f3a"
             ],
             [
              0.8888888888888888,
              "#fdca26"
             ],
             [
              1,
              "#f0f921"
             ]
            ],
            "type": "surface"
           }
          ],
          "table": [
           {
            "cells": {
             "fill": {
              "color": "#EBF0F8"
             },
             "line": {
              "color": "white"
             }
            },
            "header": {
             "fill": {
              "color": "#C8D4E3"
             },
             "line": {
              "color": "white"
             }
            },
            "type": "table"
           }
          ]
         },
         "layout": {
          "annotationdefaults": {
           "arrowcolor": "#2a3f5f",
           "arrowhead": 0,
           "arrowwidth": 1
          },
          "autotypenumbers": "strict",
          "coloraxis": {
           "colorbar": {
            "outlinewidth": 0,
            "ticks": ""
           }
          },
          "colorscale": {
           "diverging": [
            [
             0,
             "#8e0152"
            ],
            [
             0.1,
             "#c51b7d"
            ],
            [
             0.2,
             "#de77ae"
            ],
            [
             0.3,
             "#f1b6da"
            ],
            [
             0.4,
             "#fde0ef"
            ],
            [
             0.5,
             "#f7f7f7"
            ],
            [
             0.6,
             "#e6f5d0"
            ],
            [
             0.7,
             "#b8e186"
            ],
            [
             0.8,
             "#7fbc41"
            ],
            [
             0.9,
             "#4d9221"
            ],
            [
             1,
             "#276419"
            ]
           ],
           "sequential": [
            [
             0,
             "#0d0887"
            ],
            [
             0.1111111111111111,
             "#46039f"
            ],
            [
             0.2222222222222222,
             "#7201a8"
            ],
            [
             0.3333333333333333,
             "#9c179e"
            ],
            [
             0.4444444444444444,
             "#bd3786"
            ],
            [
             0.5555555555555556,
             "#d8576b"
            ],
            [
             0.6666666666666666,
             "#ed7953"
            ],
            [
             0.7777777777777778,
             "#fb9f3a"
            ],
            [
             0.8888888888888888,
             "#fdca26"
            ],
            [
             1,
             "#f0f921"
            ]
           ],
           "sequentialminus": [
            [
             0,
             "#0d0887"
            ],
            [
             0.1111111111111111,
             "#46039f"
            ],
            [
             0.2222222222222222,
             "#7201a8"
            ],
            [
             0.3333333333333333,
             "#9c179e"
            ],
            [
             0.4444444444444444,
             "#bd3786"
            ],
            [
             0.5555555555555556,
             "#d8576b"
            ],
            [
             0.6666666666666666,
             "#ed7953"
            ],
            [
             0.7777777777777778,
             "#fb9f3a"
            ],
            [
             0.8888888888888888,
             "#fdca26"
            ],
            [
             1,
             "#f0f921"
            ]
           ]
          },
          "colorway": [
           "#636efa",
           "#EF553B",
           "#00cc96",
           "#ab63fa",
           "#FFA15A",
           "#19d3f3",
           "#FF6692",
           "#B6E880",
           "#FF97FF",
           "#FECB52"
          ],
          "font": {
           "color": "#2a3f5f"
          },
          "geo": {
           "bgcolor": "white",
           "lakecolor": "white",
           "landcolor": "#E5ECF6",
           "showlakes": true,
           "showland": true,
           "subunitcolor": "white"
          },
          "hoverlabel": {
           "align": "left"
          },
          "hovermode": "closest",
          "mapbox": {
           "style": "light"
          },
          "paper_bgcolor": "white",
          "plot_bgcolor": "#E5ECF6",
          "polar": {
           "angularaxis": {
            "gridcolor": "white",
            "linecolor": "white",
            "ticks": ""
           },
           "bgcolor": "#E5ECF6",
           "radialaxis": {
            "gridcolor": "white",
            "linecolor": "white",
            "ticks": ""
           }
          },
          "scene": {
           "xaxis": {
            "backgroundcolor": "#E5ECF6",
            "gridcolor": "white",
            "gridwidth": 2,
            "linecolor": "white",
            "showbackground": true,
            "ticks": "",
            "zerolinecolor": "white"
           },
           "yaxis": {
            "backgroundcolor": "#E5ECF6",
            "gridcolor": "white",
            "gridwidth": 2,
            "linecolor": "white",
            "showbackground": true,
            "ticks": "",
            "zerolinecolor": "white"
           },
           "zaxis": {
            "backgroundcolor": "#E5ECF6",
            "gridcolor": "white",
            "gridwidth": 2,
            "linecolor": "white",
            "showbackground": true,
            "ticks": "",
            "zerolinecolor": "white"
           }
          },
          "shapedefaults": {
           "line": {
            "color": "#2a3f5f"
           }
          },
          "ternary": {
           "aaxis": {
            "gridcolor": "white",
            "linecolor": "white",
            "ticks": ""
           },
           "baxis": {
            "gridcolor": "white",
            "linecolor": "white",
            "ticks": ""
           },
           "bgcolor": "#E5ECF6",
           "caxis": {
            "gridcolor": "white",
            "linecolor": "white",
            "ticks": ""
           }
          },
          "title": {
           "x": 0.05
          },
          "xaxis": {
           "automargin": true,
           "gridcolor": "white",
           "linecolor": "white",
           "ticks": "",
           "title": {
            "standoff": 15
           },
           "zerolinecolor": "white",
           "zerolinewidth": 2
          },
          "yaxis": {
           "automargin": true,
           "gridcolor": "white",
           "linecolor": "white",
           "ticks": "",
           "title": {
            "standoff": 15
           },
           "zerolinecolor": "white",
           "zerolinewidth": 2
          }
         }
        },
        "title": {
         "text": "review_rating"
        }
       }
      }
     },
     "metadata": {},
     "output_type": "display_data"
    }
   ],
   "source": [
    "fig=px.pie(linkedin_df, values=linkedin_df['review_rating'].value_counts().values,\n",
    "           names=linkedin_df['review_rating'].value_counts().index, title='review_rating')\n",
    "fig.show()"
   ]
  },
  {
   "cell_type": "markdown",
   "metadata": {},
   "source": [
    "**Note:** I examined whether there is a need to eliminate neutral reviews(if any) and considered whether it is necessary to categorize comments strictly as negative or positive. To assess this, I created a pie chart. Upon analysis, I concluded that following the steps outlined in the basic assignment is essential."
   ]
  },
  {
   "cell_type": "code",
   "execution_count": 56,
   "metadata": {
    "collapsed": false
   },
   "outputs": [
    {
     "name": "stdout",
     "output_type": "stream",
     "text": [
      "0\n"
     ]
    }
   ],
   "source": [
    "\n",
    "linkedin_df = linkedin_df[linkedin_df[\"review_rating\"] != 3]\n",
    "\n",
    "print(sum(linkedin_df[\"review_rating\"] == 3))"
   ]
  },
  {
   "cell_type": "markdown",
   "metadata": {},
   "source": [
    "**Notes:** In the provided code, I removed all entries with a rating of 3 and subsequently verified whether the removal was successful."
   ]
  },
  {
   "cell_type": "code",
   "execution_count": 57,
   "metadata": {
    "collapsed": false
   },
   "outputs": [
    {
     "data": {
      "text/plain": [
       "0"
      ]
     },
     "execution_count": 57,
     "metadata": {},
     "output_type": "execute_result"
    }
   ],
   "source": [
    "#d)\n",
    "\n",
    "linkedin_df[\"review_rating\"] = np.where(linkedin_df[\"review_rating\"] >= 4, 1, np.where(linkedin_df[\"review_rating\"] <= 2, -1, linkedin_df[\"review_rating\"]))\n",
    "\n",
    "# Test if all ratings are now either 1 or -1\n",
    "#short test:\n",
    "sum(linkedin_df[\"review_rating\"]**2 != 1)"
   ]
  },
  {
   "cell_type": "markdown",
   "metadata": {},
   "source": [
    "**Notes:** Then I have set all positive (greater or equal to 4) ratings to 1 and negative(less or equal to 2) to -1."
   ]
  },
  {
   "cell_type": "code",
   "execution_count": 58,
   "metadata": {},
   "outputs": [
    {
     "data": {
      "image/png": "[encoded data removed]",
      "text/plain": [
       "<Figure size 640x480 with 1 Axes>"
      ]
     },
     "metadata": {},
     "output_type": "display_data"
    }
   ],
   "source": [
    "color = (0.5,\n",
    "         0.1, \n",
    "         0.4, \n",
    "         0.6 \n",
    "         ) \n",
    "\n",
    "rating_counts = linkedin_df['review_rating'].value_counts()\n",
    "plt.bar(rating_counts.index, rating_counts.values, color=color)\n",
    "plt.xlabel('review_rating')\n",
    "plt.xticks([-1, 1])\n",
    "plt.ylabel('count')\n",
    "plt.title('')\n",
    "plt.show()"
   ]
  },
  {
   "cell_type": "markdown",
   "metadata": {},
   "source": [
    "**Notes:** After categorizing the reviews into strictly positive or negative, I became curious about the proportions between negative and positive comments. In the provided bar plot we can see that the number of positive reviews is much bigger than the number of negative reviews."
   ]
  },
  {
   "cell_type": "markdown",
   "metadata": {},
   "source": [
    "## Exercise 2 \n",
    "a) Split dataset into training and test sets.     \n",
    "b) Transform reviews into vectors using CountVectorizer. "
   ]
  },
  {
   "cell_type": "code",
   "execution_count": 59,
   "metadata": {
    "collapsed": true
   },
   "outputs": [],
   "source": [
    "#a)\n",
    "train, test = train_test_split(linkedin_df, train_size=0.8, test_size=0.2, random_state=9)"
   ]
  },
  {
   "cell_type": "markdown",
   "metadata": {},
   "source": [
    "**Notes:** In the provided code I have splitted the dataset into train (80% of the dataset) and test (20% of the dataset) sets. To achieve this, I'm utilizing the `train_test_split` function. I've also defined a random state. The random state value maintains dataset consistency, producing the same dataset for a given integer value."
   ]
  },
  {
   "cell_type": "code",
   "execution_count": 60,
   "metadata": {
    "collapsed": true
   },
   "outputs": [],
   "source": [
    "#b)\n",
    "vectorizer = CountVectorizer()\n",
    "\n",
    "X = vectorizer.fit_transform(list(train[\"review_text\"]))\n",
    "y = train[\"review_rating\"]\n",
    "X_test = vectorizer.transform(list(test[\"review_text\"]))\n",
    "y_test = test[\"review_rating\"]\n"
   ]
  },
  {
   "cell_type": "markdown",
   "metadata": {},
   "source": [
    "**Notes:** the code I've provided is using the CountVectorizer from scikit-learn to convert a collection of text documents into a matrix of token counts. The `fit_transform` method is used to convert the training reviews in the `review_text` column of the train dataframe into a sparse matrix (X) of token counts. It both fits the vectorizer on the training data and transforms the data simultaneously. The numbers stored in this vector represent the frequency of each word in the given review."
   ]
  },
  {
   "cell_type": "markdown",
   "metadata": {},
   "source": [
    "## Exercise 3 \n",
    "a) Train LogisticRegression model on training data (reviews processed with CountVectorizer, ratings as they were).   \n",
    "b) Print 10 most positive and 10 most negative words."
   ]
  },
  {
   "cell_type": "code",
   "execution_count": 61,
   "metadata": {
    "collapsed": true
   },
   "outputs": [
    {
     "name": "stdout",
     "output_type": "stream",
     "text": [
      "Accuracy: 0.927231491411593\n"
     ]
    },
    {
     "name": "stderr",
     "output_type": "stream",
     "text": [
      "/home/viktoryia/.local/lib/python3.11/site-packages/sklearn/linear_model/_logistic.py:460: ConvergenceWarning:\n",
      "\n",
      "lbfgs failed to converge (status=1):\n",
      "STOP: TOTAL NO. of ITERATIONS REACHED LIMIT.\n",
      "\n",
      "Increase the number of iterations (max_iter) or scale the data as shown in:\n",
      "    https://scikit-learn.org/stable/modules/preprocessing.html\n",
      "Please also refer to the documentation for alternative solver options:\n",
      "    https://scikit-learn.org/stable/modules/linear_model.html#logistic-regression\n",
      "\n"
     ]
    }
   ],
   "source": [
    "#a)\n",
    "model = LogisticRegression()\n",
    "\n",
    "model.fit(X, y)\n",
    "\n",
    "y_pred = model.predict(X_test)\n",
    "\n",
    "accuracy = accuracy_score(y_test, y_pred)\n",
    "\n",
    "# Print the accuracy\n",
    "print(\"Accuracy:\", accuracy)"
   ]
  },
  {
   "cell_type": "markdown",
   "metadata": {},
   "source": [
    "**Notes:** I have constructed the model to identify positive and negative words. A rating of -1 signifies a predominantly negative sentiment in the review, while a rating of 1 indicates the opposite. \n",
    "\n",
    "The `fit` method trains the model using logistic regression to fit the appropriate regression curve. It takes an array of features as parameters and an array representing the response to these features.\n",
    "\n",
    "The `accuracy_score` function from the sklearn.metrics package computes the accuracy score, which measures the accuracy of a set of predicted labels compared to the true labels."
   ]
  },
  {
   "cell_type": "code",
   "execution_count": 62,
   "metadata": {
    "collapsed": true
   },
   "outputs": [
    {
     "name": "stdout",
     "output_type": "stream",
     "text": [
      "10 Most Positive Words:\n",
      "[('outstanding', 3.727427917789589), ('excellent', 3.705309678847864), ('awesome', 3.280181093146754), ('great', 2.7401734398292916), ('fantastic', 2.7389392799984735), ('wonderful', 2.7151033007675576), ('incredible', 2.614273451080361), ('amazing', 2.5889359250887343), ('superb', 2.546601521115095), ('helpfull', 2.5243109663325227)]\n",
      "\n",
      "10 Most Negative Words:\n",
      "[('pathetic', -4.654068424120996), ('worst', -3.8730100535987377), ('rubbish', -3.860689496848824), ('poor', -3.5918170573519492), ('worthless', -3.4503726731536597), ('lousy', -3.3789918333908386), ('sucks', -3.3663289122558475), ('bloatware', -3.2924321897071156), ('useless', -3.219676480176192), ('censorship', -3.205281431013104)]\n"
     ]
    }
   ],
   "source": [
    "#b)\n",
    "\n",
    "feature_names = np.array(vectorizer.get_feature_names_out())\n",
    "\n",
    "# Get the coefficients from the trained model\n",
    "coefficients = model.coef_[0]\n",
    "\n",
    "# Create a dictionary mapping feature names to coefficients\n",
    "features_coefficients = dict(zip(feature_names, coefficients))\n",
    "\n",
    "print(\"10 Most Positive Words:\")\n",
    "print(sorted(features_coefficients.items(), key=lambda x: x[1], reverse=True)[:10])\n",
    "\n",
    "print(\"\\n10 Most Negative Words:\")\n",
    "print(sorted(features_coefficients.items(), key=lambda x: x[1])[:10])"
   ]
  },
  {
   "cell_type": "markdown",
   "metadata": {},
   "source": [
    "**Note:** The provided code is analyzing the coefficients of a trained logistic regression model and identifying the words that have the most positive or negative impact on the model's predictions. `vectorizer.get_feature_names_out()` returns the feature names used by the CountVectorizer. `np.array()` is used to convert the result into a numpy array. `zip` is used to pair each feature name with its corresponding coefficient, `dict()` - to create a dictionary mapping feature names to their coefficients.\n",
    "\n",
    "\n",
    "The resulting dictionary `features_coefficients` provides a convenient way to look up the coefficient of each word.\n",
    "\n",
    "\n",
    "The code prints the 10 words with the highest positive coefficients and the 10 words with the lowest (most negative) coefficients. The sorting is based on the absolute values of the coefficients, with the key=lambda x: x[1] specifying that the sorting should be done based on the coefficients."
   ]
  },
  {
   "cell_type": "markdown",
   "metadata": {},
   "source": [
    "## Exercise 4 \n",
    "a) Predict the sentiment of test data reviews.   \n",
    "b) Predict the sentiment of test data reviews in terms of probability.   \n",
    "c) Find five most positive and most negative reviews.   \n",
    "d) Calculate the accuracy of predictions."
   ]
  },
  {
   "cell_type": "code",
   "execution_count": 63,
   "metadata": {
    "collapsed": true
   },
   "outputs": [
    {
     "name": "stdout",
     "output_type": "stream",
     "text": [
      "Review: fantastic\n",
      "Actual Rating: 1\n",
      "Predicted Sentiment: 1\n",
      "\n",
      "Review: i like linkedin\n",
      "Actual Rating: 1\n",
      "Predicted Sentiment: 1\n",
      "\n",
      "Review: excellent\n",
      "Actual Rating: 1\n",
      "Predicted Sentiment: 1\n",
      "\n",
      "Review: since february 19 update this app is not working lame maybe test before releasing eh everytime be there is an update must uninstall reinstall also no way to reorder certifications which is disappointing\n",
      "Actual Rating: -1\n",
      "Predicted Sentiment: -1\n",
      "\n",
      "Review: why r u creating site like facebook keep it simple\n",
      "Actual Rating: -1\n",
      "Predicted Sentiment: 1\n",
      "\n"
     ]
    }
   ],
   "source": [
    "y_pred = model.predict(X_test)\n",
    "\n",
    "\n",
    "for i in range(5):\n",
    "    print(\"Review:\", test[\"review_text\"].iloc[i])\n",
    "    print(\"Actual Rating:\", y_test.iloc[i])\n",
    "    print(\"Predicted Sentiment:\", y_pred[i])\n",
    "    print()"
   ]
  },
  {
   "cell_type": "markdown",
   "metadata": {},
   "source": [
    "**Note:** The output of this code provides a quick comparison between the actual sentiment (ratings) and the sentiment predicted by the logistic regression model for the first few reviews in the test set. It helps you assess how well the model is performing on real-world data."
   ]
  },
  {
   "cell_type": "code",
   "execution_count": 64,
   "metadata": {
    "collapsed": true
   },
   "outputs": [
    {
     "name": "stdout",
     "output_type": "stream",
     "text": [
      "Review: fantastic\n",
      "Actual Rating: 1\n",
      "Predicted Probabilities: [0.01529835 0.98470165]\n",
      "\n",
      "Review: i like linkedin\n",
      "Actual Rating: 1\n",
      "Predicted Probabilities: [0.10024685 0.89975315]\n",
      "\n",
      "Review: excellent\n",
      "Actual Rating: 1\n",
      "Predicted Probabilities: [0.00587613 0.99412387]\n",
      "\n",
      "Review: since february 19 update this app is not working lame maybe test before releasing eh everytime be there is an update must uninstall reinstall also no way to reorder certifications which is disappointing\n",
      "Actual Rating: -1\n",
      "Predicted Probabilities: [9.99983896e-01 1.61037447e-05]\n",
      "\n",
      "Review: why r u creating site like facebook keep it simple\n",
      "Actual Rating: -1\n",
      "Predicted Probabilities: [0.17689349 0.82310651]\n",
      "\n"
     ]
    }
   ],
   "source": [
    "y_proba = model.predict_proba(X_test)\n",
    "\n",
    "\n",
    "for i in range(5):\n",
    "    print(\"Review:\", test[\"review_text\"].iloc[i])\n",
    "    print(\"Actual Rating:\", y_test.iloc[i])\n",
    "    print(\"Predicted Probabilities:\", y_proba[i])\n",
    "    print()\n"
   ]
  },
  {
   "cell_type": "markdown",
   "metadata": {},
   "source": [
    "**Notes:** The output of this code will show the predicted probabilities for both classes (negative and positive) for each review. This information can be useful for understanding the model's confidence in its predictions."
   ]
  },
  {
   "cell_type": "code",
   "execution_count": 65,
   "metadata": {},
   "outputs": [
    {
     "name": "stdout",
     "output_type": "stream",
     "text": [
      "Five Most Positive Reviews:\n",
      "Predicted Probability (Positive): 0.9999999999988081\n",
      "Actual Rating: 1\n",
      "Review: just like the app and work for my church first baptist church job 2 days aweek tuesday and thursday my job is great i love the work and just working now keep s me busy and actually happy my days now since march to july 5 months now asowme and my job is very good 😊 and actually great and my job is janitorial services im a great work er and actually happy with my job and im busy and on time 📱👱‍♀️ schedule to go out and actually have a great work days very good 😊 and wonderful special family\n",
      "\n",
      "Predicted Probability (Positive): 0.999999999998396\n",
      "Actual Rating: 1\n",
      "Review: dear team yo have created an awesome appit helps us to create our professional resumes and showcase our talents as well as certificationsalso it helps us to connect a lot of professionals around the worldthe best thing is to get connected and also find jobs that matches your skillsetconnect the employers in a professional manneran awesome appi love it great creativity by the linkedin team\n",
      "\n",
      "Predicted Probability (Positive): 0.9999999999972216\n",
      "Actual Rating: 1\n",
      "Review: this app is so awesome i like this that app because i want to find jobs and i found some really incredible and i love the experience which have using this amazing app so i advice for want to find a new career or a place to find a new career or even learn courses heres for you your friends and your relative find  learn a new way to new opportunities of jobs or courses ps thanks linkedin for my experience be so cool in here\n",
      "\n",
      "Predicted Probability (Positive): 0.999999999929426\n",
      "Actual Rating: 1\n",
      "Review: excellent have had and having a great experience on linkedin its an amazing platform to connect with good professionals 🙂 find great minds in your professional field find mentors and colleagues who enhance your business and career opportunities looking forward for more participation\n",
      "\n",
      "Predicted Probability (Positive): 0.9999999999158868\n",
      "Actual Rating: 1\n",
      "Review: i have used linked in for years and i love it a great way to link up with a range of people in the professional and business world also a an opportunity to learn from some of the worlds leading gurus i enjoy reading the discussions following their posts really useful for finding jobs and information about other careers lots of training and educational opportunities are available free and with charges an excellent resource\n",
      "\n"
     ]
    }
   ],
   "source": [
    "most_positive_indices = np.argsort(y_proba[:, 1])[::-1][:5]\n",
    "\n",
    "print(\"Five Most Positive Reviews:\")\n",
    "for index in most_positive_indices:\n",
    "    print(\"Predicted Probability (Positive):\", y_proba[index, 1])\n",
    "    print(\"Actual Rating:\", y_test.iloc[index])\n",
    "    print(\"Review:\", test[\"review_text\"].iloc[index])\n",
    "    print()"
   ]
  },
  {
   "cell_type": "markdown",
   "metadata": {},
   "source": [
    "**Note:** The code identifies 5 reviews with the highest predicted probabilities for being positive and prints relevant information about these reviews. \n",
    "- `np.argsort(y_proba[:, 1])` returns the indices that would sort the predicted probabilities for the positive class in ascending order.\n",
    "- `[::-1]` reverses the order, so it becomes descending.\n",
    "- `[:5]` selects the first 5 indices, corresponding to 5 reviews with the highest predicted probabilities for being positive."
   ]
  },
  {
   "cell_type": "code",
   "execution_count": 66,
   "metadata": {},
   "outputs": [
    {
     "name": "stdout",
     "output_type": "stream",
     "text": [
      "Five Most Negative Reviews:\n",
      "Predicted Probability (Negative): 1.0\n",
      "Actual Rating: -1\n",
      "Review: very slow services by linked in managementin email response is too latehow i give rating 2 star either 5 star kindly look my account which is not working from last 1 week my work is disturbingkindly facilitate me asap regard worst app worst management worst management worst app worst app worst app worst app zero rating zero rating zero rating zero rating thomas attitude is worst\n",
      "\n",
      "Predicted Probability (Negative): 1.0\n",
      "Actual Rating: -1\n",
      "Review: used to be great now is just a mine of untailored content and agencies who are too young to read  if i wanted to be mailed daily by people who are blanket sending mails to anyone with eyes i would rejoin yahoo  the app constantly signs out yet still works when signed out  its clearly not secure and doesnt correctly install over old versions the sign in security will ask me if im a bot even if i get the password wrong meaning i spent 40 seconds looking at 8 pages of street signs only to find out the password was wrong anyway  the fact youre turning it into a facebook style experience proves how out of touch you are too late to innovate should be the new moto emails are not sms and cvs are not instergram posts in 2016 i tweeted you would make it laggy ugly and a pain to sign into in 2017 im ready to say goodbye for those very reasons  even the posts section which should be filled with jobs and peoples work is filled with spam from agencies and myothers work that others are ripping off agencies even use art test work in their next ads there isnt even a way to report that directly meaning plagiarised work never gets pulled nope nope nope bye bye bye\n",
      "\n",
      "Predicted Probability (Negative): 0.9999999999999993\n",
      "Actual Rating: -1\n",
      "Review: oooh sooo awesome not  havent logged in for a while needed to change my email address to a current one however linkedin wouldnt accept my password  oh but it was being copied and pasted from a password app so i wasnt getting it wrong  then all of  a sudden the password works and it starts to log me in but then decides my 48char password isnt enough and wants to prove im not a robot and stupid security screen picking dumb cars and shops for half a f hour still didnt f prove that i wasnt a f robot and it logged me out under suspicious activity  bunch of losers were so lapse w their back end they got hacked now every genuine user is punished by this ridiculous sh unless they stay logged in  really  yeah no wonder people dont want to use this garbage  maybe ill try again in another six months and see if i can log into my account using my password\n",
      "\n",
      "Predicted Probability (Negative): 0.9999999999998905\n",
      "Actual Rating: -1\n",
      "Review: why did you add the ability to receive all of the notifications from the website i already find it a laborious task to go through each group and disable notifications so my email normally fills up with useless rubbish from every group im in but now you even include it in the mobile app ive uninstalled it as it simply overloaded the phone and i dont see why it should be set on by default it should be the other way around please stop tinkering with things like this that will overwhelm your phone and cause people to delete your app as it was useful to have it there so i would pick up on messages that were sent to me  please revert to the old app and turn off the notifications from groups as standard i see no reason why the majority of people who already are harassed by countless emails that theyre not interested in should automatically be tired of picking up their phone due to linkedin this is not good sense for an app for users or for my eyes i can see countless people have agreed and voted with their fingers  i wont reinstall it until that awful feature is either removed or set to off as standard\n",
      "\n",
      "Predicted Probability (Negative): 0.9999999999959516\n",
      "Actual Rating: -1\n",
      "Review: worst 2nd facebook fake job i am using this application from last 2 year i seen very different content then engineering like emotional post non engineering post etc etc  i join many people but they cant even say hi what the hell after sending many resume in 2 years there is zero reply what the hell only taking personal information selling to somewhere asking money continue to take poor quality paid courses i dont wanna take any class totally fraud app dont install\n",
      "\n"
     ]
    }
   ],
   "source": [
    "\n",
    "most_negative_indices = np.argsort(y_proba[:, 0])[::-1][:5]\n",
    "\n",
    "\n",
    "print(\"Five Most Negative Reviews:\")\n",
    "for index in most_negative_indices:\n",
    "    print(\"Predicted Probability (Negative):\", y_proba[index, 0])\n",
    "    print(\"Actual Rating:\", y_test.iloc[index])\n",
    "    print(\"Review:\", test[\"review_text\"].iloc[index])\n",
    "    print()"
   ]
  },
  {
   "cell_type": "markdown",
   "metadata": {},
   "source": [
    "**Note:** Here I have done something simular to the previous lines of code, but to identify the 5 most negative reviews."
   ]
  },
  {
   "cell_type": "code",
   "execution_count": 67,
   "metadata": {
    "collapsed": true
   },
   "outputs": [
    {
     "name": "stdout",
     "output_type": "stream",
     "text": [
      "Accuracy: 0.927231491411593\n"
     ]
    }
   ],
   "source": [
    "#d) \n",
    "accuracy = accuracy_score(y_test, y_pred)\n",
    "\n",
    "# Print the accuracy\n",
    "print(\"Accuracy:\", accuracy)"
   ]
  },
  {
   "cell_type": "markdown",
   "metadata": {},
   "source": [
    "**Note:** With the help of `accuracy_score` I have calculated the accuracy of prediction. The result value of 0.927231491411593 signifies a remarkably high level of accuracy in our predictions, underscoring the effectiveness of our well-trained model in making highly accurate predictions."
   ]
  },
  {
   "cell_type": "markdown",
   "metadata": {},
   "source": [
    "## Exercise 5\n",
    "In this exercise we will limit the dictionary of CountVectorizer to the set of significant words, defined below.\n",
    "\n",
    "\n",
    "a) Redo exercises 2-5 using limited dictionary.   \n",
    "b) Check the impact of all the words from the dictionary.   \n",
    "c) Compare accuracy of predictions and the time of evaluation."
   ]
  },
  {
   "cell_type": "code",
   "execution_count": 68,
   "metadata": {
    "collapsed": true
   },
   "outputs": [],
   "source": [
    "significant_words = ['love','great','easy','management','linkedin','perfect','loves','well','able','work','contact','less','even','waste','disappointed','company','product','money','would','recommend', 'deleted']"
   ]
  },
  {
   "cell_type": "code",
   "execution_count": 69,
   "metadata": {
    "collapsed": true
   },
   "outputs": [],
   "source": [
    "\n",
    "vectorizer_limited = CountVectorizer(vocabulary=significant_words)\n",
    "\n",
    "X_limited = vectorizer_limited.fit_transform(list(train[\"review_text\"]))\n",
    "y_limited = train[\"review_rating\"]\n",
    "X_test_limited = vectorizer_limited.transform(list(test[\"review_text\"]))\n",
    "y_test_limited = test[\"review_rating\"]"
   ]
  },
  {
   "cell_type": "code",
   "execution_count": 70,
   "metadata": {},
   "outputs": [
    {
     "name": "stdout",
     "output_type": "stream",
     "text": [
      "Accuracy: 0.8089453049455863\n"
     ]
    }
   ],
   "source": [
    "\n",
    "model_lim = LogisticRegression()\n",
    "\n",
    "model_lim.fit(X_limited, y_limited)\n",
    "\n",
    "y_pred_lim = model_lim.predict(X_test_limited)\n",
    "accuracy = accuracy_score(y_test_limited, y_pred_lim)\n",
    "\n",
    "# Print the accuracy\n",
    "print(\"Accuracy:\", accuracy)"
   ]
  },
  {
   "cell_type": "code",
   "execution_count": 71,
   "metadata": {},
   "outputs": [
    {
     "name": "stdout",
     "output_type": "stream",
     "text": [
      "10 Most Positive Words:\n",
      "[('great', 2.3445475605117148), ('perfect', 2.1841438898288796), ('love', 2.109921915946551), ('easy', 1.5634405112046428), ('recommend', 0.4929055726033177), ('well', 0.4257869279318746), ('loves', 0.347286987640015), ('management', 0.23001000215404974), ('product', -0.41410772553628267), ('linkedin', -0.7026194834942194)]\n",
      "\n",
      "10 Most Negative Words:\n",
      "[('waste', -3.796331562297214), ('disappointed', -3.135725324555016), ('deleted', -3.1326049000255356), ('even', -2.6123566476612172), ('able', -1.693558255106843), ('money', -1.6716650611681925), ('less', -1.2421316557592055), ('contact', -1.1704930579143789), ('work', -0.925185850231809), ('would', -0.8678048824022929)]\n"
     ]
    }
   ],
   "source": [
    "feature_names_lim = np.array(vectorizer_limited.get_feature_names_out())\n",
    "\n",
    "# Get the coefficients from the trained model\n",
    "coefficients_lim = model_lim.coef_[0]\n",
    "\n",
    "# Create a dictionary mapping feature names to coefficients\n",
    "features_coefficients_lim = dict(zip(feature_names_lim, coefficients_lim))\n",
    "\n",
    "print(\"10 Most Positive Words:\")\n",
    "print(sorted(features_coefficients_lim.items(), key=lambda x: x[1], reverse=True)[:10])\n",
    "\n",
    "print(\"\\n10 Most Negative Words:\")\n",
    "print(sorted(features_coefficients_lim.items(), key=lambda x: x[1])[:10])"
   ]
  },
  {
   "cell_type": "code",
   "execution_count": 72,
   "metadata": {},
   "outputs": [
    {
     "name": "stdout",
     "output_type": "stream",
     "text": [
      "Review: fantastic\n",
      "Actual Rating: 1\n",
      "Predicted Sentiment: 1\n",
      "\n",
      "Review: i like linkedin\n",
      "Actual Rating: 1\n",
      "Predicted Sentiment: 1\n",
      "\n",
      "Review: excellent\n",
      "Actual Rating: 1\n",
      "Predicted Sentiment: 1\n",
      "\n",
      "Review: since february 19 update this app is not working lame maybe test before releasing eh everytime be there is an update must uninstall reinstall also no way to reorder certifications which is disappointing\n",
      "Actual Rating: -1\n",
      "Predicted Sentiment: 1\n",
      "\n",
      "Review: why r u creating site like facebook keep it simple\n",
      "Actual Rating: -1\n",
      "Predicted Sentiment: 1\n",
      "\n"
     ]
    }
   ],
   "source": [
    "y_pred_lim = model_lim.predict(X_test_limited)\n",
    "\n",
    "# Print the predicted sentiment for the first few reviews\n",
    "for i in range(5):\n",
    "    print(\"Review:\", test[\"review_text\"].iloc[i])\n",
    "    print(\"Actual Rating:\", y_test_limited.iloc[i])\n",
    "    print(\"Predicted Sentiment:\", y_pred_lim[i])\n",
    "    print()\n"
   ]
  },
  {
   "cell_type": "code",
   "execution_count": 73,
   "metadata": {},
   "outputs": [
    {
     "name": "stdout",
     "output_type": "stream",
     "text": [
      "Review: fantastic\n",
      "Actual Rating: 1\n",
      "Predicted Probabilities: [0.20771438 0.79228562]\n",
      "\n",
      "Review: i like linkedin\n",
      "Actual Rating: 1\n",
      "Predicted Probabilities: [0.34611996 0.65388004]\n",
      "\n",
      "Review: excellent\n",
      "Actual Rating: 1\n",
      "Predicted Probabilities: [0.20771438 0.79228562]\n",
      "\n",
      "Review: since february 19 update this app is not working lame maybe test before releasing eh everytime be there is an update must uninstall reinstall also no way to reorder certifications which is disappointing\n",
      "Actual Rating: -1\n",
      "Predicted Probabilities: [0.20771438 0.79228562]\n",
      "\n",
      "Review: why r u creating site like facebook keep it simple\n",
      "Actual Rating: -1\n",
      "Predicted Probabilities: [0.20771438 0.79228562]\n",
      "\n"
     ]
    }
   ],
   "source": [
    "y_proba_lim = model_lim.predict_proba(X_test_limited)\n",
    "\n",
    "\n",
    "for i in range(5):\n",
    "    print(\"Review:\", test[\"review_text\"].iloc[i])\n",
    "    print(\"Actual Rating:\", y_test_limited.iloc[i])\n",
    "    print(\"Predicted Probabilities:\", y_proba_lim[i])\n",
    "    print()"
   ]
  },
  {
   "cell_type": "code",
   "execution_count": 75,
   "metadata": {},
   "outputs": [
    {
     "name": "stdout",
     "output_type": "stream",
     "text": [
      "Adjusted Max Negative Index: 52977\n",
      "Adjusted Max Positive Index: 50674\n",
      "Five Most Negative Reviews:\n",
      "Predicted Probability (Negative): 0.9999949820006349\n",
      "Actual Rating: -1\n",
      "Review: used to be great now is just a mine of untailored content and agencies who are too young to read  if i wanted to be mailed daily by people who are blanket sending mails to anyone with eyes i would rejoin yahoo  the app constantly signs out yet still works when signed out  its clearly not secure and doesnt correctly install over old versions the sign in security will ask me if im a bot even if i get the password wrong meaning i spent 40 seconds looking at 8 pages of street signs only to find out the password was wrong anyway  the fact youre turning it into a facebook style experience proves how out of touch you are too late to innovate should be the new moto emails are not sms and cvs are not instergram posts in 2016 i tweeted you would make it laggy ugly and a pain to sign into in 2017 im ready to say goodbye for those very reasons  even the posts section which should be filled with jobs and peoples work is filled with spam from agencies and myothers work that others are ripping off agencies even use art test work in their next ads there isnt even a way to report that directly meaning plagiarised work never gets pulled nope nope nope bye bye bye\n",
      "\n",
      "Predicted Probability (Negative): 0.9999568263362553\n",
      "Actual Rating: -1\n",
      "Review: waste app no one see yours resume in this app waste app time waste guys \n",
      "\n",
      "Predicted Probability (Negative): 0.999871007121687\n",
      "Actual Rating: -1\n",
      "Review: really awful a company page cant even receive messages on here and they restrict livestreaming to only select pages you cant even make a group as a page so essentially everything has to be in your personal name the app is clunky and many posts that you spend time typing out fail to post and disappear paying for ads on here is like flushing money down the toilet even when you specifically target them based on school or industry\n",
      "\n",
      "Predicted Probability (Negative): 0.9997904283271584\n",
      "Actual Rating: -1\n",
      "Review: i am really disappointed with this application i dont know why every time it shows that account is restricted and every time i need to upload documents its been more than 3 times in a week it happened with me i have a business now how i can work with it totally disappointed now it says that we beed to do affidavit or notary and then send it i dont have that much time to do guys whats the problem please let me know that if you say to do premium even i can do that\n",
      "\n",
      "Predicted Probability (Negative): 0.9994682517314778\n",
      "Actual Rating: -1\n",
      "Review: ghost notifications in my mailbox meaning every message ive ever received and deleted remained as a notification even when the mailbox was completely empty same posts keep appearing at top of newsfeed when refreshed and posts from 34 weeks ago and beyond rather than recent posts deleted app and added shortcut to website on my homepage\n",
      "\n",
      "Five Most Positive Reviews:\n",
      "Predicted Probability (Positive): 0.999933251881127\n",
      "Actual Rating: 1\n",
      "Review: great weekend the idea that design makes the email i will be in touch and of course i would love to have the opportunity of course the year and a few more things to do it for a good time for you will have to be the best way for a great time and of variance of the email and delete it from your system without making any copies thereof including and of course the year of course you can see that you can also be used for you will find a great weekend the best regards david david and stake holders and\n",
      "\n",
      "Predicted Probability (Positive): 0.999922611105752\n",
      "Actual Rating: 1\n",
      "Review: i love this app its great and very easy to use i love the latest updates\n",
      "\n",
      "Predicted Probability (Positive): 0.9999022717040088\n",
      "Actual Rating: 1\n",
      "Review: great app iwas afraid it takes too much space but no very very clear easy to use great interface and great look thank you linkedin\n",
      "\n",
      "Predicted Probability (Positive): 0.9998912257054309\n",
      "Actual Rating: 1\n",
      "Review: just like the app and work for my church first baptist church job 2 days aweek tuesday and thursday my job is great i love the work and just working now keep s me busy and actually happy my days now since march to july 5 months now asowme and my job is very good 😊 and actually great and my job is janitorial services im a great work er and actually happy with my job and im busy and on time 📱👱‍♀️ schedule to go out and actually have a great work days very good 😊 and wonderful special family\n",
      "\n",
      "Predicted Probability (Positive): 0.9997688934716611\n",
      "Actual Rating: -1\n",
      "Review: i received this app only to be dissapointed i dont think it is hard to find great apps i think a great app is subjective to what you need and want if there is an ecosystem that has many of the same kind of app then you may need to try them all to see which one you like best just because it is in the top 25 or 50 downloads folder doesnt mean its great for you log off\n",
      "\n"
     ]
    }
   ],
   "source": [
    "\n",
    "most_positive_indices_lim = np.argsort(y_proba_lim[:, 1])[::-1][:5]\n",
    "\n",
    "most_negative_indices_lim = np.argsort(y_proba_lim[:, 0])[::-1][:5]\n",
    "\n",
    "max_negative_index = max(most_negative_indices_lim)\n",
    "max_positive_index = max(most_positive_indices_lim)\n",
    "length_y_test_limited = len(y_test_limited)\n",
    "\n",
    "max_negative_index = min(max_negative_index, length_y_test_limited - 1)\n",
    "max_positive_index = min(max_positive_index, length_y_test_limited - 1)\n",
    "\n",
    "print(\"Adjusted Max Negative Index:\", max_negative_index)\n",
    "print(\"Adjusted Max Positive Index:\", max_positive_index)\n",
    "\n",
    "\n",
    "print(\"Five Most Negative Reviews:\")\n",
    "for index in most_negative_indices_lim:\n",
    "    if index <= max_negative_index:\n",
    "        print(\"Predicted Probability (Negative):\", y_proba_lim[index, 0])\n",
    "        print(\"Actual Rating:\", y_test_limited.iloc[index])\n",
    "        print(\"Review:\", test[\"review_text\"].iloc[index])\n",
    "        print()\n",
    "\n",
    "print(\"Five Most Positive Reviews:\")\n",
    "for index in most_positive_indices_lim:\n",
    "    if index <= max_positive_index:\n",
    "        print(\"Predicted Probability (Positive):\", y_proba_lim[index, 1])\n",
    "        print(\"Actual Rating:\", y_test_limited.iloc[index])\n",
    "        print(\"Review:\", test[\"review_text\"].iloc[index])\n",
    "        print()\n"
   ]
  },
  {
   "cell_type": "markdown",
   "metadata": {},
   "source": [
    "**Note:** While trying to print out top 5 most positive(most negative) reviews I view a problem with indices, to eliminate the problem I check the max indices to make sure that it is not out of range"
   ]
  },
  {
   "cell_type": "code",
   "execution_count": 76,
   "metadata": {},
   "outputs": [
    {
     "name": "stdout",
     "output_type": "stream",
     "text": [
      "Accuracy: 0.8089453049455863\n"
     ]
    }
   ],
   "source": [
    "accuracy_lim = accuracy_score(y_test_limited, y_pred_lim)\n",
    "\n",
    "# Print the accuracy\n",
    "print(\"Accuracy:\", accuracy_lim)"
   ]
  },
  {
   "cell_type": "markdown",
   "metadata": {},
   "source": [
    "**Note:** With the help of `accuracy_score` I have calculated the accuracy of prediction. The result value of 0.8089453049455863 signifies a remarkably high level of accuracy in our predictions, underscoring the effectiveness of our well-trained model in making highly accurate predictions."
   ]
  },
  {
   "cell_type": "code",
   "execution_count": 77,
   "metadata": {
    "collapsed": true
   },
   "outputs": [
    {
     "name": "stdout",
     "output_type": "stream",
     "text": [
      "love: 2.109921915946551\n",
      "great: 2.3445475605117148\n",
      "easy: 1.5634405112046428\n",
      "management: 0.23001000215404974\n",
      "linkedin: -0.7026194834942194\n",
      "perfect: 2.1841438898288796\n",
      "loves: 0.347286987640015\n",
      "well: 0.4257869279318746\n",
      "able: -1.693558255106843\n",
      "work: -0.925185850231809\n",
      "contact: -1.1704930579143789\n",
      "less: -1.2421316557592055\n",
      "even: -2.6123566476612172\n",
      "waste: -3.796331562297214\n",
      "disappointed: -3.135725324555016\n",
      "company: -0.7856473339844477\n",
      "product: -0.41410772553628267\n",
      "money: -1.6716650611681925\n",
      "would: -0.8678048824022929\n",
      "recommend: 0.4929055726033177\n",
      "deleted: -3.1326049000255356\n"
     ]
    }
   ],
   "source": [
    "\n",
    "for word, coef in zip(vectorizer_limited.get_feature_names_out(),model_lim.coef_[0]):\n",
    "    print(f\"{word}: {coef}\")\n"
   ]
  },
  {
   "cell_type": "markdown",
   "metadata": {},
   "source": [
    "**Note:** This code provides insights into how much each word from the limited dictionary contributes to the logistic regression model's predictions. Positive coefficients indicate a positive impact on the predicted class, while negative coefficients indicate a negative impact."
   ]
  },
  {
   "cell_type": "code",
   "execution_count": 78,
   "metadata": {},
   "outputs": [],
   "source": [
    "import sys, time"
   ]
  },
  {
   "cell_type": "markdown",
   "metadata": {},
   "source": [
    "**Note:** The `%%time` and `%%timeit` are Jupyter notebook magic commands used to measure the execution time of a cell.\n",
    "\n",
    "- `%%time`: This command provides the total time taken for the execution of the entire cell. It's useful for getting a high-level overview of the time taken by the code within the cell.\n",
    "\n",
    "    \n",
    "- `%%timeit`: This command runs the code in the cell multiple times and provides a more detailed analysis, including the average time taken per iteration and the standard deviation. It's useful for obtaining a more precise measurement of the execution time."
   ]
  },
  {
   "cell_type": "code",
   "execution_count": 79,
   "metadata": {
    "collapsed": true
   },
   "outputs": [
    {
     "name": "stdout",
     "output_type": "stream",
     "text": [
      "269 µs ± 5.36 µs per loop (mean ± std. dev. of 7 runs, 1,000 loops each)\n",
      "CPU times: user 2.18 s, sys: 230 µs, total: 2.18 s\n",
      "Wall time: 2.18 s\n"
     ]
    }
   ],
   "source": [
    "%%time\n",
    "%%timeit\n",
    "model_lim.predict(X_test_limited)"
   ]
  },
  {
   "cell_type": "code",
   "execution_count": 80,
   "metadata": {},
   "outputs": [
    {
     "name": "stdout",
     "output_type": "stream",
     "text": [
      "863 µs ± 36.4 µs per loop (mean ± std. dev. of 7 runs, 1,000 loops each)\n",
      "CPU times: user 7.08 s, sys: 210 µs, total: 7.08 s\n",
      "Wall time: 7.09 s\n"
     ]
    }
   ],
   "source": [
    "%%time\n",
    "%%timeit\n",
    "model.predict(X_test)"
   ]
  },
  {
   "cell_type": "code",
   "execution_count": 81,
   "metadata": {},
   "outputs": [
    {
     "name": "stdout",
     "output_type": "stream",
     "text": [
      "first model score: 0.927231491411593\n",
      "second model score: 0.8089453049455863\n"
     ]
    }
   ],
   "source": [
    "print(f\"first model score: {model.score(X_test, y_test)}\")\n",
    "print(f\"second model score: {model_lim.score(X_test_limited, y_test_limited)}\")"
   ]
  },
  {
   "cell_type": "markdown",
   "metadata": {},
   "source": [
    "**Note:** The code is comparing the scores of two different models on their respective test datasets.\n",
    "\n",
    "\n",
    "This prints the accuracy scores of the first and second model on the full test dataset using the score method."
   ]
  }
 ],
 "metadata": {
  "anaconda-cloud": {},
  "kernelspec": {
   "display_name": "Python 3",
   "language": "python",
   "name": "python3"
  },
  "language_info": {
   "codemirror_mode": {
    "name": "ipython",
    "version": 3
   },
   "file_extension": ".py",
   "mimetype": "text/x-python",
   "name": "python",
   "nbconvert_exporter": "python",
   "pygments_lexer": "ipython3",
   "version": "3.11.6"
  }
 },
 "nbformat": 4,
 "nbformat_minor": 4
}
