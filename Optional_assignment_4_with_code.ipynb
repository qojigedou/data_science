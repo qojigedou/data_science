{
 "cells": [
  {
   "cell_type": "markdown",
   "metadata": {},
   "source": [
    "### 320K LinkedIn App Google Store Reviews"
   ]
  },
  {
   "cell_type": "code",
   "execution_count": 92,
   "metadata": {
    "collapsed": false
   },
   "outputs": [
    {
     "data": {
      "text/html": [
       "<div>\n",
       "<style scoped>\n",
       "    .dataframe tbody tr th:only-of-type {\n",
       "        vertical-align: middle;\n",
       "    }\n",
       "\n",
       "    .dataframe tbody tr th {\n",
       "        vertical-align: top;\n",
       "    }\n",
       "\n",
       "    .dataframe thead th {\n",
       "        text-align: right;\n",
       "    }\n",
       "</style>\n",
       "<table border=\"1\" class=\"dataframe\">\n",
       "  <thead>\n",
       "    <tr style=\"text-align: right;\">\n",
       "      <th></th>\n",
       "      <th>Unnamed: 0</th>\n",
       "      <th>review_id</th>\n",
       "      <th>pseudo_author_id</th>\n",
       "      <th>author_name</th>\n",
       "      <th>review_text</th>\n",
       "      <th>review_rating</th>\n",
       "      <th>review_likes</th>\n",
       "      <th>author_app_version</th>\n",
       "      <th>review_timestamp</th>\n",
       "    </tr>\n",
       "  </thead>\n",
       "  <tbody>\n",
       "    <tr>\n",
       "      <th>0</th>\n",
       "      <td>0</td>\n",
       "      <td>cd2c2a2c-750b-435c-823c-277a6dbcef2a</td>\n",
       "      <td>152618553977019693742</td>\n",
       "      <td>A Google user</td>\n",
       "      <td>Well designed app. It's much easier to use tha...</td>\n",
       "      <td>5</td>\n",
       "      <td>0</td>\n",
       "      <td>1.0.3</td>\n",
       "      <td>2011-04-07 15:57:52</td>\n",
       "    </tr>\n",
       "    <tr>\n",
       "      <th>1</th>\n",
       "      <td>1</td>\n",
       "      <td>ac8d5093-31ce-4f12-8c6b-ee79a06295ab</td>\n",
       "      <td>234382942865437071667</td>\n",
       "      <td>A Google user</td>\n",
       "      <td>Cool!</td>\n",
       "      <td>5</td>\n",
       "      <td>1</td>\n",
       "      <td>1.0.0</td>\n",
       "      <td>2011-04-07 15:59:50</td>\n",
       "    </tr>\n",
       "    <tr>\n",
       "      <th>2</th>\n",
       "      <td>2</td>\n",
       "      <td>bbae055c-f20b-4c01-b604-7cea72416a3a</td>\n",
       "      <td>174473604608358796368</td>\n",
       "      <td>A Google user</td>\n",
       "      <td>Great to finally see this on the market!</td>\n",
       "      <td>5</td>\n",
       "      <td>0</td>\n",
       "      <td>2.0.5</td>\n",
       "      <td>2011-04-07 16:16:02</td>\n",
       "    </tr>\n",
       "    <tr>\n",
       "      <th>3</th>\n",
       "      <td>3</td>\n",
       "      <td>38a13596-b208-423d-8d96-3199e1993138</td>\n",
       "      <td>286593453219054880269</td>\n",
       "      <td>A Google user</td>\n",
       "      <td>Great app</td>\n",
       "      <td>5</td>\n",
       "      <td>1</td>\n",
       "      <td>1.0.0</td>\n",
       "      <td>2011-04-07 16:22:27</td>\n",
       "    </tr>\n",
       "    <tr>\n",
       "      <th>4</th>\n",
       "      <td>4</td>\n",
       "      <td>9ddd29ce-b137-4286-9aa1-3bbdd0015e0a</td>\n",
       "      <td>167276875678680630145</td>\n",
       "      <td>A Google user</td>\n",
       "      <td>Finally! Would love a Homeycomb specific versi...</td>\n",
       "      <td>4</td>\n",
       "      <td>0</td>\n",
       "      <td>1.0.0</td>\n",
       "      <td>2011-04-07 17:41:58</td>\n",
       "    </tr>\n",
       "  </tbody>\n",
       "</table>\n",
       "</div>"
      ],
      "text/plain": [
       "   Unnamed: 0                             review_id       pseudo_author_id  \\\n",
       "0           0  cd2c2a2c-750b-435c-823c-277a6dbcef2a  152618553977019693742   \n",
       "1           1  ac8d5093-31ce-4f12-8c6b-ee79a06295ab  234382942865437071667   \n",
       "2           2  bbae055c-f20b-4c01-b604-7cea72416a3a  174473604608358796368   \n",
       "3           3  38a13596-b208-423d-8d96-3199e1993138  286593453219054880269   \n",
       "4           4  9ddd29ce-b137-4286-9aa1-3bbdd0015e0a  167276875678680630145   \n",
       "\n",
       "     author_name                                        review_text  \\\n",
       "0  A Google user  Well designed app. It's much easier to use tha...   \n",
       "1  A Google user                                              Cool!   \n",
       "2  A Google user           Great to finally see this on the market!   \n",
       "3  A Google user                                          Great app   \n",
       "4  A Google user  Finally! Would love a Homeycomb specific versi...   \n",
       "\n",
       "   review_rating  review_likes author_app_version     review_timestamp  \n",
       "0              5             0              1.0.3  2011-04-07 15:57:52  \n",
       "1              5             1              1.0.0  2011-04-07 15:59:50  \n",
       "2              5             0              2.0.5  2011-04-07 16:16:02  \n",
       "3              5             1              1.0.0  2011-04-07 16:22:27  \n",
       "4              4             0              1.0.0  2011-04-07 17:41:58  "
      ]
     },
     "execution_count": 92,
     "metadata": {},
     "output_type": "execute_result"
    }
   ],
   "source": [
    "import pandas as pd\n",
    "import numpy as np\n",
    "import matplotlib.pyplot as plt\n",
    "import string\n",
    "from sklearn.linear_model import LogisticRegression\n",
    "from sklearn.feature_extraction.text import CountVectorizer\n",
    "from sklearn.model_selection import train_test_split\n",
    "from sklearn.metrics import accuracy_score\n",
    "\n",
    "def remove_punctuation(text):\n",
    "    import string\n",
    "    translator = str.maketrans('', '', string.punctuation)\n",
    "    return text.translate(translator)\n",
    "\n",
    "linkedin_df = pd.read_csv('LINKEDIN_REVIEWS.csv')\n",
    "linkedin_df.head()"
   ]
  },
  {
   "cell_type": "code",
   "execution_count": 93,
   "metadata": {},
   "outputs": [
    {
     "name": "stdout",
     "output_type": "stream",
     "text": [
      "<class 'pandas.core.frame.DataFrame'>\n",
      "RangeIndex: 322641 entries, 0 to 322640\n",
      "Data columns (total 9 columns):\n",
      " #   Column              Non-Null Count   Dtype \n",
      "---  ------              --------------   ----- \n",
      " 0   Unnamed: 0          322641 non-null  int64 \n",
      " 1   review_id           322641 non-null  object\n",
      " 2   pseudo_author_id    322641 non-null  object\n",
      " 3   author_name         322641 non-null  object\n",
      " 4   review_text         320964 non-null  object\n",
      " 5   review_rating       322641 non-null  int64 \n",
      " 6   review_likes        322641 non-null  int64 \n",
      " 7   author_app_version  255635 non-null  object\n",
      " 8   review_timestamp    322641 non-null  object\n",
      "dtypes: int64(3), object(6)\n",
      "memory usage: 22.2+ MB\n",
      "None\n"
     ]
    }
   ],
   "source": [
    "\n",
    "print(linkedin_df.info())"
   ]
  },
  {
   "cell_type": "code",
   "execution_count": 94,
   "metadata": {},
   "outputs": [
    {
     "name": "stdout",
     "output_type": "stream",
     "text": [
      "<class 'pandas.core.frame.DataFrame'>\n",
      "RangeIndex: 322641 entries, 0 to 322640\n",
      "Data columns (total 8 columns):\n",
      " #   Column              Non-Null Count   Dtype \n",
      "---  ------              --------------   ----- \n",
      " 0   review_id           322641 non-null  object\n",
      " 1   pseudo_author_id    322641 non-null  object\n",
      " 2   author_name         322641 non-null  object\n",
      " 3   review_text         320964 non-null  object\n",
      " 4   review_rating       322641 non-null  int64 \n",
      " 5   review_likes        322641 non-null  int64 \n",
      " 6   author_app_version  255635 non-null  object\n",
      " 7   review_timestamp    322641 non-null  object\n",
      "dtypes: int64(2), object(6)\n",
      "memory usage: 19.7+ MB\n",
      "None\n"
     ]
    }
   ],
   "source": [
    "linkedin_df = linkedin_df.drop(['Unnamed: 0'], axis=1)\n",
    "linkedin_df.isnull().sum()\n",
    "\n",
    "print(linkedin_df.info())"
   ]
  },
  {
   "cell_type": "markdown",
   "metadata": {},
   "source": [
    "## Exercise 1 (data preparation)\n",
    "a) Remove punctuation from reviews using the given function.   \n",
    "b) Replace all missing (nan) revies with empty \"\" string.  \n",
    "c) Drop all the entries with rating = 3, as they have neutral sentiment.   \n",
    "d) Set all positive ($\\geq$4) ratings to 1 and negative($\\leq$2) to -1."
   ]
  },
  {
   "cell_type": "code",
   "execution_count": 95,
   "metadata": {
    "collapsed": false
   },
   "outputs": [
    {
     "data": {
      "text/plain": [
       "True"
      ]
     },
     "execution_count": 95,
     "metadata": {},
     "output_type": "execute_result"
    }
   ],
   "source": [
    "#a)\n",
    "\n",
    "linkedin_df['review_text'] = linkedin_df['review_text'].astype(str)\n",
    "linkedin_df['review_text'] = linkedin_df['review_text'].apply(remove_punctuation)\n",
    "#short test: \n",
    "linkedin_df[\"review_text\"][25] == 'For a brand new app this is awesome I would recommend the addition of profile editing in future releases Otherwise this is a perfect mobile app'\n",
    "remove_punctuation(linkedin_df[\"review_text\"][25]) == 'For a brand new app this is awesome I would recommend the addition of profile editing in future releases Otherwise this is a perfect mobile app'"
   ]
  },
  {
   "cell_type": "code",
   "execution_count": 96,
   "metadata": {
    "collapsed": false
   },
   "outputs": [
    {
     "data": {
      "text/plain": [
       "True"
      ]
     },
     "execution_count": 96,
     "metadata": {},
     "output_type": "execute_result"
    }
   ],
   "source": [
    "#b)\n",
    "linkedin_df['review_text'].replace(np.nan, \"\", inplace=True)\n",
    "\n",
    "linkedin_df[\"review_text\"][2] == linkedin_df[\"review_text\"][2]"
   ]
  },
  {
   "cell_type": "code",
   "execution_count": 97,
   "metadata": {
    "collapsed": false
   },
   "outputs": [
    {
     "name": "stdout",
     "output_type": "stream",
     "text": [
      "0\n"
     ]
    }
   ],
   "source": [
    "#c)\n",
    "linkedin_df = linkedin_df[linkedin_df[\"review_rating\"] != 3]\n",
    "\n",
    "# Short test\n",
    "print(sum(linkedin_df[\"review_rating\"] == 3))"
   ]
  },
  {
   "cell_type": "code",
   "execution_count": 98,
   "metadata": {
    "collapsed": false
   },
   "outputs": [
    {
     "data": {
      "text/plain": [
       "0"
      ]
     },
     "execution_count": 98,
     "metadata": {},
     "output_type": "execute_result"
    }
   ],
   "source": [
    "#d)\n",
    "\n",
    "linkedin_df[\"review_rating\"] = np.where(linkedin_df[\"review_rating\"] >= 4, 1, np.where(linkedin_df[\"review_rating\"] <= 2, -1, linkedin_df[\"review_rating\"]))\n",
    "\n",
    "# Test if all ratings are now either 1 or -1\n",
    "#short test:\n",
    "sum(linkedin_df[\"review_rating\"]**2 != 1)"
   ]
  },
  {
   "cell_type": "markdown",
   "metadata": {},
   "source": [
    "## Exercise 2 \n",
    "a) Split dataset into training and test sets.     \n",
    "b) Transform reviews into vectors using CountVectorizer. "
   ]
  },
  {
   "cell_type": "code",
   "execution_count": 99,
   "metadata": {
    "collapsed": true
   },
   "outputs": [],
   "source": [
    "#a)\n",
    "train, test = train_test_split(linkedin_df, train_size=0.8, test_size=0.2, random_state=9)"
   ]
  },
  {
   "cell_type": "code",
   "execution_count": 100,
   "metadata": {
    "collapsed": true
   },
   "outputs": [],
   "source": [
    "#b)\n",
    "vectorizer = CountVectorizer()\n",
    "\n",
    "X = vectorizer.fit_transform(list(train[\"review_text\"]))\n",
    "y = train[\"review_rating\"]\n",
    "X_test = vectorizer.transform(list(test[\"review_text\"]))\n",
    "y_test = test[\"review_rating\"]\n"
   ]
  },
  {
   "cell_type": "markdown",
   "metadata": {},
   "source": [
    "## Exercise 3 \n",
    "a) Train LogisticRegression model on training data (reviews processed with CountVectorizer, ratings as they were).   \n",
    "b) Print 10 most positive and 10 most negative words."
   ]
  },
  {
   "cell_type": "code",
   "execution_count": 101,
   "metadata": {
    "collapsed": true
   },
   "outputs": [
    {
     "name": "stdout",
     "output_type": "stream",
     "text": [
      "Accuracy: 0.9241737739872068\n"
     ]
    },
    {
     "name": "stderr",
     "output_type": "stream",
     "text": [
      "/home/viktoryia/.local/lib/python3.11/site-packages/sklearn/linear_model/_logistic.py:460: ConvergenceWarning: lbfgs failed to converge (status=1):\n",
      "STOP: TOTAL NO. of ITERATIONS REACHED LIMIT.\n",
      "\n",
      "Increase the number of iterations (max_iter) or scale the data as shown in:\n",
      "    https://scikit-learn.org/stable/modules/preprocessing.html\n",
      "Please also refer to the documentation for alternative solver options:\n",
      "    https://scikit-learn.org/stable/modules/linear_model.html#logistic-regression\n",
      "  n_iter_i = _check_optimize_result(\n"
     ]
    }
   ],
   "source": [
    "#a)\n",
    "model = LogisticRegression()\n",
    "\n",
    "model.fit(X, y)\n",
    "\n",
    "y_pred = model.predict(X_test)\n",
    "\n",
    "accuracy = accuracy_score(y_test, y_pred)\n",
    "\n",
    "# Print the accuracy\n",
    "print(\"Accuracy:\", accuracy)"
   ]
  },
  {
   "cell_type": "code",
   "execution_count": 102,
   "metadata": {
    "collapsed": true
   },
   "outputs": [
    {
     "name": "stdout",
     "output_type": "stream",
     "text": [
      "10 Most Positive Words:\n",
      "[('excellent', 3.4234932193215943), ('awesome', 3.2811671208161104), ('wonderful', 2.9628768873513893), ('outstanding', 2.877084708290626), ('solid', 2.8698765411030203), ('excelent', 2.8559066435168248), ('excelente', 2.8245028008387694), ('fantastic', 2.8220497848345216), ('great', 2.8121635845246087), ('exceptional', 2.703559513158511)]\n",
      "\n",
      "10 Most Negative Words:\n",
      "[('bloatware', -4.3507129531112945), ('worst', -4.056136748617263), ('wrost', -3.9654887080817427), ('sucks', -3.762825379417754), ('bakwas', -3.726558329520343), ('pathetic', -3.696301463349235), ('worthless', -3.615317921186341), ('bekar', -3.5431857228591146), ('poor', -3.496221445047284), ('rubbish', -3.4553052971288736)]\n"
     ]
    }
   ],
   "source": [
    "#b)\n",
    "\n",
    "feature_names = np.array(vectorizer.get_feature_names_out())\n",
    "\n",
    "# Get the coefficients from the trained model\n",
    "coefficients = model.coef_[0]\n",
    "\n",
    "# Create a dictionary mapping feature names to coefficients\n",
    "features_coefficients = dict(zip(feature_names, coefficients))\n",
    "\n",
    "print(\"10 Most Positive Words:\")\n",
    "print(sorted(features_coefficients.items(), key=lambda x: x[1], reverse=True)[:10])\n",
    "\n",
    "print(\"\\n10 Most Negative Words:\")\n",
    "print(sorted(features_coefficients.items(), key=lambda x: x[1])[:10])"
   ]
  },
  {
   "cell_type": "markdown",
   "metadata": {},
   "source": [
    "## Exercise 4 \n",
    "a) Predict the sentiment of test data reviews.   \n",
    "b) Predict the sentiment of test data reviews in terms of probability.   \n",
    "c) Find five most positive and most negative reviews.   \n",
    "d) Calculate the accuracy of predictions."
   ]
  },
  {
   "cell_type": "code",
   "execution_count": 103,
   "metadata": {
    "collapsed": true
   },
   "outputs": [
    {
     "name": "stdout",
     "output_type": "stream",
     "text": [
      "Review: good\n",
      "Actual Rating: 1\n",
      "Predicted Sentiment: 1\n",
      "\n",
      "Review: The app is convinient\n",
      "Actual Rating: 1\n",
      "Predicted Sentiment: 1\n",
      "\n",
      "Review: Nice services\n",
      "Actual Rating: 1\n",
      "Predicted Sentiment: 1\n",
      "\n",
      "Review: Z as SZSsaaa\n",
      "Actual Rating: -1\n",
      "Predicted Sentiment: 1\n",
      "\n",
      "Review: It’s an good App for professional 🙂\n",
      "Actual Rating: 1\n",
      "Predicted Sentiment: 1\n",
      "\n"
     ]
    }
   ],
   "source": [
    "#a)\n",
    "\n",
    "# Predict sentiment on the test data\n",
    "y_pred = model.predict(X_test)\n",
    "\n",
    "# Print the predicted sentiment for the first few reviews\n",
    "for i in range(5):\n",
    "    print(\"Review:\", test[\"review_text\"].iloc[i])\n",
    "    print(\"Actual Rating:\", y_test.iloc[i])\n",
    "    print(\"Predicted Sentiment:\", y_pred[i])\n",
    "    print()"
   ]
  },
  {
   "cell_type": "code",
   "execution_count": 104,
   "metadata": {
    "collapsed": true
   },
   "outputs": [
    {
     "name": "stdout",
     "output_type": "stream",
     "text": [
      "Review: good\n",
      "Actual Rating: 1\n",
      "Predicted Probabilities: [0.03385613 0.96614387]\n",
      "\n",
      "Review: The app is convinient\n",
      "Actual Rating: 1\n",
      "Predicted Probabilities: [0.18139057 0.81860943]\n",
      "\n",
      "Review: Nice services\n",
      "Actual Rating: 1\n",
      "Predicted Probabilities: [0.0236284 0.9763716]\n",
      "\n",
      "Review: Z as SZSsaaa\n",
      "Actual Rating: -1\n",
      "Predicted Probabilities: [0.18371695 0.81628305]\n",
      "\n",
      "Review: It’s an good App for professional 🙂\n",
      "Actual Rating: 1\n",
      "Predicted Probabilities: [0.00988384 0.99011616]\n",
      "\n"
     ]
    }
   ],
   "source": [
    "#b)\n",
    "y_proba = model.predict_proba(X_test)\n",
    "\n",
    "# Print the predicted probabilities for the first few reviews\n",
    "for i in range(5):\n",
    "    print(\"Review:\", test[\"review_text\"].iloc[i])\n",
    "    print(\"Actual Rating:\", y_test.iloc[i])\n",
    "    print(\"Predicted Probabilities:\", y_proba[i])\n",
    "    print()\n",
    "#hint: model.predict_proba()"
   ]
  },
  {
   "cell_type": "code",
   "execution_count": 105,
   "metadata": {},
   "outputs": [
    {
     "name": "stdout",
     "output_type": "stream",
     "text": [
      "Five Most Positive Reviews:\n",
      "Predicted Probability (Positive): 0.9999999999999969\n",
      "Actual Rating: 1\n",
      "Review: very nice so cool fantastic so cool very good so osm so gajab so interesting so amazing so cool wow so cool so good good so nice sir mene 5 star de diye hai aur review de diye hai follow kar diya hai so nice and very good app\n",
      "\n",
      "Predicted Probability (Positive): 0.9999999999938243\n",
      "Actual Rating: 1\n",
      "Review: I got 3000 connections in 5 months only For thanks Samsung  Googel  most of LinkedIn World best I think 2022 year are the best above in the world I love very much  give me great opportunity Thanking all off Author Bharatsinh Gohil Civil Engineer I am very glad to use this appEvery things are perfect  the best in this app Its language model os version are very useful to the world people Some like one Some like two I like oneThat is you Author ErBharatsinh Gohil Civil Engineer INDIA\n",
      "\n",
      "Predicted Probability (Positive): 0.9999999999568767\n",
      "Actual Rating: 1\n",
      "Review: The LinkedIn app is a powerful tool for networking and professional growth It offers a userfriendly interface making it easy to connect Its userfriendly interface facilitates networking job hunting and industry insight Seamless features like the newsfeed and messaging boost communication Regular updates demonstrate commitment to user satisfaction A musthave for career growth and networking LinkedIns app streamlines job searches and connections simplifying professional life\n",
      "\n",
      "Predicted Probability (Positive): 0.999999999942752\n",
      "Actual Rating: 1\n",
      "Review: Dear Receiver GRATEFUL THANKS APPRECIATION GREETINGS AS A PERSON MY FEEDBACK IS THAT I RESPECT EVERYONE OF YOU  ALONG WITH THE OPPORTUNITY TO INVEST HARDWORK UTILISE TIME WITH DISCIPLINE  PUNCTUALITY GOOD HELPFUL UTILISATION OF YOUR CAPABILITIES OPPORTUNITIES FOR HUMANE BETTERMENT ECOMMERCE SOCIAL INNOVATIVE WELFARE INITIATIVES BUSINESS PROFESSIONALLY ADEPT SERVICES Good Useful Helpful Deeds Solemn Glory to God Goddesses GRATEFUL DEAREST EARNEST GREETINGS  THANKS\n",
      "\n",
      "Predicted Probability (Positive): 0.9999999998967197\n",
      "Actual Rating: 1\n",
      "Review: Amazing brilliant dynamic effective efficient extra ordinary great incredible marvelous superb unmatchable unique  wonderful app\n",
      "\n"
     ]
    }
   ],
   "source": [
    "most_positive_indices = np.argsort(y_proba[:, 1])[::-1][:5]\n",
    "\n",
    "print(\"Five Most Positive Reviews:\")\n",
    "for index in most_positive_indices:\n",
    "    print(\"Predicted Probability (Positive):\", y_proba[index, 1])\n",
    "    print(\"Actual Rating:\", y_test.iloc[index])\n",
    "    print(\"Review:\", test[\"review_text\"].iloc[index])\n",
    "    print()"
   ]
  },
  {
   "cell_type": "code",
   "execution_count": 106,
   "metadata": {},
   "outputs": [
    {
     "name": "stdout",
     "output_type": "stream",
     "text": [
      "Five Most Negative Reviews:\n",
      "Predicted Probability (Negative): 1.0\n",
      "Actual Rating: -1\n",
      "Review: Very slow services by linked in managementIn email response is too lateHow I give rating 2 star either 5 star Kindly look my account which is not working from last 1 week my work is disturbingKindly facilitate me ASAP Regard Worst app Worst management Worst Management Worst app Worst app Worst app Worst app Zero rating Zero rating Zero rating Zero rating Thomas attitude is worst\n",
      "\n",
      "Predicted Probability (Negative): 1.0\n",
      "Actual Rating: -1\n",
      "Review: Used to be great now is just a mine of untailored content and agencies who are too young to read  If I wanted to be mailed daily by people who are blanket sending mails to anyone with eyes I would rejoin yahoo  The app constantly signs out yet still works when signed out  Its clearly not secure and doesnt correctly install over old versions The sign in security will ask me if im a bot even if I get the password wrong Meaning I spent 40 seconds looking at 8 pages of street signs only to find out the password was wrong anyway  The fact youre turning it into a facebook style experience proves how out of touch you are Too late to Innovate should be the new moto Emails are not SMS and CVs are not instergram posts In 2016 I tweeted you would make it laggy ugly and a pain to sign into In 2017 im ready to say goodbye for those very reasons  Even the posts section which should be filled with jobs and peoples work is filled with spam from agencies and myothers work that others are ripping off Agencies even use art test work in their next ads There isnt even a way to report that directly meaning plagiarised work never gets pulled Nope nope nope bye bye bye\n",
      "\n",
      "Predicted Probability (Negative): 0.9999999999999498\n",
      "Actual Rating: -1\n",
      "Review: Ive been a fan of Pulse for a while but this new update fails on all counts First off the new UI is dreadful from a productivity standpoint and makes finding something you might want to read 10 times more onerous Instead of an efficient neatly organized grid you now have a vertical list with huge amounts of wasted space that severely limit how many article titles you can see at a glance resulting in lots of tedious time consuming scrolling And there doesnt appear to be any order to the list making it even more infuriating The Google Now style UI simply doesnt work effectively here and is yet another example of a developer trying to shoehorn the latest popular UI pattern into their app with little to no thought about its usability In fact it appears taylor made to increase eyeball time by purposely being inefficient for their own marketing purposes The app also has major bugs which should never have made it through testing The most galling of which is that articles that you swipe away to hide continually reappear wasting even more of your time If you enjoy idling away your time by endlessly scrolling through lists then this app might be for you Otherwise look elsewhere\n",
      "\n",
      "Predicted Probability (Negative): 0.9999999999999345\n",
      "Actual Rating: -1\n",
      "Review: I am constantly nagged to integrate my app with my android contacts  The way this is laid out is deceiving and intrusive I accepted this integration unwillingly and had to sut down my phone brutally in hopes of stopping this  I am since getting horrible emails from linked in asking me to invite people in my contracts that I definitely do not want to have in linkedin  Linkedin should know about permission marketing  I am very upset and I am wondering what they are doing with my data  2604 update Things are getting worse with Linkedin  Linkedin is continuing to nag me with intrusive pop ups on the app  They are now also presenting on site my phone contacts as if they were on Linkedin encouraging me to connect to while they are not members  Linkedin tricked me into spamming these people  Very very poor digital marketing   Cannot manage my privacy on their website  Totally unexcusable coming from Linkedin\n",
      "\n",
      "Predicted Probability (Negative): 0.9999999999997985\n",
      "Actual Rating: -1\n",
      "Review: This is bullshit No You will not read my contacts you will not read my call log you will not read my calendar and hell no to my confidential information  It is bad enough that LinkedIn saves a copy of any email sent through their server which is why clicking on an email redirects users to their site and not allow them to respond from the app now you want to read all of my phone   I thought Facebook was evil with permissions but this just takes the cake\n",
      "\n"
     ]
    }
   ],
   "source": [
    "\n",
    "most_negative_indices = np.argsort(y_proba[:, 0])[::-1][:5]\n",
    "\n",
    "\n",
    "print(\"Five Most Negative Reviews:\")\n",
    "for index in most_negative_indices:\n",
    "    print(\"Predicted Probability (Negative):\", y_proba[index, 0])\n",
    "    print(\"Actual Rating:\", y_test.iloc[index])\n",
    "    print(\"Review:\", test[\"review_text\"].iloc[index])\n",
    "    print()"
   ]
  },
  {
   "cell_type": "code",
   "execution_count": 107,
   "metadata": {
    "collapsed": true
   },
   "outputs": [
    {
     "name": "stdout",
     "output_type": "stream",
     "text": [
      "Accuracy: 0.9241737739872068\n"
     ]
    }
   ],
   "source": [
    "#d) \n",
    "accuracy = accuracy_score(y_test, y_pred)\n",
    "\n",
    "# Print the accuracy\n",
    "print(\"Accuracy:\", accuracy)"
   ]
  },
  {
   "cell_type": "markdown",
   "metadata": {},
   "source": [
    "## Exercise 5\n",
    "In this exercise we will limit the dictionary of CountVectorizer to the set of significant words, defined below.\n",
    "\n",
    "\n",
    "a) Redo exercises 2-5 using limited dictionary.   \n",
    "b) Check the impact of all the words from the dictionary.   \n",
    "c) Compare accuracy of predictions and the time of evaluation."
   ]
  },
  {
   "cell_type": "code",
   "execution_count": 108,
   "metadata": {
    "collapsed": true
   },
   "outputs": [],
   "source": [
    "significant_words = ['love','great','easy','management','little','perfect','loves','well','able','work','contact','less','even','waste','disappointed','company','product','money','would','recommend']"
   ]
  },
  {
   "cell_type": "code",
   "execution_count": 109,
   "metadata": {
    "collapsed": true
   },
   "outputs": [],
   "source": [
    "\n",
    "#a)\n",
    "vectorizer_limited = CountVectorizer(vocabulary=significant_words)\n",
    "\n",
    "X_limited = vectorizer_limited.fit_transform(list(train[\"review_text\"]))\n",
    "y_limited = train[\"review_rating\"]\n",
    "X_test_limited = vectorizer_limited.transform(list(test[\"review_text\"]))\n",
    "y_test_limited = test[\"review_rating\"]"
   ]
  },
  {
   "cell_type": "code",
   "execution_count": 110,
   "metadata": {},
   "outputs": [
    {
     "name": "stdout",
     "output_type": "stream",
     "text": [
      "Accuracy: 0.8115838219616205\n"
     ]
    }
   ],
   "source": [
    "\n",
    "model_lim = LogisticRegression()\n",
    "\n",
    "model_lim.fit(X_limited, y_limited)\n",
    "\n",
    "y_pred_lim = model_lim.predict(X_test_limited)\n",
    "accuracy = accuracy_score(y_test_limited, y_pred_lim)\n",
    "\n",
    "# Print the accuracy\n",
    "print(\"Accuracy:\", accuracy)"
   ]
  },
  {
   "cell_type": "code",
   "execution_count": 111,
   "metadata": {},
   "outputs": [
    {
     "name": "stdout",
     "output_type": "stream",
     "text": [
      "10 Most Positive Words:\n",
      "[('great', 2.3129226323106877), ('perfect', 2.1601102429674266), ('love', 2.0279070176121325), ('easy', 1.5037371210745922), ('well', 0.36797059036446517), ('loves', 0.3555983259663341), ('recommend', 0.24160233371427042), ('management', 0.21989229776306912), ('little', -0.0980185276098724), ('product', -0.5831339150602776)]\n",
      "\n",
      "10 Most Negative Words:\n",
      "[('waste', -3.8350383704812927), ('disappointed', -3.36183299856171), ('even', -2.707757578777621), ('money', -1.7627275879057531), ('able', -1.7587178942103947), ('contact', -1.3589314497438725), ('less', -1.2884941918280228), ('work', -1.0031374597264882), ('would', -0.943084886494527), ('company', -0.9224452287534555)]\n"
     ]
    }
   ],
   "source": [
    "feature_names_lim = np.array(vectorizer_limited.get_feature_names_out())\n",
    "\n",
    "# Get the coefficients from the trained model\n",
    "coefficients_lim = model_lim.coef_[0]\n",
    "\n",
    "# Create a dictionary mapping feature names to coefficients\n",
    "features_coefficients_lim = dict(zip(feature_names_lim, coefficients_lim))\n",
    "\n",
    "print(\"10 Most Positive Words:\")\n",
    "print(sorted(features_coefficients_lim.items(), key=lambda x: x[1], reverse=True)[:10])\n",
    "\n",
    "print(\"\\n10 Most Negative Words:\")\n",
    "print(sorted(features_coefficients_lim.items(), key=lambda x: x[1])[:10])"
   ]
  },
  {
   "cell_type": "code",
   "execution_count": 112,
   "metadata": {},
   "outputs": [
    {
     "name": "stdout",
     "output_type": "stream",
     "text": [
      "Review: good\n",
      "Actual Rating: 1\n",
      "Predicted Sentiment: 1\n",
      "\n",
      "Review: The app is convinient\n",
      "Actual Rating: 1\n",
      "Predicted Sentiment: 1\n",
      "\n",
      "Review: Nice services\n",
      "Actual Rating: 1\n",
      "Predicted Sentiment: 1\n",
      "\n",
      "Review: Z as SZSsaaa\n",
      "Actual Rating: -1\n",
      "Predicted Sentiment: 1\n",
      "\n",
      "Review: It’s an good App for professional 🙂\n",
      "Actual Rating: 1\n",
      "Predicted Sentiment: 1\n",
      "\n"
     ]
    }
   ],
   "source": [
    "y_pred_lim = model_lim.predict(X_test_limited)\n",
    "\n",
    "# Print the predicted sentiment for the first few reviews\n",
    "for i in range(5):\n",
    "    print(\"Review:\", test[\"review_text\"].iloc[i])\n",
    "    print(\"Actual Rating:\", y_test_limited.iloc[i])\n",
    "    print(\"Predicted Sentiment:\", y_pred_lim[i])\n",
    "    print()\n"
   ]
  },
  {
   "cell_type": "code",
   "execution_count": 113,
   "metadata": {},
   "outputs": [
    {
     "name": "stdout",
     "output_type": "stream",
     "text": [
      "Five Most Positive Reviews:\n",
      "Predicted Probability (Positive): 0.9999894060285429\n",
      "Actual Rating: 1\n",
      "Review: Mvsduib oufcyuuugffdsddrririkokdkdkrkeleleleleleoseoslslsoslllslsoslsokwkkekellekeieleleksķ9ssoslelrlkrkrkrkrkrkrkkrkrkrkrkkeleoeodoeoeoeoododkekekekelekellrl5l6l6tltllrlrleleke0lrldllouu uuuufkfifir8toffifogofifirifiririduudue5terye6r7rurururur7rurururu day Dyd is king of d f v shape and the s and the other for free and the same as the s and the other two are you love and love and respect for free and you love you and you are you and you love you love and happiness in life as a college student\n",
      "\n",
      "Predicted Probability (Positive): 0.9999742582414485\n",
      "Actual Rating: 1\n",
      "Review: Great app Great experience Great time Everythings great with LinkedIn 😘😘\n",
      "\n",
      "Predicted Probability (Positive): 0.9999742582414485\n",
      "Actual Rating: 1\n",
      "Review: Great app great to communicate with professional communitys and great app to communicate for employments and more but just had a violation for private information accesing personal information  Great app 💯👍 Just needs a clean update soon \n",
      "\n",
      "Predicted Probability (Positive): 0.9999657693430299\n",
      "Actual Rating: 1\n",
      "Review: Love it great idea n make you think I think it a great app 👍everyone should try it out for sure its a great business opportunity be your own boss and help people get they way thru the door to help I b know I needed\n",
      "\n",
      "Predicted Probability (Positive): 0.9999442890666473\n",
      "Actual Rating: 1\n",
      "Review: Newest update effective 5th December  best ui change ever  Love it love it love it love it  Well done to the devs for putting the LinkedIn app back on the excellence shelf\n",
      "\n",
      "Five Most Negative Reviews:\n",
      "Predicted Probability (Negative): 0.9999979571191615\n",
      "Actual Rating: -1\n",
      "Review: Used to be great now is just a mine of untailored content and agencies who are too young to read  If I wanted to be mailed daily by people who are blanket sending mails to anyone with eyes I would rejoin yahoo  The app constantly signs out yet still works when signed out  Its clearly not secure and doesnt correctly install over old versions The sign in security will ask me if im a bot even if I get the password wrong Meaning I spent 40 seconds looking at 8 pages of street signs only to find out the password was wrong anyway  The fact youre turning it into a facebook style experience proves how out of touch you are Too late to Innovate should be the new moto Emails are not SMS and CVs are not instergram posts In 2016 I tweeted you would make it laggy ugly and a pain to sign into In 2017 im ready to say goodbye for those very reasons  Even the posts section which should be filled with jobs and peoples work is filled with spam from agencies and myothers work that others are ripping off Agencies even use art test work in their next ads There isnt even a way to report that directly meaning plagiarised work never gets pulled Nope nope nope bye bye bye\n",
      "\n",
      "Predicted Probability (Negative): 0.9999837798038508\n",
      "Actual Rating: -1\n",
      "Review: My biggest gripe about this app is the messaging system  its a mess  Give me an inbox that makes any sense    On the main inbox screen I can only see the top three messages and if I want to see more I have to page through each message to get to them  Its actually the envelope icon which you would think would start a new message that opens a list of all the messages in the inbox  And even then I dont seem to be able to see my sent messages or organize my messages in any way     Messages arent threaded so if there are 5 replies back and forth I have five copies of the message in my inbox to page through  Half the time when I click Reply to a message the app opens up a new blank message without even the contact Im replying to in the To field  I have to back out to the message again and hit reply again to get a properly prepopulated message  I use the messaging feature the most of any feature in the app and its frustrating that a company like linkedin hasnt taken some time to make this basic functionality work better  Get your act together\n",
      "\n",
      "Predicted Probability (Negative): 0.9999819599939582\n",
      "Actual Rating: -1\n",
      "Review: waste website only for limited people it is useful not for all even premium version also waste of money naukri is little better compared to linkedin\n",
      "\n",
      "Predicted Probability (Negative): 0.9999383263220064\n",
      "Actual Rating: -1\n",
      "Review: waste not even logging inu guys are sitting and eating not even able to fix bug for past 10 days\n",
      "\n",
      "Predicted Probability (Negative): 0.9999246103966027\n",
      "Actual Rating: -1\n",
      "Review: Really awful A company page cant even receive messages on here and they restrict livestreaming to only select pages You cant even make a group as a page so essentially everything has to be in your personal name The app is clunky and many posts that you spend time typing out fail to post and disappear Paying for ads on here is like flushing money down the toilet even when you specifically target them based on school or industry\n",
      "\n"
     ]
    }
   ],
   "source": [
    "most_positive_indices_lim = np.argsort(y_proba_lim[:, 1])[::-1][:5]\n",
    "\n",
    "print(\"Five Most Positive Reviews:\")\n",
    "for index in most_positive_indices_lim:\n",
    "    print(\"Predicted Probability (Positive):\", y_proba_lim[index, 1])\n",
    "    print(\"Actual Rating:\", y_test_limited.iloc[index])\n",
    "    print(\"Review:\", test[\"review_text\"].iloc[index])\n",
    "    print()\n",
    "\n",
    "\n",
    "most_negative_indices_lim = np.argsort(y_proba_lim[:, 0])[::-1][:5]\n",
    "\n",
    "\n",
    "print(\"Five Most Negative Reviews:\")\n",
    "for index in most_negative_indices_lim:\n",
    "    print(\"Predicted Probability (Negative):\", y_proba_lim[index, 0])\n",
    "    print(\"Actual Rating:\", y_test_limited.iloc[index])\n",
    "    print(\"Review:\", test[\"review_text\"].iloc[index])\n",
    "    print()"
   ]
  },
  {
   "cell_type": "code",
   "execution_count": 114,
   "metadata": {},
   "outputs": [
    {
     "name": "stdout",
     "output_type": "stream",
     "text": [
      "Accuracy: 0.8115838219616205\n"
     ]
    }
   ],
   "source": [
    "accuracy_lim = accuracy_score(y_test_limited, y_pred_lim)\n",
    "\n",
    "# Print the accuracy\n",
    "print(\"Accuracy:\", accuracy_lim)"
   ]
  },
  {
   "cell_type": "code",
   "execution_count": 115,
   "metadata": {
    "collapsed": true
   },
   "outputs": [
    {
     "name": "stdout",
     "output_type": "stream",
     "text": [
      "love: 2.0279070176121325\n",
      "great: 2.3129226323106877\n",
      "easy: 1.5037371210745922\n",
      "management: 0.21989229776306912\n",
      "little: -0.0980185276098724\n",
      "perfect: 2.1601102429674266\n",
      "loves: 0.3555983259663341\n",
      "well: 0.36797059036446517\n",
      "able: -1.7587178942103947\n",
      "work: -1.0031374597264882\n",
      "contact: -1.3589314497438725\n",
      "less: -1.2884941918280228\n",
      "even: -2.707757578777621\n",
      "waste: -3.8350383704812927\n",
      "disappointed: -3.36183299856171\n",
      "company: -0.9224452287534555\n",
      "product: -0.5831339150602776\n",
      "money: -1.7627275879057531\n",
      "would: -0.943084886494527\n",
      "recommend: 0.24160233371427042\n"
     ]
    }
   ],
   "source": [
    "#b)\n",
    "for word, coef in zip(vectorizer_limited.get_feature_names_out(),model_lim.coef_[0]):\n",
    "    print(f\"{word}: {coef}\")\n"
   ]
  },
  {
   "cell_type": "code",
   "execution_count": 116,
   "metadata": {},
   "outputs": [],
   "source": [
    "import sys, time"
   ]
  },
  {
   "cell_type": "code",
   "execution_count": 117,
   "metadata": {
    "collapsed": true
   },
   "outputs": [
    {
     "name": "stdout",
     "output_type": "stream",
     "text": [
      "254 µs ± 4.1 µs per loop (mean ± std. dev. of 7 runs, 1,000 loops each)\n",
      "CPU times: user 2.07 s, sys: 318 µs, total: 2.07 s\n",
      "Wall time: 2.07 s\n"
     ]
    }
   ],
   "source": [
    "%%time\n",
    "%%timeit\n",
    "model_lim.predict(X_test_limited)"
   ]
  },
  {
   "cell_type": "code",
   "execution_count": 118,
   "metadata": {},
   "outputs": [
    {
     "name": "stdout",
     "output_type": "stream",
     "text": [
      "927 µs ± 6.41 µs per loop (mean ± std. dev. of 7 runs, 1,000 loops each)\n",
      "CPU times: user 7.5 s, sys: 0 ns, total: 7.5 s\n",
      "Wall time: 7.51 s\n"
     ]
    }
   ],
   "source": [
    "%%time\n",
    "%%timeit\n",
    "model.predict(X_test)"
   ]
  },
  {
   "cell_type": "code",
   "execution_count": 119,
   "metadata": {},
   "outputs": [
    {
     "name": "stdout",
     "output_type": "stream",
     "text": [
      "first model score: 0.9241737739872068\n",
      "second model score: 0.8115838219616205\n"
     ]
    }
   ],
   "source": [
    "print(f\"first model score: {model.score(X_test, y_test)}\")\n",
    "print(f\"second model score: {model_lim.score(X_test_limited, y_test_limited)}\")"
   ]
  }
 ],
 "metadata": {
  "anaconda-cloud": {},
  "kernelspec": {
   "display_name": "Python 3",
   "language": "python",
   "name": "python3"
  },
  "language_info": {
   "codemirror_mode": {
    "name": "ipython",
    "version": 3
   },
   "file_extension": ".py",
   "mimetype": "text/x-python",
   "name": "python",
   "nbconvert_exporter": "python",
   "pygments_lexer": "ipython3",
   "version": "3.11.5"
  }
 },
 "nbformat": 4,
 "nbformat_minor": 4
}
