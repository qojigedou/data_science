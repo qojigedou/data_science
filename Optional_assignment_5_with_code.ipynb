{
 "cells": [
  {
   "cell_type": "markdown",
   "metadata": {},
   "source": [
    "When exploring a large set of documents -- such as Wikipedia, news articles, StackOverflow, etc. -- it can be useful to get a list of related material. To find relevant documents you typically\n",
    "* Decide on a notion of similarity\n",
    "* Find the documents that are most similar \n",
    "\n",
    "In the assignment you will\n",
    "* Gain intuition for different notions of similarity and practice finding similar documents. \n",
    "* Explore the tradeoffs with representing documents using raw word counts and TF-IDF\n",
    "* Explore the behavior of different distance metrics by looking at the Wikipedia pages most similar to President Obama’s page."
   ]
  },
  {
   "cell_type": "code",
   "execution_count": 2,
   "metadata": {
    "collapsed": false,
    "jupyter": {
     "outputs_hidden": false
    }
   },
   "outputs": [],
   "source": [
    "import matplotlib.pyplot as plt\n",
    "import numpy as np\n",
    "import pandas as pd\n",
    "import plotly.express as px\n",
    "import seaborn as sns\n",
    "%matplotlib inline"
   ]
  },
  {
   "cell_type": "markdown",
   "metadata": {},
   "source": [
    "## Wikipedia Movie Plots\n",
    "\n",
    "Link: https://www.kaggle.com/datasets/jrobischon/wikipedia-movie-plots/data"
   ]
  },
  {
   "cell_type": "markdown",
   "metadata": {},
   "source": [
    "## Load Wikipedia dataset"
   ]
  },
  {
   "cell_type": "code",
   "execution_count": 3,
   "metadata": {
    "collapsed": false,
    "jupyter": {
     "outputs_hidden": false
    }
   },
   "outputs": [
    {
     "data": {
      "text/html": [
       "<div>\n",
       "<style scoped>\n",
       "    .dataframe tbody tr th:only-of-type {\n",
       "        vertical-align: middle;\n",
       "    }\n",
       "\n",
       "    .dataframe tbody tr th {\n",
       "        vertical-align: top;\n",
       "    }\n",
       "\n",
       "    .dataframe thead th {\n",
       "        text-align: right;\n",
       "    }\n",
       "</style>\n",
       "<table border=\"1\" class=\"dataframe\">\n",
       "  <thead>\n",
       "    <tr style=\"text-align: right;\">\n",
       "      <th></th>\n",
       "      <th>Release Year</th>\n",
       "      <th>Title</th>\n",
       "      <th>Origin/Ethnicity</th>\n",
       "      <th>Director</th>\n",
       "      <th>Cast</th>\n",
       "      <th>Genre</th>\n",
       "      <th>Wiki Page</th>\n",
       "      <th>Plot</th>\n",
       "    </tr>\n",
       "  </thead>\n",
       "  <tbody>\n",
       "    <tr>\n",
       "      <th>0</th>\n",
       "      <td>1901</td>\n",
       "      <td>Kansas Saloon Smashers</td>\n",
       "      <td>American</td>\n",
       "      <td>Unknown</td>\n",
       "      <td>NaN</td>\n",
       "      <td>unknown</td>\n",
       "      <td>https://en.wikipedia.org/wiki/Kansas_Saloon_Sm...</td>\n",
       "      <td>A bartender is working at a saloon, serving dr...</td>\n",
       "    </tr>\n",
       "    <tr>\n",
       "      <th>1</th>\n",
       "      <td>1901</td>\n",
       "      <td>Love by the Light of the Moon</td>\n",
       "      <td>American</td>\n",
       "      <td>Unknown</td>\n",
       "      <td>NaN</td>\n",
       "      <td>unknown</td>\n",
       "      <td>https://en.wikipedia.org/wiki/Love_by_the_Ligh...</td>\n",
       "      <td>The moon, painted with a smiling face hangs ov...</td>\n",
       "    </tr>\n",
       "    <tr>\n",
       "      <th>2</th>\n",
       "      <td>1901</td>\n",
       "      <td>The Martyred Presidents</td>\n",
       "      <td>American</td>\n",
       "      <td>Unknown</td>\n",
       "      <td>NaN</td>\n",
       "      <td>unknown</td>\n",
       "      <td>https://en.wikipedia.org/wiki/The_Martyred_Pre...</td>\n",
       "      <td>The film, just over a minute long, is composed...</td>\n",
       "    </tr>\n",
       "    <tr>\n",
       "      <th>3</th>\n",
       "      <td>1901</td>\n",
       "      <td>Terrible Teddy, the Grizzly King</td>\n",
       "      <td>American</td>\n",
       "      <td>Unknown</td>\n",
       "      <td>NaN</td>\n",
       "      <td>unknown</td>\n",
       "      <td>https://en.wikipedia.org/wiki/Terrible_Teddy,_...</td>\n",
       "      <td>Lasting just 61 seconds and consisting of two ...</td>\n",
       "    </tr>\n",
       "    <tr>\n",
       "      <th>4</th>\n",
       "      <td>1902</td>\n",
       "      <td>Jack and the Beanstalk</td>\n",
       "      <td>American</td>\n",
       "      <td>George S. Fleming, Edwin S. Porter</td>\n",
       "      <td>NaN</td>\n",
       "      <td>unknown</td>\n",
       "      <td>https://en.wikipedia.org/wiki/Jack_and_the_Bea...</td>\n",
       "      <td>The earliest known adaptation of the classic f...</td>\n",
       "    </tr>\n",
       "  </tbody>\n",
       "</table>\n",
       "</div>"
      ],
      "text/plain": [
       "   Release Year                             Title Origin/Ethnicity  \\\n",
       "0          1901            Kansas Saloon Smashers         American   \n",
       "1          1901     Love by the Light of the Moon         American   \n",
       "2          1901           The Martyred Presidents         American   \n",
       "3          1901  Terrible Teddy, the Grizzly King         American   \n",
       "4          1902            Jack and the Beanstalk         American   \n",
       "\n",
       "                             Director Cast    Genre  \\\n",
       "0                             Unknown  NaN  unknown   \n",
       "1                             Unknown  NaN  unknown   \n",
       "2                             Unknown  NaN  unknown   \n",
       "3                             Unknown  NaN  unknown   \n",
       "4  George S. Fleming, Edwin S. Porter  NaN  unknown   \n",
       "\n",
       "                                           Wiki Page  \\\n",
       "0  https://en.wikipedia.org/wiki/Kansas_Saloon_Sm...   \n",
       "1  https://en.wikipedia.org/wiki/Love_by_the_Ligh...   \n",
       "2  https://en.wikipedia.org/wiki/The_Martyred_Pre...   \n",
       "3  https://en.wikipedia.org/wiki/Terrible_Teddy,_...   \n",
       "4  https://en.wikipedia.org/wiki/Jack_and_the_Bea...   \n",
       "\n",
       "                                                Plot  \n",
       "0  A bartender is working at a saloon, serving dr...  \n",
       "1  The moon, painted with a smiling face hangs ov...  \n",
       "2  The film, just over a minute long, is composed...  \n",
       "3  Lasting just 61 seconds and consisting of two ...  \n",
       "4  The earliest known adaptation of the classic f...  "
      ]
     },
     "execution_count": 3,
     "metadata": {},
     "output_type": "execute_result"
    }
   ],
   "source": [
    "wiki = pd.read_csv('wiki_movie_plots_deduped.csv')\n",
    "wiki.head()"
   ]
  },
  {
   "cell_type": "markdown",
   "metadata": {},
   "source": [
    "If you want to check whether the text on the webpage agrees with the one here, you can display it with the following code:"
   ]
  },
  {
   "cell_type": "markdown",
   "metadata": {},
   "source": [
    "The dataset contains several parameters which describe the movie\n",
    "The parameters included are :\n",
    "\n",
    "- `Release Year` \n",
    "- `Title` \n",
    "- `Origin/Ethnicity` \n",
    "- `Director` \n",
    "- `Cast` \n",
    "- `Wiki Page` \n",
    "- `Plot` "
   ]
  },
  {
   "cell_type": "code",
   "execution_count": 4,
   "metadata": {},
   "outputs": [
    {
     "name": "stdout",
     "output_type": "stream",
     "text": [
      "<class 'pandas.core.frame.DataFrame'>\n",
      "RangeIndex: 34886 entries, 0 to 34885\n",
      "Data columns (total 8 columns):\n",
      " #   Column            Non-Null Count  Dtype \n",
      "---  ------            --------------  ----- \n",
      " 0   Release Year      34886 non-null  int64 \n",
      " 1   Title             34886 non-null  object\n",
      " 2   Origin/Ethnicity  34886 non-null  object\n",
      " 3   Director          34886 non-null  object\n",
      " 4   Cast              33464 non-null  object\n",
      " 5   Genre             34886 non-null  object\n",
      " 6   Wiki Page         34886 non-null  object\n",
      " 7   Plot              34886 non-null  object\n",
      "dtypes: int64(1), object(7)\n",
      "memory usage: 2.1+ MB\n",
      "None\n"
     ]
    }
   ],
   "source": [
    "print(wiki.info())"
   ]
  },
  {
   "cell_type": "markdown",
   "metadata": {},
   "source": [
    "**Notes:** As we can observe in info we can see that there are 0 null values, but actually, looking at the head we can notice that some of the columns can have null values but it is written \"Unknown\" or \"NaN\". I have decided not to delete any column or row, because it can damage the results(sometimes there can be no genre written in, but the plot will be informative and can be useful to indicate if it is close to the chosen article)"
   ]
  },
  {
   "cell_type": "code",
   "execution_count": 5,
   "metadata": {},
   "outputs": [
    {
     "data": {
      "text/html": [
       "<div>\n",
       "<style scoped>\n",
       "    .dataframe tbody tr th:only-of-type {\n",
       "        vertical-align: middle;\n",
       "    }\n",
       "\n",
       "    .dataframe tbody tr th {\n",
       "        vertical-align: top;\n",
       "    }\n",
       "\n",
       "    .dataframe thead th {\n",
       "        text-align: right;\n",
       "    }\n",
       "</style>\n",
       "<table border=\"1\" class=\"dataframe\">\n",
       "  <thead>\n",
       "    <tr style=\"text-align: right;\">\n",
       "      <th></th>\n",
       "      <th>Release Year</th>\n",
       "    </tr>\n",
       "  </thead>\n",
       "  <tbody>\n",
       "    <tr>\n",
       "      <th>count</th>\n",
       "      <td>34886.000000</td>\n",
       "    </tr>\n",
       "    <tr>\n",
       "      <th>mean</th>\n",
       "      <td>1981.314252</td>\n",
       "    </tr>\n",
       "    <tr>\n",
       "      <th>std</th>\n",
       "      <td>27.815174</td>\n",
       "    </tr>\n",
       "    <tr>\n",
       "      <th>min</th>\n",
       "      <td>1901.000000</td>\n",
       "    </tr>\n",
       "    <tr>\n",
       "      <th>25%</th>\n",
       "      <td>1957.000000</td>\n",
       "    </tr>\n",
       "    <tr>\n",
       "      <th>50%</th>\n",
       "      <td>1988.000000</td>\n",
       "    </tr>\n",
       "    <tr>\n",
       "      <th>75%</th>\n",
       "      <td>2007.000000</td>\n",
       "    </tr>\n",
       "    <tr>\n",
       "      <th>max</th>\n",
       "      <td>2017.000000</td>\n",
       "    </tr>\n",
       "  </tbody>\n",
       "</table>\n",
       "</div>"
      ],
      "text/plain": [
       "       Release Year\n",
       "count  34886.000000\n",
       "mean    1981.314252\n",
       "std       27.815174\n",
       "min     1901.000000\n",
       "25%     1957.000000\n",
       "50%     1988.000000\n",
       "75%     2007.000000\n",
       "max     2017.000000"
      ]
     },
     "execution_count": 5,
     "metadata": {},
     "output_type": "execute_result"
    }
   ],
   "source": [
    "wiki.describe()"
   ]
  },
  {
   "cell_type": "markdown",
   "metadata": {},
   "source": [
    "**Notes:** There we can only analize the year of release. We can notice that there are 34886 films in the dataset. The timestamp of this film releases is 1901 to 2017."
   ]
  },
  {
   "cell_type": "markdown",
   "metadata": {},
   "source": [
    "## Ex. 1: Extract word count vectors"
   ]
  },
  {
   "cell_type": "markdown",
   "metadata": {},
   "source": [
    "As we have seen in Assignment 4, we can extract word count vectors using `CountVectorizer` function.\n",
    "- make sure you include words of unit length by using the parameter: `token_pattern=r\"(?u)\\b\\w+\\b\"`\n",
    "- do not use any stopwords\n",
    "- take 10000 most frequent words in the corpus\n",
    "- explicitly take all the words independent of in how many documents they occur\n",
    "- obtain the matrix of word counts"
   ]
  },
  {
   "cell_type": "code",
   "execution_count": 6,
   "metadata": {
    "collapsed": true
   },
   "outputs": [
    {
     "data": {
      "text/plain": [
       "<34886x10000 sparse matrix of type '<class 'numpy.int64'>'\n",
       "\twith 5759797 stored elements in Compressed Sparse Row format>"
      ]
     },
     "execution_count": 6,
     "metadata": {},
     "output_type": "execute_result"
    }
   ],
   "source": [
    "from sklearn.feature_extraction.text import CountVectorizer\n",
    "\n",
    "vectorizer = CountVectorizer(token_pattern=r\"(?u)\\b\\w+\\b\", max_features=10000)\n",
    "WCmatrix = vectorizer.fit_transform(wiki[\"Plot\"])\n",
    "\n",
    "WCmatrix\n"
   ]
  },
  {
   "cell_type": "markdown",
   "metadata": {},
   "source": [
    "## Ex. 2: Find nearest neighbors"
   ]
  },
  {
   "cell_type": "markdown",
   "metadata": {},
   "source": [
    "**a)** Start by finding the nearest neighbors of the Star Wars: Episode I – The Phantom Menace page using the above word count matrix to represent the articles and **Euclidean** distance to measure distance.\n",
    "Save the distances in `wiki['SW1-eucl']` and look at the top 10 nearest neighbors."
   ]
  },
  {
   "cell_type": "code",
   "execution_count": 7,
   "metadata": {
    "collapsed": true
   },
   "outputs": [
    {
     "data": {
      "text/html": [
       "<div>\n",
       "<style scoped>\n",
       "    .dataframe tbody tr th:only-of-type {\n",
       "        vertical-align: middle;\n",
       "    }\n",
       "\n",
       "    .dataframe tbody tr th {\n",
       "        vertical-align: top;\n",
       "    }\n",
       "\n",
       "    .dataframe thead th {\n",
       "        text-align: right;\n",
       "    }\n",
       "</style>\n",
       "<table border=\"1\" class=\"dataframe\">\n",
       "  <thead>\n",
       "    <tr style=\"text-align: right;\">\n",
       "      <th></th>\n",
       "      <th>Release Year</th>\n",
       "      <th>Title</th>\n",
       "      <th>Origin/Ethnicity</th>\n",
       "      <th>Director</th>\n",
       "      <th>Cast</th>\n",
       "      <th>Genre</th>\n",
       "      <th>Wiki Page</th>\n",
       "      <th>Plot</th>\n",
       "      <th>SW1-eucl</th>\n",
       "    </tr>\n",
       "  </thead>\n",
       "  <tbody>\n",
       "    <tr>\n",
       "      <th>13553</th>\n",
       "      <td>1999</td>\n",
       "      <td>Star Wars: Episode I – The Phantom Menace</td>\n",
       "      <td>American</td>\n",
       "      <td>George Lucas</td>\n",
       "      <td>Liam Neeson, Ewan McGregor, Natalie Portman, J...</td>\n",
       "      <td>space opera</td>\n",
       "      <td>https://en.wikipedia.org/wiki/Star_Wars:_Episo...</td>\n",
       "      <td>The Trade Federation upsets order in the Galac...</td>\n",
       "      <td>0.000000</td>\n",
       "    </tr>\n",
       "    <tr>\n",
       "      <th>16378</th>\n",
       "      <td>2012</td>\n",
       "      <td>Star Wars: Episode I – The Phantom Menace 3D</td>\n",
       "      <td>American</td>\n",
       "      <td>George Lucas</td>\n",
       "      <td>Liam Neeson, Ewan McGregor, Jake Lloyd, Ahmed ...</td>\n",
       "      <td>sci-fi</td>\n",
       "      <td>https://en.wikipedia.org/wiki/Star_Wars:_Episo...</td>\n",
       "      <td>The Trade Federation upsets order in the Galac...</td>\n",
       "      <td>0.000000</td>\n",
       "    </tr>\n",
       "    <tr>\n",
       "      <th>7668</th>\n",
       "      <td>1962</td>\n",
       "      <td>Taras Bulba</td>\n",
       "      <td>American</td>\n",
       "      <td>J. Lee Thompson</td>\n",
       "      <td>Yul Brynner, Tony Curtis, Sam Wanamaker, Chris...</td>\n",
       "      <td>adventure</td>\n",
       "      <td>https://en.wikipedia.org/wiki/Taras_Bulba_(196...</td>\n",
       "      <td>The film opens in the 16th century, when Russi...</td>\n",
       "      <td>34.785054</td>\n",
       "    </tr>\n",
       "    <tr>\n",
       "      <th>14765</th>\n",
       "      <td>2005</td>\n",
       "      <td>Star Wars: Episode III – Revenge of the Sith</td>\n",
       "      <td>American</td>\n",
       "      <td>George Lucas</td>\n",
       "      <td>Ewan McGregor, Hayden Christensen, Natalie Por...</td>\n",
       "      <td>science fiction, action</td>\n",
       "      <td>https://en.wikipedia.org/wiki/Star_Wars:_Episo...</td>\n",
       "      <td>Three years after the Battle of Geonosis, the ...</td>\n",
       "      <td>35.142567</td>\n",
       "    </tr>\n",
       "    <tr>\n",
       "      <th>32931</th>\n",
       "      <td>1966</td>\n",
       "      <td>Daimajin</td>\n",
       "      <td>Japanese</td>\n",
       "      <td>Yasuda, KimiyoshiKimiyoshi Yasuda</td>\n",
       "      <td>Miwa Takada, Yoshihiko Aoyama, Jun Fujimaki</td>\n",
       "      <td>unknown</td>\n",
       "      <td>https://en.wikipedia.org/wiki/Daimajin_(1966_f...</td>\n",
       "      <td>The movie opens with a household of peasants c...</td>\n",
       "      <td>36.097091</td>\n",
       "    </tr>\n",
       "    <tr>\n",
       "      <th>33207</th>\n",
       "      <td>1993</td>\n",
       "      <td>Ninja Scroll</td>\n",
       "      <td>Japanese</td>\n",
       "      <td>Yoshiaki Kawajiri</td>\n",
       "      <td>Kōichi Yamadera, Emi Shinohara</td>\n",
       "      <td>anime</td>\n",
       "      <td>https://en.wikipedia.org/wiki/Ninja_Scroll</td>\n",
       "      <td>In Edo period-Japan, the Yamashiro clan mines ...</td>\n",
       "      <td>37.040518</td>\n",
       "    </tr>\n",
       "    <tr>\n",
       "      <th>15482</th>\n",
       "      <td>2008</td>\n",
       "      <td>Meet the Spartans</td>\n",
       "      <td>American</td>\n",
       "      <td>Jason Friedberg, Aaron Seltzer</td>\n",
       "      <td>Sean Maguire, Ken Davitian, Carmen Electra, Di...</td>\n",
       "      <td>comedy</td>\n",
       "      <td>https://en.wikipedia.org/wiki/Meet_the_Spartans</td>\n",
       "      <td>The film opens with a Spartan elder inspecting...</td>\n",
       "      <td>37.094474</td>\n",
       "    </tr>\n",
       "    <tr>\n",
       "      <th>7446</th>\n",
       "      <td>1961</td>\n",
       "      <td>Atlantis, the Lost Continent</td>\n",
       "      <td>American</td>\n",
       "      <td>George Pal</td>\n",
       "      <td>John Dall, Edward Platt</td>\n",
       "      <td>sci-fi</td>\n",
       "      <td>https://en.wikipedia.org/wiki/Atlantis,_the_Lo...</td>\n",
       "      <td>A Greek fisherman named Demetrios and his fath...</td>\n",
       "      <td>37.094474</td>\n",
       "    </tr>\n",
       "    <tr>\n",
       "      <th>9212</th>\n",
       "      <td>1975</td>\n",
       "      <td>The Wind and the Lion</td>\n",
       "      <td>American</td>\n",
       "      <td>John Milius</td>\n",
       "      <td>Sean Connery, Candice Bergen, John Huston, Geo...</td>\n",
       "      <td>adventure</td>\n",
       "      <td>https://en.wikipedia.org/wiki/The_Wind_and_the...</td>\n",
       "      <td>During 1904, Morocco is the source of conflict...</td>\n",
       "      <td>37.134889</td>\n",
       "    </tr>\n",
       "    <tr>\n",
       "      <th>13095</th>\n",
       "      <td>1997</td>\n",
       "      <td>The Peacemaker</td>\n",
       "      <td>American</td>\n",
       "      <td>Mimi Leder</td>\n",
       "      <td>George Clooney, Nicole Kidman</td>\n",
       "      <td>action</td>\n",
       "      <td>https://en.wikipedia.org/wiki/The_Peacemaker_(...</td>\n",
       "      <td>In an Eastern Orthodox church in Pale, Bosnia ...</td>\n",
       "      <td>37.229021</td>\n",
       "    </tr>\n",
       "  </tbody>\n",
       "</table>\n",
       "</div>"
      ],
      "text/plain": [
       "       Release Year                                         Title  \\\n",
       "13553          1999     Star Wars: Episode I – The Phantom Menace   \n",
       "16378          2012  Star Wars: Episode I – The Phantom Menace 3D   \n",
       "7668           1962                                   Taras Bulba   \n",
       "14765          2005  Star Wars: Episode III – Revenge of the Sith   \n",
       "32931          1966                                      Daimajin   \n",
       "33207          1993                                  Ninja Scroll   \n",
       "15482          2008                             Meet the Spartans   \n",
       "7446           1961                  Atlantis, the Lost Continent   \n",
       "9212           1975                         The Wind and the Lion   \n",
       "13095          1997                                The Peacemaker   \n",
       "\n",
       "      Origin/Ethnicity                           Director  \\\n",
       "13553         American                       George Lucas   \n",
       "16378         American                       George Lucas   \n",
       "7668          American                    J. Lee Thompson   \n",
       "14765         American                       George Lucas   \n",
       "32931         Japanese  Yasuda, KimiyoshiKimiyoshi Yasuda   \n",
       "33207         Japanese                  Yoshiaki Kawajiri   \n",
       "15482         American     Jason Friedberg, Aaron Seltzer   \n",
       "7446          American                         George Pal   \n",
       "9212          American                        John Milius   \n",
       "13095         American                         Mimi Leder   \n",
       "\n",
       "                                                    Cast  \\\n",
       "13553  Liam Neeson, Ewan McGregor, Natalie Portman, J...   \n",
       "16378  Liam Neeson, Ewan McGregor, Jake Lloyd, Ahmed ...   \n",
       "7668   Yul Brynner, Tony Curtis, Sam Wanamaker, Chris...   \n",
       "14765  Ewan McGregor, Hayden Christensen, Natalie Por...   \n",
       "32931        Miwa Takada, Yoshihiko Aoyama, Jun Fujimaki   \n",
       "33207                     Kōichi Yamadera, Emi Shinohara   \n",
       "15482  Sean Maguire, Ken Davitian, Carmen Electra, Di...   \n",
       "7446                             John Dall, Edward Platt   \n",
       "9212   Sean Connery, Candice Bergen, John Huston, Geo...   \n",
       "13095                      George Clooney, Nicole Kidman   \n",
       "\n",
       "                         Genre  \\\n",
       "13553              space opera   \n",
       "16378                   sci-fi   \n",
       "7668                 adventure   \n",
       "14765  science fiction, action   \n",
       "32931                  unknown   \n",
       "33207                    anime   \n",
       "15482                   comedy   \n",
       "7446                    sci-fi   \n",
       "9212                 adventure   \n",
       "13095                   action   \n",
       "\n",
       "                                               Wiki Page  \\\n",
       "13553  https://en.wikipedia.org/wiki/Star_Wars:_Episo...   \n",
       "16378  https://en.wikipedia.org/wiki/Star_Wars:_Episo...   \n",
       "7668   https://en.wikipedia.org/wiki/Taras_Bulba_(196...   \n",
       "14765  https://en.wikipedia.org/wiki/Star_Wars:_Episo...   \n",
       "32931  https://en.wikipedia.org/wiki/Daimajin_(1966_f...   \n",
       "33207         https://en.wikipedia.org/wiki/Ninja_Scroll   \n",
       "15482    https://en.wikipedia.org/wiki/Meet_the_Spartans   \n",
       "7446   https://en.wikipedia.org/wiki/Atlantis,_the_Lo...   \n",
       "9212   https://en.wikipedia.org/wiki/The_Wind_and_the...   \n",
       "13095  https://en.wikipedia.org/wiki/The_Peacemaker_(...   \n",
       "\n",
       "                                                    Plot   SW1-eucl  \n",
       "13553  The Trade Federation upsets order in the Galac...   0.000000  \n",
       "16378  The Trade Federation upsets order in the Galac...   0.000000  \n",
       "7668   The film opens in the 16th century, when Russi...  34.785054  \n",
       "14765  Three years after the Battle of Geonosis, the ...  35.142567  \n",
       "32931  The movie opens with a household of peasants c...  36.097091  \n",
       "33207  In Edo period-Japan, the Yamashiro clan mines ...  37.040518  \n",
       "15482  The film opens with a Spartan elder inspecting...  37.094474  \n",
       "7446   A Greek fisherman named Demetrios and his fath...  37.094474  \n",
       "9212   During 1904, Morocco is the source of conflict...  37.134889  \n",
       "13095  In an Eastern Orthodox church in Pale, Bosnia ...  37.229021  "
      ]
     },
     "execution_count": 7,
     "metadata": {},
     "output_type": "execute_result"
    }
   ],
   "source": [
    "# One can use the following:\n",
    "    # from sklearn.neighbors import NearestNeighbors\n",
    "    # nbrs = NearestNeighbors(n_neighbors=3, algorithm='brute',metric='euclidean').fit(X.toarray())\n",
    "    # distances, indices = nbrs.kneighbors(X.toarray())\n",
    "# but here let's use:\n",
    "from sklearn.metrics import pairwise_distances\n",
    "\n",
    "bo_vector = WCmatrix[wiki[wiki[\"Title\"] == \"Star Wars: Episode I – The Phantom Menace\"].index[0]]\n",
    "dist = pairwise_distances(bo_vector.reshape(1, -1), WCmatrix, metric='euclidean')\n",
    "wiki[\"SW1-eucl\"] = dist.flatten()\n",
    "wiki.sort_values(by='SW1-eucl').iloc[:10]"
   ]
  },
  {
   "cell_type": "markdown",
   "metadata": {},
   "source": [
    "**Note:** Looking at the reult we can observe that some of the results dont't make sense. There is no closeness between Star Wars 1 and Taras Bulba, but recording to the results it is the closest neighour. We can't take into consideration 3D version of the Star Wars 1, because it is the same movie.\n",
    "\n",
    "\n",
    "The `pairwise_distances` function in sklearn computes the distance matrix from a vector array, such as `bo_vector` and `WCmatrix`. By using this function, I calculated the Euclidean distances between Star Wars 1 and other articles. The calculated distances were then saved in the `SW1-eucl` column, and the 10 nearest neighbors were printed out"
   ]
  },
  {
   "cell_type": "markdown",
   "metadata": {},
   "source": [
    "Apply K-Means clustering and explore articles within the same cluster as your selected article."
   ]
  },
  {
   "cell_type": "code",
   "execution_count": 9,
   "metadata": {},
   "outputs": [
    {
     "data": {
      "image/png": "[encoded data removed]",
      "text/plain": [
       "<Figure size 640x480 with 1 Axes>"
      ]
     },
     "metadata": {},
     "output_type": "display_data"
    }
   ],
   "source": [
    "from sklearn.cluster import KMeans\n",
    "\n",
    "kmeans = KMeans(n_clusters=5, random_state=42)\n",
    "clusters = kmeans.fit_predict(WCmatrix)\n",
    "cluster_id = clusters[wiki[wiki[\"Title\"] == \"Star Wars: Episode I – The Phantom Menace\"].index[0]]\n",
    "\n",
    "similar_articles_cluster = wiki[clusters == cluster_id]\n",
    "\n",
    "from sklearn.cluster import KMeans\n",
    "import matplotlib.pyplot as plt\n",
    "k_values = [2, 3, 4, 5, 6]\n",
    "\n",
    "distortions = []\n",
    "for k in k_values:\n",
    "    kmeans = KMeans(n_clusters=k, random_state=42)\n",
    "    kmeans.fit(WCmatrix)\n",
    "    distortions.append(kmeans.inertia_)\n",
    "\n",
    "plt.plot(k_values, distortions, marker='o')\n",
    "plt.title('Elbow Method for Optimal k')\n",
    "plt.xlabel('Number of clusters (k)')\n",
    "plt.ylabel('Distortion')\n",
    "plt.show()\n",
    "\n"
   ]
  },
  {
   "cell_type": "markdown",
   "metadata": {},
   "source": [
    "**Notes:** The Elbow Method is a technique used to find the optimal number of clusters (`k`) in a KMeans clustering algorithm. The basic idea: to run the KMeans algorithm for a range of values of `k` and plot the sum of squared distances (also known as distortion) from each point to its assigned cluster center. The \"elbow\" of the plot is the point where the rate of decrease in distortion slows down, suggesting that increasing the number of clusters beyond that point doesn't significantly improve the model.\n",
    "\n",
    "Here's how the process works:\n",
    "\n",
    "1. Fit the KMeans model for different values of `k`.\n",
    "2. For each `k`, calculate the sum of squared distances (distortion) of samples to their closest cluster center.\n",
    "3. Plot the distortion for each `k`.\n",
    "4. Identify the \"elbow\" in the plot, which is the point where the rate of decrease in distortion slows down.\n",
    "\n",
    "The optimal number of clusters is often chosen as the value of `k` at the elbow, as it represents a balance between minimizing distortion and avoiding overfitting.\n",
    "\n",
    "In the Elbow Method plot:\n",
    "\n",
    "- As `k` increases, the distortion tends to decrease because each point is closer to its cluster center.\n",
    "- However, there is a point where the improvement in distortion becomes marginal, and the plot forms an \"elbow\" shape.\n",
    "- The elbow represents a trade-off between having enough clusters to capture the data's structure and avoiding too many clusters, which may lead to overfitting.\n",
    "\n",
    "It's important to note that the Elbow Method is a heuristic, and in some cases, the \"elbow\" may not be clearly defined. In such cases, additional techniques or domain knowledge may be needed to determine the optimal number of clusters."
   ]
  },
  {
   "cell_type": "markdown",
   "metadata": {},
   "source": [
    "**Notes:** I must say that it is very time consuming if the values in k_values array are higher than 6."
   ]
  },
  {
   "cell_type": "markdown",
   "metadata": {},
   "source": [
    "**b)** Measure the pairwise distance between the Wikipedia pages of Star Wars: Episode I – The Phantom Menace, Star Wars: Episode II – Attack of the Clones, and Return of the Jedi. "
   ]
  },
  {
   "cell_type": "code",
   "execution_count": 115,
   "metadata": {
    "collapsed": false
   },
   "outputs": [
    {
     "name": "stdout",
     "output_type": "stream",
     "text": [
      "Star Wars: Episode I – The Phantom Menace and Star Wars: Episode II – Attack of the Clones distance: 47.66550115125194\n",
      "Star Wars: Episode I – The Phantom Menace and Return of the Jedi distance: 39.395431207184416\n",
      "Return of the Jedi and Star Wars: Episode II – Attack of the Clones distance: 52.744667976962376\n"
     ]
    }
   ],
   "source": [
    "distance = pairwise_distances(WCmatrix[wiki[wiki[\"Title\"].isin([\"Star Wars: Episode I – The Phantom Menace\", \"Star Wars: Episode II – Attack of the Clones\", \"Return of the Jedi\"])].index])\n",
    "\n",
    "# Check if there are at least two rows in the distance array\n",
    "if distance.shape[0] >= 2:\n",
    "    print(f\"Star Wars: Episode I – The Phantom Menace and Star Wars: Episode II – Attack of the Clones distance: {distance[1, 0]}\")\n",
    "    print(f\"Star Wars: Episode I – The Phantom Menace and Return of the Jedi distance: {distance[1, 2]}\")\n",
    "    print(f\"Return of the Jedi and Star Wars: Episode II – Attack of the Clones distance: {distance[0, 2]}\")\n",
    "else:\n",
    "    print(\"Not enough rows in the distance array.\")\n",
    "\n"
   ]
  },
  {
   "cell_type": "markdown",
   "metadata": {},
   "source": [
    "**Notes:** I have created a vector to save the distances values named `distance`. And with the help of `pairwise_distance` I have calculated the distances."
   ]
  },
  {
   "cell_type": "markdown",
   "metadata": {},
   "source": [
    "**c)** Let's find out if Dune is close to Star Wars 1. While searching for close films to Star Wars 1 I found out that all of them included Dune.\n",
    "To do this, look at the most frequently used words in each of Star Wars 1 and Dune's pages."
   ]
  },
  {
   "cell_type": "code",
   "execution_count": 116,
   "metadata": {
    "collapsed": true
   },
   "outputs": [],
   "source": [
    "def top_words(name):\n",
    "    \"\"\"\n",
    "    Get a table of the most frequent words in the given person's wikipedia page.\n",
    "    \"\"\"\n",
    " \n",
    "    df = pd.DataFrame(wiki[wiki[\"Title\"] == name][\"Plot\"].values[0].split(), columns=[\"word\"])\n",
    "    count = df[\"word\"].value_counts().to_frame(\"count\")\n",
    "    return count.sort_values(by='count',ascending=False)"
   ]
  },
  {
   "cell_type": "markdown",
   "metadata": {},
   "source": [
    "**Notes:** In the provided code, I filtered the dataset to obtain the specified person's data, split the text into words, and created a dataset. Subsequently, I used the `value_count` function to count the occurrences of each word. Afterward, I sorted the dataframe by count in descending order."
   ]
  },
  {
   "cell_type": "code",
   "execution_count": 117,
   "metadata": {
    "collapsed": false,
    "jupyter": {
     "outputs_hidden": false
    }
   },
   "outputs": [
    {
     "data": {
      "text/html": [
       "<div>\n",
       "<style scoped>\n",
       "    .dataframe tbody tr th:only-of-type {\n",
       "        vertical-align: middle;\n",
       "    }\n",
       "\n",
       "    .dataframe tbody tr th {\n",
       "        vertical-align: top;\n",
       "    }\n",
       "\n",
       "    .dataframe thead th {\n",
       "        text-align: right;\n",
       "    }\n",
       "</style>\n",
       "<table border=\"1\" class=\"dataframe\">\n",
       "  <thead>\n",
       "    <tr style=\"text-align: right;\">\n",
       "      <th></th>\n",
       "      <th>count</th>\n",
       "    </tr>\n",
       "  </thead>\n",
       "  <tbody>\n",
       "    <tr>\n",
       "      <th>the</th>\n",
       "      <td>50</td>\n",
       "    </tr>\n",
       "    <tr>\n",
       "      <th>to</th>\n",
       "      <td>33</td>\n",
       "    </tr>\n",
       "    <tr>\n",
       "      <th>and</th>\n",
       "      <td>25</td>\n",
       "    </tr>\n",
       "    <tr>\n",
       "      <th>a</th>\n",
       "      <td>19</td>\n",
       "    </tr>\n",
       "    <tr>\n",
       "      <th>of</th>\n",
       "      <td>13</td>\n",
       "    </tr>\n",
       "    <tr>\n",
       "      <th>...</th>\n",
       "      <td>...</td>\n",
       "    </tr>\n",
       "    <tr>\n",
       "      <th>them</th>\n",
       "      <td>1</td>\n",
       "    </tr>\n",
       "    <tr>\n",
       "      <th>queen</th>\n",
       "      <td>1</td>\n",
       "    </tr>\n",
       "    <tr>\n",
       "      <th>joining</th>\n",
       "      <td>1</td>\n",
       "    </tr>\n",
       "    <tr>\n",
       "      <th>pushing</th>\n",
       "      <td>1</td>\n",
       "    </tr>\n",
       "    <tr>\n",
       "      <th>ceremony.</th>\n",
       "      <td>1</td>\n",
       "    </tr>\n",
       "  </tbody>\n",
       "</table>\n",
       "<p>334 rows × 1 columns</p>\n",
       "</div>"
      ],
      "text/plain": [
       "           count\n",
       "the           50\n",
       "to            33\n",
       "and           25\n",
       "a             19\n",
       "of            13\n",
       "...          ...\n",
       "them           1\n",
       "queen          1\n",
       "joining        1\n",
       "pushing        1\n",
       "ceremony.      1\n",
       "\n",
       "[334 rows x 1 columns]"
      ]
     },
     "execution_count": 117,
     "metadata": {},
     "output_type": "execute_result"
    }
   ],
   "source": [
    "star_wars1_words = top_words('Star Wars: Episode I – The Phantom Menace')\n",
    "star_wars1_words"
   ]
  },
  {
   "cell_type": "code",
   "execution_count": 118,
   "metadata": {
    "collapsed": false
   },
   "outputs": [
    {
     "data": {
      "text/html": [
       "<div>\n",
       "<style scoped>\n",
       "    .dataframe tbody tr th:only-of-type {\n",
       "        vertical-align: middle;\n",
       "    }\n",
       "\n",
       "    .dataframe tbody tr th {\n",
       "        vertical-align: top;\n",
       "    }\n",
       "\n",
       "    .dataframe thead th {\n",
       "        text-align: right;\n",
       "    }\n",
       "</style>\n",
       "<table border=\"1\" class=\"dataframe\">\n",
       "  <thead>\n",
       "    <tr style=\"text-align: right;\">\n",
       "      <th></th>\n",
       "      <th>count</th>\n",
       "    </tr>\n",
       "  </thead>\n",
       "  <tbody>\n",
       "    <tr>\n",
       "      <th>the</th>\n",
       "      <td>69</td>\n",
       "    </tr>\n",
       "    <tr>\n",
       "      <th>to</th>\n",
       "      <td>35</td>\n",
       "    </tr>\n",
       "    <tr>\n",
       "      <th>and</th>\n",
       "      <td>25</td>\n",
       "    </tr>\n",
       "    <tr>\n",
       "      <th>a</th>\n",
       "      <td>21</td>\n",
       "    </tr>\n",
       "    <tr>\n",
       "      <th>of</th>\n",
       "      <td>21</td>\n",
       "    </tr>\n",
       "    <tr>\n",
       "      <th>...</th>\n",
       "      <td>...</td>\n",
       "    </tr>\n",
       "    <tr>\n",
       "      <th>fall</th>\n",
       "      <td>1</td>\n",
       "    </tr>\n",
       "    <tr>\n",
       "      <th>first</th>\n",
       "      <td>1</td>\n",
       "    </tr>\n",
       "    <tr>\n",
       "      <th>time</th>\n",
       "      <td>1</td>\n",
       "    </tr>\n",
       "    <tr>\n",
       "      <th>ever,</th>\n",
       "      <td>1</td>\n",
       "    </tr>\n",
       "    <tr>\n",
       "      <th>declares</th>\n",
       "      <td>1</td>\n",
       "    </tr>\n",
       "  </tbody>\n",
       "</table>\n",
       "<p>451 rows × 1 columns</p>\n",
       "</div>"
      ],
      "text/plain": [
       "          count\n",
       "the          69\n",
       "to           35\n",
       "and          25\n",
       "a            21\n",
       "of           21\n",
       "...         ...\n",
       "fall          1\n",
       "first         1\n",
       "time          1\n",
       "ever,         1\n",
       "declares      1\n",
       "\n",
       "[451 rows x 1 columns]"
      ]
     },
     "execution_count": 118,
     "metadata": {},
     "output_type": "execute_result"
    }
   ],
   "source": [
    "dune_words = top_words('Dune')\n",
    "dune_words"
   ]
  },
  {
   "cell_type": "markdown",
   "metadata": {},
   "source": [
    "**d)** Extract the list of most frequent **common** words that appear in both Star Wars 1 and Dune documents and display the five words that appear most often in Dune's article.\n",
    "\n",
    "Use a dataframe operation known as **join**. The **join** operation is very useful when it comes to playing around with data: it lets you combine the content of two tables using a shared column (in this case, the index column of words). See [the documentation](https://pandas.pydata.org/pandas-docs/stable/reference/api/pandas.DataFrame.join.html) for more details."
   ]
  },
  {
   "cell_type": "code",
   "execution_count": 119,
   "metadata": {
    "collapsed": false,
    "jupyter": {
     "outputs_hidden": false
    }
   },
   "outputs": [
    {
     "data": {
      "text/html": [
       "<div>\n",
       "<style scoped>\n",
       "    .dataframe tbody tr th:only-of-type {\n",
       "        vertical-align: middle;\n",
       "    }\n",
       "\n",
       "    .dataframe tbody tr th {\n",
       "        vertical-align: top;\n",
       "    }\n",
       "\n",
       "    .dataframe thead th {\n",
       "        text-align: right;\n",
       "    }\n",
       "</style>\n",
       "<table border=\"1\" class=\"dataframe\">\n",
       "  <thead>\n",
       "    <tr style=\"text-align: right;\">\n",
       "      <th></th>\n",
       "      <th>count_Star_Wars1</th>\n",
       "      <th>count_Dune</th>\n",
       "    </tr>\n",
       "  </thead>\n",
       "  <tbody>\n",
       "    <tr>\n",
       "      <th>the</th>\n",
       "      <td>50</td>\n",
       "      <td>69</td>\n",
       "    </tr>\n",
       "    <tr>\n",
       "      <th>to</th>\n",
       "      <td>33</td>\n",
       "      <td>35</td>\n",
       "    </tr>\n",
       "    <tr>\n",
       "      <th>and</th>\n",
       "      <td>25</td>\n",
       "      <td>25</td>\n",
       "    </tr>\n",
       "    <tr>\n",
       "      <th>a</th>\n",
       "      <td>19</td>\n",
       "      <td>21</td>\n",
       "    </tr>\n",
       "    <tr>\n",
       "      <th>of</th>\n",
       "      <td>13</td>\n",
       "      <td>21</td>\n",
       "    </tr>\n",
       "  </tbody>\n",
       "</table>\n",
       "</div>"
      ],
      "text/plain": [
       "     count_Star_Wars1  count_Dune\n",
       "the                50          69\n",
       "to                 33          35\n",
       "and                25          25\n",
       "a                  19          21\n",
       "of                 13          21"
      ]
     },
     "execution_count": 119,
     "metadata": {},
     "output_type": "execute_result"
    }
   ],
   "source": [
    "# Modify the code to avoid error.\n",
    "star_wars1_words.join(dune_words, lsuffix=\"_Star_Wars1\", rsuffix=\"_Dune\", how=\"inner\").head(5)"
   ]
  },
  {
   "cell_type": "markdown",
   "metadata": {},
   "source": [
    "**Notes:** Here, it's evident that the most frequently used words include articles and pronouns, which are typically common in the general context of writing articles. We can insist that this films have some common features and simularities in plot, while actually watching the films, but it is hard to tell that these films have something common while simply analizing them by plot."
   ]
  },
  {
   "cell_type": "markdown",
   "metadata": {},
   "source": [
    "Collect all words that appear both in Star Wars 1 and Star Wars 2 pages.  Out of those words, find the 10 words that show up most often in Star Wars 1 page. "
   ]
  },
  {
   "cell_type": "code",
   "execution_count": 120,
   "metadata": {
    "collapsed": false
   },
   "outputs": [
    {
     "data": {
      "text/html": [
       "<div>\n",
       "<style scoped>\n",
       "    .dataframe tbody tr th:only-of-type {\n",
       "        vertical-align: middle;\n",
       "    }\n",
       "\n",
       "    .dataframe tbody tr th {\n",
       "        vertical-align: top;\n",
       "    }\n",
       "\n",
       "    .dataframe thead th {\n",
       "        text-align: right;\n",
       "    }\n",
       "</style>\n",
       "<table border=\"1\" class=\"dataframe\">\n",
       "  <thead>\n",
       "    <tr style=\"text-align: right;\">\n",
       "      <th></th>\n",
       "      <th>count_Star_Wars1</th>\n",
       "      <th>count_Star_Wars2</th>\n",
       "    </tr>\n",
       "  </thead>\n",
       "  <tbody>\n",
       "    <tr>\n",
       "      <th>the</th>\n",
       "      <td>50</td>\n",
       "      <td>26</td>\n",
       "    </tr>\n",
       "    <tr>\n",
       "      <th>to</th>\n",
       "      <td>33</td>\n",
       "      <td>25</td>\n",
       "    </tr>\n",
       "    <tr>\n",
       "      <th>and</th>\n",
       "      <td>25</td>\n",
       "      <td>22</td>\n",
       "    </tr>\n",
       "    <tr>\n",
       "      <th>a</th>\n",
       "      <td>19</td>\n",
       "      <td>12</td>\n",
       "    </tr>\n",
       "    <tr>\n",
       "      <th>of</th>\n",
       "      <td>13</td>\n",
       "      <td>8</td>\n",
       "    </tr>\n",
       "    <tr>\n",
       "      <th>in</th>\n",
       "      <td>11</td>\n",
       "      <td>4</td>\n",
       "    </tr>\n",
       "    <tr>\n",
       "      <th>as</th>\n",
       "      <td>10</td>\n",
       "      <td>2</td>\n",
       "    </tr>\n",
       "    <tr>\n",
       "      <th>is</th>\n",
       "      <td>9</td>\n",
       "      <td>11</td>\n",
       "    </tr>\n",
       "    <tr>\n",
       "      <th>Jedi</th>\n",
       "      <td>9</td>\n",
       "      <td>8</td>\n",
       "    </tr>\n",
       "    <tr>\n",
       "      <th>Anakin</th>\n",
       "      <td>9</td>\n",
       "      <td>11</td>\n",
       "    </tr>\n",
       "  </tbody>\n",
       "</table>\n",
       "</div>"
      ],
      "text/plain": [
       "        count_Star_Wars1  count_Star_Wars2\n",
       "the                   50                26\n",
       "to                    33                25\n",
       "and                   25                22\n",
       "a                     19                12\n",
       "of                    13                 8\n",
       "in                    11                 4\n",
       "as                    10                 2\n",
       "is                     9                11\n",
       "Jedi                   9                 8\n",
       "Anakin                 9                11"
      ]
     },
     "execution_count": 120,
     "metadata": {},
     "output_type": "execute_result"
    }
   ],
   "source": [
    "star_wars2_words = top_words('Star Wars: Episode II – Attack of the Clones')\n",
    "star_wars1_words.join(star_wars2_words, lsuffix=\"_Star_Wars1\", rsuffix=\"_Star_Wars2\", how=\"inner\").head(10)"
   ]
  },
  {
   "cell_type": "markdown",
   "metadata": {},
   "source": [
    "**Note:** But here we can actually see, that films have some common features according to the plot. As we can See, appart from the general articles(the, to, and) and ecs. we can observe that words such as Jedi and Anakin are frequently used in both films' articles. These words are very specific. I doubht that Taras Bulba or Daimajin, which were considered close to Star ars 1 at the beginning will have such words in the plot or their article."
   ]
  },
  {
   "cell_type": "markdown",
   "metadata": {},
   "source": [
    "**e)** Among the words that appear in both Star Wars 1 and Dune, take the 15 that appear most frequently in Obama. How many of the articles in the Wikipedia dataset contain all of those 15 words? Which are they?"
   ]
  },
  {
   "cell_type": "code",
   "execution_count": 121,
   "metadata": {
    "collapsed": false
   },
   "outputs": [
    {
     "name": "stdout",
     "output_type": "stream",
     "text": [
      "Number of articles containing all top common words: 13118\n"
     ]
    }
   ],
   "source": [
    "\n",
    "word_to_ind = {v: i for i, v in enumerate(vectorizer.get_feature_names_out())}\n",
    "\n",
    "\n",
    "common_words_df = star_wars1_words.join(dune_words, rsuffix=\"_Dune\").dropna()\n",
    "\n",
    "top_common_words = common_words_df.sort_values(by=\"count\", ascending=False).iloc[:15].index\n",
    "\n",
    "articles = [i for i, article in enumerate(WCmatrix) if all(article[:, word_to_ind[word]].todense().all() for word in top_common_words)]\n",
    "\n",
    "print(\"Number of articles containing all top common words:\", len(articles))"
   ]
  },
  {
   "cell_type": "markdown",
   "metadata": {},
   "source": [
    "**Notes:** Utilizing the `dropna` function, I removed all the missing values in the dataframe named `common_words_df`, which is generated by combining the word count information from both Star Wars 1 and Dune articles. Then I select 15 most common words, get the indices of articles where all these most common words appear and print out the count of articles containing all top common words."
   ]
  },
  {
   "cell_type": "markdown",
   "metadata": {},
   "source": [
    "**Notes:** And here we can observe that there are a lot of articles that contain these common words, because Dune and Star Wars 1 don't have any simularities according to the plot and their common words are very basic."
   ]
  },
  {
   "cell_type": "code",
   "execution_count": 122,
   "metadata": {
    "collapsed": false
   },
   "outputs": [
    {
     "data": {
      "text/plain": [
       "8                        The Little Train Robbery\n",
       "21                          The Fight for Freedom\n",
       "33                                         Ramona\n",
       "34                            What the Daisy Said\n",
       "37       The Black Arrow: A Tale of the Two Roses\n",
       "                           ...                   \n",
       "34875                Once Upon a Time in Anatolia\n",
       "34876                                       Selam\n",
       "34879                                Winter Sleep\n",
       "34881                           The Water Diviner\n",
       "34884                            Non-Transferable\n",
       "Name: Title, Length: 13118, dtype: object"
      ]
     },
     "execution_count": 122,
     "metadata": {},
     "output_type": "execute_result"
    }
   ],
   "source": [
    "wiki['Title'][articles]"
   ]
  },
  {
   "cell_type": "markdown",
   "metadata": {},
   "source": [
    "## Ex. 3: TF-IDF to the rescue"
   ]
  },
  {
   "cell_type": "markdown",
   "metadata": {},
   "source": [
    "**a)** Repeat the search for the 10 nearest neighbors of Star Wars 1 with Euclidean distance of TF-IDF. This time do not limit to only 10000 most frequent words, but take all of them."
   ]
  },
  {
   "cell_type": "code",
   "execution_count": 123,
   "metadata": {
    "collapsed": true
   },
   "outputs": [],
   "source": [
    "# We could use:\n",
    "    # from sklearn.feature_extraction.text import TfidfVectorizer\n",
    "# but since we already know how to compute CountVectorizer, let's use:\n",
    "from sklearn.feature_extraction.text import TfidfTransformer\n",
    "\n",
    "vectorizer = CountVectorizer(token_pattern=r\"(?u)\\b\\w+\\b\")\n",
    "WCmatrix=vectorizer.fit_transform(wiki[\"Plot\"])\n",
    "\n",
    "tfidf=TfidfTransformer(smooth_idf=False, norm=None)\n",
    "TFIDFmatrix = tfidf.fit_transform(WCmatrix)"
   ]
  },
  {
   "cell_type": "markdown",
   "metadata": {},
   "source": [
    "**Notes:** In this exercise, we are performing something very similar to what we did at the beginning of the assignment, but now we are using the `TfidfTransformer`. This function transforms a count matrix into a normalized term frequency (tf) or term frequency-inverse document frequency (tf-idf) representation. The smoothing of idf weights is achieved by adding one to document frequencies, as if an extra document were seen containing every term in the collection exactly once. The parameter `norm=None` indicates that we are keeping the raw term frequencies without normalization."
   ]
  },
  {
   "cell_type": "code",
   "execution_count": 124,
   "metadata": {
    "collapsed": false
   },
   "outputs": [
    {
     "data": {
      "text/html": [
       "<div>\n",
       "<style scoped>\n",
       "    .dataframe tbody tr th:only-of-type {\n",
       "        vertical-align: middle;\n",
       "    }\n",
       "\n",
       "    .dataframe tbody tr th {\n",
       "        vertical-align: top;\n",
       "    }\n",
       "\n",
       "    .dataframe thead th {\n",
       "        text-align: right;\n",
       "    }\n",
       "</style>\n",
       "<table border=\"1\" class=\"dataframe\">\n",
       "  <thead>\n",
       "    <tr style=\"text-align: right;\">\n",
       "      <th></th>\n",
       "      <th>Title</th>\n",
       "      <th>SW1-eucl-TF-IDF</th>\n",
       "    </tr>\n",
       "  </thead>\n",
       "  <tbody>\n",
       "    <tr>\n",
       "      <th>13553</th>\n",
       "      <td>Star Wars: Episode I – The Phantom Menace</td>\n",
       "      <td>0.000000</td>\n",
       "    </tr>\n",
       "    <tr>\n",
       "      <th>16378</th>\n",
       "      <td>Star Wars: Episode I – The Phantom Menace 3D</td>\n",
       "      <td>0.000000</td>\n",
       "    </tr>\n",
       "    <tr>\n",
       "      <th>14155</th>\n",
       "      <td>Star Wars: Episode II – Attack of the Clones</td>\n",
       "      <td>302.015440</td>\n",
       "    </tr>\n",
       "    <tr>\n",
       "      <th>34659</th>\n",
       "      <td>No Tears for the Dead</td>\n",
       "      <td>348.948891</td>\n",
       "    </tr>\n",
       "    <tr>\n",
       "      <th>34613</th>\n",
       "      <td>Tough as Iron</td>\n",
       "      <td>356.195910</td>\n",
       "    </tr>\n",
       "    <tr>\n",
       "      <th>28317</th>\n",
       "      <td>Puthiya Theerangal (പുതിയ തീരങ്ങൾ)</td>\n",
       "      <td>359.514513</td>\n",
       "    </tr>\n",
       "    <tr>\n",
       "      <th>29049</th>\n",
       "      <td>Manithan</td>\n",
       "      <td>359.514898</td>\n",
       "    </tr>\n",
       "    <tr>\n",
       "      <th>21801</th>\n",
       "      <td>Siege</td>\n",
       "      <td>359.632726</td>\n",
       "    </tr>\n",
       "    <tr>\n",
       "      <th>5138</th>\n",
       "      <td>House by the River</td>\n",
       "      <td>359.692031</td>\n",
       "    </tr>\n",
       "    <tr>\n",
       "      <th>31189</th>\n",
       "      <td>Onaayum Aattukkuttiyum</td>\n",
       "      <td>359.704100</td>\n",
       "    </tr>\n",
       "  </tbody>\n",
       "</table>\n",
       "</div>"
      ],
      "text/plain": [
       "                                              Title  SW1-eucl-TF-IDF\n",
       "13553     Star Wars: Episode I – The Phantom Menace         0.000000\n",
       "16378  Star Wars: Episode I – The Phantom Menace 3D         0.000000\n",
       "14155  Star Wars: Episode II – Attack of the Clones       302.015440\n",
       "34659                         No Tears for the Dead       348.948891\n",
       "34613                                 Tough as Iron       356.195910\n",
       "28317            Puthiya Theerangal (പുതിയ തീരങ്ങൾ)       359.514513\n",
       "29049                                      Manithan       359.514898\n",
       "21801                                         Siege       359.632726\n",
       "5138                             House by the River       359.692031\n",
       "31189                        Onaayum Aattukkuttiyum       359.704100"
      ]
     },
     "execution_count": 124,
     "metadata": {},
     "output_type": "execute_result"
    }
   ],
   "source": [
    "# now recompute the distances as before but for TF-IDF\n",
    "dist = pairwise_distances(TFIDFmatrix[wiki[wiki[\"Title\"] == \"Star Wars: Episode I – The Phantom Menace\"].index], TFIDFmatrix)\n",
    "\n",
    "wiki['SW1-eucl-TF-IDF'] = dist[0]\n",
    "wiki[['Title', 'SW1-eucl-TF-IDF']].sort_values(by='SW1-eucl-TF-IDF').iloc[:10]"
   ]
  },
  {
   "cell_type": "markdown",
   "metadata": {},
   "source": [
    "**Notes:** It's notable that the 10 nearest neighbors of Star Wars 1, calculated using Euclidean distance after applying TF-IDF, are entirely different and make more sense compared to the results obtained without TF-IDF."
   ]
  },
  {
   "cell_type": "markdown",
   "metadata": {},
   "source": [
    "**Notes:** Looking at the results I had to understand why No Tears for the Dead is considered close to Star Wars 1. Searching a Wikipedia I found a plot of this film. No Tears for the Dead is a 2014 South Korean action film written and directed by Lee Jeong-beom. The film revolves around a professional hitman who is conflicted about killing his last target. \n",
    "\n",
    "\n",
    "So I understood by reading this plot, that now the result makes much more sense."
   ]
  },
  {
   "cell_type": "markdown",
   "metadata": {},
   "source": [
    "**b)** Sort the words in Star Wars 1 article by their TF-IDF weights; do the same for No Tears for the Dead article as well.\n",
    "Using the **join** operation we learned earlier, compute the common words shared by Star Wars 1 and No Tears for the Dead articles.\n",
    "Sort the common words by their TF-IDF weights in Star Wars 1 document."
   ]
  },
  {
   "cell_type": "code",
   "execution_count": 125,
   "metadata": {
    "collapsed": true
   },
   "outputs": [],
   "source": [
    "def top_words_tf_idf(name):\n",
    "    \"\"\"\n",
    "    Get a table of the largest tf-idf words in the given person's Wikipedia page.\n",
    "    \"\"\"\n",
    "    words = wiki[wiki['Title'] == name]['Plot'].values[0].split()\n",
    "    ind = {v: i for i, v in enumerate(vectorizer.get_feature_names_out())}\n",
    "    words_weights = [TFIDFmatrix[wiki[wiki['Title'] == name].index][0, ind.get(word, -1)] for word in words]\n",
    "    \n",
    "    words_weights = [weight for weight in words_weights if weight != -1]\n",
    "    \n",
    "    df = pd.Series(words_weights, words).to_frame(\"tf-idf\")\n",
    "    df.drop_duplicates(inplace=True)\n",
    "    return df.sort_values(by='tf-idf', ascending=False)\n",
    "\n",
    "\n"
   ]
  },
  {
   "cell_type": "markdown",
   "metadata": {},
   "source": [
    "**Notes:** The `top_words_tf_idf` function simplifies the process of extracting and displaying words with the highest TF-IDF values from a given person's wiki page. It leverages scikit-learn's `TfidfTransformer` to calculate TF-IDF weights for each word, and then returns a table sorted by TF-IDF values in descending order. This function is useful for identifying the most distinctive and significant words associated with a particular individual within a broader text corpus."
   ]
  },
  {
   "cell_type": "code",
   "execution_count": 126,
   "metadata": {
    "collapsed": false,
    "jupyter": {
     "outputs_hidden": false
    }
   },
   "outputs": [
    {
     "data": {
      "text/html": [
       "<div>\n",
       "<style scoped>\n",
       "    .dataframe tbody tr th:only-of-type {\n",
       "        vertical-align: middle;\n",
       "    }\n",
       "\n",
       "    .dataframe tbody tr th {\n",
       "        vertical-align: top;\n",
       "    }\n",
       "\n",
       "    .dataframe thead th {\n",
       "        text-align: right;\n",
       "    }\n",
       "</style>\n",
       "<table border=\"1\" class=\"dataframe\">\n",
       "  <thead>\n",
       "    <tr style=\"text-align: right;\">\n",
       "      <th></th>\n",
       "      <th>tf-idf_Star_Wars1</th>\n",
       "      <th>tf-idf_Star_wars2</th>\n",
       "    </tr>\n",
       "  </thead>\n",
       "  <tbody>\n",
       "    <tr>\n",
       "      <th>droid</th>\n",
       "      <td>63.433619</td>\n",
       "      <td>27.185837</td>\n",
       "    </tr>\n",
       "    <tr>\n",
       "      <th>the</th>\n",
       "      <td>55.412983</td>\n",
       "      <td>30.784991</td>\n",
       "    </tr>\n",
       "    <tr>\n",
       "      <th>to</th>\n",
       "      <td>34.587003</td>\n",
       "      <td>26.202275</td>\n",
       "    </tr>\n",
       "    <tr>\n",
       "      <th>and</th>\n",
       "      <td>26.193253</td>\n",
       "      <td>23.050063</td>\n",
       "    </tr>\n",
       "    <tr>\n",
       "      <th>planet</th>\n",
       "      <td>21.678345</td>\n",
       "      <td>10.839172</td>\n",
       "    </tr>\n",
       "    <tr>\n",
       "      <th>a</th>\n",
       "      <td>20.506856</td>\n",
       "      <td>12.304114</td>\n",
       "    </tr>\n",
       "    <tr>\n",
       "      <th>battle</th>\n",
       "      <td>19.324782</td>\n",
       "      <td>19.324782</td>\n",
       "    </tr>\n",
       "    <tr>\n",
       "      <th>invasion</th>\n",
       "      <td>17.169806</td>\n",
       "      <td>5.723269</td>\n",
       "    </tr>\n",
       "    <tr>\n",
       "      <th>as</th>\n",
       "      <td>14.876319</td>\n",
       "      <td>5.409570</td>\n",
       "    </tr>\n",
       "    <tr>\n",
       "      <th>of</th>\n",
       "      <td>13.979121</td>\n",
       "      <td>8.602536</td>\n",
       "    </tr>\n",
       "    <tr>\n",
       "      <th>vote</th>\n",
       "      <td>12.522688</td>\n",
       "      <td>6.261344</td>\n",
       "    </tr>\n",
       "    <tr>\n",
       "      <th>in</th>\n",
       "      <td>11.921695</td>\n",
       "      <td>4.335162</td>\n",
       "    </tr>\n",
       "    <tr>\n",
       "      <th>army</th>\n",
       "      <td>11.195596</td>\n",
       "      <td>14.927461</td>\n",
       "    </tr>\n",
       "    <tr>\n",
       "      <th>is</th>\n",
       "      <td>9.905464</td>\n",
       "      <td>12.106678</td>\n",
       "    </tr>\n",
       "    <tr>\n",
       "      <th>against</th>\n",
       "      <td>8.481535</td>\n",
       "      <td>2.827178</td>\n",
       "    </tr>\n",
       "  </tbody>\n",
       "</table>\n",
       "</div>"
      ],
      "text/plain": [
       "          tf-idf_Star_Wars1  tf-idf_Star_wars2\n",
       "droid             63.433619          27.185837\n",
       "the               55.412983          30.784991\n",
       "to                34.587003          26.202275\n",
       "and               26.193253          23.050063\n",
       "planet            21.678345          10.839172\n",
       "a                 20.506856          12.304114\n",
       "battle            19.324782          19.324782\n",
       "invasion          17.169806           5.723269\n",
       "as                14.876319           5.409570\n",
       "of                13.979121           8.602536\n",
       "vote              12.522688           6.261344\n",
       "in                11.921695           4.335162\n",
       "army              11.195596          14.927461\n",
       "is                 9.905464          12.106678\n",
       "against            8.481535           2.827178"
      ]
     },
     "execution_count": 126,
     "metadata": {},
     "output_type": "execute_result"
    }
   ],
   "source": [
    "star_wars1_tf_idf = top_words_tf_idf('Star Wars: Episode I – The Phantom Menace')\n",
    "star_wars2_tf_idf = top_words_tf_idf('Star Wars: Episode II – Attack of the Clones')\n",
    "\n",
    "star_wars1_tf_idf.join(star_wars2_tf_idf, rsuffix=\"_Star_wars2\", lsuffix=\"_Star_Wars1\", how=\"inner\").head(15)"
   ]
  },
  {
   "cell_type": "markdown",
   "metadata": {},
   "source": [
    "**c)** Among the words that appear in both Star Wars 1 and No Tears for the Dead, take the 15 that have largest weights in Star Wars 1. How many of the articles in the Wikipedia dataset contain all of those 15 words? "
   ]
  },
  {
   "cell_type": "code",
   "execution_count": 127,
   "metadata": {
    "collapsed": false
   },
   "outputs": [
    {
     "name": "stdout",
     "output_type": "stream",
     "text": [
      "3\n"
     ]
    }
   ],
   "source": [
    "# It might be helpful to use:\n",
    "word_to_ind = {v: i for i, v in\n",
    "               enumerate(vectorizer.get_feature_names_out())}  # a dictionary with words as keys and indices as values\n",
    "\n",
    "star_wars_common = star_wars1_tf_idf.join(star_wars2_tf_idf, rsuffix=\"_Star_Wars2\", lsuffix=\"_Star_Wars1\", how=\"inner\").iloc[:15]\n",
    "\n",
    "articles = WCmatrix[:, [word_to_ind[word] for word in star_wars_common.index]]\n",
    "articles = [i for i, article in enumerate(articles) if article.todense().all()]\n",
    "print(len(articles))\n"
   ]
  },
  {
   "cell_type": "code",
   "execution_count": 128,
   "metadata": {
    "collapsed": false
   },
   "outputs": [
    {
     "data": {
      "text/plain": [
       "13553       Star Wars: Episode I – The Phantom Menace\n",
       "14155    Star Wars: Episode II – Attack of the Clones\n",
       "16378    Star Wars: Episode I – The Phantom Menace 3D\n",
       "Name: Title, dtype: object"
      ]
     },
     "execution_count": 128,
     "metadata": {},
     "output_type": "execute_result"
    }
   ],
   "source": [
    "wiki['Title'][articles]"
   ]
  },
  {
   "cell_type": "markdown",
   "metadata": {},
   "source": [
    "Notice the huge difference in this calculation using TF-IDF scores instead  of raw word counts. We've eliminated noise arising from extremely common words."
   ]
  },
  {
   "cell_type": "markdown",
   "metadata": {},
   "source": [
    "## Ex. 4: Choosing metrics"
   ]
  },
  {
   "cell_type": "markdown",
   "metadata": {},
   "source": [
    "**a)** Compute the Euclidean distance between TF-IDF features of Star Wars 1 and Return of the Jedi."
   ]
  },
  {
   "cell_type": "code",
   "execution_count": 129,
   "metadata": {
    "collapsed": false
   },
   "outputs": [
    {
     "name": "stdout",
     "output_type": "stream",
     "text": [
      "Star Wars 1 and Return of the Jedi distance: 424.09120035194485\n"
     ]
    }
   ],
   "source": [
    "dist = pairwise_distances(TFIDFmatrix[wiki[(wiki['Title'] == \"Star Wars: Episode I – The Phantom Menace\") | (wiki['Title'] == \"Return of the Jedi\")].index])\n",
    "print(\"Star Wars 1 and Return of the Jedi distance:\", dist[0, 1])"
   ]
  },
  {
   "cell_type": "markdown",
   "metadata": {},
   "source": [
    "**Notes:** I have calculated the pairwise distances between the TF-IDF vectors of Sttar Wars 1 and Return of the Jedi using the `pairwise_distances` function from `sklearn.metrics`. The distances are stored in the variable `dist`. The distance is then accessed using `dist[0, 1]` since they are the first and second elements in the selected rows."
   ]
  },
  {
   "cell_type": "markdown",
   "metadata": {},
   "source": [
    "The distance is larger than the distances we found for the 10 nearest neighbors, which we repeat here for readability:"
   ]
  },
  {
   "cell_type": "code",
   "execution_count": 130,
   "metadata": {
    "collapsed": false,
    "jupyter": {
     "outputs_hidden": false
    }
   },
   "outputs": [
    {
     "data": {
      "text/html": [
       "<div>\n",
       "<style scoped>\n",
       "    .dataframe tbody tr th:only-of-type {\n",
       "        vertical-align: middle;\n",
       "    }\n",
       "\n",
       "    .dataframe tbody tr th {\n",
       "        vertical-align: top;\n",
       "    }\n",
       "\n",
       "    .dataframe thead th {\n",
       "        text-align: right;\n",
       "    }\n",
       "</style>\n",
       "<table border=\"1\" class=\"dataframe\">\n",
       "  <thead>\n",
       "    <tr style=\"text-align: right;\">\n",
       "      <th></th>\n",
       "      <th>Title</th>\n",
       "      <th>SW1-eucl-TF-IDF</th>\n",
       "    </tr>\n",
       "  </thead>\n",
       "  <tbody>\n",
       "    <tr>\n",
       "      <th>13553</th>\n",
       "      <td>Star Wars: Episode I – The Phantom Menace</td>\n",
       "      <td>0.000000</td>\n",
       "    </tr>\n",
       "    <tr>\n",
       "      <th>16378</th>\n",
       "      <td>Star Wars: Episode I – The Phantom Menace 3D</td>\n",
       "      <td>0.000000</td>\n",
       "    </tr>\n",
       "    <tr>\n",
       "      <th>14155</th>\n",
       "      <td>Star Wars: Episode II – Attack of the Clones</td>\n",
       "      <td>302.015440</td>\n",
       "    </tr>\n",
       "    <tr>\n",
       "      <th>34659</th>\n",
       "      <td>No Tears for the Dead</td>\n",
       "      <td>348.948891</td>\n",
       "    </tr>\n",
       "    <tr>\n",
       "      <th>34613</th>\n",
       "      <td>Tough as Iron</td>\n",
       "      <td>356.195910</td>\n",
       "    </tr>\n",
       "    <tr>\n",
       "      <th>28317</th>\n",
       "      <td>Puthiya Theerangal (പുതിയ തീരങ്ങൾ)</td>\n",
       "      <td>359.514513</td>\n",
       "    </tr>\n",
       "    <tr>\n",
       "      <th>29049</th>\n",
       "      <td>Manithan</td>\n",
       "      <td>359.514898</td>\n",
       "    </tr>\n",
       "    <tr>\n",
       "      <th>21801</th>\n",
       "      <td>Siege</td>\n",
       "      <td>359.632726</td>\n",
       "    </tr>\n",
       "    <tr>\n",
       "      <th>5138</th>\n",
       "      <td>House by the River</td>\n",
       "      <td>359.692031</td>\n",
       "    </tr>\n",
       "    <tr>\n",
       "      <th>31189</th>\n",
       "      <td>Onaayum Aattukkuttiyum</td>\n",
       "      <td>359.704100</td>\n",
       "    </tr>\n",
       "  </tbody>\n",
       "</table>\n",
       "</div>"
      ],
      "text/plain": [
       "                                              Title  SW1-eucl-TF-IDF\n",
       "13553     Star Wars: Episode I – The Phantom Menace         0.000000\n",
       "16378  Star Wars: Episode I – The Phantom Menace 3D         0.000000\n",
       "14155  Star Wars: Episode II – Attack of the Clones       302.015440\n",
       "34659                         No Tears for the Dead       348.948891\n",
       "34613                                 Tough as Iron       356.195910\n",
       "28317            Puthiya Theerangal (പുതിയ തീരങ്ങൾ)       359.514513\n",
       "29049                                      Manithan       359.514898\n",
       "21801                                         Siege       359.632726\n",
       "5138                             House by the River       359.692031\n",
       "31189                        Onaayum Aattukkuttiyum       359.704100"
      ]
     },
     "execution_count": 130,
     "metadata": {},
     "output_type": "execute_result"
    }
   ],
   "source": [
    "wiki.sort_values(by='SW1-eucl-TF-IDF',ascending=True)[['Title','SW1-eucl-TF-IDF']][0:10]"
   ]
  },
  {
   "cell_type": "markdown",
   "metadata": {},
   "source": [
    "**b)** Let us compute the length of each Wikipedia document, and examine the document lengths for the 100 nearest neighbors to Star Wars 1 page. To compute text length use the same splitting rules you used in `vectorizer`."
   ]
  },
  {
   "cell_type": "code",
   "execution_count": 131,
   "metadata": {
    "collapsed": false,
    "jupyter": {
     "outputs_hidden": false
    }
   },
   "outputs": [],
   "source": [
    "tokenizer = CountVectorizer(token_pattern=r\"(?u)\\b\\w+\\b\")\n",
    "WCmatrix = vectorizer.fit_transform(wiki[\"Plot\"])\n",
    "\n",
    "\n",
    "tokenizer = vectorizer.build_tokenizer()\n",
    "\n",
    "def compute_length(row):\n",
    "# Here we could use simply:\n",
    "#     return len(row['text'].split(' '))\n",
    "    return len(tokenizer(row['Plot']))\n",
    "\n",
    "wiki['length'] = wiki['Plot'].apply(lambda x: len(tokenizer(x)))"
   ]
  },
  {
   "cell_type": "markdown",
   "metadata": {},
   "source": [
    "**Notes:** I have created a `CountVectorizer` named `vectorizer` with the specified `token_pattern`. Then, I used this vectorizer to fit and transform the \"text\" column of the wiki ddf, obtaining the word count matrix (`WCmatrix`).\n",
    "\n",
    "\n",
    "Afterwards, I have created a custom tokenizer by calling `build_tokenizer()` on the `vectorizer`. This custom tokenizer is assigned to the variable `tokenizer`.\n",
    "\n",
    "Finally, I define a function `compute_length` that takes a row of the wiki df, extracts the text column from that row, and applies the custom tokenizer to calculate the length of the tokenized text. The result is stored in a new column named length in the wiki df using the `apply` function."
   ]
  },
  {
   "cell_type": "code",
   "execution_count": 132,
   "metadata": {
    "collapsed": false,
    "jupyter": {
     "outputs_hidden": false
    }
   },
   "outputs": [
    {
     "data": {
      "text/html": [
       "<div>\n",
       "<style scoped>\n",
       "    .dataframe tbody tr th:only-of-type {\n",
       "        vertical-align: middle;\n",
       "    }\n",
       "\n",
       "    .dataframe tbody tr th {\n",
       "        vertical-align: top;\n",
       "    }\n",
       "\n",
       "    .dataframe thead th {\n",
       "        text-align: right;\n",
       "    }\n",
       "</style>\n",
       "<table border=\"1\" class=\"dataframe\">\n",
       "  <thead>\n",
       "    <tr style=\"text-align: right;\">\n",
       "      <th></th>\n",
       "      <th>Title</th>\n",
       "      <th>length</th>\n",
       "      <th>SW1-eucl-TF-IDF</th>\n",
       "    </tr>\n",
       "  </thead>\n",
       "  <tbody>\n",
       "    <tr>\n",
       "      <th>13553</th>\n",
       "      <td>Star Wars: Episode I – The Phantom Menace</td>\n",
       "      <td>699</td>\n",
       "      <td>0.000000</td>\n",
       "    </tr>\n",
       "    <tr>\n",
       "      <th>16378</th>\n",
       "      <td>Star Wars: Episode I – The Phantom Menace 3D</td>\n",
       "      <td>699</td>\n",
       "      <td>0.000000</td>\n",
       "    </tr>\n",
       "    <tr>\n",
       "      <th>14155</th>\n",
       "      <td>Star Wars: Episode II – Attack of the Clones</td>\n",
       "      <td>527</td>\n",
       "      <td>302.015440</td>\n",
       "    </tr>\n",
       "    <tr>\n",
       "      <th>34659</th>\n",
       "      <td>No Tears for the Dead</td>\n",
       "      <td>205</td>\n",
       "      <td>348.948891</td>\n",
       "    </tr>\n",
       "    <tr>\n",
       "      <th>34613</th>\n",
       "      <td>Tough as Iron</td>\n",
       "      <td>189</td>\n",
       "      <td>356.195910</td>\n",
       "    </tr>\n",
       "    <tr>\n",
       "      <th>...</th>\n",
       "      <td>...</td>\n",
       "      <td>...</td>\n",
       "      <td>...</td>\n",
       "    </tr>\n",
       "    <tr>\n",
       "      <th>18846</th>\n",
       "      <td>The Weaker Sex</td>\n",
       "      <td>96</td>\n",
       "      <td>360.439189</td>\n",
       "    </tr>\n",
       "    <tr>\n",
       "      <th>29306</th>\n",
       "      <td>Ratha Thilagam</td>\n",
       "      <td>42</td>\n",
       "      <td>360.441760</td>\n",
       "    </tr>\n",
       "    <tr>\n",
       "      <th>27303</th>\n",
       "      <td>Magic Ajji</td>\n",
       "      <td>120</td>\n",
       "      <td>360.441902</td>\n",
       "    </tr>\n",
       "    <tr>\n",
       "      <th>5512</th>\n",
       "      <td>Submarine Command</td>\n",
       "      <td>91</td>\n",
       "      <td>360.442082</td>\n",
       "    </tr>\n",
       "    <tr>\n",
       "      <th>7595</th>\n",
       "      <td>Five Finger Exercise</td>\n",
       "      <td>51</td>\n",
       "      <td>360.446443</td>\n",
       "    </tr>\n",
       "  </tbody>\n",
       "</table>\n",
       "<p>100 rows × 3 columns</p>\n",
       "</div>"
      ],
      "text/plain": [
       "                                              Title  length  SW1-eucl-TF-IDF\n",
       "13553     Star Wars: Episode I – The Phantom Menace     699         0.000000\n",
       "16378  Star Wars: Episode I – The Phantom Menace 3D     699         0.000000\n",
       "14155  Star Wars: Episode II – Attack of the Clones     527       302.015440\n",
       "34659                         No Tears for the Dead     205       348.948891\n",
       "34613                                 Tough as Iron     189       356.195910\n",
       "...                                             ...     ...              ...\n",
       "18846                                The Weaker Sex      96       360.439189\n",
       "29306                                Ratha Thilagam      42       360.441760\n",
       "27303                                    Magic Ajji     120       360.441902\n",
       "5512                              Submarine Command      91       360.442082\n",
       "7595                           Five Finger Exercise      51       360.446443\n",
       "\n",
       "[100 rows x 3 columns]"
      ]
     },
     "execution_count": 132,
     "metadata": {},
     "output_type": "execute_result"
    }
   ],
   "source": [
    "nearest_neighbors_euclidean = wiki.sort_values(by='SW1-eucl-TF-IDF',ascending=True)[['Title','length', 'SW1-eucl-TF-IDF']][0:100]\n",
    "nearest_neighbors_euclidean"
   ]
  },
  {
   "cell_type": "markdown",
   "metadata": {},
   "source": [
    "**Notes:** The code finds the 100 nearest neighbors to Star Wars 1 based on Euclidean distance using TF-IDF representation and creates a dataframe `nearest_neighbors_euclidean` with columns for name, length, and distance."
   ]
  },
  {
   "cell_type": "markdown",
   "metadata": {},
   "source": [
    "**c)** To see how these document lengths compare to the lengths of other documents in the corpus, make a histogram of the document lengths of Star Wars 1 100 nearest neighbors and compare to a histogram of document lengths for all documents."
   ]
  },
  {
   "cell_type": "code",
   "execution_count": 66,
   "metadata": {
    "collapsed": false,
    "jupyter": {
     "outputs_hidden": false
    }
   },
   "outputs": [
    {
     "data": {
      "image/png": "[encoded data removed]",
      "text/plain": [
       "<Figure size 1050x450 with 1 Axes>"
      ]
     },
     "metadata": {},
     "output_type": "display_data"
    }
   ],
   "source": [
    "plt.figure(figsize=(10.5,4.5))\n",
    "plt.hist(wiki.length, range=[0, 1000], density=True, color='black', label='Entire Wikipedia')\n",
    "plt.hist(nearest_neighbors_euclidean.length, bins=50, alpha=0.5, density=True, color='red', label='100 NNs of Star Wars 1 (Euclidean)')\n",
    "plt.axvline(wiki[wiki[\"Title\"] == \"Star Wars: Episode I – The Phantom Menace\"].length.values[0], label='Star Wars: Episode I – The Phantom Menace', color='black', linestyle='--', linewidth=3.2)\n",
    "plt.axvline(wiki[wiki[\"Title\"] == \"Return of the Jedi\"].length.values[0], label='Return of the Jedi', color='green', linestyle='--', linewidth=3.2)\n",
    "\n",
    "plt.xlabel(\"# of words\")\n",
    "plt.ylabel(\"Percentage\")\n",
    "plt.yticks(np.arange(0.00, 0.040001, 0.01))\n",
    "plt.legend()\n",
    "plt.tight_layout()\n"
   ]
  },
  {
   "cell_type": "markdown",
   "metadata": {},
   "source": [
    "**Notes:** I used Matplotlib to create a histogram comparing the document lengths of the entire Wikipedia corpus, the 100 nearest neighbors to Star Wars 1 based on Euclidean distance, and specific lengths for Star Wars 1 and Return of the Jedi. It visualizes the distribution of document lengths, highlighting the positions of Star Wars 1 and Return of the Jedi in the histogram. The vertical dashed lines represent the lengths of Star Wars 1 and Return of the Jedi documents, and the histograms provide insights into the word count distribution across the different datasets."
   ]
  },
  {
   "cell_type": "markdown",
   "metadata": {},
   "source": [
    "**Notes** Relative to the rest of Wikipedia, nearest neighbors of Star Wars 1 are overwhemingly short, most of them being shorter than 200 words. The bias towards short articles is not appropriate in this application as there is really no reason to favor short articles over long articles (they are all Wikipedia articles, after all). Many of the Wikipedia articles are 400 words or more, and both Star Wars 1 and Return of the Jedi are over 600 words long.\n"
   ]
  },
  {
   "cell_type": "markdown",
   "metadata": {},
   "source": [
    "**Note:** Both word-count features and TF-IDF are proportional to word frequencies. While TF-IDF penalizes very common words, longer articles tend to have longer TF-IDF vectors simply because they have more words in them."
   ]
  },
  {
   "cell_type": "markdown",
   "metadata": {},
   "source": [
    "To remove this bias, we turn to **cosine distances**:\n",
    "$$\n",
    "d(\\mathbf{x},\\mathbf{y}) = 1 - \\frac{\\mathbf{x}^T\\mathbf{y}}{\\|\\mathbf{x}\\| \\|\\mathbf{y}\\|}\n",
    "$$\n",
    "Cosine distances let us compare word distributions of two articles of varying lengths."
   ]
  },
  {
   "cell_type": "markdown",
   "metadata": {},
   "source": [
    "**d)** Train a new nearest neighbor model, this time with cosine distances.  Then repeat the search for Star Wars 1 100 nearest neighbors and make a plot to better visualize the effect of having used cosine distance in place of Euclidean on our TF-IDF vectors."
   ]
  },
  {
   "cell_type": "code",
   "execution_count": 60,
   "metadata": {
    "collapsed": false,
    "jupyter": {
     "outputs_hidden": false
    }
   },
   "outputs": [
    {
     "data": {
      "text/html": [
       "<div>\n",
       "<style scoped>\n",
       "    .dataframe tbody tr th:only-of-type {\n",
       "        vertical-align: middle;\n",
       "    }\n",
       "\n",
       "    .dataframe tbody tr th {\n",
       "        vertical-align: top;\n",
       "    }\n",
       "\n",
       "    .dataframe thead th {\n",
       "        text-align: right;\n",
       "    }\n",
       "</style>\n",
       "<table border=\"1\" class=\"dataframe\">\n",
       "  <thead>\n",
       "    <tr style=\"text-align: right;\">\n",
       "      <th></th>\n",
       "      <th>Title</th>\n",
       "      <th>length</th>\n",
       "      <th>SW1-cosine-TF-IDF</th>\n",
       "    </tr>\n",
       "  </thead>\n",
       "  <tbody>\n",
       "    <tr>\n",
       "      <th>13553</th>\n",
       "      <td>Star Wars: Episode I – The Phantom Menace</td>\n",
       "      <td>699</td>\n",
       "      <td>0.000000</td>\n",
       "    </tr>\n",
       "    <tr>\n",
       "      <th>16378</th>\n",
       "      <td>Star Wars: Episode I – The Phantom Menace 3D</td>\n",
       "      <td>699</td>\n",
       "      <td>0.000000</td>\n",
       "    </tr>\n",
       "    <tr>\n",
       "      <th>14155</th>\n",
       "      <td>Star Wars: Episode II – Attack of the Clones</td>\n",
       "      <td>527</td>\n",
       "      <td>0.429094</td>\n",
       "    </tr>\n",
       "    <tr>\n",
       "      <th>14765</th>\n",
       "      <td>Star Wars: Episode III – Revenge of the Sith</td>\n",
       "      <td>615</td>\n",
       "      <td>0.552560</td>\n",
       "    </tr>\n",
       "    <tr>\n",
       "      <th>15534</th>\n",
       "      <td>Star Wars: The Clone Wars</td>\n",
       "      <td>502</td>\n",
       "      <td>0.596957</td>\n",
       "    </tr>\n",
       "    <tr>\n",
       "      <th>...</th>\n",
       "      <td>...</td>\n",
       "      <td>...</td>\n",
       "      <td>...</td>\n",
       "    </tr>\n",
       "    <tr>\n",
       "      <th>14848</th>\n",
       "      <td>The Breed</td>\n",
       "      <td>849</td>\n",
       "      <td>0.882990</td>\n",
       "    </tr>\n",
       "    <tr>\n",
       "      <th>26397</th>\n",
       "      <td>Rang De Basanti</td>\n",
       "      <td>965</td>\n",
       "      <td>0.883118</td>\n",
       "    </tr>\n",
       "    <tr>\n",
       "      <th>11012</th>\n",
       "      <td>Miracle Mile</td>\n",
       "      <td>738</td>\n",
       "      <td>0.883336</td>\n",
       "    </tr>\n",
       "    <tr>\n",
       "      <th>26437</th>\n",
       "      <td>Dus Kahaniyaan</td>\n",
       "      <td>1783</td>\n",
       "      <td>0.883343</td>\n",
       "    </tr>\n",
       "    <tr>\n",
       "      <th>8705</th>\n",
       "      <td>The Night God Screamed</td>\n",
       "      <td>2190</td>\n",
       "      <td>0.883439</td>\n",
       "    </tr>\n",
       "  </tbody>\n",
       "</table>\n",
       "<p>100 rows × 3 columns</p>\n",
       "</div>"
      ],
      "text/plain": [
       "                                              Title  length  SW1-cosine-TF-IDF\n",
       "13553     Star Wars: Episode I – The Phantom Menace     699           0.000000\n",
       "16378  Star Wars: Episode I – The Phantom Menace 3D     699           0.000000\n",
       "14155  Star Wars: Episode II – Attack of the Clones     527           0.429094\n",
       "14765  Star Wars: Episode III – Revenge of the Sith     615           0.552560\n",
       "15534                     Star Wars: The Clone Wars     502           0.596957\n",
       "...                                             ...     ...                ...\n",
       "14848                                     The Breed     849           0.882990\n",
       "26397                               Rang De Basanti     965           0.883118\n",
       "11012                                  Miracle Mile     738           0.883336\n",
       "26437                                Dus Kahaniyaan    1783           0.883343\n",
       "8705                         The Night God Screamed    2190           0.883439\n",
       "\n",
       "[100 rows x 3 columns]"
      ]
     },
     "execution_count": 60,
     "metadata": {},
     "output_type": "execute_result"
    }
   ],
   "source": [
    "\n",
    "dist_cosine = pairwise_distances(TFIDFmatrix[wiki[wiki[\"Title\"] == 'Star Wars: Episode I – The Phantom Menace'].index],TFIDFmatrix, metric=\"cosine\")\n",
    "wiki[\"SW1-cosine-TF-IDF\"] = dist_cosine.T\n",
    "nearest_neighbors_cosine = wiki.sort_values(by='SW1-cosine-TF-IDF', ascending=True)[['Title', 'length', 'SW1-cosine-TF-IDF']][:100]\n",
    "\n",
    "\n",
    "nearest_neighbors_cosine"
   ]
  },
  {
   "cell_type": "markdown",
   "metadata": {},
   "source": [
    "From a glance at the above table, things look better.  For example, we now see Return of the Jedi as Star Wars 1 nearest neighbor"
   ]
  },
  {
   "cell_type": "code",
   "execution_count": 61,
   "metadata": {
    "collapsed": false,
    "jupyter": {
     "outputs_hidden": false
    }
   },
   "outputs": [
    {
     "data": {
      "image/png": "[encoded data removed]",
      "text/plain": [
       "<Figure size 1050x450 with 1 Axes>"
      ]
     },
     "metadata": {},
     "output_type": "display_data"
    }
   ],
   "source": [
    "plt.figure(figsize=(10.5,4.5))\n",
    "plt.hist(wiki.length, range=[0, 1000], density=True, color='black', label='Entire Wikipedia')\n",
    "plt.hist(nearest_neighbors_euclidean.length, bins=50, alpha=0.7, density=True, color='red', label='100 NNs of Star Wars 1 (Euclidean)')\n",
    "plt.hist(nearest_neighbors_cosine.length, bins=50, alpha=0.7, density=True, color='blue', label='100 NNs of Star Wars 1 (cosine)')\n",
    "plt.axvline(wiki[wiki[\"Title\"] == \"Star Wars: Episode I – The Phantom Menace\"].length.values[0], label='Star Wars: Episode I – The Phantom Menace', color='black', linestyle='--', linewidth=3.2)\n",
    "plt.axvline(wiki[wiki[\"Title\"] == \"Return of the Jedi\"].length.values[0], label='Return of the Jedi', color='green', linestyle='--', linewidth=3.2)\n",
    "\n",
    "plt.xlabel(\"# of words\")\n",
    "plt.ylabel(\"Percentage\")\n",
    "plt.yticks(np.arange(0.00, 0.040001, 0.01))\n",
    "plt.xlim([0, 1000])\n",
    "plt.legend()\n",
    "plt.tight_layout()"
   ]
  },
  {
   "cell_type": "markdown",
   "metadata": {},
   "source": [
    "**Notes:** I used Matplotlib to create a histogram comparing the document lengths of the entire Wikipedia corpus, the 100 nearest neighbors to Star Wars 1 based on Euclidean distance, and the 100 nearest neighbors based on cosine similarity. It visualizes the distribution of document lengths for these datasets, highlighting the positions of Star Wars 1 and Return of the Jedi with vertical dashed lines. The histograms provide insights into the word count distribution across different distance metrics, allowing for a comparison of document length distributions."
   ]
  },
  {
   "cell_type": "markdown",
   "metadata": {},
   "source": [
    "Indeed, the 100 nearest neighbors using cosine distance provide a sampling across the range of document lengths, rather than just short articles like Euclidean distance provided."
   ]
  },
  {
   "cell_type": "markdown",
   "metadata": {},
   "source": [
    "**Moral of the story**: In deciding the features and distance measures, check if they produce results that make sense for your particular application."
   ]
  },
  {
   "cell_type": "markdown",
   "metadata": {},
   "source": [
    "## Ex. 5: Problem with cosine distances: tweets vs. long articles"
   ]
  },
  {
   "cell_type": "markdown",
   "metadata": {},
   "source": [
    "Happily ever after? Not so fast. Cosine distances ignore all document lengths, which may be great in certain situations but not in others. For instance, consider the following (admittedly contrived) example."
   ]
  },
  {
   "cell_type": "markdown",
   "metadata": {},
   "source": [
    "```\n",
    "+--------------------------------------------------------+\n",
    "|                                             +--------+ |\n",
    "|  One that shall not be named                | Follow | |\n",
    "|  @username                                  +--------+ |\n",
    "|                                                        |\n",
    "|  Democratic governments control law in response to     |\n",
    "|  popular act.                                          |\n",
    "|                                                        |\n",
    "|  8:05 AM - 16 May 2016                                 |\n",
    "|                                                        |\n",
    "|  Reply   Retweet (1,332)   Like (300)                  |\n",
    "|                                                        |\n",
    "+--------------------------------------------------------+\n",
    "```"
   ]
  },
  {
   "cell_type": "markdown",
   "metadata": {},
   "source": [
    "**a)** Transform the tweet into TF-IDF features, using the fit to the Wikipedia dataset. (That is, let's treat this tweet as an article in our Wikipedia dataset and see what happens.) How similar is this tweet to Star Wars 1 Wikipedia article? "
   ]
  },
  {
   "cell_type": "code",
   "execution_count": 62,
   "metadata": {
    "collapsed": false
   },
   "outputs": [
    {
     "data": {
      "text/html": [
       "<div>\n",
       "<style scoped>\n",
       "    .dataframe tbody tr th:only-of-type {\n",
       "        vertical-align: middle;\n",
       "    }\n",
       "\n",
       "    .dataframe tbody tr th {\n",
       "        vertical-align: top;\n",
       "    }\n",
       "\n",
       "    .dataframe thead th {\n",
       "        text-align: right;\n",
       "    }\n",
       "</style>\n",
       "<table border=\"1\" class=\"dataframe\">\n",
       "  <thead>\n",
       "    <tr style=\"text-align: right;\">\n",
       "      <th></th>\n",
       "      <th>count</th>\n",
       "      <th>tf_idf</th>\n",
       "    </tr>\n",
       "  </thead>\n",
       "  <tbody>\n",
       "    <tr>\n",
       "      <th>star</th>\n",
       "      <td>1</td>\n",
       "      <td>4.144622</td>\n",
       "    </tr>\n",
       "    <tr>\n",
       "      <th>wars</th>\n",
       "      <td>1</td>\n",
       "      <td>6.768493</td>\n",
       "    </tr>\n",
       "    <tr>\n",
       "      <th>is</th>\n",
       "      <td>1</td>\n",
       "      <td>1.100607</td>\n",
       "    </tr>\n",
       "    <tr>\n",
       "      <th>space</th>\n",
       "      <td>1</td>\n",
       "      <td>4.955553</td>\n",
       "    </tr>\n",
       "    <tr>\n",
       "      <th>opera</th>\n",
       "      <td>1</td>\n",
       "      <td>5.922507</td>\n",
       "    </tr>\n",
       "    <tr>\n",
       "      <th>franchise</th>\n",
       "      <td>1</td>\n",
       "      <td>7.722171</td>\n",
       "    </tr>\n",
       "    <tr>\n",
       "      <th>the</th>\n",
       "      <td>3</td>\n",
       "      <td>3.078499</td>\n",
       "    </tr>\n",
       "    <tr>\n",
       "      <th>saga</th>\n",
       "      <td>1</td>\n",
       "      <td>7.933480</td>\n",
       "    </tr>\n",
       "    <tr>\n",
       "      <th>explores</th>\n",
       "      <td>1</td>\n",
       "      <td>6.341847</td>\n",
       "    </tr>\n",
       "    <tr>\n",
       "      <th>the</th>\n",
       "      <td>3</td>\n",
       "      <td>3.078499</td>\n",
       "    </tr>\n",
       "    <tr>\n",
       "      <th>galaxy</th>\n",
       "      <td>1</td>\n",
       "      <td>7.169381</td>\n",
       "    </tr>\n",
       "    <tr>\n",
       "      <th>where</th>\n",
       "      <td>1</td>\n",
       "      <td>2.016011</td>\n",
       "    </tr>\n",
       "    <tr>\n",
       "      <th>the</th>\n",
       "      <td>3</td>\n",
       "      <td>3.078499</td>\n",
       "    </tr>\n",
       "    <tr>\n",
       "      <th>jedi</th>\n",
       "      <td>1</td>\n",
       "      <td>8.820784</td>\n",
       "    </tr>\n",
       "    <tr>\n",
       "      <th>and</th>\n",
       "      <td>1</td>\n",
       "      <td>1.047730</td>\n",
       "    </tr>\n",
       "    <tr>\n",
       "      <th>sith</th>\n",
       "      <td>1</td>\n",
       "      <td>9.380399</td>\n",
       "    </tr>\n",
       "    <tr>\n",
       "      <th>engage</th>\n",
       "      <td>1</td>\n",
       "      <td>5.300745</td>\n",
       "    </tr>\n",
       "    <tr>\n",
       "      <th>in</th>\n",
       "      <td>1</td>\n",
       "      <td>1.083790</td>\n",
       "    </tr>\n",
       "    <tr>\n",
       "      <th>epic</th>\n",
       "      <td>1</td>\n",
       "      <td>7.300958</td>\n",
       "    </tr>\n",
       "    <tr>\n",
       "      <th>battles</th>\n",
       "      <td>1</td>\n",
       "      <td>5.868854</td>\n",
       "    </tr>\n",
       "  </tbody>\n",
       "</table>\n",
       "</div>"
      ],
      "text/plain": [
       "           count    tf_idf\n",
       "star           1  4.144622\n",
       "wars           1  6.768493\n",
       "is             1  1.100607\n",
       "space          1  4.955553\n",
       "opera          1  5.922507\n",
       "franchise      1  7.722171\n",
       "the            3  3.078499\n",
       "saga           1  7.933480\n",
       "explores       1  6.341847\n",
       "the            3  3.078499\n",
       "galaxy         1  7.169381\n",
       "where          1  2.016011\n",
       "the            3  3.078499\n",
       "jedi           1  8.820784\n",
       "and            1  1.047730\n",
       "sith           1  9.380399\n",
       "engage         1  5.300745\n",
       "in             1  1.083790\n",
       "epic           1  7.300958\n",
       "battles        1  5.868854"
      ]
     },
     "execution_count": 62,
     "metadata": {},
     "output_type": "execute_result"
    }
   ],
   "source": [
    "df = pd.DataFrame({'Plot': [\"star wars is space opera franchise the saga explores the galaxy where the jedi and sith engage in epic battles\"]})\n",
    "\n",
    "tfidfd = tfidf.transform(vectorizer.transform(df[\"Plot\"]))\n",
    "\n",
    "def top_words_tf_idf(df):\n",
    "    words = df['Plot'].values[0].split()\n",
    "    ind = {v : i for i, v in enumerate(vectorizer.get_feature_names_out())}\n",
    "    words_weigths = [tfidfd[0, ind[word]] for word in words]\n",
    "    words_count = [words.count(word) for word in words]\n",
    "    data = {\"count\" : words_count, \"tf_idf\" : words_weigths}\n",
    "    df = pd.DataFrame(data, index=words)\n",
    "    return df\n",
    "top_words_tf_idf(df)"
   ]
  },
  {
   "cell_type": "markdown",
   "metadata": {},
   "source": [
    "Let's compare this tweet's TF-IDF vectors  to Star Wars 1 Wikipedia entry."
   ]
  },
  {
   "cell_type": "code",
   "execution_count": 63,
   "metadata": {
    "collapsed": false,
    "jupyter": {
     "outputs_hidden": false
    }
   },
   "outputs": [
    {
     "data": {
      "text/html": [
       "<div>\n",
       "<style scoped>\n",
       "    .dataframe tbody tr th:only-of-type {\n",
       "        vertical-align: middle;\n",
       "    }\n",
       "\n",
       "    .dataframe tbody tr th {\n",
       "        vertical-align: top;\n",
       "    }\n",
       "\n",
       "    .dataframe thead th {\n",
       "        text-align: right;\n",
       "    }\n",
       "</style>\n",
       "<table border=\"1\" class=\"dataframe\">\n",
       "  <thead>\n",
       "    <tr style=\"text-align: right;\">\n",
       "      <th></th>\n",
       "      <th>tf-idf</th>\n",
       "    </tr>\n",
       "  </thead>\n",
       "  <tbody>\n",
       "    <tr>\n",
       "      <th>droid</th>\n",
       "      <td>63.433619</td>\n",
       "    </tr>\n",
       "    <tr>\n",
       "      <th>the</th>\n",
       "      <td>55.412983</td>\n",
       "    </tr>\n",
       "    <tr>\n",
       "      <th>to</th>\n",
       "      <td>34.587003</td>\n",
       "    </tr>\n",
       "    <tr>\n",
       "      <th>starship</th>\n",
       "      <td>33.127148</td>\n",
       "    </tr>\n",
       "    <tr>\n",
       "      <th>chancellor</th>\n",
       "      <td>31.083846</td>\n",
       "    </tr>\n",
       "    <tr>\n",
       "      <th>...</th>\n",
       "      <td>...</td>\n",
       "    </tr>\n",
       "    <tr>\n",
       "      <th>which</th>\n",
       "      <td>1.888545</td>\n",
       "    </tr>\n",
       "    <tr>\n",
       "      <th>them</th>\n",
       "      <td>1.814024</td>\n",
       "    </tr>\n",
       "    <tr>\n",
       "      <th>up</th>\n",
       "      <td>1.718696</td>\n",
       "    </tr>\n",
       "    <tr>\n",
       "      <th>has</th>\n",
       "      <td>1.480968</td>\n",
       "    </tr>\n",
       "    <tr>\n",
       "      <th>The</th>\n",
       "      <td>0.000000</td>\n",
       "    </tr>\n",
       "  </tbody>\n",
       "</table>\n",
       "<p>194 rows × 1 columns</p>\n",
       "</div>"
      ],
      "text/plain": [
       "               tf-idf\n",
       "droid       63.433619\n",
       "the         55.412983\n",
       "to          34.587003\n",
       "starship    33.127148\n",
       "chancellor  31.083846\n",
       "...               ...\n",
       "which        1.888545\n",
       "them         1.814024\n",
       "up           1.718696\n",
       "has          1.480968\n",
       "The          0.000000\n",
       "\n",
       "[194 rows x 1 columns]"
      ]
     },
     "execution_count": 63,
     "metadata": {},
     "output_type": "execute_result"
    }
   ],
   "source": [
    "star_wars1_tf_idf"
   ]
  },
  {
   "cell_type": "markdown",
   "metadata": {},
   "source": [
    "**b)** Now, compute the cosine distance between the Star Wars 1 article and this tweet:"
   ]
  },
  {
   "cell_type": "code",
   "execution_count": 64,
   "metadata": {
    "collapsed": false,
    "jupyter": {
     "outputs_hidden": false
    }
   },
   "outputs": [
    {
     "data": {
      "text/plain": [
       "array([[0.85966996]])"
      ]
     },
     "execution_count": 64,
     "metadata": {},
     "output_type": "execute_result"
    }
   ],
   "source": [
    "from sklearn.metrics.pairwise import cosine_distances # for one pair of samples we can just use this function\n",
    "\n",
    "# Your code goes here\n",
    "cosine_distances(TFIDFmatrix[wiki[wiki[\"Title\"] == \"Star Wars: Episode I – The Phantom Menace\"].index], tfidfd)"
   ]
  },
  {
   "cell_type": "markdown",
   "metadata": {},
   "source": [
    "Let's compare this distance to the distance between the Star Wars 1 article and all of its Wikipedia nearest neighbors:"
   ]
  },
  {
   "cell_type": "code",
   "execution_count": 65,
   "metadata": {
    "collapsed": false,
    "jupyter": {
     "outputs_hidden": false
    }
   },
   "outputs": [
    {
     "data": {
      "text/html": [
       "<div>\n",
       "<style scoped>\n",
       "    .dataframe tbody tr th:only-of-type {\n",
       "        vertical-align: middle;\n",
       "    }\n",
       "\n",
       "    .dataframe tbody tr th {\n",
       "        vertical-align: top;\n",
       "    }\n",
       "\n",
       "    .dataframe thead th {\n",
       "        text-align: right;\n",
       "    }\n",
       "</style>\n",
       "<table border=\"1\" class=\"dataframe\">\n",
       "  <thead>\n",
       "    <tr style=\"text-align: right;\">\n",
       "      <th></th>\n",
       "      <th>Title</th>\n",
       "      <th>length</th>\n",
       "      <th>SW1-cosine-TF-IDF</th>\n",
       "    </tr>\n",
       "  </thead>\n",
       "  <tbody>\n",
       "    <tr>\n",
       "      <th>13553</th>\n",
       "      <td>Star Wars: Episode I – The Phantom Menace</td>\n",
       "      <td>699</td>\n",
       "      <td>0.000000</td>\n",
       "    </tr>\n",
       "    <tr>\n",
       "      <th>16378</th>\n",
       "      <td>Star Wars: Episode I – The Phantom Menace 3D</td>\n",
       "      <td>699</td>\n",
       "      <td>0.000000</td>\n",
       "    </tr>\n",
       "    <tr>\n",
       "      <th>14155</th>\n",
       "      <td>Star Wars: Episode II – Attack of the Clones</td>\n",
       "      <td>527</td>\n",
       "      <td>0.429094</td>\n",
       "    </tr>\n",
       "    <tr>\n",
       "      <th>14765</th>\n",
       "      <td>Star Wars: Episode III – Revenge of the Sith</td>\n",
       "      <td>615</td>\n",
       "      <td>0.552560</td>\n",
       "    </tr>\n",
       "    <tr>\n",
       "      <th>15534</th>\n",
       "      <td>Star Wars: The Clone Wars</td>\n",
       "      <td>502</td>\n",
       "      <td>0.596957</td>\n",
       "    </tr>\n",
       "    <tr>\n",
       "      <th>9428</th>\n",
       "      <td>Star Wars Episode IV: A New Hope (aka Star Wars)</td>\n",
       "      <td>666</td>\n",
       "      <td>0.698967</td>\n",
       "    </tr>\n",
       "    <tr>\n",
       "      <th>34659</th>\n",
       "      <td>No Tears for the Dead</td>\n",
       "      <td>205</td>\n",
       "      <td>0.735262</td>\n",
       "    </tr>\n",
       "    <tr>\n",
       "      <th>34716</th>\n",
       "      <td>The Shameless</td>\n",
       "      <td>237</td>\n",
       "      <td>0.803706</td>\n",
       "    </tr>\n",
       "    <tr>\n",
       "      <th>33750</th>\n",
       "      <td>Hunter × Hunter: The Last Mission</td>\n",
       "      <td>583</td>\n",
       "      <td>0.816948</td>\n",
       "    </tr>\n",
       "    <tr>\n",
       "      <th>34613</th>\n",
       "      <td>Tough as Iron</td>\n",
       "      <td>189</td>\n",
       "      <td>0.820467</td>\n",
       "    </tr>\n",
       "    <tr>\n",
       "      <th>10136</th>\n",
       "      <td>Return of the Jedi</td>\n",
       "      <td>678</td>\n",
       "      <td>0.830339</td>\n",
       "    </tr>\n",
       "    <tr>\n",
       "      <th>9774</th>\n",
       "      <td>The Empire Strikes Back</td>\n",
       "      <td>643</td>\n",
       "      <td>0.839885</td>\n",
       "    </tr>\n",
       "    <tr>\n",
       "      <th>23400</th>\n",
       "      <td>The Phantom Lover</td>\n",
       "      <td>871</td>\n",
       "      <td>0.841975</td>\n",
       "    </tr>\n",
       "    <tr>\n",
       "      <th>16398</th>\n",
       "      <td>V/H/S</td>\n",
       "      <td>1888</td>\n",
       "      <td>0.854896</td>\n",
       "    </tr>\n",
       "    <tr>\n",
       "      <th>21250</th>\n",
       "      <td>The Gospel of Us</td>\n",
       "      <td>1352</td>\n",
       "      <td>0.855531</td>\n",
       "    </tr>\n",
       "    <tr>\n",
       "      <th>13282</th>\n",
       "      <td>Lost In Space</td>\n",
       "      <td>889</td>\n",
       "      <td>0.856825</td>\n",
       "    </tr>\n",
       "    <tr>\n",
       "      <th>23447</th>\n",
       "      <td>King of Comedy</td>\n",
       "      <td>467</td>\n",
       "      <td>0.857752</td>\n",
       "    </tr>\n",
       "    <tr>\n",
       "      <th>26366</th>\n",
       "      <td>Darna Zaroori Hai</td>\n",
       "      <td>1684</td>\n",
       "      <td>0.858213</td>\n",
       "    </tr>\n",
       "    <tr>\n",
       "      <th>21407</th>\n",
       "      <td>Star Wars: The Force Unleashed</td>\n",
       "      <td>671</td>\n",
       "      <td>0.859185</td>\n",
       "    </tr>\n",
       "    <tr>\n",
       "      <th>34396</th>\n",
       "      <td>Green Fish</td>\n",
       "      <td>951</td>\n",
       "      <td>0.859448</td>\n",
       "    </tr>\n",
       "    <tr>\n",
       "      <th>23391</th>\n",
       "      <td>Black Sun: The Nanking Massacre</td>\n",
       "      <td>792</td>\n",
       "      <td>0.864728</td>\n",
       "    </tr>\n",
       "    <tr>\n",
       "      <th>23371</th>\n",
       "      <td>Black Sun: The Nanking Massacre</td>\n",
       "      <td>792</td>\n",
       "      <td>0.864728</td>\n",
       "    </tr>\n",
       "    <tr>\n",
       "      <th>558</th>\n",
       "      <td>The Salvation Hunters</td>\n",
       "      <td>643</td>\n",
       "      <td>0.866000</td>\n",
       "    </tr>\n",
       "  </tbody>\n",
       "</table>\n",
       "</div>"
      ],
      "text/plain": [
       "                                                  Title  length  \\\n",
       "13553         Star Wars: Episode I – The Phantom Menace     699   \n",
       "16378      Star Wars: Episode I – The Phantom Menace 3D     699   \n",
       "14155      Star Wars: Episode II – Attack of the Clones     527   \n",
       "14765      Star Wars: Episode III – Revenge of the Sith     615   \n",
       "15534                         Star Wars: The Clone Wars     502   \n",
       "9428   Star Wars Episode IV: A New Hope (aka Star Wars)     666   \n",
       "34659                             No Tears for the Dead     205   \n",
       "34716                                     The Shameless     237   \n",
       "33750                 Hunter × Hunter: The Last Mission     583   \n",
       "34613                                     Tough as Iron     189   \n",
       "10136                                Return of the Jedi     678   \n",
       "9774                            The Empire Strikes Back     643   \n",
       "23400                                 The Phantom Lover     871   \n",
       "16398                                             V/H/S    1888   \n",
       "21250                                  The Gospel of Us    1352   \n",
       "13282                                     Lost In Space     889   \n",
       "23447                                    King of Comedy     467   \n",
       "26366                                 Darna Zaroori Hai    1684   \n",
       "21407                    Star Wars: The Force Unleashed     671   \n",
       "34396                                        Green Fish     951   \n",
       "23391                   Black Sun: The Nanking Massacre     792   \n",
       "23371                   Black Sun: The Nanking Massacre     792   \n",
       "558                               The Salvation Hunters     643   \n",
       "\n",
       "       SW1-cosine-TF-IDF  \n",
       "13553           0.000000  \n",
       "16378           0.000000  \n",
       "14155           0.429094  \n",
       "14765           0.552560  \n",
       "15534           0.596957  \n",
       "9428            0.698967  \n",
       "34659           0.735262  \n",
       "34716           0.803706  \n",
       "33750           0.816948  \n",
       "34613           0.820467  \n",
       "10136           0.830339  \n",
       "9774            0.839885  \n",
       "23400           0.841975  \n",
       "16398           0.854896  \n",
       "21250           0.855531  \n",
       "13282           0.856825  \n",
       "23447           0.857752  \n",
       "26366           0.858213  \n",
       "21407           0.859185  \n",
       "34396           0.859448  \n",
       "23391           0.864728  \n",
       "23371           0.864728  \n",
       "558             0.866000  "
      ]
     },
     "execution_count": 65,
     "metadata": {},
     "output_type": "execute_result"
    }
   ],
   "source": [
    "nearest_neighbors_cosine[0:23]"
   ]
  },
  {
   "cell_type": "markdown",
   "metadata": {},
   "source": [
    "**Notes:** At the end, we check the cosine distance of the tweet from Star Wars 1 and its closest neighbours.These words are strongly correlated with the star wars theme. And we can see that a lot of the titles here are actually close to Star Wars 1."
   ]
  }
 ],
 "metadata": {
  "anaconda-cloud": {},
  "kernelspec": {
   "display_name": "Python 3",
   "language": "python",
   "name": "python3"
  },
  "language_info": {
   "codemirror_mode": {
    "name": "ipython",
    "version": 3
   },
   "file_extension": ".py",
   "mimetype": "text/x-python",
   "name": "python",
   "nbconvert_exporter": "python",
   "pygments_lexer": "ipython3",
   "version": "3.11.6"
  }
 },
 "nbformat": 4,
 "nbformat_minor": 4
}
