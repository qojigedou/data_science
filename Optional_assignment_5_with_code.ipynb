{
 "cells": [
  {
   "cell_type": "markdown",
   "metadata": {},
   "source": [
    "When exploring a large set of documents -- such as Wikipedia, news articles, StackOverflow, etc. -- it can be useful to get a list of related material. To find relevant documents you typically\n",
    "* Decide on a notion of similarity\n",
    "* Find the documents that are most similar \n",
    "\n",
    "In the assignment you will\n",
    "* Gain intuition for different notions of similarity and practice finding similar documents. \n",
    "* Explore the tradeoffs with representing documents using raw word counts and TF-IDF\n",
    "* Explore the behavior of different distance metrics by looking at the Wikipedia pages most similar to President Obama’s page."
   ]
  },
  {
   "cell_type": "code",
   "execution_count": 1,
   "metadata": {
    "collapsed": false,
    "jupyter": {
     "outputs_hidden": false
    }
   },
   "outputs": [],
   "source": [
    "import matplotlib.pyplot as plt\n",
    "import numpy as np\n",
    "import pandas as pd\n",
    "%matplotlib inline"
   ]
  },
  {
   "cell_type": "markdown",
   "metadata": {},
   "source": [
    "## Load Wikipedia dataset"
   ]
  },
  {
   "cell_type": "markdown",
   "metadata": {},
   "source": [
    "We will be using the dataset of abridged Wikipedia pages. Each element of the dataset consists of a link to the wikipedia article, the name of the person, and the text of the article (in lowercase).  "
   ]
  },
  {
   "cell_type": "code",
   "execution_count": 2,
   "metadata": {
    "collapsed": false,
    "jupyter": {
     "outputs_hidden": false
    }
   },
   "outputs": [
    {
     "data": {
      "text/html": [
       "<div>\n",
       "<style scoped>\n",
       "    .dataframe tbody tr th:only-of-type {\n",
       "        vertical-align: middle;\n",
       "    }\n",
       "\n",
       "    .dataframe tbody tr th {\n",
       "        vertical-align: top;\n",
       "    }\n",
       "\n",
       "    .dataframe thead th {\n",
       "        text-align: right;\n",
       "    }\n",
       "</style>\n",
       "<table border=\"1\" class=\"dataframe\">\n",
       "  <thead>\n",
       "    <tr style=\"text-align: right;\">\n",
       "      <th></th>\n",
       "      <th>Release Year</th>\n",
       "      <th>Title</th>\n",
       "      <th>Origin/Ethnicity</th>\n",
       "      <th>Director</th>\n",
       "      <th>Cast</th>\n",
       "      <th>Genre</th>\n",
       "      <th>Wiki Page</th>\n",
       "      <th>Plot</th>\n",
       "    </tr>\n",
       "  </thead>\n",
       "  <tbody>\n",
       "    <tr>\n",
       "      <th>0</th>\n",
       "      <td>1901</td>\n",
       "      <td>Kansas Saloon Smashers</td>\n",
       "      <td>American</td>\n",
       "      <td>Unknown</td>\n",
       "      <td>NaN</td>\n",
       "      <td>unknown</td>\n",
       "      <td>https://en.wikipedia.org/wiki/Kansas_Saloon_Sm...</td>\n",
       "      <td>A bartender is working at a saloon, serving dr...</td>\n",
       "    </tr>\n",
       "    <tr>\n",
       "      <th>1</th>\n",
       "      <td>1901</td>\n",
       "      <td>Love by the Light of the Moon</td>\n",
       "      <td>American</td>\n",
       "      <td>Unknown</td>\n",
       "      <td>NaN</td>\n",
       "      <td>unknown</td>\n",
       "      <td>https://en.wikipedia.org/wiki/Love_by_the_Ligh...</td>\n",
       "      <td>The moon, painted with a smiling face hangs ov...</td>\n",
       "    </tr>\n",
       "    <tr>\n",
       "      <th>2</th>\n",
       "      <td>1901</td>\n",
       "      <td>The Martyred Presidents</td>\n",
       "      <td>American</td>\n",
       "      <td>Unknown</td>\n",
       "      <td>NaN</td>\n",
       "      <td>unknown</td>\n",
       "      <td>https://en.wikipedia.org/wiki/The_Martyred_Pre...</td>\n",
       "      <td>The film, just over a minute long, is composed...</td>\n",
       "    </tr>\n",
       "    <tr>\n",
       "      <th>3</th>\n",
       "      <td>1901</td>\n",
       "      <td>Terrible Teddy, the Grizzly King</td>\n",
       "      <td>American</td>\n",
       "      <td>Unknown</td>\n",
       "      <td>NaN</td>\n",
       "      <td>unknown</td>\n",
       "      <td>https://en.wikipedia.org/wiki/Terrible_Teddy,_...</td>\n",
       "      <td>Lasting just 61 seconds and consisting of two ...</td>\n",
       "    </tr>\n",
       "    <tr>\n",
       "      <th>4</th>\n",
       "      <td>1902</td>\n",
       "      <td>Jack and the Beanstalk</td>\n",
       "      <td>American</td>\n",
       "      <td>George S. Fleming, Edwin S. Porter</td>\n",
       "      <td>NaN</td>\n",
       "      <td>unknown</td>\n",
       "      <td>https://en.wikipedia.org/wiki/Jack_and_the_Bea...</td>\n",
       "      <td>The earliest known adaptation of the classic f...</td>\n",
       "    </tr>\n",
       "  </tbody>\n",
       "</table>\n",
       "</div>"
      ],
      "text/plain": [
       "   Release Year                             Title Origin/Ethnicity  \\\n",
       "0          1901            Kansas Saloon Smashers         American   \n",
       "1          1901     Love by the Light of the Moon         American   \n",
       "2          1901           The Martyred Presidents         American   \n",
       "3          1901  Terrible Teddy, the Grizzly King         American   \n",
       "4          1902            Jack and the Beanstalk         American   \n",
       "\n",
       "                             Director Cast    Genre  \\\n",
       "0                             Unknown  NaN  unknown   \n",
       "1                             Unknown  NaN  unknown   \n",
       "2                             Unknown  NaN  unknown   \n",
       "3                             Unknown  NaN  unknown   \n",
       "4  George S. Fleming, Edwin S. Porter  NaN  unknown   \n",
       "\n",
       "                                           Wiki Page  \\\n",
       "0  https://en.wikipedia.org/wiki/Kansas_Saloon_Sm...   \n",
       "1  https://en.wikipedia.org/wiki/Love_by_the_Ligh...   \n",
       "2  https://en.wikipedia.org/wiki/The_Martyred_Pre...   \n",
       "3  https://en.wikipedia.org/wiki/Terrible_Teddy,_...   \n",
       "4  https://en.wikipedia.org/wiki/Jack_and_the_Bea...   \n",
       "\n",
       "                                                Plot  \n",
       "0  A bartender is working at a saloon, serving dr...  \n",
       "1  The moon, painted with a smiling face hangs ov...  \n",
       "2  The film, just over a minute long, is composed...  \n",
       "3  Lasting just 61 seconds and consisting of two ...  \n",
       "4  The earliest known adaptation of the classic f...  "
      ]
     },
     "execution_count": 2,
     "metadata": {},
     "output_type": "execute_result"
    }
   ],
   "source": [
    "wiki = pd.read_csv('wiki_movie_plots_deduped.csv')\n",
    "wiki.head()"
   ]
  },
  {
   "cell_type": "markdown",
   "metadata": {},
   "source": [
    "If you want to check whether the text on the webpage agrees with the one here, you can display it with the following code:"
   ]
  },
  {
   "cell_type": "code",
   "execution_count": 7,
   "metadata": {
    "collapsed": true
   },
   "outputs": [],
   "source": [
    "# from IPython.display import HTML\n",
    "# print(wiki['text'][0])\n",
    "# HTML(url=wiki['URI'][0])"
   ]
  },
  {
   "cell_type": "markdown",
   "metadata": {},
   "source": [
    "## Ex. 1: Extract word count vectors"
   ]
  },
  {
   "cell_type": "markdown",
   "metadata": {},
   "source": [
    "As we have seen in Assignment 4, we can extract word count vectors using `CountVectorizer` function.\n",
    "- make sure you include words of unit length by using the parameter: `token_pattern=r\"(?u)\\b\\w+\\b\"`\n",
    "- do not use any stopwords\n",
    "- take 10000 most frequent words in the corpus\n",
    "- explicitly take all the words independent of in how many documents they occur\n",
    "- obtain the matrix of word counts"
   ]
  },
  {
   "cell_type": "code",
   "execution_count": 4,
   "metadata": {
    "collapsed": true
   },
   "outputs": [
    {
     "data": {
      "text/plain": [
       "<34886x10000 sparse matrix of type '<class 'numpy.int64'>'\n",
       "\twith 5759797 stored elements in Compressed Sparse Row format>"
      ]
     },
     "execution_count": 4,
     "metadata": {},
     "output_type": "execute_result"
    }
   ],
   "source": [
    "from sklearn.feature_extraction.text import CountVectorizer\n",
    "\n",
    "vectorizer = CountVectorizer(token_pattern=r\"(?u)\\b\\w+\\b\", max_features=10000)\n",
    "WCmatrix = vectorizer.fit_transform(wiki[\"Plot\"])\n",
    "\n",
    "WCmatrix\n"
   ]
  },
  {
   "cell_type": "markdown",
   "metadata": {},
   "source": [
    "## Ex. 2: Find nearest neighbors"
   ]
  },
  {
   "cell_type": "markdown",
   "metadata": {},
   "source": [
    "**a)** Start by finding the nearest neighbors of the Barack Obama page using the above word count matrix to represent the articles and **Euclidean** distance to measure distance.\n",
    "Save the distances in `wiki['BO-eucl']` and look at the top 10 nearest neighbors."
   ]
  },
  {
   "cell_type": "code",
   "execution_count": 10,
   "metadata": {
    "collapsed": true
   },
   "outputs": [
    {
     "data": {
      "text/html": [
       "<div>\n",
       "<style scoped>\n",
       "    .dataframe tbody tr th:only-of-type {\n",
       "        vertical-align: middle;\n",
       "    }\n",
       "\n",
       "    .dataframe tbody tr th {\n",
       "        vertical-align: top;\n",
       "    }\n",
       "\n",
       "    .dataframe thead th {\n",
       "        text-align: right;\n",
       "    }\n",
       "</style>\n",
       "<table border=\"1\" class=\"dataframe\">\n",
       "  <thead>\n",
       "    <tr style=\"text-align: right;\">\n",
       "      <th></th>\n",
       "      <th>Release Year</th>\n",
       "      <th>Title</th>\n",
       "      <th>Origin/Ethnicity</th>\n",
       "      <th>Director</th>\n",
       "      <th>Cast</th>\n",
       "      <th>Genre</th>\n",
       "      <th>Wiki Page</th>\n",
       "      <th>Plot</th>\n",
       "      <th>BO-eucl</th>\n",
       "    </tr>\n",
       "  </thead>\n",
       "  <tbody>\n",
       "    <tr>\n",
       "      <th>13553</th>\n",
       "      <td>1999</td>\n",
       "      <td>Star Wars: Episode I – The Phantom Menace</td>\n",
       "      <td>American</td>\n",
       "      <td>George Lucas</td>\n",
       "      <td>Liam Neeson, Ewan McGregor, Natalie Portman, J...</td>\n",
       "      <td>space opera</td>\n",
       "      <td>https://en.wikipedia.org/wiki/Star_Wars:_Episo...</td>\n",
       "      <td>The Trade Federation upsets order in the Galac...</td>\n",
       "      <td>0.000000</td>\n",
       "    </tr>\n",
       "    <tr>\n",
       "      <th>16378</th>\n",
       "      <td>2012</td>\n",
       "      <td>Star Wars: Episode I – The Phantom Menace 3D</td>\n",
       "      <td>American</td>\n",
       "      <td>George Lucas</td>\n",
       "      <td>Liam Neeson, Ewan McGregor, Jake Lloyd, Ahmed ...</td>\n",
       "      <td>sci-fi</td>\n",
       "      <td>https://en.wikipedia.org/wiki/Star_Wars:_Episo...</td>\n",
       "      <td>The Trade Federation upsets order in the Galac...</td>\n",
       "      <td>0.000000</td>\n",
       "    </tr>\n",
       "    <tr>\n",
       "      <th>7668</th>\n",
       "      <td>1962</td>\n",
       "      <td>Taras Bulba</td>\n",
       "      <td>American</td>\n",
       "      <td>J. Lee Thompson</td>\n",
       "      <td>Yul Brynner, Tony Curtis, Sam Wanamaker, Chris...</td>\n",
       "      <td>adventure</td>\n",
       "      <td>https://en.wikipedia.org/wiki/Taras_Bulba_(196...</td>\n",
       "      <td>The film opens in the 16th century, when Russi...</td>\n",
       "      <td>34.785054</td>\n",
       "    </tr>\n",
       "    <tr>\n",
       "      <th>14765</th>\n",
       "      <td>2005</td>\n",
       "      <td>Star Wars: Episode III – Revenge of the Sith</td>\n",
       "      <td>American</td>\n",
       "      <td>George Lucas</td>\n",
       "      <td>Ewan McGregor, Hayden Christensen, Natalie Por...</td>\n",
       "      <td>science fiction, action</td>\n",
       "      <td>https://en.wikipedia.org/wiki/Star_Wars:_Episo...</td>\n",
       "      <td>Three years after the Battle of Geonosis, the ...</td>\n",
       "      <td>35.142567</td>\n",
       "    </tr>\n",
       "    <tr>\n",
       "      <th>32931</th>\n",
       "      <td>1966</td>\n",
       "      <td>Daimajin</td>\n",
       "      <td>Japanese</td>\n",
       "      <td>Yasuda, KimiyoshiKimiyoshi Yasuda</td>\n",
       "      <td>Miwa Takada, Yoshihiko Aoyama, Jun Fujimaki</td>\n",
       "      <td>unknown</td>\n",
       "      <td>https://en.wikipedia.org/wiki/Daimajin_(1966_f...</td>\n",
       "      <td>The movie opens with a household of peasants c...</td>\n",
       "      <td>36.097091</td>\n",
       "    </tr>\n",
       "    <tr>\n",
       "      <th>33207</th>\n",
       "      <td>1993</td>\n",
       "      <td>Ninja Scroll</td>\n",
       "      <td>Japanese</td>\n",
       "      <td>Yoshiaki Kawajiri</td>\n",
       "      <td>Kōichi Yamadera, Emi Shinohara</td>\n",
       "      <td>anime</td>\n",
       "      <td>https://en.wikipedia.org/wiki/Ninja_Scroll</td>\n",
       "      <td>In Edo period-Japan, the Yamashiro clan mines ...</td>\n",
       "      <td>37.040518</td>\n",
       "    </tr>\n",
       "    <tr>\n",
       "      <th>15482</th>\n",
       "      <td>2008</td>\n",
       "      <td>Meet the Spartans</td>\n",
       "      <td>American</td>\n",
       "      <td>Jason Friedberg, Aaron Seltzer</td>\n",
       "      <td>Sean Maguire, Ken Davitian, Carmen Electra, Di...</td>\n",
       "      <td>comedy</td>\n",
       "      <td>https://en.wikipedia.org/wiki/Meet_the_Spartans</td>\n",
       "      <td>The film opens with a Spartan elder inspecting...</td>\n",
       "      <td>37.094474</td>\n",
       "    </tr>\n",
       "    <tr>\n",
       "      <th>7446</th>\n",
       "      <td>1961</td>\n",
       "      <td>Atlantis, the Lost Continent</td>\n",
       "      <td>American</td>\n",
       "      <td>George Pal</td>\n",
       "      <td>John Dall, Edward Platt</td>\n",
       "      <td>sci-fi</td>\n",
       "      <td>https://en.wikipedia.org/wiki/Atlantis,_the_Lo...</td>\n",
       "      <td>A Greek fisherman named Demetrios and his fath...</td>\n",
       "      <td>37.094474</td>\n",
       "    </tr>\n",
       "    <tr>\n",
       "      <th>9212</th>\n",
       "      <td>1975</td>\n",
       "      <td>The Wind and the Lion</td>\n",
       "      <td>American</td>\n",
       "      <td>John Milius</td>\n",
       "      <td>Sean Connery, Candice Bergen, John Huston, Geo...</td>\n",
       "      <td>adventure</td>\n",
       "      <td>https://en.wikipedia.org/wiki/The_Wind_and_the...</td>\n",
       "      <td>During 1904, Morocco is the source of conflict...</td>\n",
       "      <td>37.134889</td>\n",
       "    </tr>\n",
       "    <tr>\n",
       "      <th>13095</th>\n",
       "      <td>1997</td>\n",
       "      <td>The Peacemaker</td>\n",
       "      <td>American</td>\n",
       "      <td>Mimi Leder</td>\n",
       "      <td>George Clooney, Nicole Kidman</td>\n",
       "      <td>action</td>\n",
       "      <td>https://en.wikipedia.org/wiki/The_Peacemaker_(...</td>\n",
       "      <td>In an Eastern Orthodox church in Pale, Bosnia ...</td>\n",
       "      <td>37.229021</td>\n",
       "    </tr>\n",
       "  </tbody>\n",
       "</table>\n",
       "</div>"
      ],
      "text/plain": [
       "       Release Year                                         Title  \\\n",
       "13553          1999     Star Wars: Episode I – The Phantom Menace   \n",
       "16378          2012  Star Wars: Episode I – The Phantom Menace 3D   \n",
       "7668           1962                                   Taras Bulba   \n",
       "14765          2005  Star Wars: Episode III – Revenge of the Sith   \n",
       "32931          1966                                      Daimajin   \n",
       "33207          1993                                  Ninja Scroll   \n",
       "15482          2008                             Meet the Spartans   \n",
       "7446           1961                  Atlantis, the Lost Continent   \n",
       "9212           1975                         The Wind and the Lion   \n",
       "13095          1997                                The Peacemaker   \n",
       "\n",
       "      Origin/Ethnicity                           Director  \\\n",
       "13553         American                       George Lucas   \n",
       "16378         American                       George Lucas   \n",
       "7668          American                    J. Lee Thompson   \n",
       "14765         American                       George Lucas   \n",
       "32931         Japanese  Yasuda, KimiyoshiKimiyoshi Yasuda   \n",
       "33207         Japanese                  Yoshiaki Kawajiri   \n",
       "15482         American     Jason Friedberg, Aaron Seltzer   \n",
       "7446          American                         George Pal   \n",
       "9212          American                        John Milius   \n",
       "13095         American                         Mimi Leder   \n",
       "\n",
       "                                                    Cast  \\\n",
       "13553  Liam Neeson, Ewan McGregor, Natalie Portman, J...   \n",
       "16378  Liam Neeson, Ewan McGregor, Jake Lloyd, Ahmed ...   \n",
       "7668   Yul Brynner, Tony Curtis, Sam Wanamaker, Chris...   \n",
       "14765  Ewan McGregor, Hayden Christensen, Natalie Por...   \n",
       "32931        Miwa Takada, Yoshihiko Aoyama, Jun Fujimaki   \n",
       "33207                     Kōichi Yamadera, Emi Shinohara   \n",
       "15482  Sean Maguire, Ken Davitian, Carmen Electra, Di...   \n",
       "7446                             John Dall, Edward Platt   \n",
       "9212   Sean Connery, Candice Bergen, John Huston, Geo...   \n",
       "13095                      George Clooney, Nicole Kidman   \n",
       "\n",
       "                         Genre  \\\n",
       "13553              space opera   \n",
       "16378                   sci-fi   \n",
       "7668                 adventure   \n",
       "14765  science fiction, action   \n",
       "32931                  unknown   \n",
       "33207                    anime   \n",
       "15482                   comedy   \n",
       "7446                    sci-fi   \n",
       "9212                 adventure   \n",
       "13095                   action   \n",
       "\n",
       "                                               Wiki Page  \\\n",
       "13553  https://en.wikipedia.org/wiki/Star_Wars:_Episo...   \n",
       "16378  https://en.wikipedia.org/wiki/Star_Wars:_Episo...   \n",
       "7668   https://en.wikipedia.org/wiki/Taras_Bulba_(196...   \n",
       "14765  https://en.wikipedia.org/wiki/Star_Wars:_Episo...   \n",
       "32931  https://en.wikipedia.org/wiki/Daimajin_(1966_f...   \n",
       "33207         https://en.wikipedia.org/wiki/Ninja_Scroll   \n",
       "15482    https://en.wikipedia.org/wiki/Meet_the_Spartans   \n",
       "7446   https://en.wikipedia.org/wiki/Atlantis,_the_Lo...   \n",
       "9212   https://en.wikipedia.org/wiki/The_Wind_and_the...   \n",
       "13095  https://en.wikipedia.org/wiki/The_Peacemaker_(...   \n",
       "\n",
       "                                                    Plot    BO-eucl  \n",
       "13553  The Trade Federation upsets order in the Galac...   0.000000  \n",
       "16378  The Trade Federation upsets order in the Galac...   0.000000  \n",
       "7668   The film opens in the 16th century, when Russi...  34.785054  \n",
       "14765  Three years after the Battle of Geonosis, the ...  35.142567  \n",
       "32931  The movie opens with a household of peasants c...  36.097091  \n",
       "33207  In Edo period-Japan, the Yamashiro clan mines ...  37.040518  \n",
       "15482  The film opens with a Spartan elder inspecting...  37.094474  \n",
       "7446   A Greek fisherman named Demetrios and his fath...  37.094474  \n",
       "9212   During 1904, Morocco is the source of conflict...  37.134889  \n",
       "13095  In an Eastern Orthodox church in Pale, Bosnia ...  37.229021  "
      ]
     },
     "execution_count": 10,
     "metadata": {},
     "output_type": "execute_result"
    }
   ],
   "source": [
    "# One can use the following:\n",
    "    # from sklearn.neighbors import NearestNeighbors\n",
    "    # nbrs = NearestNeighbors(n_neighbors=3, algorithm='brute',metric='euclidean').fit(X.toarray())\n",
    "    # distances, indices = nbrs.kneighbors(X.toarray())\n",
    "# but here let's use:\n",
    "from sklearn.metrics import pairwise_distances\n",
    "\n",
    "bo_vector = WCmatrix[wiki[wiki[\"Title\"] == \"Star Wars: Episode I – The Phantom Menace\"].index[0]]\n",
    "dist = pairwise_distances(bo_vector.reshape(1, -1), WCmatrix, metric='euclidean')\n",
    "wiki[\"BO-eucl\"] = dist.flatten()\n",
    "wiki.sort_values(by='BO-eucl').iloc[:10]"
   ]
  },
  {
   "cell_type": "markdown",
   "metadata": {},
   "source": [
    "**b)** Measure the pairwise distance between the Wikipedia pages of Barack Obama, George W. Bush, and Joe Biden. Which of the three pairs has the smallest distance?"
   ]
  },
  {
   "cell_type": "code",
   "execution_count": 19,
   "metadata": {
    "collapsed": false
   },
   "outputs": [
    {
     "name": "stdout",
     "output_type": "stream",
     "text": [
      "Star Wars: Episode I – The Phantom Menace and Dune distance: 57.63679380395825\n",
      "Star Wars: Episode I – The Phantom Menace and Return of the Jedi distance: 51.43928459844674\n",
      "Return of the Jedi and Dune distance: 47.66550115125194\n"
     ]
    }
   ],
   "source": [
    "distance = pairwise_distances(WCmatrix[wiki[wiki[\"Title\"].isin([\"Star Wars: Episode I – The Phantom Menace\", \"Dune\", \"Return of the Jedi\"])].index])\n",
    "\n",
    "# Check if there are at least two rows in the distance array\n",
    "if distance.shape[0] >= 2:\n",
    "    print(f\"Star Wars: Episode I – The Phantom Menace and Dune distance: {distance[1, 0]}\")\n",
    "    print(f\"Star Wars: Episode I – The Phantom Menace and Return of the Jedi distance: {distance[1, 2]}\")\n",
    "    print(f\"Return of the Jedi and Dune distance: {distance[0, 2]}\")\n",
    "else:\n",
    "    print(\"Not enough rows in the distance array.\")\n",
    "\n"
   ]
  },
  {
   "cell_type": "markdown",
   "metadata": {},
   "source": [
    "All of the 10 people from **a)** are politicians, but about half of them have rather tenuous connections with Obama, other than the fact that they are politicians, e.g.,\n",
    "\n",
    "* Francisco Barrio is a Mexican politician, and a former governor of Chihuahua.\n",
    "* Walter Mondale and Don Bonker are Democrats who made their career in late 1970s.\n",
    "\n",
    "Nearest neighbors with raw word counts got some things right, showing all politicians in the query result, but missed finer and important details."
   ]
  },
  {
   "cell_type": "markdown",
   "metadata": {},
   "source": [
    "**c)** Let's find out why Francisco Barrio was considered a close neighbor of Obama.\n",
    "To do this, look at the most frequently used words in each of Barack Obama and Francisco Barrio's pages."
   ]
  },
  {
   "cell_type": "code",
   "execution_count": 20,
   "metadata": {
    "collapsed": true
   },
   "outputs": [],
   "source": [
    "def top_words(name):\n",
    "    \"\"\"\n",
    "    Get a table of the most frequent words in the given person's wikipedia page.\n",
    "    \"\"\"\n",
    " \n",
    "    df = pd.DataFrame(wiki[wiki[\"Title\"] == name][\"Plot\"].values[0].split(), columns=[\"word\"])\n",
    "    count = df[\"word\"].value_counts().to_frame(\"count\")\n",
    "    return count.sort_values(by='count',ascending=False)"
   ]
  },
  {
   "cell_type": "code",
   "execution_count": 21,
   "metadata": {
    "collapsed": false,
    "jupyter": {
     "outputs_hidden": false
    }
   },
   "outputs": [
    {
     "data": {
      "text/html": [
       "<div>\n",
       "<style scoped>\n",
       "    .dataframe tbody tr th:only-of-type {\n",
       "        vertical-align: middle;\n",
       "    }\n",
       "\n",
       "    .dataframe tbody tr th {\n",
       "        vertical-align: top;\n",
       "    }\n",
       "\n",
       "    .dataframe thead th {\n",
       "        text-align: right;\n",
       "    }\n",
       "</style>\n",
       "<table border=\"1\" class=\"dataframe\">\n",
       "  <thead>\n",
       "    <tr style=\"text-align: right;\">\n",
       "      <th></th>\n",
       "      <th>count</th>\n",
       "    </tr>\n",
       "  </thead>\n",
       "  <tbody>\n",
       "    <tr>\n",
       "      <th>the</th>\n",
       "      <td>50</td>\n",
       "    </tr>\n",
       "    <tr>\n",
       "      <th>to</th>\n",
       "      <td>33</td>\n",
       "    </tr>\n",
       "    <tr>\n",
       "      <th>and</th>\n",
       "      <td>25</td>\n",
       "    </tr>\n",
       "    <tr>\n",
       "      <th>a</th>\n",
       "      <td>19</td>\n",
       "    </tr>\n",
       "    <tr>\n",
       "      <th>of</th>\n",
       "      <td>13</td>\n",
       "    </tr>\n",
       "    <tr>\n",
       "      <th>...</th>\n",
       "      <td>...</td>\n",
       "    </tr>\n",
       "    <tr>\n",
       "      <th>them</th>\n",
       "      <td>1</td>\n",
       "    </tr>\n",
       "    <tr>\n",
       "      <th>queen</th>\n",
       "      <td>1</td>\n",
       "    </tr>\n",
       "    <tr>\n",
       "      <th>joining</th>\n",
       "      <td>1</td>\n",
       "    </tr>\n",
       "    <tr>\n",
       "      <th>pushing</th>\n",
       "      <td>1</td>\n",
       "    </tr>\n",
       "    <tr>\n",
       "      <th>ceremony.</th>\n",
       "      <td>1</td>\n",
       "    </tr>\n",
       "  </tbody>\n",
       "</table>\n",
       "<p>334 rows × 1 columns</p>\n",
       "</div>"
      ],
      "text/plain": [
       "           count\n",
       "the           50\n",
       "to            33\n",
       "and           25\n",
       "a             19\n",
       "of            13\n",
       "...          ...\n",
       "them           1\n",
       "queen          1\n",
       "joining        1\n",
       "pushing        1\n",
       "ceremony.      1\n",
       "\n",
       "[334 rows x 1 columns]"
      ]
     },
     "execution_count": 21,
     "metadata": {},
     "output_type": "execute_result"
    }
   ],
   "source": [
    "star_wars1_words = top_words('Star Wars: Episode I – The Phantom Menace')\n",
    "star_wars1_words"
   ]
  },
  {
   "cell_type": "code",
   "execution_count": 22,
   "metadata": {
    "collapsed": false
   },
   "outputs": [
    {
     "data": {
      "text/html": [
       "<div>\n",
       "<style scoped>\n",
       "    .dataframe tbody tr th:only-of-type {\n",
       "        vertical-align: middle;\n",
       "    }\n",
       "\n",
       "    .dataframe tbody tr th {\n",
       "        vertical-align: top;\n",
       "    }\n",
       "\n",
       "    .dataframe thead th {\n",
       "        text-align: right;\n",
       "    }\n",
       "</style>\n",
       "<table border=\"1\" class=\"dataframe\">\n",
       "  <thead>\n",
       "    <tr style=\"text-align: right;\">\n",
       "      <th></th>\n",
       "      <th>count</th>\n",
       "    </tr>\n",
       "  </thead>\n",
       "  <tbody>\n",
       "    <tr>\n",
       "      <th>the</th>\n",
       "      <td>54</td>\n",
       "    </tr>\n",
       "    <tr>\n",
       "      <th>to</th>\n",
       "      <td>23</td>\n",
       "    </tr>\n",
       "    <tr>\n",
       "      <th>and</th>\n",
       "      <td>20</td>\n",
       "    </tr>\n",
       "    <tr>\n",
       "      <th>of</th>\n",
       "      <td>15</td>\n",
       "    </tr>\n",
       "    <tr>\n",
       "      <th>a</th>\n",
       "      <td>14</td>\n",
       "    </tr>\n",
       "    <tr>\n",
       "      <th>...</th>\n",
       "      <td>...</td>\n",
       "    </tr>\n",
       "    <tr>\n",
       "      <th>there,</th>\n",
       "      <td>1</td>\n",
       "    </tr>\n",
       "    <tr>\n",
       "      <th>attack.</th>\n",
       "      <td>1</td>\n",
       "    </tr>\n",
       "    <tr>\n",
       "      <th>will</th>\n",
       "      <td>1</td>\n",
       "    </tr>\n",
       "    <tr>\n",
       "      <th>loving</th>\n",
       "      <td>1</td>\n",
       "    </tr>\n",
       "    <tr>\n",
       "      <th>treated</th>\n",
       "      <td>1</td>\n",
       "    </tr>\n",
       "  </tbody>\n",
       "</table>\n",
       "<p>279 rows × 1 columns</p>\n",
       "</div>"
      ],
      "text/plain": [
       "         count\n",
       "the         54\n",
       "to          23\n",
       "and         20\n",
       "of          15\n",
       "a           14\n",
       "...        ...\n",
       "there,       1\n",
       "attack.      1\n",
       "will         1\n",
       "loving       1\n",
       "treated      1\n",
       "\n",
       "[279 rows x 1 columns]"
      ]
     },
     "execution_count": 22,
     "metadata": {},
     "output_type": "execute_result"
    }
   ],
   "source": [
    "taras_bulba_words = top_words('Taras Bulba')\n",
    "taras_bulba_words"
   ]
  },
  {
   "cell_type": "markdown",
   "metadata": {},
   "source": [
    "**d)** Extract the list of most frequent **common** words that appear in both Obama's and Barrio's documents and display the five words that appear most often in Barrio's article.\n",
    "\n",
    "Use a dataframe operation known as **join**. The **join** operation is very useful when it comes to playing around with data: it lets you combine the content of two tables using a shared column (in this case, the index column of words). See [the documentation](https://pandas.pydata.org/pandas-docs/stable/reference/api/pandas.DataFrame.join.html) for more details."
   ]
  },
  {
   "cell_type": "code",
   "execution_count": 25,
   "metadata": {
    "collapsed": false,
    "jupyter": {
     "outputs_hidden": false
    }
   },
   "outputs": [
    {
     "data": {
      "text/html": [
       "<div>\n",
       "<style scoped>\n",
       "    .dataframe tbody tr th:only-of-type {\n",
       "        vertical-align: middle;\n",
       "    }\n",
       "\n",
       "    .dataframe tbody tr th {\n",
       "        vertical-align: top;\n",
       "    }\n",
       "\n",
       "    .dataframe thead th {\n",
       "        text-align: right;\n",
       "    }\n",
       "</style>\n",
       "<table border=\"1\" class=\"dataframe\">\n",
       "  <thead>\n",
       "    <tr style=\"text-align: right;\">\n",
       "      <th></th>\n",
       "      <th>count_Star_Wars</th>\n",
       "      <th>count_Taras_Bulba</th>\n",
       "    </tr>\n",
       "  </thead>\n",
       "  <tbody>\n",
       "    <tr>\n",
       "      <th>the</th>\n",
       "      <td>50</td>\n",
       "      <td>54</td>\n",
       "    </tr>\n",
       "    <tr>\n",
       "      <th>to</th>\n",
       "      <td>33</td>\n",
       "      <td>23</td>\n",
       "    </tr>\n",
       "    <tr>\n",
       "      <th>and</th>\n",
       "      <td>25</td>\n",
       "      <td>20</td>\n",
       "    </tr>\n",
       "    <tr>\n",
       "      <th>a</th>\n",
       "      <td>19</td>\n",
       "      <td>14</td>\n",
       "    </tr>\n",
       "    <tr>\n",
       "      <th>of</th>\n",
       "      <td>13</td>\n",
       "      <td>15</td>\n",
       "    </tr>\n",
       "  </tbody>\n",
       "</table>\n",
       "</div>"
      ],
      "text/plain": [
       "     count_Star_Wars  count_Taras_Bulba\n",
       "the               50                 54\n",
       "to                33                 23\n",
       "and               25                 20\n",
       "a                 19                 14\n",
       "of                13                 15"
      ]
     },
     "execution_count": 25,
     "metadata": {},
     "output_type": "execute_result"
    }
   ],
   "source": [
    "# Modify the code to avoid error.\n",
    "star_wars1_words.join(taras_bulba_words, lsuffix=\"_Star_Wars\", rsuffix=\"_Taras_Bulba\", how=\"inner\").head(5)"
   ]
  },
  {
   "cell_type": "markdown",
   "metadata": {},
   "source": [
    "Collect all words that appear both in Barack Obama and George W. Bush pages.  Out of those words, find the 10 words that show up most often in Obama's page. "
   ]
  },
  {
   "cell_type": "code",
   "execution_count": 27,
   "metadata": {
    "collapsed": false
   },
   "outputs": [
    {
     "data": {
      "text/html": [
       "<div>\n",
       "<style scoped>\n",
       "    .dataframe tbody tr th:only-of-type {\n",
       "        vertical-align: middle;\n",
       "    }\n",
       "\n",
       "    .dataframe tbody tr th {\n",
       "        vertical-align: top;\n",
       "    }\n",
       "\n",
       "    .dataframe thead th {\n",
       "        text-align: right;\n",
       "    }\n",
       "</style>\n",
       "<table border=\"1\" class=\"dataframe\">\n",
       "  <thead>\n",
       "    <tr style=\"text-align: right;\">\n",
       "      <th></th>\n",
       "      <th>count_Star_Wars</th>\n",
       "      <th>count_Dune</th>\n",
       "    </tr>\n",
       "  </thead>\n",
       "  <tbody>\n",
       "    <tr>\n",
       "      <th>the</th>\n",
       "      <td>50</td>\n",
       "      <td>69</td>\n",
       "    </tr>\n",
       "    <tr>\n",
       "      <th>to</th>\n",
       "      <td>33</td>\n",
       "      <td>35</td>\n",
       "    </tr>\n",
       "    <tr>\n",
       "      <th>and</th>\n",
       "      <td>25</td>\n",
       "      <td>25</td>\n",
       "    </tr>\n",
       "    <tr>\n",
       "      <th>a</th>\n",
       "      <td>19</td>\n",
       "      <td>21</td>\n",
       "    </tr>\n",
       "    <tr>\n",
       "      <th>of</th>\n",
       "      <td>13</td>\n",
       "      <td>21</td>\n",
       "    </tr>\n",
       "    <tr>\n",
       "      <th>in</th>\n",
       "      <td>11</td>\n",
       "      <td>15</td>\n",
       "    </tr>\n",
       "    <tr>\n",
       "      <th>as</th>\n",
       "      <td>10</td>\n",
       "      <td>8</td>\n",
       "    </tr>\n",
       "    <tr>\n",
       "      <th>is</th>\n",
       "      <td>9</td>\n",
       "      <td>18</td>\n",
       "    </tr>\n",
       "    <tr>\n",
       "      <th>his</th>\n",
       "      <td>6</td>\n",
       "      <td>13</td>\n",
       "    </tr>\n",
       "    <tr>\n",
       "      <th>on</th>\n",
       "      <td>5</td>\n",
       "      <td>7</td>\n",
       "    </tr>\n",
       "  </tbody>\n",
       "</table>\n",
       "</div>"
      ],
      "text/plain": [
       "     count_Star_Wars  count_Dune\n",
       "the               50          69\n",
       "to                33          35\n",
       "and               25          25\n",
       "a                 19          21\n",
       "of                13          21\n",
       "in                11          15\n",
       "as                10           8\n",
       "is                 9          18\n",
       "his                6          13\n",
       "on                 5           7"
      ]
     },
     "execution_count": 27,
     "metadata": {},
     "output_type": "execute_result"
    }
   ],
   "source": [
    "dune_words = top_words('Dune')\n",
    "star_wars1_words.join(dune_words, lsuffix=\"_Star_Wars\", rsuffix=\"_Dune\", how=\"inner\").head(10)"
   ]
  },
  {
   "cell_type": "markdown",
   "metadata": {},
   "source": [
    "**Note.** Even though common words are swamping out important subtle differences, commonalities in rarer political words still matter on the margin. This is why politicians are being listed in the query result instead of musicians, for example. In the next subsection, we will introduce a different metric that will place greater emphasis on those rarer words."
   ]
  },
  {
   "cell_type": "markdown",
   "metadata": {},
   "source": [
    "**e)** Among the words that appear in both Barack Obama and Francisco Barrio, take the 15 that appear most frequently in Obama. How many of the articles in the Wikipedia dataset contain all of those 15 words? Which are they?"
   ]
  },
  {
   "cell_type": "code",
   "execution_count": 28,
   "metadata": {
    "collapsed": false
   },
   "outputs": [
    {
     "name": "stdout",
     "output_type": "stream",
     "text": [
      "Number of articles containing all top common words: 1273\n"
     ]
    }
   ],
   "source": [
    "\n",
    "word_to_ind = {v: i for i, v in enumerate(vectorizer.get_feature_names_out())}\n",
    "\n",
    "\n",
    "common_words_df = star_wars1_words.join(taras_bulba_words, rsuffix=\"_Taras_Bulba\").dropna()\n",
    "\n",
    "top_common_words = common_words_df.sort_values(by=\"count\", ascending=False).iloc[:15].index\n",
    "\n",
    "articles = [i for i, article in enumerate(WCmatrix) if all(article[:, word_to_ind[word]].todense().all() for word in top_common_words)]\n",
    "\n",
    "print(\"Number of articles containing all top common words:\", len(articles))"
   ]
  },
  {
   "cell_type": "code",
   "execution_count": 32,
   "metadata": {
    "collapsed": false
   },
   "outputs": [
    {
     "data": {
      "text/plain": [
       "37       The Black Arrow: A Tale of the Two Roses\n",
       "134                                  Civilization\n",
       "147                             Manhattan Madness\n",
       "162                                     Cleopatra\n",
       "174                           The Little American\n",
       "                           ...                   \n",
       "34512             Front Line, The !The Front Line\n",
       "34513                 Leafie, A Hen Into The Wild\n",
       "34667               The Admiral: Roaring Currents\n",
       "34769                                     Missing\n",
       "34881                           The Water Diviner\n",
       "Name: Title, Length: 1273, dtype: object"
      ]
     },
     "execution_count": 32,
     "metadata": {},
     "output_type": "execute_result"
    }
   ],
   "source": [
    "wiki['Title'][articles]"
   ]
  },
  {
   "cell_type": "markdown",
   "metadata": {},
   "source": [
    "## Ex. 3: TF-IDF to the rescue"
   ]
  },
  {
   "cell_type": "markdown",
   "metadata": {},
   "source": [
    "Much of the perceived commonalities between Obama and Barrio were due to occurrences of extremely frequent words, such as \"the\", \"and\", and \"his\". So nearest neighbors is recommending plausible results sometimes for the wrong reasons.\n",
    "\n",
    "To retrieve articles that are more relevant, we should focus more on rare words that don't happen in every article. **TF-IDF** (term frequency–inverse document frequency) is a feature representation that penalizes words that are too common."
   ]
  },
  {
   "cell_type": "markdown",
   "metadata": {},
   "source": [
    "**a)** Repeat the search for the 10 nearest neighbors of Barack Obama with Euclidean distance of TF-IDF. This time do not limit to only 10000 most frequent words, but take all of them."
   ]
  },
  {
   "cell_type": "code",
   "execution_count": 34,
   "metadata": {
    "collapsed": true
   },
   "outputs": [],
   "source": [
    "# We could use:\n",
    "    # from sklearn.feature_extraction.text import TfidfVectorizer\n",
    "# but since we already know how to compute CountVectorizer, let's use:\n",
    "from sklearn.feature_extraction.text import TfidfTransformer\n",
    "\n",
    "vectorizer = CountVectorizer(token_pattern=r\"(?u)\\b\\w+\\b\")\n",
    "WCmatrix=vectorizer.fit_transform(wiki[\"Plot\"])\n",
    "\n",
    "tfidf=TfidfTransformer(smooth_idf=False, norm=None)\n",
    "TFIDFmatrix = tfidf.fit_transform(WCmatrix)"
   ]
  },
  {
   "cell_type": "code",
   "execution_count": 36,
   "metadata": {
    "collapsed": false
   },
   "outputs": [
    {
     "data": {
      "text/html": [
       "<div>\n",
       "<style scoped>\n",
       "    .dataframe tbody tr th:only-of-type {\n",
       "        vertical-align: middle;\n",
       "    }\n",
       "\n",
       "    .dataframe tbody tr th {\n",
       "        vertical-align: top;\n",
       "    }\n",
       "\n",
       "    .dataframe thead th {\n",
       "        text-align: right;\n",
       "    }\n",
       "</style>\n",
       "<table border=\"1\" class=\"dataframe\">\n",
       "  <thead>\n",
       "    <tr style=\"text-align: right;\">\n",
       "      <th></th>\n",
       "      <th>Title</th>\n",
       "      <th>BO-eucl-TF-IDF</th>\n",
       "    </tr>\n",
       "  </thead>\n",
       "  <tbody>\n",
       "    <tr>\n",
       "      <th>13553</th>\n",
       "      <td>Star Wars: Episode I – The Phantom Menace</td>\n",
       "      <td>0.000000</td>\n",
       "    </tr>\n",
       "    <tr>\n",
       "      <th>16378</th>\n",
       "      <td>Star Wars: Episode I – The Phantom Menace 3D</td>\n",
       "      <td>0.000000</td>\n",
       "    </tr>\n",
       "    <tr>\n",
       "      <th>14155</th>\n",
       "      <td>Star Wars: Episode II – Attack of the Clones</td>\n",
       "      <td>302.015440</td>\n",
       "    </tr>\n",
       "    <tr>\n",
       "      <th>34659</th>\n",
       "      <td>No Tears for the Dead</td>\n",
       "      <td>348.948891</td>\n",
       "    </tr>\n",
       "    <tr>\n",
       "      <th>34613</th>\n",
       "      <td>Tough as Iron</td>\n",
       "      <td>356.195910</td>\n",
       "    </tr>\n",
       "    <tr>\n",
       "      <th>28317</th>\n",
       "      <td>Puthiya Theerangal (പുതിയ തീരങ്ങൾ)</td>\n",
       "      <td>359.514513</td>\n",
       "    </tr>\n",
       "    <tr>\n",
       "      <th>29049</th>\n",
       "      <td>Manithan</td>\n",
       "      <td>359.514898</td>\n",
       "    </tr>\n",
       "    <tr>\n",
       "      <th>21801</th>\n",
       "      <td>Siege</td>\n",
       "      <td>359.632726</td>\n",
       "    </tr>\n",
       "    <tr>\n",
       "      <th>5138</th>\n",
       "      <td>House by the River</td>\n",
       "      <td>359.692031</td>\n",
       "    </tr>\n",
       "    <tr>\n",
       "      <th>31189</th>\n",
       "      <td>Onaayum Aattukkuttiyum</td>\n",
       "      <td>359.704100</td>\n",
       "    </tr>\n",
       "  </tbody>\n",
       "</table>\n",
       "</div>"
      ],
      "text/plain": [
       "                                              Title  BO-eucl-TF-IDF\n",
       "13553     Star Wars: Episode I – The Phantom Menace        0.000000\n",
       "16378  Star Wars: Episode I – The Phantom Menace 3D        0.000000\n",
       "14155  Star Wars: Episode II – Attack of the Clones      302.015440\n",
       "34659                         No Tears for the Dead      348.948891\n",
       "34613                                 Tough as Iron      356.195910\n",
       "28317            Puthiya Theerangal (പുതിയ തീരങ്ങൾ)      359.514513\n",
       "29049                                      Manithan      359.514898\n",
       "21801                                         Siege      359.632726\n",
       "5138                             House by the River      359.692031\n",
       "31189                        Onaayum Aattukkuttiyum      359.704100"
      ]
     },
     "execution_count": 36,
     "metadata": {},
     "output_type": "execute_result"
    }
   ],
   "source": [
    "# now recompute the distances as before but for TF-IDF\n",
    "dist = pairwise_distances(TFIDFmatrix[wiki[wiki[\"Title\"] == \"Star Wars: Episode I – The Phantom Menace\"].index], TFIDFmatrix)\n",
    "\n",
    "wiki['BO-eucl-TF-IDF'] = dist[0]\n",
    "wiki[['Title', 'BO-eucl-TF-IDF']].sort_values(by='BO-eucl-TF-IDF').iloc[:10]"
   ]
  },
  {
   "cell_type": "markdown",
   "metadata": {},
   "source": [
    "Let's determine whether this list makes sense.\n",
    "* With a notable exception of Nathan Cullen, the other 8 are all American politicians who are contemporaries of Barack Obama.\n",
    "* Phil Schiliro, Jesse Lee, Samantha Power, Eric Stern, Eric Holder worked for Obama.\n",
    "\n",
    "Clearly, the results are more plausible with the use of TF-IDF. Let's take a look at the word vector for Obama and Schilirio's pages. Notice that TF-IDF representation assigns a weight to each word. This weight captures relative importance of that word in the document."
   ]
  },
  {
   "cell_type": "markdown",
   "metadata": {},
   "source": [
    "**b)** Sort the words in Obama's article by their TF-IDF weights; do the same for Schiliro's article as well.\n",
    "Using the **join** operation we learned earlier, compute the common words shared by Obama's and Schiliro's articles.\n",
    "Sort the common words by their TF-IDF weights in Obama's document."
   ]
  },
  {
   "cell_type": "code",
   "execution_count": 45,
   "metadata": {
    "collapsed": true
   },
   "outputs": [],
   "source": [
    "from sklearn.feature_extraction.text import ENGLISH_STOP_WORDS\n",
    "\n",
    "def top_words_tf_idf(name):\n",
    "    \"\"\"\n",
    "    Get a table of the largest tf-idf words in the given person's Wikipedia page, excluding stopwords.\n",
    "    \"\"\"\n",
    "    words = wiki[wiki[\"Title\"] == name]['Plot'].values[0].split()\n",
    "    ind = {v.lower(): i for i, v in enumerate(vectorizer.get_feature_names_out()) if v.lower() not in ENGLISH_STOP_WORDS}\n",
    "    words_weights = [TFIDFmatrix[wiki[wiki[\"Title\"] == name].index][0, ind.get(word.lower(), -1)] for word in words if word.lower() not in ENGLISH_STOP_WORDS and ind.get(word.lower(), -1) != -1]\n",
    "    df = pd.DataFrame({\"word\": words, \"tf-idf\": words_weights})\n",
    "    df.drop_duplicates(inplace=True)\n",
    "    return df.sort_values(by='tf-idf', ascending=False)\n",
    "\n"
   ]
  },
  {
   "cell_type": "code",
   "execution_count": 46,
   "metadata": {
    "collapsed": false,
    "jupyter": {
     "outputs_hidden": false
    }
   },
   "outputs": [
    {
     "ename": "ValueError",
     "evalue": "All arrays must be of the same length",
     "output_type": "error",
     "traceback": [
      "\u001b[0;31m---------------------------------------------------------------------------\u001b[0m",
      "\u001b[0;31mValueError\u001b[0m                                Traceback (most recent call last)",
      "\u001b[1;32m/home/viktoryia/UJ/data_science/Optional_assignment_5_with_code.ipynb Cell 37\u001b[0m line \u001b[0;36m1\n\u001b[0;32m----> <a href='vscode-notebook-cell:/home/viktoryia/UJ/data_science/Optional_assignment_5_with_code.ipynb#X52sZmlsZQ%3D%3D?line=0'>1</a>\u001b[0m star_wars1_tf_idf \u001b[39m=\u001b[39m top_words_tf_idf(\u001b[39m'\u001b[39;49m\u001b[39mStar Wars: Episode I – The Phantom Menace\u001b[39;49m\u001b[39m'\u001b[39;49m)\n\u001b[1;32m      <a href='vscode-notebook-cell:/home/viktoryia/UJ/data_science/Optional_assignment_5_with_code.ipynb#X52sZmlsZQ%3D%3D?line=1'>2</a>\u001b[0m star_wars2_tf_idf \u001b[39m=\u001b[39m top_words_tf_idf(\u001b[39m'\u001b[39m\u001b[39mStar Wars: Episode II – Attack of the Clones\u001b[39m\u001b[39m'\u001b[39m)\n\u001b[1;32m      <a href='vscode-notebook-cell:/home/viktoryia/UJ/data_science/Optional_assignment_5_with_code.ipynb#X52sZmlsZQ%3D%3D?line=3'>4</a>\u001b[0m star_wars1_tf_idf\u001b[39m.\u001b[39mjoin(star_wars2_tf_idf, rsuffix\u001b[39m=\u001b[39m\u001b[39m\"\u001b[39m\u001b[39m_second\u001b[39m\u001b[39m\"\u001b[39m, lsuffix\u001b[39m=\u001b[39m\u001b[39m\"\u001b[39m\u001b[39m_first\u001b[39m\u001b[39m\"\u001b[39m, how\u001b[39m=\u001b[39m\u001b[39m\"\u001b[39m\u001b[39minner\u001b[39m\u001b[39m\"\u001b[39m)\u001b[39m.\u001b[39mhead(\u001b[39m15\u001b[39m)\n",
      "\u001b[1;32m/home/viktoryia/UJ/data_science/Optional_assignment_5_with_code.ipynb Cell 37\u001b[0m line \u001b[0;36m1\n\u001b[1;32m      <a href='vscode-notebook-cell:/home/viktoryia/UJ/data_science/Optional_assignment_5_with_code.ipynb#X52sZmlsZQ%3D%3D?line=7'>8</a>\u001b[0m ind \u001b[39m=\u001b[39m {v\u001b[39m.\u001b[39mlower(): i \u001b[39mfor\u001b[39;00m i, v \u001b[39min\u001b[39;00m \u001b[39menumerate\u001b[39m(vectorizer\u001b[39m.\u001b[39mget_feature_names_out()) \u001b[39mif\u001b[39;00m v\u001b[39m.\u001b[39mlower() \u001b[39mnot\u001b[39;00m \u001b[39min\u001b[39;00m ENGLISH_STOP_WORDS}\n\u001b[1;32m      <a href='vscode-notebook-cell:/home/viktoryia/UJ/data_science/Optional_assignment_5_with_code.ipynb#X52sZmlsZQ%3D%3D?line=8'>9</a>\u001b[0m words_weights \u001b[39m=\u001b[39m [TFIDFmatrix[wiki[wiki[\u001b[39m\"\u001b[39m\u001b[39mTitle\u001b[39m\u001b[39m\"\u001b[39m] \u001b[39m==\u001b[39m name]\u001b[39m.\u001b[39mindex][\u001b[39m0\u001b[39m, ind\u001b[39m.\u001b[39mget(word\u001b[39m.\u001b[39mlower(), \u001b[39m-\u001b[39m\u001b[39m1\u001b[39m)] \u001b[39mfor\u001b[39;00m word \u001b[39min\u001b[39;00m words \u001b[39mif\u001b[39;00m word\u001b[39m.\u001b[39mlower() \u001b[39mnot\u001b[39;00m \u001b[39min\u001b[39;00m ENGLISH_STOP_WORDS \u001b[39mand\u001b[39;00m ind\u001b[39m.\u001b[39mget(word\u001b[39m.\u001b[39mlower(), \u001b[39m-\u001b[39m\u001b[39m1\u001b[39m) \u001b[39m!=\u001b[39m \u001b[39m-\u001b[39m\u001b[39m1\u001b[39m]\n\u001b[0;32m---> <a href='vscode-notebook-cell:/home/viktoryia/UJ/data_science/Optional_assignment_5_with_code.ipynb#X52sZmlsZQ%3D%3D?line=9'>10</a>\u001b[0m df \u001b[39m=\u001b[39m pd\u001b[39m.\u001b[39;49mDataFrame({\u001b[39m\"\u001b[39;49m\u001b[39mword\u001b[39;49m\u001b[39m\"\u001b[39;49m: words, \u001b[39m\"\u001b[39;49m\u001b[39mtf-idf\u001b[39;49m\u001b[39m\"\u001b[39;49m: words_weights})\n\u001b[1;32m     <a href='vscode-notebook-cell:/home/viktoryia/UJ/data_science/Optional_assignment_5_with_code.ipynb#X52sZmlsZQ%3D%3D?line=10'>11</a>\u001b[0m df\u001b[39m.\u001b[39mdrop_duplicates(inplace\u001b[39m=\u001b[39m\u001b[39mTrue\u001b[39;00m)\n\u001b[1;32m     <a href='vscode-notebook-cell:/home/viktoryia/UJ/data_science/Optional_assignment_5_with_code.ipynb#X52sZmlsZQ%3D%3D?line=11'>12</a>\u001b[0m \u001b[39mreturn\u001b[39;00m df\u001b[39m.\u001b[39msort_values(by\u001b[39m=\u001b[39m\u001b[39m'\u001b[39m\u001b[39mtf-idf\u001b[39m\u001b[39m'\u001b[39m, ascending\u001b[39m=\u001b[39m\u001b[39mFalse\u001b[39;00m)\n",
      "File \u001b[0;32m~/.local/lib/python3.11/site-packages/pandas/core/frame.py:637\u001b[0m, in \u001b[0;36mDataFrame.__init__\u001b[0;34m(self, data, index, columns, dtype, copy)\u001b[0m\n\u001b[1;32m    631\u001b[0m     mgr \u001b[39m=\u001b[39m \u001b[39mself\u001b[39m\u001b[39m.\u001b[39m_init_mgr(\n\u001b[1;32m    632\u001b[0m         data, axes\u001b[39m=\u001b[39m{\u001b[39m\"\u001b[39m\u001b[39mindex\u001b[39m\u001b[39m\"\u001b[39m: index, \u001b[39m\"\u001b[39m\u001b[39mcolumns\u001b[39m\u001b[39m\"\u001b[39m: columns}, dtype\u001b[39m=\u001b[39mdtype, copy\u001b[39m=\u001b[39mcopy\n\u001b[1;32m    633\u001b[0m     )\n\u001b[1;32m    635\u001b[0m \u001b[39melif\u001b[39;00m \u001b[39misinstance\u001b[39m(data, \u001b[39mdict\u001b[39m):\n\u001b[1;32m    636\u001b[0m     \u001b[39m# GH#38939 de facto copy defaults to False only in non-dict cases\u001b[39;00m\n\u001b[0;32m--> 637\u001b[0m     mgr \u001b[39m=\u001b[39m dict_to_mgr(data, index, columns, dtype\u001b[39m=\u001b[39;49mdtype, copy\u001b[39m=\u001b[39;49mcopy, typ\u001b[39m=\u001b[39;49mmanager)\n\u001b[1;32m    638\u001b[0m \u001b[39melif\u001b[39;00m \u001b[39misinstance\u001b[39m(data, ma\u001b[39m.\u001b[39mMaskedArray):\n\u001b[1;32m    639\u001b[0m     \u001b[39mimport\u001b[39;00m \u001b[39mnumpy\u001b[39;00m\u001b[39m.\u001b[39;00m\u001b[39mma\u001b[39;00m\u001b[39m.\u001b[39;00m\u001b[39mmrecords\u001b[39;00m \u001b[39mas\u001b[39;00m \u001b[39mmrecords\u001b[39;00m\n",
      "File \u001b[0;32m~/.local/lib/python3.11/site-packages/pandas/core/internals/construction.py:502\u001b[0m, in \u001b[0;36mdict_to_mgr\u001b[0;34m(data, index, columns, dtype, typ, copy)\u001b[0m\n\u001b[1;32m    494\u001b[0m     arrays \u001b[39m=\u001b[39m [\n\u001b[1;32m    495\u001b[0m         x\n\u001b[1;32m    496\u001b[0m         \u001b[39mif\u001b[39;00m \u001b[39mnot\u001b[39;00m \u001b[39mhasattr\u001b[39m(x, \u001b[39m\"\u001b[39m\u001b[39mdtype\u001b[39m\u001b[39m\"\u001b[39m) \u001b[39mor\u001b[39;00m \u001b[39mnot\u001b[39;00m \u001b[39misinstance\u001b[39m(x\u001b[39m.\u001b[39mdtype, ExtensionDtype)\n\u001b[1;32m    497\u001b[0m         \u001b[39melse\u001b[39;00m x\u001b[39m.\u001b[39mcopy()\n\u001b[1;32m    498\u001b[0m         \u001b[39mfor\u001b[39;00m x \u001b[39min\u001b[39;00m arrays\n\u001b[1;32m    499\u001b[0m     ]\n\u001b[1;32m    500\u001b[0m     \u001b[39m# TODO: can we get rid of the dt64tz special case above?\u001b[39;00m\n\u001b[0;32m--> 502\u001b[0m \u001b[39mreturn\u001b[39;00m arrays_to_mgr(arrays, columns, index, dtype\u001b[39m=\u001b[39;49mdtype, typ\u001b[39m=\u001b[39;49mtyp, consolidate\u001b[39m=\u001b[39;49mcopy)\n",
      "File \u001b[0;32m~/.local/lib/python3.11/site-packages/pandas/core/internals/construction.py:120\u001b[0m, in \u001b[0;36marrays_to_mgr\u001b[0;34m(arrays, columns, index, dtype, verify_integrity, typ, consolidate)\u001b[0m\n\u001b[1;32m    117\u001b[0m \u001b[39mif\u001b[39;00m verify_integrity:\n\u001b[1;32m    118\u001b[0m     \u001b[39m# figure out the index, if necessary\u001b[39;00m\n\u001b[1;32m    119\u001b[0m     \u001b[39mif\u001b[39;00m index \u001b[39mis\u001b[39;00m \u001b[39mNone\u001b[39;00m:\n\u001b[0;32m--> 120\u001b[0m         index \u001b[39m=\u001b[39m _extract_index(arrays)\n\u001b[1;32m    121\u001b[0m     \u001b[39melse\u001b[39;00m:\n\u001b[1;32m    122\u001b[0m         index \u001b[39m=\u001b[39m ensure_index(index)\n",
      "File \u001b[0;32m~/.local/lib/python3.11/site-packages/pandas/core/internals/construction.py:674\u001b[0m, in \u001b[0;36m_extract_index\u001b[0;34m(data)\u001b[0m\n\u001b[1;32m    672\u001b[0m lengths \u001b[39m=\u001b[39m \u001b[39mlist\u001b[39m(\u001b[39mset\u001b[39m(raw_lengths))\n\u001b[1;32m    673\u001b[0m \u001b[39mif\u001b[39;00m \u001b[39mlen\u001b[39m(lengths) \u001b[39m>\u001b[39m \u001b[39m1\u001b[39m:\n\u001b[0;32m--> 674\u001b[0m     \u001b[39mraise\u001b[39;00m \u001b[39mValueError\u001b[39;00m(\u001b[39m\"\u001b[39m\u001b[39mAll arrays must be of the same length\u001b[39m\u001b[39m\"\u001b[39m)\n\u001b[1;32m    676\u001b[0m \u001b[39mif\u001b[39;00m have_dicts:\n\u001b[1;32m    677\u001b[0m     \u001b[39mraise\u001b[39;00m \u001b[39mValueError\u001b[39;00m(\n\u001b[1;32m    678\u001b[0m         \u001b[39m\"\u001b[39m\u001b[39mMixing dicts with non-Series may lead to ambiguous ordering.\u001b[39m\u001b[39m\"\u001b[39m\n\u001b[1;32m    679\u001b[0m     )\n",
      "\u001b[0;31mValueError\u001b[0m: All arrays must be of the same length"
     ]
    }
   ],
   "source": [
    "star_wars1_tf_idf = top_words_tf_idf('Star Wars: Episode I – The Phantom Menace')\n",
    "star_wars2_tf_idf = top_words_tf_idf('Star Wars: Episode II – Attack of the Clones')\n",
    "\n",
    "star_wars1_tf_idf.join(star_wars2_tf_idf, rsuffix=\"_second\", lsuffix=\"_first\", how=\"inner\").head(15)"
   ]
  },
  {
   "cell_type": "markdown",
   "metadata": {},
   "source": [
    "**c)** Among the words that appear in both Barack Obama and Phil Schiliro, take the 15 that have largest weights in Obama. How many of the articles in the Wikipedia dataset contain all of those 15 words? Which are they?"
   ]
  },
  {
   "cell_type": "code",
   "execution_count": 117,
   "metadata": {
    "collapsed": false
   },
   "outputs": [
    {
     "data": {
      "text/plain": [
       "3"
      ]
     },
     "execution_count": 117,
     "metadata": {},
     "output_type": "execute_result"
    }
   ],
   "source": [
    "# It might be helpful to use:\n",
    "word_to_ind={v: i for i, v in enumerate(vectorizer.get_feature_names())} # a dictionary with words as keys and indices as values\n",
    "\n",
    "# Your code goes here\n",
    "\n",
    "articles.sum()"
   ]
  },
  {
   "cell_type": "code",
   "execution_count": 118,
   "metadata": {
    "collapsed": false
   },
   "outputs": [
    {
     "data": {
      "text/plain": [
       "7914     Phil Schiliro\n",
       "24478        Joe Biden\n",
       "35817     Barack Obama\n",
       "Name: name, dtype: object"
      ]
     },
     "execution_count": 118,
     "metadata": {},
     "output_type": "execute_result"
    }
   ],
   "source": [
    "wiki[articles]['name']"
   ]
  },
  {
   "cell_type": "markdown",
   "metadata": {},
   "source": [
    "Notice the huge difference in this calculation using TF-IDF scores instead  of raw word counts. We've eliminated noise arising from extremely common words."
   ]
  },
  {
   "cell_type": "markdown",
   "metadata": {},
   "source": [
    "## Ex. 4: Choosing metrics"
   ]
  },
  {
   "cell_type": "markdown",
   "metadata": {},
   "source": [
    "**a)** Compute the Euclidean distance between TF-IDF features of Obama and Biden."
   ]
  },
  {
   "cell_type": "code",
   "execution_count": 122,
   "metadata": {
    "collapsed": false
   },
   "outputs": [
    {
     "data": {
      "text/plain": [
       "148.7784541307789"
      ]
     },
     "execution_count": 122,
     "metadata": {},
     "output_type": "execute_result"
    }
   ],
   "source": [
    "dist = # Your code goes here"
   ]
  },
  {
   "cell_type": "markdown",
   "metadata": {},
   "source": [
    "The distance is larger than the distances we found for the 10 nearest neighbors, which we repeat here for readability:"
   ]
  },
  {
   "cell_type": "code",
   "execution_count": 121,
   "metadata": {
    "collapsed": false,
    "jupyter": {
     "outputs_hidden": false
    }
   },
   "outputs": [
    {
     "data": {
      "text/html": [
       "<div>\n",
       "<style scoped>\n",
       "    .dataframe tbody tr th:only-of-type {\n",
       "        vertical-align: middle;\n",
       "    }\n",
       "\n",
       "    .dataframe tbody tr th {\n",
       "        vertical-align: top;\n",
       "    }\n",
       "\n",
       "    .dataframe thead th {\n",
       "        text-align: right;\n",
       "    }\n",
       "</style>\n",
       "<table border=\"1\" class=\"dataframe\">\n",
       "  <thead>\n",
       "    <tr style=\"text-align: right;\">\n",
       "      <th></th>\n",
       "      <th>name</th>\n",
       "      <th>BO-eucl-TF-IDF</th>\n",
       "    </tr>\n",
       "  </thead>\n",
       "  <tbody>\n",
       "    <tr>\n",
       "      <td>35817</td>\n",
       "      <td>Barack Obama</td>\n",
       "      <td>0.000000</td>\n",
       "    </tr>\n",
       "    <tr>\n",
       "      <td>38376</td>\n",
       "      <td>Samantha Power</td>\n",
       "      <td>139.364493</td>\n",
       "    </tr>\n",
       "    <tr>\n",
       "      <td>46811</td>\n",
       "      <td>Jeff Sessions</td>\n",
       "      <td>139.757740</td>\n",
       "    </tr>\n",
       "    <tr>\n",
       "      <td>7914</td>\n",
       "      <td>Phil Schiliro</td>\n",
       "      <td>139.812175</td>\n",
       "    </tr>\n",
       "    <tr>\n",
       "      <td>38714</td>\n",
       "      <td>Eric Stern (politician)</td>\n",
       "      <td>140.450064</td>\n",
       "    </tr>\n",
       "    <tr>\n",
       "      <td>6507</td>\n",
       "      <td>Bob Menendez</td>\n",
       "      <td>141.661111</td>\n",
       "    </tr>\n",
       "    <tr>\n",
       "      <td>44681</td>\n",
       "      <td>Jesse Lee (politician)</td>\n",
       "      <td>142.342440</td>\n",
       "    </tr>\n",
       "    <tr>\n",
       "      <td>6796</td>\n",
       "      <td>Eric Holder</td>\n",
       "      <td>142.490179</td>\n",
       "    </tr>\n",
       "    <tr>\n",
       "      <td>38495</td>\n",
       "      <td>Barney Frank</td>\n",
       "      <td>142.581337</td>\n",
       "    </tr>\n",
       "    <tr>\n",
       "      <td>56008</td>\n",
       "      <td>Nathan Cullen</td>\n",
       "      <td>142.751073</td>\n",
       "    </tr>\n",
       "  </tbody>\n",
       "</table>\n",
       "</div>"
      ],
      "text/plain": [
       "                          name  BO-eucl-TF-IDF\n",
       "35817             Barack Obama        0.000000\n",
       "38376           Samantha Power      139.364493\n",
       "46811            Jeff Sessions      139.757740\n",
       "7914             Phil Schiliro      139.812175\n",
       "38714  Eric Stern (politician)      140.450064\n",
       "6507              Bob Menendez      141.661111\n",
       "44681   Jesse Lee (politician)      142.342440\n",
       "6796               Eric Holder      142.490179\n",
       "38495             Barney Frank      142.581337\n",
       "56008            Nathan Cullen      142.751073"
      ]
     },
     "execution_count": 121,
     "metadata": {},
     "output_type": "execute_result"
    }
   ],
   "source": [
    "wiki.sort_values(by='BO-eucl-TF-IDF',ascending=True)[['name','BO-eucl-TF-IDF']][0:10]"
   ]
  },
  {
   "cell_type": "markdown",
   "metadata": {},
   "source": [
    "But one may wonder, is Biden's article that different from Obama's, more so than, say, Schiliro's? It turns out that, when we compute nearest neighbors using the Euclidean distances, we unwittingly favor short articles over long ones."
   ]
  },
  {
   "cell_type": "markdown",
   "metadata": {},
   "source": [
    "**b)** Let us compute the length of each Wikipedia document, and examine the document lengths for the 100 nearest neighbors to Obama's page. To compute text length use the same splitting rules you used in `vectorizer`."
   ]
  },
  {
   "cell_type": "code",
   "execution_count": 133,
   "metadata": {
    "collapsed": false,
    "jupyter": {
     "outputs_hidden": false
    }
   },
   "outputs": [],
   "source": [
    "tokenizer = # Your code goes here\n",
    "\n",
    "def compute_length(row):\n",
    "# Here we could use simply:\n",
    "#     return len(row['text'].split(' '))\n",
    "    return len(tokenizer(row['text']))\n",
    "\n",
    "wiki['length'] = # Your code goes here"
   ]
  },
  {
   "cell_type": "code",
   "execution_count": 134,
   "metadata": {
    "collapsed": false,
    "jupyter": {
     "outputs_hidden": false
    }
   },
   "outputs": [
    {
     "data": {
      "text/html": [
       "<div>\n",
       "<style scoped>\n",
       "    .dataframe tbody tr th:only-of-type {\n",
       "        vertical-align: middle;\n",
       "    }\n",
       "\n",
       "    .dataframe tbody tr th {\n",
       "        vertical-align: top;\n",
       "    }\n",
       "\n",
       "    .dataframe thead th {\n",
       "        text-align: right;\n",
       "    }\n",
       "</style>\n",
       "<table border=\"1\" class=\"dataframe\">\n",
       "  <thead>\n",
       "    <tr style=\"text-align: right;\">\n",
       "      <th></th>\n",
       "      <th>name</th>\n",
       "      <th>length</th>\n",
       "      <th>BO-eucl-TF-IDF</th>\n",
       "    </tr>\n",
       "  </thead>\n",
       "  <tbody>\n",
       "    <tr>\n",
       "      <td>35817</td>\n",
       "      <td>Barack Obama</td>\n",
       "      <td>540</td>\n",
       "      <td>0.000000</td>\n",
       "    </tr>\n",
       "    <tr>\n",
       "      <td>38376</td>\n",
       "      <td>Samantha Power</td>\n",
       "      <td>310</td>\n",
       "      <td>139.364493</td>\n",
       "    </tr>\n",
       "    <tr>\n",
       "      <td>46811</td>\n",
       "      <td>Jeff Sessions</td>\n",
       "      <td>230</td>\n",
       "      <td>139.757740</td>\n",
       "    </tr>\n",
       "    <tr>\n",
       "      <td>7914</td>\n",
       "      <td>Phil Schiliro</td>\n",
       "      <td>208</td>\n",
       "      <td>139.812175</td>\n",
       "    </tr>\n",
       "    <tr>\n",
       "      <td>38714</td>\n",
       "      <td>Eric Stern (politician)</td>\n",
       "      <td>255</td>\n",
       "      <td>140.450064</td>\n",
       "    </tr>\n",
       "    <tr>\n",
       "      <td>...</td>\n",
       "      <td>...</td>\n",
       "      <td>...</td>\n",
       "      <td>...</td>\n",
       "    </tr>\n",
       "    <tr>\n",
       "      <td>12834</td>\n",
       "      <td>Mark Waller (judge)</td>\n",
       "      <td>211</td>\n",
       "      <td>146.796202</td>\n",
       "    </tr>\n",
       "    <tr>\n",
       "      <td>11303</td>\n",
       "      <td>Steven Weinberg</td>\n",
       "      <td>227</td>\n",
       "      <td>146.815087</td>\n",
       "    </tr>\n",
       "    <tr>\n",
       "      <td>8277</td>\n",
       "      <td>John M. Facciola</td>\n",
       "      <td>207</td>\n",
       "      <td>146.823495</td>\n",
       "    </tr>\n",
       "    <tr>\n",
       "      <td>11996</td>\n",
       "      <td>Thomas H. Jackson</td>\n",
       "      <td>216</td>\n",
       "      <td>146.836489</td>\n",
       "    </tr>\n",
       "    <tr>\n",
       "      <td>50366</td>\n",
       "      <td>Patrick Lipton Robinson</td>\n",
       "      <td>201</td>\n",
       "      <td>146.849274</td>\n",
       "    </tr>\n",
       "  </tbody>\n",
       "</table>\n",
       "<p>100 rows × 3 columns</p>\n",
       "</div>"
      ],
      "text/plain": [
       "                          name  length  BO-eucl-TF-IDF\n",
       "35817             Barack Obama     540        0.000000\n",
       "38376           Samantha Power     310      139.364493\n",
       "46811            Jeff Sessions     230      139.757740\n",
       "7914             Phil Schiliro     208      139.812175\n",
       "38714  Eric Stern (politician)     255      140.450064\n",
       "...                        ...     ...             ...\n",
       "12834      Mark Waller (judge)     211      146.796202\n",
       "11303          Steven Weinberg     227      146.815087\n",
       "8277          John M. Facciola     207      146.823495\n",
       "11996        Thomas H. Jackson     216      146.836489\n",
       "50366  Patrick Lipton Robinson     201      146.849274\n",
       "\n",
       "[100 rows x 3 columns]"
      ]
     },
     "execution_count": 134,
     "metadata": {},
     "output_type": "execute_result"
    }
   ],
   "source": [
    "nearest_neighbors_euclidean = # Your code goes here"
   ]
  },
  {
   "cell_type": "markdown",
   "metadata": {},
   "source": [
    "**c)** To see how these document lengths compare to the lengths of other documents in the corpus, make a histogram of the document lengths of Obama's 100 nearest neighbors and compare to a histogram of document lengths for all documents."
   ]
  },
  {
   "cell_type": "code",
   "execution_count": 135,
   "metadata": {
    "collapsed": false,
    "jupyter": {
     "outputs_hidden": false
    }
   },
   "outputs": [
    {
     "data": {
      "image/png": "[encoded data removed]",
      "text/plain": [
       "<Figure size 756x324 with 1 Axes>"
      ]
     },
     "metadata": {
      "needs_background": "light"
     },
     "output_type": "display_data"
    }
   ],
   "source": [
    "plt.figure(figsize=(10.5,4.5))\n",
    "plt.hist(# Your code goes here\n",
    "        )\n",
    "plt.axvline(# Your code goes here\n",
    "        )\n",
    "\n",
    "# Your code goes here\n",
    "\n",
    "plt.tight_layout()"
   ]
  },
  {
   "cell_type": "markdown",
   "metadata": {},
   "source": [
    "Relative to the rest of Wikipedia, nearest neighbors of Obama are overwhemingly short, most of them being shorter than 300 words. The bias towards short articles is not appropriate in this application as there is really no reason to  favor short articles over long articles (they are all Wikipedia articles, after all). Many of the Wikipedia articles are 300 words or more, and both Obama and Biden are over 300 words long.\n",
    "\n",
    "**Note**: For the interest of computation time, the dataset given here contains _excerpts_ of the articles rather than full text. For instance, the actual Wikipedia article about Obama is around 25000 words. Do not be surprised by the low numbers shown in the histogram."
   ]
  },
  {
   "cell_type": "markdown",
   "metadata": {},
   "source": [
    "**Note:** Both word-count features and TF-IDF are proportional to word frequencies. While TF-IDF penalizes very common words, longer articles tend to have longer TF-IDF vectors simply because they have more words in them."
   ]
  },
  {
   "cell_type": "markdown",
   "metadata": {},
   "source": [
    "To remove this bias, we turn to **cosine distances**:\n",
    "$$\n",
    "d(\\mathbf{x},\\mathbf{y}) = 1 - \\frac{\\mathbf{x}^T\\mathbf{y}}{\\|\\mathbf{x}\\| \\|\\mathbf{y}\\|}\n",
    "$$\n",
    "Cosine distances let us compare word distributions of two articles of varying lengths."
   ]
  },
  {
   "cell_type": "markdown",
   "metadata": {},
   "source": [
    "**d)** Train a new nearest neighbor model, this time with cosine distances.  Then repeat the search for Obama's 100 nearest neighbors and make a plot to better visualize the effect of having used cosine distance in place of Euclidean on our TF-IDF vectors."
   ]
  },
  {
   "cell_type": "code",
   "execution_count": 139,
   "metadata": {
    "collapsed": false,
    "jupyter": {
     "outputs_hidden": false
    }
   },
   "outputs": [
    {
     "data": {
      "text/html": [
       "<div>\n",
       "<style scoped>\n",
       "    .dataframe tbody tr th:only-of-type {\n",
       "        vertical-align: middle;\n",
       "    }\n",
       "\n",
       "    .dataframe tbody tr th {\n",
       "        vertical-align: top;\n",
       "    }\n",
       "\n",
       "    .dataframe thead th {\n",
       "        text-align: right;\n",
       "    }\n",
       "</style>\n",
       "<table border=\"1\" class=\"dataframe\">\n",
       "  <thead>\n",
       "    <tr style=\"text-align: right;\">\n",
       "      <th></th>\n",
       "      <th>name</th>\n",
       "      <th>length</th>\n",
       "      <th>BO-cos-TF-IDF</th>\n",
       "    </tr>\n",
       "  </thead>\n",
       "  <tbody>\n",
       "    <tr>\n",
       "      <td>35817</td>\n",
       "      <td>Barack Obama</td>\n",
       "      <td>540</td>\n",
       "      <td>0.000000</td>\n",
       "    </tr>\n",
       "    <tr>\n",
       "      <td>24478</td>\n",
       "      <td>Joe Biden</td>\n",
       "      <td>414</td>\n",
       "      <td>0.572725</td>\n",
       "    </tr>\n",
       "    <tr>\n",
       "      <td>57108</td>\n",
       "      <td>Hillary Rodham Clinton</td>\n",
       "      <td>580</td>\n",
       "      <td>0.616149</td>\n",
       "    </tr>\n",
       "    <tr>\n",
       "      <td>38376</td>\n",
       "      <td>Samantha Power</td>\n",
       "      <td>310</td>\n",
       "      <td>0.625797</td>\n",
       "    </tr>\n",
       "    <tr>\n",
       "      <td>38714</td>\n",
       "      <td>Eric Stern (politician)</td>\n",
       "      <td>255</td>\n",
       "      <td>0.651475</td>\n",
       "    </tr>\n",
       "    <tr>\n",
       "      <td>...</td>\n",
       "      <td>...</td>\n",
       "      <td>...</td>\n",
       "      <td>...</td>\n",
       "    </tr>\n",
       "    <tr>\n",
       "      <td>2045</td>\n",
       "      <td>Allan Ryan (attorney)</td>\n",
       "      <td>291</td>\n",
       "      <td>0.731376</td>\n",
       "    </tr>\n",
       "    <tr>\n",
       "      <td>47085</td>\n",
       "      <td>Ray Thornton</td>\n",
       "      <td>326</td>\n",
       "      <td>0.731908</td>\n",
       "    </tr>\n",
       "    <tr>\n",
       "      <td>16392</td>\n",
       "      <td>P%C3%A9ter Kov%C3%A1cs (lawyer)</td>\n",
       "      <td>365</td>\n",
       "      <td>0.732172</td>\n",
       "    </tr>\n",
       "    <tr>\n",
       "      <td>55495</td>\n",
       "      <td>Lokman Singh Karki</td>\n",
       "      <td>2486</td>\n",
       "      <td>0.732608</td>\n",
       "    </tr>\n",
       "    <tr>\n",
       "      <td>22304</td>\n",
       "      <td>Chung Dong-young</td>\n",
       "      <td>886</td>\n",
       "      <td>0.732785</td>\n",
       "    </tr>\n",
       "  </tbody>\n",
       "</table>\n",
       "<p>100 rows × 3 columns</p>\n",
       "</div>"
      ],
      "text/plain": [
       "                                  name  length  BO-cos-TF-IDF\n",
       "35817                     Barack Obama     540       0.000000\n",
       "24478                        Joe Biden     414       0.572725\n",
       "57108           Hillary Rodham Clinton     580       0.616149\n",
       "38376                   Samantha Power     310       0.625797\n",
       "38714          Eric Stern (politician)     255       0.651475\n",
       "...                                ...     ...            ...\n",
       "2045             Allan Ryan (attorney)     291       0.731376\n",
       "47085                     Ray Thornton     326       0.731908\n",
       "16392  P%C3%A9ter Kov%C3%A1cs (lawyer)     365       0.732172\n",
       "55495               Lokman Singh Karki    2486       0.732608\n",
       "22304                 Chung Dong-young     886       0.732785\n",
       "\n",
       "[100 rows x 3 columns]"
      ]
     },
     "execution_count": 139,
     "metadata": {},
     "output_type": "execute_result"
    }
   ],
   "source": [
    "# Your code goes here\n",
    "nearest_neighbors_cosine"
   ]
  },
  {
   "cell_type": "markdown",
   "metadata": {},
   "source": [
    "From a glance at the above table, things look better.  For example, we now see Joe Biden as Barack Obama's nearest neighbor!  We also see Hillary Clinton on the list.  This list looks even more plausible as nearest neighbors of Barack Obama."
   ]
  },
  {
   "cell_type": "code",
   "execution_count": 140,
   "metadata": {
    "collapsed": false,
    "jupyter": {
     "outputs_hidden": false
    }
   },
   "outputs": [
    {
     "data": {
      "text/plain": [
       "<Figure size 756x324 with 0 Axes>"
      ]
     },
     "metadata": {},
     "output_type": "display_data"
    },
    {
     "data": {
      "image/png": "[encoded data removed]",
      "text/plain": [
       "<Figure size 756x324 with 1 Axes>"
      ]
     },
     "metadata": {
      "needs_background": "light"
     },
     "output_type": "display_data"
    }
   ],
   "source": [
    "plt.figure(figsize=(10.5,4.5))\n",
    "plt.hist(# Your code goes here\n",
    "        )\n",
    "plt.axvline(# Your code goes here\n",
    "        )\n",
    "\n",
    "# Your code goes here\n",
    "\n",
    "plt.tight_layout()"
   ]
  },
  {
   "cell_type": "markdown",
   "metadata": {},
   "source": [
    "Indeed, the 100 nearest neighbors using cosine distance provide a sampling across the range of document lengths, rather than just short articles like Euclidean distance provided."
   ]
  },
  {
   "cell_type": "markdown",
   "metadata": {},
   "source": [
    "**Moral of the story**: In deciding the features and distance measures, check if they produce results that make sense for your particular application."
   ]
  },
  {
   "cell_type": "markdown",
   "metadata": {},
   "source": [
    "## Ex. 5: Problem with cosine distances: tweets vs. long articles"
   ]
  },
  {
   "cell_type": "markdown",
   "metadata": {},
   "source": [
    "Happily ever after? Not so fast. Cosine distances ignore all document lengths, which may be great in certain situations but not in others. For instance, consider the following (admittedly contrived) example."
   ]
  },
  {
   "cell_type": "markdown",
   "metadata": {},
   "source": [
    "```\n",
    "+--------------------------------------------------------+\n",
    "|                                             +--------+ |\n",
    "|  One that shall not be named                | Follow | |\n",
    "|  @username                                  +--------+ |\n",
    "|                                                        |\n",
    "|  Democratic governments control law in response to     |\n",
    "|  popular act.                                          |\n",
    "|                                                        |\n",
    "|  8:05 AM - 16 May 2016                                 |\n",
    "|                                                        |\n",
    "|  Reply   Retweet (1,332)   Like (300)                  |\n",
    "|                                                        |\n",
    "+--------------------------------------------------------+\n",
    "```"
   ]
  },
  {
   "cell_type": "markdown",
   "metadata": {},
   "source": [
    "**a)** Transform the tweet into TF-IDF features, using the fit to the Wikipedia dataset. (That is, let's treat this tweet as an article in our Wikipedia dataset and see what happens.) How similar is this tweet to Barack Obama's Wikipedia article? "
   ]
  },
  {
   "cell_type": "code",
   "execution_count": 142,
   "metadata": {
    "collapsed": false
   },
   "outputs": [
    {
     "data": {
      "text/html": [
       "<div>\n",
       "<style scoped>\n",
       "    .dataframe tbody tr th:only-of-type {\n",
       "        vertical-align: middle;\n",
       "    }\n",
       "\n",
       "    .dataframe tbody tr th {\n",
       "        vertical-align: top;\n",
       "    }\n",
       "\n",
       "    .dataframe thead th {\n",
       "        text-align: right;\n",
       "    }\n",
       "</style>\n",
       "<table border=\"1\" class=\"dataframe\">\n",
       "  <thead>\n",
       "    <tr style=\"text-align: right;\">\n",
       "      <th></th>\n",
       "      <th>word count</th>\n",
       "      <th>tf_idf</th>\n",
       "    </tr>\n",
       "  </thead>\n",
       "  <tbody>\n",
       "    <tr>\n",
       "      <td>democratic</td>\n",
       "      <td>1</td>\n",
       "      <td>4.102672</td>\n",
       "    </tr>\n",
       "    <tr>\n",
       "      <td>governments</td>\n",
       "      <td>1</td>\n",
       "      <td>5.167571</td>\n",
       "    </tr>\n",
       "    <tr>\n",
       "      <td>control</td>\n",
       "      <td>1</td>\n",
       "      <td>4.721765</td>\n",
       "    </tr>\n",
       "    <tr>\n",
       "      <td>law</td>\n",
       "      <td>1</td>\n",
       "      <td>3.453823</td>\n",
       "    </tr>\n",
       "    <tr>\n",
       "      <td>in</td>\n",
       "      <td>1</td>\n",
       "      <td>1.000965</td>\n",
       "    </tr>\n",
       "    <tr>\n",
       "      <td>response</td>\n",
       "      <td>1</td>\n",
       "      <td>5.261462</td>\n",
       "    </tr>\n",
       "    <tr>\n",
       "      <td>to</td>\n",
       "      <td>1</td>\n",
       "      <td>1.046945</td>\n",
       "    </tr>\n",
       "    <tr>\n",
       "      <td>popular</td>\n",
       "      <td>1</td>\n",
       "      <td>3.764479</td>\n",
       "    </tr>\n",
       "    <tr>\n",
       "      <td>act</td>\n",
       "      <td>1</td>\n",
       "      <td>4.459778</td>\n",
       "    </tr>\n",
       "  </tbody>\n",
       "</table>\n",
       "</div>"
      ],
      "text/plain": [
       "             word count    tf_idf\n",
       "democratic            1  4.102672\n",
       "governments           1  5.167571\n",
       "control               1  4.721765\n",
       "law                   1  3.453823\n",
       "in                    1  1.000965\n",
       "response              1  5.261462\n",
       "to                    1  1.046945\n",
       "popular               1  3.764479\n",
       "act                   1  4.459778"
      ]
     },
     "execution_count": 142,
     "metadata": {},
     "output_type": "execute_result"
    }
   ],
   "source": [
    "df = pd.DataFrame({'text': ['democratic governments control law in response to popular act']})\n",
    "\n",
    "# Your code goes here"
   ]
  },
  {
   "cell_type": "markdown",
   "metadata": {},
   "source": [
    "Let's compare this tweet's TF-IDF vectors  to Barack Obama's Wikipedia entry."
   ]
  },
  {
   "cell_type": "code",
   "execution_count": 144,
   "metadata": {
    "collapsed": false,
    "jupyter": {
     "outputs_hidden": false
    }
   },
   "outputs": [
    {
     "data": {
      "text/html": [
       "<div>\n",
       "<style scoped>\n",
       "    .dataframe tbody tr th:only-of-type {\n",
       "        vertical-align: middle;\n",
       "    }\n",
       "\n",
       "    .dataframe tbody tr th {\n",
       "        vertical-align: top;\n",
       "    }\n",
       "\n",
       "    .dataframe thead th {\n",
       "        text-align: right;\n",
       "    }\n",
       "</style>\n",
       "<table border=\"1\" class=\"dataframe\">\n",
       "  <thead>\n",
       "    <tr style=\"text-align: right;\">\n",
       "      <th></th>\n",
       "      <th>tf-idf</th>\n",
       "    </tr>\n",
       "  </thead>\n",
       "  <tbody>\n",
       "    <tr>\n",
       "      <td>obama</td>\n",
       "      <td>52.295653</td>\n",
       "    </tr>\n",
       "    <tr>\n",
       "      <td>the</td>\n",
       "      <td>40.004063</td>\n",
       "    </tr>\n",
       "    <tr>\n",
       "      <td>act</td>\n",
       "      <td>35.678223</td>\n",
       "    </tr>\n",
       "    <tr>\n",
       "      <td>in</td>\n",
       "      <td>30.028962</td>\n",
       "    </tr>\n",
       "    <tr>\n",
       "      <td>iraq</td>\n",
       "      <td>21.747379</td>\n",
       "    </tr>\n",
       "    <tr>\n",
       "      <td>...</td>\n",
       "      <td>...</td>\n",
       "    </tr>\n",
       "    <tr>\n",
       "      <td>is</td>\n",
       "      <td>2.055233</td>\n",
       "    </tr>\n",
       "    <tr>\n",
       "      <td>new</td>\n",
       "      <td>1.887235</td>\n",
       "    </tr>\n",
       "    <tr>\n",
       "      <td>which</td>\n",
       "      <td>1.767431</td>\n",
       "    </tr>\n",
       "    <tr>\n",
       "      <td>that</td>\n",
       "      <td>1.661407</td>\n",
       "    </tr>\n",
       "    <tr>\n",
       "      <td>by</td>\n",
       "      <td>1.374553</td>\n",
       "    </tr>\n",
       "  </tbody>\n",
       "</table>\n",
       "<p>273 rows × 1 columns</p>\n",
       "</div>"
      ],
      "text/plain": [
       "          tf-idf\n",
       "obama  52.295653\n",
       "the    40.004063\n",
       "act    35.678223\n",
       "in     30.028962\n",
       "iraq   21.747379\n",
       "...          ...\n",
       "is      2.055233\n",
       "new     1.887235\n",
       "which   1.767431\n",
       "that    1.661407\n",
       "by      1.374553\n",
       "\n",
       "[273 rows x 1 columns]"
      ]
     },
     "execution_count": 144,
     "metadata": {},
     "output_type": "execute_result"
    }
   ],
   "source": [
    "obama_tf_idf"
   ]
  },
  {
   "cell_type": "markdown",
   "metadata": {},
   "source": [
    "**b)** Now, compute the cosine distance between the Barack Obama article and this tweet:"
   ]
  },
  {
   "cell_type": "code",
   "execution_count": 418,
   "metadata": {
    "collapsed": false,
    "jupyter": {
     "outputs_hidden": false
    }
   },
   "outputs": [
    {
     "data": {
      "text/plain": [
       "array([[0.69866453]])"
      ]
     },
     "execution_count": 418,
     "metadata": {},
     "output_type": "execute_result"
    }
   ],
   "source": [
    "from sklearn.metrics.pairwise import cosine_distances # for one pair of samples we can just use this function\n",
    "\n",
    "# Your code goes here"
   ]
  },
  {
   "cell_type": "markdown",
   "metadata": {},
   "source": [
    "Let's compare this distance to the distance between the Barack Obama article and all of its Wikipedia nearest neighbors:"
   ]
  },
  {
   "cell_type": "code",
   "execution_count": 427,
   "metadata": {
    "collapsed": false,
    "jupyter": {
     "outputs_hidden": false
    }
   },
   "outputs": [
    {
     "data": {
      "text/html": [
       "<div>\n",
       "<style scoped>\n",
       "    .dataframe tbody tr th:only-of-type {\n",
       "        vertical-align: middle;\n",
       "    }\n",
       "\n",
       "    .dataframe tbody tr th {\n",
       "        vertical-align: top;\n",
       "    }\n",
       "\n",
       "    .dataframe thead th {\n",
       "        text-align: right;\n",
       "    }\n",
       "</style>\n",
       "<table border=\"1\" class=\"dataframe\">\n",
       "  <thead>\n",
       "    <tr style=\"text-align: right;\">\n",
       "      <th></th>\n",
       "      <th>name</th>\n",
       "      <th>length</th>\n",
       "      <th>BO TF-IDF cos</th>\n",
       "    </tr>\n",
       "  </thead>\n",
       "  <tbody>\n",
       "    <tr>\n",
       "      <td>35817</td>\n",
       "      <td>Barack Obama</td>\n",
       "      <td>540</td>\n",
       "      <td>0.000000</td>\n",
       "    </tr>\n",
       "    <tr>\n",
       "      <td>24478</td>\n",
       "      <td>Joe Biden</td>\n",
       "      <td>414</td>\n",
       "      <td>0.572725</td>\n",
       "    </tr>\n",
       "    <tr>\n",
       "      <td>57108</td>\n",
       "      <td>Hillary Rodham Clinton</td>\n",
       "      <td>580</td>\n",
       "      <td>0.616149</td>\n",
       "    </tr>\n",
       "    <tr>\n",
       "      <td>38376</td>\n",
       "      <td>Samantha Power</td>\n",
       "      <td>310</td>\n",
       "      <td>0.625797</td>\n",
       "    </tr>\n",
       "    <tr>\n",
       "      <td>38714</td>\n",
       "      <td>Eric Stern (politician)</td>\n",
       "      <td>255</td>\n",
       "      <td>0.651475</td>\n",
       "    </tr>\n",
       "    <tr>\n",
       "      <td>28447</td>\n",
       "      <td>George W. Bush</td>\n",
       "      <td>505</td>\n",
       "      <td>0.659478</td>\n",
       "    </tr>\n",
       "    <tr>\n",
       "      <td>39357</td>\n",
       "      <td>John McCain</td>\n",
       "      <td>410</td>\n",
       "      <td>0.661645</td>\n",
       "    </tr>\n",
       "    <tr>\n",
       "      <td>48693</td>\n",
       "      <td>Artur Davis</td>\n",
       "      <td>371</td>\n",
       "      <td>0.666690</td>\n",
       "    </tr>\n",
       "    <tr>\n",
       "      <td>18827</td>\n",
       "      <td>Henry Waxman</td>\n",
       "      <td>279</td>\n",
       "      <td>0.671226</td>\n",
       "    </tr>\n",
       "    <tr>\n",
       "      <td>37199</td>\n",
       "      <td>Barry Sullivan (lawyer)</td>\n",
       "      <td>893</td>\n",
       "      <td>0.673300</td>\n",
       "    </tr>\n",
       "    <tr>\n",
       "      <td>46811</td>\n",
       "      <td>Jeff Sessions</td>\n",
       "      <td>230</td>\n",
       "      <td>0.673581</td>\n",
       "    </tr>\n",
       "    <tr>\n",
       "      <td>36452</td>\n",
       "      <td>Bill Clinton</td>\n",
       "      <td>524</td>\n",
       "      <td>0.675260</td>\n",
       "    </tr>\n",
       "    <tr>\n",
       "      <td>6796</td>\n",
       "      <td>Eric Holder</td>\n",
       "      <td>232</td>\n",
       "      <td>0.677451</td>\n",
       "    </tr>\n",
       "    <tr>\n",
       "      <td>24848</td>\n",
       "      <td>John C. Eastman</td>\n",
       "      <td>366</td>\n",
       "      <td>0.679724</td>\n",
       "    </tr>\n",
       "    <tr>\n",
       "      <td>36425</td>\n",
       "      <td>Edward B. Montgomery</td>\n",
       "      <td>331</td>\n",
       "      <td>0.681387</td>\n",
       "    </tr>\n",
       "    <tr>\n",
       "      <td>14754</td>\n",
       "      <td>Mitt Romney</td>\n",
       "      <td>502</td>\n",
       "      <td>0.681761</td>\n",
       "    </tr>\n",
       "    <tr>\n",
       "      <td>35357</td>\n",
       "      <td>Lawrence Summers</td>\n",
       "      <td>413</td>\n",
       "      <td>0.687272</td>\n",
       "    </tr>\n",
       "    <tr>\n",
       "      <td>47303</td>\n",
       "      <td>John Kerry</td>\n",
       "      <td>410</td>\n",
       "      <td>0.692701</td>\n",
       "    </tr>\n",
       "    <tr>\n",
       "      <td>34344</td>\n",
       "      <td>Mary Dawson (civil servant)</td>\n",
       "      <td>434</td>\n",
       "      <td>0.696581</td>\n",
       "    </tr>\n",
       "    <tr>\n",
       "      <td>55181</td>\n",
       "      <td>Ron Paul</td>\n",
       "      <td>427</td>\n",
       "      <td>0.696642</td>\n",
       "    </tr>\n",
       "    <tr>\n",
       "      <td>4565</td>\n",
       "      <td>Robinson O. Everett</td>\n",
       "      <td>764</td>\n",
       "      <td>0.698133</td>\n",
       "    </tr>\n",
       "    <tr>\n",
       "      <td>46140</td>\n",
       "      <td>Robert Gibbs</td>\n",
       "      <td>257</td>\n",
       "      <td>0.698549</td>\n",
       "    </tr>\n",
       "    <tr>\n",
       "      <td>52859</td>\n",
       "      <td>Ann Lewis</td>\n",
       "      <td>634</td>\n",
       "      <td>0.698799</td>\n",
       "    </tr>\n",
       "  </tbody>\n",
       "</table>\n",
       "</div>"
      ],
      "text/plain": [
       "                              name  length  BO TF-IDF cos\n",
       "35817                 Barack Obama     540       0.000000\n",
       "24478                    Joe Biden     414       0.572725\n",
       "57108       Hillary Rodham Clinton     580       0.616149\n",
       "38376               Samantha Power     310       0.625797\n",
       "38714      Eric Stern (politician)     255       0.651475\n",
       "28447               George W. Bush     505       0.659478\n",
       "39357                  John McCain     410       0.661645\n",
       "48693                  Artur Davis     371       0.666690\n",
       "18827                 Henry Waxman     279       0.671226\n",
       "37199      Barry Sullivan (lawyer)     893       0.673300\n",
       "46811                Jeff Sessions     230       0.673581\n",
       "36452                 Bill Clinton     524       0.675260\n",
       "6796                   Eric Holder     232       0.677451\n",
       "24848              John C. Eastman     366       0.679724\n",
       "36425         Edward B. Montgomery     331       0.681387\n",
       "14754                  Mitt Romney     502       0.681761\n",
       "35357             Lawrence Summers     413       0.687272\n",
       "47303                   John Kerry     410       0.692701\n",
       "34344  Mary Dawson (civil servant)     434       0.696581\n",
       "55181                     Ron Paul     427       0.696642\n",
       "4565           Robinson O. Everett     764       0.698133\n",
       "46140                 Robert Gibbs     257       0.698549\n",
       "52859                    Ann Lewis     634       0.698799"
      ]
     },
     "execution_count": 427,
     "metadata": {},
     "output_type": "execute_result"
    }
   ],
   "source": [
    "nearest_neighbors_cosine[0:23]"
   ]
  },
  {
   "cell_type": "markdown",
   "metadata": {},
   "source": [
    "With cosine distances, the tweet is \"nearer\" to Barack Obama than most people! If someone is reading the Barack Obama Wikipedia page, would you want to recommend they read this tweet?\n",
    "In practice, it is common to enforce maximum or minimum document lengths. After all, when someone is reading a long article from _The Atlantic_, you wouldn't recommend him/her a tweet."
   ]
  }
 ],
 "metadata": {
  "anaconda-cloud": {},
  "kernelspec": {
   "display_name": "Python 3",
   "language": "python",
   "name": "python3"
  },
  "language_info": {
   "codemirror_mode": {
    "name": "ipython",
    "version": 3
   },
   "file_extension": ".py",
   "mimetype": "text/x-python",
   "name": "python",
   "nbconvert_exporter": "python",
   "pygments_lexer": "ipython3",
   "version": "3.11.6"
  }
 },
 "nbformat": 4,
 "nbformat_minor": 4
}
